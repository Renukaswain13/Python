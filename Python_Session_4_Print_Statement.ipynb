{
 "cells": [
  {
   "cell_type": "code",
   "execution_count": 1,
   "id": "1b34ac41-99b7-4be4-ad62-6f96bbd75d25",
   "metadata": {},
   "outputs": [
    {
     "name": "stdout",
     "output_type": "stream",
     "text": [
      "10\n"
     ]
    }
   ],
   "source": [
    "print(10)"
   ]
  },
  {
   "cell_type": "code",
   "execution_count": 2,
   "id": "e7eb2bd4-ac15-4659-9eb3-fde8ea5f12b6",
   "metadata": {},
   "outputs": [
    {
     "name": "stdout",
     "output_type": "stream",
     "text": [
      "python\n"
     ]
    }
   ],
   "source": [
    "print('python')"
   ]
  },
  {
   "cell_type": "code",
   "execution_count": 4,
   "id": "e826d2af-fa9f-418e-bb08-aa5578b2db9c",
   "metadata": {},
   "outputs": [
    {
     "name": "stdout",
     "output_type": "stream",
     "text": [
      "10 20 30\n"
     ]
    }
   ],
   "source": [
    "print(10,20,30)"
   ]
  },
  {
   "cell_type": "code",
   "execution_count": 7,
   "id": "1f87369d-a583-45d7-afa7-1ce5fe1e85cb",
   "metadata": {},
   "outputs": [
    {
     "name": "stdout",
     "output_type": "stream",
     "text": [
      "10 10.5 Naresh IT True\n"
     ]
    }
   ],
   "source": [
    "print(10,10.5,'Naresh IT',True)"
   ]
  },
  {
   "cell_type": "code",
   "execution_count": 8,
   "id": "f0d2bf80-1659-4516-9657-05a63b176abf",
   "metadata": {},
   "outputs": [
    {
     "name": "stdout",
     "output_type": "stream",
     "text": [
      "10 20\n"
     ]
    }
   ],
   "source": [
    "n1=10\n",
    "n2=20\n",
    "print(n1,n2)"
   ]
  },
  {
   "cell_type": "code",
   "execution_count": 9,
   "id": "62894583-e9d9-4dc5-99fc-f7fff736fc14",
   "metadata": {},
   "outputs": [
    {
     "name": "stdout",
     "output_type": "stream",
     "text": [
      "10\n",
      "20\n"
     ]
    },
    {
     "data": {
      "text/plain": [
       "(None, None)"
      ]
     },
     "execution_count": 9,
     "metadata": {},
     "output_type": "execute_result"
    }
   ],
   "source": [
    "print(10),print(20) # Good\n",
    "# None- No value"
   ]
  },
  {
   "cell_type": "code",
   "execution_count": 10,
   "id": "535ccb5f-209c-4243-9d0e-7ad1c52d72b1",
   "metadata": {},
   "outputs": [
    {
     "name": "stdout",
     "output_type": "stream",
     "text": [
      "10 20 30\n",
      "10\n",
      "20\n"
     ]
    }
   ],
   "source": [
    "print(10,20,30)\n",
    "print(10)\n",
    "print(20)"
   ]
  },
  {
   "cell_type": "code",
   "execution_count": 11,
   "id": "8240b8c3-8689-45dc-963e-c0ddf7db4f58",
   "metadata": {},
   "outputs": [
    {
     "data": {
      "text/plain": [
       "10"
      ]
     },
     "execution_count": 11,
     "metadata": {},
     "output_type": "execute_result"
    }
   ],
   "source": [
    "n1=10\n",
    "n1"
   ]
  },
  {
   "cell_type": "code",
   "execution_count": 1,
   "id": "188ea031-173b-4a0d-a03a-bb5d07e67fdb",
   "metadata": {},
   "outputs": [
    {
     "name": "stdout",
     "output_type": "stream",
     "text": [
      "the addition of 10  and  20  is  30\n"
     ]
    }
   ],
   "source": [
    "a=10\n",
    "b=20\n",
    "c=a+b\n",
    "c\n",
    "# the addition of 10 and 20 is 30\n",
    "print(\"the addition of\", a,\" and \",b,\" is \",c)"
   ]
  },
  {
   "cell_type": "markdown",
   "id": "737b9306-35bf-4697-b0eb-d699be8030fe",
   "metadata": {},
   "source": [
    "## FORMAT METHOD"
   ]
  },
  {
   "cell_type": "code",
   "execution_count": 2,
   "id": "4f5842c9-0cb6-4f9e-996a-dcfd7bbeb2db",
   "metadata": {},
   "outputs": [
    {
     "name": "stdout",
     "output_type": "stream",
     "text": [
      "the addition of 100 and 200 is 300\n"
     ]
    }
   ],
   "source": [
    "a=100\n",
    "b=200\n",
    "c=a+b\n",
    "print(\"the addition of {} and {} is {}\".format(a,b,c))\n"
   ]
  },
  {
   "cell_type": "code",
   "execution_count": null,
   "id": "70b71ca8-d861-40c5-b418-5f43db7b496b",
   "metadata": {},
   "outputs": [],
   "source": [
    "# read your name\n",
    "# read your age\n",
    "# read your city\n",
    "# My name is RENUKA,I'm 21 years old,I am from Hyderabad"
   ]
  },
  {
   "cell_type": "code",
   "execution_count": 17,
   "id": "d83160c5-355d-47c5-9a6a-142cc9675091",
   "metadata": {},
   "outputs": [
    {
     "name": "stdout",
     "output_type": "stream",
     "text": [
      "My name is RENUKA,I am 21 years old,I am from Hyderabad\n"
     ]
    }
   ],
   "source": [
    "name='RENUKA'\n",
    "age=21\n",
    "city='Hyderabad'\n",
    "print(\"My name is {},I am {} years old,I am from {}\".format(name,age,city))"
   ]
  },
  {
   "cell_type": "code",
   "execution_count": 4,
   "id": "873217e4-1bb7-451c-8a41-f92517fc24d5",
   "metadata": {},
   "outputs": [
    {
     "name": "stdout",
     "output_type": "stream",
     "text": [
      "The employee name is RENUKA,She is a Data scientiest,in the Google company\n"
     ]
    }
   ],
   "source": [
    " employee_name = 'RENUKA'\n",
    " employee_role ='Data scientiest'\n",
    " company ='Google'\n",
    "print(\"The employee name is {},She is a {},in the {} company\".format(employee_name,employee_role,company))"
   ]
  },
  {
   "cell_type": "markdown",
   "id": "64e0b869-9251-4a66-a773-e3bfabf315d2",
   "metadata": {},
   "source": [
    "## F string method"
   ]
  },
  {
   "cell_type": "code",
   "execution_count": 3,
   "id": "77bcb01e-dfab-4f26-af50-02fabcf3ebba",
   "metadata": {},
   "outputs": [
    {
     "name": "stdout",
     "output_type": "stream",
     "text": [
      "the addition of 100 and 200 is 300\n"
     ]
    }
   ],
   "source": [
    "a=100\n",
    "b=200\n",
    "c=a+b\n",
    "print(f\"the addition of {a} and {b} is {c}\")\n"
   ]
  },
  {
   "cell_type": "code",
   "execution_count": 3,
   "id": "b8b745d4-3761-4a09-9ca9-080ceb13aec8",
   "metadata": {},
   "outputs": [
    {
     "name": "stdout",
     "output_type": "stream",
     "text": [
      "My name is RENUKA,I am 21 years old,I am from Hyderabad\n"
     ]
    }
   ],
   "source": [
    "name='RENUKA'\n",
    "age=21\n",
    "city='Hyderabad'\n",
    "print(f\"My name is {'RENUKA'},I am {21} years old,I am from {'Hyderabad'}\")"
   ]
  },
  {
   "cell_type": "code",
   "execution_count": 4,
   "id": "371ed748-c753-4f5f-a291-9a4f5d77c731",
   "metadata": {},
   "outputs": [
    {
     "name": "stdout",
     "output_type": "stream",
     "text": [
      "The employee name is RENUKA,She is a Data Scientiest,in the Google company\n"
     ]
    }
   ],
   "source": [
    " employee_name ='RENUKA'\n",
    " employee_role ='Data scientiest'\n",
    " company ='Google'\n",
    "print(f\"The employee name is {'RENUKA'},She is a {'Data Scientiest'},in the {'Google'} company\")"
   ]
  },
  {
   "cell_type": "code",
   "execution_count": 1,
   "id": "8a7781a6-789e-4b95-a500-3b0c5fbea646",
   "metadata": {},
   "outputs": [
    {
     "name": "stdout",
     "output_type": "stream",
     "text": [
      "the average of 100 and 200 is: 150.0\n",
      "the averageof 100 and 200 is: 150.0\n"
     ]
    }
   ],
   "source": [
    "num1=100\n",
    "num2=200\n",
    "average=(num1+num2)/2\n",
    "# the average of 100 and 200 is: 150\n",
    "print(\"the average of {} and {} is: {}\".format(num1,num2,average))\n",
    "print(f\"the averageof {num1} and {num2} is: {average}\")"
   ]
  },
  {
   "cell_type": "code",
   "execution_count": 3,
   "id": "03445cbb-80e7-41df-a76e-71a53912732d",
   "metadata": {},
   "outputs": [
    {
     "ename": "SyntaxError",
     "evalue": "invalid syntax. Maybe you meant '==' or ':=' instead of '='? (728481280.py, line 3)",
     "output_type": "error",
     "traceback": [
      "\u001b[1;36m  Cell \u001b[1;32mIn[3], line 3\u001b[1;36m\u001b[0m\n\u001b[1;33m    average=(num1=num2)/2\u001b[0m\n\u001b[1;37m             ^\u001b[0m\n\u001b[1;31mSyntaxError\u001b[0m\u001b[1;31m:\u001b[0m invalid syntax. Maybe you meant '==' or ':=' instead of '='?\n"
     ]
    }
   ],
   "source": [
    "num1=100\n",
    "num2=200\n",
    "average=(num1=num2)/2\n",
    "# the average of 100 and 200 is: 150\n",
    "print(\"the average of {} and {} is: {}\".format(num1,num2,average))\n",
    "print(f\"the averageof {num1} and {num2} is: {average}\")"
   ]
  },
  {
   "cell_type": "code",
   "execution_count": 5,
   "id": "6da50fd8-c36e-43da-aa1b-fcb523e85670",
   "metadata": {},
   "outputs": [
    {
     "data": {
      "text/plain": [
       "11.0"
      ]
     },
     "execution_count": 5,
     "metadata": {},
     "output_type": "execute_result"
    }
   ],
   "source": [
    "(10+2)/2\n",
    "10+2/2\n",
    "\n",
    "#BODMAS"
   ]
  },
  {
   "cell_type": "code",
   "execution_count": 6,
   "id": "81717b1c-faa9-4cd9-8efd-b828d45537d4",
   "metadata": {},
   "outputs": [
    {
     "name": "stdout",
     "output_type": "stream",
     "text": [
      "the area of circle is :314.0\n",
      "The area of circle is :314.0\n"
     ]
    }
   ],
   "source": [
    "# take the radius of circle\n",
    "# take the pi value=3.14\n",
    "# Find the area of the circle = pi*r*r\n",
    "\n",
    "radius=10\n",
    "pi_value=3.14\n",
    "area=pi_value*radius*radius\n",
    "print(\"the area of circle is :{}\".format(area))\n",
    "print(f\"The area of circle is :{area}\")"
   ]
  },
  {
   "cell_type": "markdown",
   "id": "07ceae72-2622-4650-94e8-ae412283b4fd",
   "metadata": {},
   "source": [
    "- format spelling\n",
    "- brackets are not providing\n",
    "- you are keeping\n",
    "- for getting the quotes also"
   ]
  },
  {
   "cell_type": "code",
   "execution_count": 7,
   "id": "e0d7b8aa-d6aa-4965-a6bb-e828a762ce74",
   "metadata": {},
   "outputs": [
    {
     "name": "stdout",
     "output_type": "stream",
     "text": [
      "the area of triangle is: 100.0\n"
     ]
    }
   ],
   "source": [
    "# take the base of triangle\n",
    "# take the height of the triangle\n",
    "# area of the triangle=1/2*base*height\n",
    "base=10\n",
    "height=20\n",
    "area=0.5*base*height\n",
    "print(f\"the area of triangle is: {area}\")"
   ]
  },
  {
   "cell_type": "code",
   "execution_count": 1,
   "id": "28df8b85-2a0c-48e1-89d9-f2e882b862bc",
   "metadata": {},
   "outputs": [
    {
     "name": "stdout",
     "output_type": "stream",
     "text": [
      "the total bill is: 1100.0\n"
     ]
    }
   ],
   "source": [
    "# take the bill_amount=1000\n",
    "# take the tip_percentage=10\n",
    "# calculate tip_amount\n",
    "# calculate the total bill\n",
    "# print the total bill\n",
    "bill_amount=1000\n",
    "tip_percentage=10  #M-1\n",
    "tip_amount=bill_amount*tip_percentage/100\n",
    "total_bill=bill_amount+tip_amount\n",
    "print(f\"the total bill is: {total_bill}\")"
   ]
  },
  {
   "cell_type": "code",
   "execution_count": 2,
   "id": "e2f53920-a12f-4021-8d05-342f7950acba",
   "metadata": {},
   "outputs": [
    {
     "name": "stdout",
     "output_type": "stream",
     "text": [
      "10\n",
      "20\n"
     ]
    }
   ],
   "source": [
    "print(10)\n",
    "print(20)"
   ]
  },
  {
   "cell_type": "code",
   "execution_count": 3,
   "id": "3274a4bf-99a6-41c4-8850-c17d62171385",
   "metadata": {},
   "outputs": [
    {
     "name": "stdout",
     "output_type": "stream",
     "text": [
      "10 20\n"
     ]
    }
   ],
   "source": [
    "print(10,20)"
   ]
  },
  {
   "cell_type": "markdown",
   "id": "acb43db1-449f-4928-be7b-d56ac6263493",
   "metadata": {},
   "source": [
    "$end$"
   ]
  },
  {
   "cell_type": "markdown",
   "id": "6105833f-e67d-4acb-9326-ef850c522bf3",
   "metadata": {},
   "source": [
    "- combining multiple print statements in a single line"
   ]
  },
  {
   "cell_type": "code",
   "execution_count": 8,
   "id": "8f47f9dd-9094-4ef9-864a-10a575c8daaf",
   "metadata": {},
   "outputs": [
    {
     "name": "stdout",
     "output_type": "stream",
     "text": [
      "10 20\n"
     ]
    }
   ],
   "source": [
    "print(10,end=' ')\n",
    "print(20)"
   ]
  },
  {
   "cell_type": "code",
   "execution_count": 9,
   "id": "82c7d600-b619-4fe1-b7fe-b57f720b488c",
   "metadata": {},
   "outputs": [
    {
     "name": "stdout",
     "output_type": "stream",
     "text": [
      "10,20&30\n"
     ]
    }
   ],
   "source": [
    "print(10,end=',')\n",
    "print(20,end='&')\n",
    "print(30)"
   ]
  },
  {
   "cell_type": "markdown",
   "id": "0decdc9c-7ccb-42ac-ada4-f18e68609650",
   "metadata": {},
   "source": [
    "$sep$"
   ]
  },
  {
   "cell_type": "markdown",
   "id": "aaa203ed-2559-487b-84d8-08347dac8125",
   "metadata": {},
   "source": [
    "- seperate the multiple values in a single print statement"
   ]
  },
  {
   "cell_type": "code",
   "execution_count": 11,
   "id": "799fecb0-4c53-4615-a4cb-9177acd06cb7",
   "metadata": {},
   "outputs": [
    {
     "name": "stdout",
     "output_type": "stream",
     "text": [
      "10&20&30\n"
     ]
    }
   ],
   "source": [
    "print (10,20,30,sep='&')\n",
    "\n",
    "# 10 & 20 & 30"
   ]
  },
  {
   "cell_type": "code",
   "execution_count": 12,
   "id": "f5b35cea-c537-4918-abaa-875a1d82f9da",
   "metadata": {},
   "outputs": [
    {
     "name": "stdout",
     "output_type": "stream",
     "text": [
      "10--->20--->30\n"
     ]
    }
   ],
   "source": [
    "print(10,20,30,sep='--->')"
   ]
  },
  {
   "cell_type": "code",
   "execution_count": 14,
   "id": "9fc74410-7ea9-4113-a113-6050c383fd92",
   "metadata": {},
   "outputs": [
    {
     "name": "stdout",
     "output_type": "stream",
     "text": [
      "the addition of 5 and 3 is 8.\n"
     ]
    }
   ],
   "source": [
    "print(f\"the addition of {5} and {3} is {5+3}.\")"
   ]
  },
  {
   "cell_type": "code",
   "execution_count": 15,
   "id": "797c8fe9-c2af-4b76-9d5a-705560d34e36",
   "metadata": {},
   "outputs": [
    {
     "name": "stdout",
     "output_type": "stream",
     "text": [
      "the addition of 5 and 3 is 8.\n"
     ]
    }
   ],
   "source": [
    "print(\"the addition of {} and {} is {}.\".format(5,3,5+3))"
   ]
  },
  {
   "cell_type": "code",
   "execution_count": 16,
   "id": "91cbe52c-0582-4ed2-a209-8b4ed3970a5e",
   "metadata": {},
   "outputs": [
    {
     "name": "stdout",
     "output_type": "stream",
     "text": [
      "the addition of 5 and 3 is 8..\n"
     ]
    }
   ],
   "source": [
    "print('the addition of 5 and 3 is 8.','.',sep='')"
   ]
  }
 ],
 "metadata": {
  "kernelspec": {
   "display_name": "Python 3 (ipykernel)",
   "language": "python",
   "name": "python3"
  },
  "language_info": {
   "codemirror_mode": {
    "name": "ipython",
    "version": 3
   },
   "file_extension": ".py",
   "mimetype": "text/x-python",
   "name": "python",
   "nbconvert_exporter": "python",
   "pygments_lexer": "ipython3",
   "version": "3.11.7"
  }
 },
 "nbformat": 4,
 "nbformat_minor": 5
}
