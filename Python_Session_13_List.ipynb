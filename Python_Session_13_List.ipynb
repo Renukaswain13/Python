{
 "cells": [
  {
   "cell_type": "markdown",
   "id": "c7e25dcc-0fc0-4d7c-8bc4-3198ccc7b70b",
   "metadata": {},
   "source": [
    "- Representations\n",
    "- Type\n",
    "- len\n",
    "- max\n",
    "- min\n",
    "- sorted\n",
    "- reversed\n",
    "- in\n",
    "- for loop in\n",
    "- index\n",
    "- for loop index\n",
    "- mutable\n",
    "- concatenation\n",
    "- slicing\n",
    "- methods"
   ]
  },
  {
   "cell_type": "markdown",
   "id": "8c5e30fa-5286-4bc3-87b8-5a79fdfa6b15",
   "metadata": {},
   "source": [
    "**REPRESENTATION**"
   ]
  },
  {
   "cell_type": "markdown",
   "id": "61c2757b-24bc-4f8a-98fa-6089eec5c6bc",
   "metadata": {},
   "source": [
    "- string representation with quotes\n",
    "  \n",
    "- list represent with square brackets [ ]"
   ]
  },
  {
   "cell_type": "code",
   "execution_count": 1,
   "id": "843008aa-56ce-4d03-9484-149a6b343813",
   "metadata": {},
   "outputs": [
    {
     "data": {
      "text/plain": [
       "[1, 2, 3, 4]"
      ]
     },
     "execution_count": 1,
     "metadata": {},
     "output_type": "execute_result"
    }
   ],
   "source": [
    "l1=[1,2,3,4]\n",
    "l1"
   ]
  },
  {
   "cell_type": "code",
   "execution_count": 2,
   "id": "88ed3468-5d62-4c8e-981c-558b5f02b824",
   "metadata": {},
   "outputs": [
    {
     "data": {
      "text/plain": [
       "list"
      ]
     },
     "execution_count": 2,
     "metadata": {},
     "output_type": "execute_result"
    }
   ],
   "source": [
    "type(l1)"
   ]
  },
  {
   "cell_type": "code",
   "execution_count": 3,
   "id": "94052ed4-787a-4da7-b80e-3978618128e3",
   "metadata": {},
   "outputs": [
    {
     "data": {
      "text/plain": [
       "['A', 'B', 'C', 'D']"
      ]
     },
     "execution_count": 3,
     "metadata": {},
     "output_type": "execute_result"
    }
   ],
   "source": [
    "l2=['A','B','C','D']\n",
    "l2"
   ]
  },
  {
   "cell_type": "code",
   "execution_count": 7,
   "id": "68adb106-07b2-4f10-9533-55600669d7ca",
   "metadata": {},
   "outputs": [
    {
     "data": {
      "text/plain": [
       "[1, 2, 3, 4, 'A', 'B', 'C', 'D']"
      ]
     },
     "execution_count": 7,
     "metadata": {},
     "output_type": "execute_result"
    }
   ],
   "source": [
    "l3=[1,2,3,4,'A','B','C','D']\n",
    "l3"
   ]
  },
  {
   "cell_type": "code",
   "execution_count": 9,
   "id": "723716a3-3a6c-45ab-87ba-eb33c56b034e",
   "metadata": {},
   "outputs": [
    {
     "data": {
      "text/plain": [
       "[1, 2, 3, 'Apple', 'Ball', 'Cat', True, False]"
      ]
     },
     "execution_count": 9,
     "metadata": {},
     "output_type": "execute_result"
    }
   ],
   "source": [
    "l4=[1,2,3,'Apple','Ball','Cat',True,False]\n",
    "l4"
   ]
  },
  {
   "cell_type": "code",
   "execution_count": 10,
   "id": "7892232f-61f4-46b7-90a3-ea83f9e1a366",
   "metadata": {},
   "outputs": [
    {
     "data": {
      "text/plain": [
       "['naresh it']"
      ]
     },
     "execution_count": 10,
     "metadata": {},
     "output_type": "execute_result"
    }
   ],
   "source": [
    "name='naresh it'\n",
    "l5=[name]\n",
    "l5"
   ]
  },
  {
   "cell_type": "code",
   "execution_count": 11,
   "id": "7d6bce5f-86b2-4ec3-b039-2c013c1c057e",
   "metadata": {},
   "outputs": [
    {
     "data": {
      "text/plain": [
       "[100, 100, 100]"
      ]
     },
     "execution_count": 11,
     "metadata": {},
     "output_type": "execute_result"
    }
   ],
   "source": [
    "l6=[100,100,100]\n",
    "l6"
   ]
  },
  {
   "cell_type": "code",
   "execution_count": 12,
   "id": "2fd8f75c-77bd-4efd-a704-581afdc7d899",
   "metadata": {},
   "outputs": [
    {
     "data": {
      "text/plain": [
       "[100, 'Apple', ['A', 2]]"
      ]
     },
     "execution_count": 12,
     "metadata": {},
     "output_type": "execute_result"
    }
   ],
   "source": [
    "l7=[100,'Apple',['A',2]]\n",
    "l7"
   ]
  },
  {
   "cell_type": "code",
   "execution_count": null,
   "id": "5c5e36cb-9f1b-4826-af4e-d866a555e0c0",
   "metadata": {},
   "outputs": [],
   "source": [
    "l1=[1,2,3,4]\n",
    "l2=['A','B','C','D']\n",
    "l3=[1,2,3,4,'A','B','C','D']\n",
    "l4=[1,2,3,'Apple','Ball','Cat',True,False]\n",
    "name='naresh it'\n",
    "l5=[name]\n",
    "l6=[100,100,100]\n",
    "l7=[100,'Apple',['A',2]]"
   ]
  },
  {
   "cell_type": "markdown",
   "id": "94ee72f4-5079-4323-be04-aa128b4f26b9",
   "metadata": {},
   "source": [
    "- List are array of elements\n",
    "  \n",
    "- list elements are heterogeneous all the data types we can represent in a list\n",
    "  \n",
    "- list elements are allowed duplicates\n",
    "  \n",
    "- list in list is possible\n",
    "  \n",
    "- variable assignment also possible in the list"
   ]
  },
  {
   "cell_type": "code",
   "execution_count": null,
   "id": "25c0ade2-64de-4289-a158-9d9b16c00da0",
   "metadata": {},
   "outputs": [],
   "source": [
    "- len\n",
    "- max\n",
    "- min\n",
    "- sorted\n",
    "- reversed"
   ]
  },
  {
   "cell_type": "code",
   "execution_count": 23,
   "id": "d7048601-f75d-49dd-b8f2-1462eaadcd0d",
   "metadata": {},
   "outputs": [
    {
     "data": {
      "text/plain": [
       "3"
      ]
     },
     "execution_count": 23,
     "metadata": {},
     "output_type": "execute_result"
    }
   ],
   "source": [
    "l1=['python','java','data science']\n",
    "len(l1)"
   ]
  },
  {
   "cell_type": "code",
   "execution_count": 22,
   "id": "8052de83-e467-448c-8c18-56f64d040d44",
   "metadata": {},
   "outputs": [
    {
     "data": {
      "text/plain": [
       "'suranjan'"
      ]
     },
     "execution_count": 22,
     "metadata": {},
     "output_type": "execute_result"
    }
   ],
   "source": [
    "l2=['Renuka','Rita','Susant','suranjan']\n",
    "max(l2)"
   ]
  },
  {
   "cell_type": "code",
   "execution_count": 21,
   "id": "de14aa28-6836-41da-8441-b33977e980f0",
   "metadata": {},
   "outputs": [
    {
     "data": {
      "text/plain": [
       "'Jyash'"
      ]
     },
     "execution_count": 21,
     "metadata": {},
     "output_type": "execute_result"
    }
   ],
   "source": [
    "l3=['Renuka','Jyash','smaranika']\n",
    "min(l3)"
   ]
  },
  {
   "cell_type": "code",
   "execution_count": 20,
   "id": "9efe1590-c5bc-4f30-bfc1-2a1bb7459f0a",
   "metadata": {},
   "outputs": [
    {
     "data": {
      "text/plain": [
       "['Python', 'maggy', 'naresh it']"
      ]
     },
     "execution_count": 20,
     "metadata": {},
     "output_type": "execute_result"
    }
   ],
   "source": [
    "l4=['Python','naresh it','maggy']\n",
    "sorted(l4)"
   ]
  },
  {
   "cell_type": "code",
   "execution_count": 18,
   "id": "aed062ef-2a55-43ef-be6c-f1ed77f322f3",
   "metadata": {},
   "outputs": [
    {
     "name": "stdout",
     "output_type": "stream",
     "text": [
      "Renuka\n",
      "Jyash\n",
      "Python\n"
     ]
    }
   ],
   "source": [
    "l5=['Python','Jyash','Renuka']\n",
    "for i in reversed(l5):\n",
    "    print(i)"
   ]
  },
  {
   "cell_type": "code",
   "execution_count": 26,
   "id": "23e093a2-95b3-4b6d-988c-579ccee8ffc4",
   "metadata": {},
   "outputs": [
    {
     "data": {
      "text/plain": [
       "[False, True, 'maggy', 'naresh it', 'Python', 3, 2, 1]"
      ]
     },
     "execution_count": 26,
     "metadata": {},
     "output_type": "execute_result"
    }
   ],
   "source": [
    "l6=[1,2,3,'Python','naresh it','maggy',True,False]\n",
    "list(reversed(l6))"
   ]
  },
  {
   "cell_type": "code",
   "execution_count": 27,
   "id": "2d21756a-c8d1-4eac-b552-0b6d3c772d73",
   "metadata": {},
   "outputs": [
    {
     "data": {
      "text/plain": [
       "'Adithya'"
      ]
     },
     "execution_count": 27,
     "metadata": {},
     "output_type": "execute_result"
    }
   ],
   "source": [
    "name=['adithya','Adithya']\n",
    "min(name)\n",
    "\n",
    "# first compare all first letters\n",
    "# if all first letters ascii values same\n",
    "# then compare with second letters\n",
    "# Continue the process"
   ]
  },
  {
   "cell_type": "code",
   "execution_count": 28,
   "id": "9ccc2621-2301-49da-ae77-ce1f5a3bcbe8",
   "metadata": {},
   "outputs": [
    {
     "data": {
      "text/plain": [
       "3"
      ]
     },
     "execution_count": 28,
     "metadata": {},
     "output_type": "execute_result"
    }
   ],
   "source": [
    "list1=['Apple',1,['Cherry','Bannana']]\n",
    "len(list1)"
   ]
  },
  {
   "cell_type": "code",
   "execution_count": null,
   "id": "78ea2e5e-8274-4494-9f7f-2ab39e53d8b2",
   "metadata": {},
   "outputs": [],
   "source": [
    "list2=[65,'A']\n",
    "max(list2) #error\n",
    "\n",
    "# Same data types only comparable"
   ]
  },
  {
   "cell_type": "markdown",
   "id": "e28bfdcf-d5b7-4540-8814-51c38a5a59da",
   "metadata": {},
   "source": [
    "**INDEXING**"
   ]
  },
  {
   "cell_type": "code",
   "execution_count": 3,
   "id": "b089eeb7-ef35-4733-b6ae-1c22e98b3cd1",
   "metadata": {},
   "outputs": [],
   "source": [
    "l4=[1,2,3,'Apple','Ball','Cat',True,False]\n",
    "\n",
    "# -8    -7    -6    -5    -4    -3    -2      -1\n",
    "#  1     2     3   Apple  Ball  Cat   True   False\n",
    "#  0     1     2     3     4     5     6       7"
   ]
  },
  {
   "cell_type": "code",
   "execution_count": 4,
   "id": "825c3a80-8f08-460b-b425-54cac7bf9cb9",
   "metadata": {},
   "outputs": [
    {
     "data": {
      "text/plain": [
       "('Apple', 'Apple')"
      ]
     },
     "execution_count": 4,
     "metadata": {},
     "output_type": "execute_result"
    }
   ],
   "source": [
    "l4[3],l4[-5]"
   ]
  },
  {
   "cell_type": "code",
   "execution_count": 33,
   "id": "deb6071c-c25e-444e-9cc8-27539038a709",
   "metadata": {},
   "outputs": [
    {
     "data": {
      "text/plain": [
       "1"
      ]
     },
     "execution_count": 33,
     "metadata": {},
     "output_type": "execute_result"
    }
   ],
   "source": [
    "l1=[1,[2]]\n",
    "l1[0]"
   ]
  },
  {
   "cell_type": "code",
   "execution_count": 34,
   "id": "e0a5ad29-64ce-4ae9-992f-0e15d0b6c557",
   "metadata": {},
   "outputs": [
    {
     "data": {
      "text/plain": [
       "[2]"
      ]
     },
     "execution_count": 34,
     "metadata": {},
     "output_type": "execute_result"
    }
   ],
   "source": [
    "l1[1]"
   ]
  },
  {
   "cell_type": "code",
   "execution_count": 35,
   "id": "c24a523d-c8e2-436d-9b17-220140f4699b",
   "metadata": {},
   "outputs": [
    {
     "data": {
      "text/plain": [
       "2"
      ]
     },
     "execution_count": 35,
     "metadata": {},
     "output_type": "execute_result"
    }
   ],
   "source": [
    "new=l1[1]\n",
    "new[0]"
   ]
  },
  {
   "cell_type": "code",
   "execution_count": 36,
   "id": "aa3f912a-bff9-4797-a87d-950d8d13dade",
   "metadata": {},
   "outputs": [
    {
     "data": {
      "text/plain": [
       "2"
      ]
     },
     "execution_count": 36,
     "metadata": {},
     "output_type": "execute_result"
    }
   ],
   "source": [
    "l1[1][0]"
   ]
  },
  {
   "cell_type": "code",
   "execution_count": 40,
   "id": "d4989cf4-6e28-4b28-acca-dd609298943f",
   "metadata": {},
   "outputs": [
    {
     "data": {
      "text/plain": [
       "'A'"
      ]
     },
     "execution_count": 40,
     "metadata": {},
     "output_type": "execute_result"
    }
   ],
   "source": [
    "l1=[1,[2,'A']]\n",
    "l1[1][1]\n",
    "\n",
    "# A is presented at index 1\n",
    "# so we given l1[1]: [2,'A'] it is also a list\n",
    "# The list has two elements\n",
    "# 'A' at first index\n",
    "# l1[1][1]"
   ]
  },
  {
   "cell_type": "code",
   "execution_count": 43,
   "id": "03b7ed32-db2f-4642-87e0-c6cd9a401221",
   "metadata": {},
   "outputs": [
    {
     "data": {
      "text/plain": [
       "'B'"
      ]
     },
     "execution_count": 43,
     "metadata": {},
     "output_type": "execute_result"
    }
   ],
   "source": [
    "l1=[1,[2,['A','B']]]\n",
    "l1[1][1][1]"
   ]
  },
  {
   "cell_type": "code",
   "execution_count": 15,
   "id": "dff54fe5-9ce3-40b8-8af4-f3000c783fbc",
   "metadata": {},
   "outputs": [
    {
     "data": {
      "text/plain": [
       "'Apple'"
      ]
     },
     "execution_count": 15,
     "metadata": {},
     "output_type": "execute_result"
    }
   ],
   "source": [
    "l1=[1,2,[3,[4,[5,['Apple']]]]]\n",
    "l1[2][1][1][1][0]"
   ]
  },
  {
   "cell_type": "code",
   "execution_count": 14,
   "id": "94a63645-aaca-4ba4-a304-4c6ed459e440",
   "metadata": {},
   "outputs": [
    {
     "data": {
      "text/plain": [
       "'Bannana'"
      ]
     },
     "execution_count": 14,
     "metadata": {},
     "output_type": "execute_result"
    }
   ],
   "source": [
    "l1=['Apple',1,'Solapur',['Cherry','papaya',70,[123,'Bannana'],'Tomato'],'python']\n",
    "l1[3][3][1]"
   ]
  },
  {
   "cell_type": "code",
   "execution_count": 46,
   "id": "3db8d39c-2e3c-430c-8144-1fa1bbfd0486",
   "metadata": {},
   "outputs": [
    {
     "data": {
      "text/plain": [
       "'Cherry'"
      ]
     },
     "execution_count": 46,
     "metadata": {},
     "output_type": "execute_result"
    }
   ],
   "source": [
    "list1=[[[[[[[1,'Cherry']]]]]]]\n",
    "list1[0][0][0][0][0][0][1]"
   ]
  },
  {
   "cell_type": "code",
   "execution_count": 13,
   "id": "0ab75e18-4ac8-4dd9-b834-c3c33118f87e",
   "metadata": {},
   "outputs": [
    {
     "data": {
      "text/plain": [
       "2"
      ]
     },
     "execution_count": 13,
     "metadata": {},
     "output_type": "execute_result"
    }
   ],
   "source": [
    "list1=['MH',['Nagpur',['Orange',['Likes',['King'],['Shivaji',['Son',['Shmbaji']]]]]]]\n",
    "len(list1)"
   ]
  },
  {
   "cell_type": "code",
   "execution_count": 12,
   "id": "e3c225c6-3b25-43fd-b6c5-63588fa36e33",
   "metadata": {},
   "outputs": [
    {
     "data": {
      "text/plain": [
       "'Shmbaji'"
      ]
     },
     "execution_count": 12,
     "metadata": {},
     "output_type": "execute_result"
    }
   ],
   "source": [
    "list1=['MH',['Nagpur',['Orange',['Likes',['King'],['Shivaji',['Son',['Shmbaji']]]]]]]\n",
    "list1[1][1][1][2][1][1][0]"
   ]
  },
  {
   "cell_type": "code",
   "execution_count": 1,
   "id": "867d94e9-c42b-4dd5-880b-076570a56f23",
   "metadata": {},
   "outputs": [
    {
     "name": "stdout",
     "output_type": "stream",
     "text": [
      "1\n",
      "2\n",
      "3\n",
      "A\n",
      "B\n",
      "C\n",
      "True\n",
      "False\n"
     ]
    }
   ],
   "source": [
    "l4=[1,2,3,'A','B','C',True,False]\n",
    "\n",
    "# -8  -7  -6  -5  -4   -3   -2   -1\n",
    "#  1   2   3  'A' 'B'  'C'  True False\n",
    "#  0   1   2   3   4    5    6    7\n",
    "for i in range(len(l4)):\n",
    "    print(l4[i])"
   ]
  },
  {
   "cell_type": "code",
   "execution_count": 2,
   "id": "c0d9836a-df21-495a-aa2e-f0a79f3ecc65",
   "metadata": {},
   "outputs": [
    {
     "name": "stdout",
     "output_type": "stream",
     "text": [
      "The postive index of 1 is 0\n",
      "The postive index of 2 is 1\n",
      "The postive index of 3 is 2\n",
      "The postive index of A is 3\n",
      "The postive index of B is 4\n",
      "The postive index of C is 5\n",
      "The postive index of True is 6\n",
      "The postive index of False is 7\n",
      "The postive index of w is 0\n",
      "The postive index of e is 1\n",
      "The postive index of l is 2\n",
      "The postive index of c is 3\n",
      "The postive index of o is 4\n",
      "The postive index of m is 5\n",
      "The postive index of e is 6\n"
     ]
    }
   ],
   "source": [
    "l4=[1,2,3,'A','B','C',True,False]\n",
    "for i in range(len(l4)):\n",
    "    print(f\"The postive index of {l4[i]} is {i}\")\n",
    "    \n",
    "s='welcome'\n",
    "for i in range(len(s)):\n",
    "    print(f\"The postive index of {s[i]} is {i}\")"
   ]
  },
  {
   "cell_type": "code",
   "execution_count": null,
   "id": "662f91a4-e6a5-4ec2-b04c-be0e36a028b1",
   "metadata": {},
   "outputs": [],
   "source": [
    "l4=[1,2,3,'A','B','C',True,False]\n",
    "for i in range(len(l4)):\n",
    "    print(f\"The postive index of {l4[i]} is {i}\")"
   ]
  },
  {
   "cell_type": "code",
   "execution_count": 4,
   "id": "d5671345-aa55-4263-a030-3f6186d827ca",
   "metadata": {},
   "outputs": [
    {
     "ename": "TypeError",
     "evalue": "'str' object does not support item assignment",
     "output_type": "error",
     "traceback": [
      "\u001b[1;31m---------------------------------------------------------------------------\u001b[0m",
      "\u001b[1;31mTypeError\u001b[0m                                 Traceback (most recent call last)",
      "Cell \u001b[1;32mIn[4], line 9\u001b[0m\n\u001b[0;32m      7\u001b[0m s\u001b[38;5;241m=\u001b[39m\u001b[38;5;124m'\u001b[39m\u001b[38;5;124mNaresh\u001b[39m\u001b[38;5;124m'\u001b[39m\n\u001b[0;32m      8\u001b[0m \u001b[38;5;66;03m# We want to change 'h' 'I'\u001b[39;00m\n\u001b[1;32m----> 9\u001b[0m s[\u001b[38;5;241m5\u001b[39m]\u001b[38;5;241m=\u001b[39m\u001b[38;5;124m'\u001b[39m\u001b[38;5;124mI\u001b[39m\u001b[38;5;124m'\u001b[39m\n",
      "\u001b[1;31mTypeError\u001b[0m: 'str' object does not support item assignment"
     ]
    }
   ],
   "source": [
    "# We want to change 1 with 100\n",
    "l=[1,2,3]\n",
    "l[0]=100\n",
    "l\n",
    "\n",
    "#Hi Sir - how the string is immutable please explain\n",
    "s='Naresh'\n",
    "# We want to change 'h' 'I'\n",
    "s[5]='I'\n",
    "\n",
    "# TypeError: 'str' object does not support item assignment\n",
    "# Not able"
   ]
  },
  {
   "cell_type": "code",
   "execution_count": null,
   "id": "037fc31c-41a4-441e-9f05-83de0c919136",
   "metadata": {},
   "outputs": [],
   "source": [
    "l=[1,2,3,4,5,6,'A','B','C','D','E','F','G']\n",
    "-13  -12  -11  -10  -9  -8  -7  -6  -5  -4  -3  -2  -1\n",
    "  1,   2,   3,   4,  5,  6, 'A','B','C','D','E','F','G'\n",
    "  0    1    2    3   4   5   6   7   8   9   10  11  12\n",
    "\n",
    "l[3:9:2] # P\n",
    "l[3:9:-2] # Np\n",
    "l[3:-9:2] # -----\n",
    "l[3:-9:-2] # Np\n",
    "l[-3:9:2] # Np\n",
    "l[-3:-9:-2] # W\n",
    "l[-3:9:-2]"
   ]
  },
  {
   "cell_type": "code",
   "execution_count": 5,
   "id": "761b9fe3-2c04-464d-9fdb-d6dd1cfeda5d",
   "metadata": {},
   "outputs": [
    {
     "data": {
      "text/plain": [
       "['E']"
      ]
     },
     "execution_count": 5,
     "metadata": {},
     "output_type": "execute_result"
    }
   ],
   "source": [
    "l=[1,2,3,4,5,6,'A','B','C','D','E','F','G']\n",
    "l[3:-9:2]\n",
    "# start=3\n",
    "# dire =+ve\n",
    "# last= stop-1 = -9-1=-10\n",
    "l[-3:9:-2]"
   ]
  },
  {
   "cell_type": "code",
   "execution_count": null,
   "id": "ae624d30-86f0-4575-b275-b77796300f74",
   "metadata": {},
   "outputs": [],
   "source": [
    "# Tomorrow you have a exam\n",
    "# MCQ in Python\n",
    "# Sunday you dont have class\n",
    "# Friday 50-50 (26)\n",
    "# Sat (27)\n",
    "# Sun (28)\n",
    "# Aug 4 class\n",
    "# Aug 11 class"
   ]
  },
  {
   "cell_type": "markdown",
   "id": "32b786e4-0d25-4e32-a234-8554ff3e63e4",
   "metadata": {},
   "source": [
    "**List Methods**"
   ]
  },
  {
   "cell_type": "code",
   "execution_count": 6,
   "id": "7d5ff4db-c1a7-4684-9189-62d172765a81",
   "metadata": {},
   "outputs": [
    {
     "data": {
      "text/plain": [
       "['__add__',\n",
       " '__class__',\n",
       " '__class_getitem__',\n",
       " '__contains__',\n",
       " '__delattr__',\n",
       " '__delitem__',\n",
       " '__dir__',\n",
       " '__doc__',\n",
       " '__eq__',\n",
       " '__format__',\n",
       " '__ge__',\n",
       " '__getattribute__',\n",
       " '__getitem__',\n",
       " '__getstate__',\n",
       " '__gt__',\n",
       " '__hash__',\n",
       " '__iadd__',\n",
       " '__imul__',\n",
       " '__init__',\n",
       " '__init_subclass__',\n",
       " '__iter__',\n",
       " '__le__',\n",
       " '__len__',\n",
       " '__lt__',\n",
       " '__mul__',\n",
       " '__ne__',\n",
       " '__new__',\n",
       " '__reduce__',\n",
       " '__reduce_ex__',\n",
       " '__repr__',\n",
       " '__reversed__',\n",
       " '__rmul__',\n",
       " '__setattr__',\n",
       " '__setitem__',\n",
       " '__sizeof__',\n",
       " '__str__',\n",
       " '__subclasshook__',\n",
       " 'append',\n",
       " 'clear',\n",
       " 'copy',\n",
       " 'count',\n",
       " 'extend',\n",
       " 'index',\n",
       " 'insert',\n",
       " 'pop',\n",
       " 'remove',\n",
       " 'reverse',\n",
       " 'sort']"
      ]
     },
     "execution_count": 6,
     "metadata": {},
     "output_type": "execute_result"
    }
   ],
   "source": [
    "# strings dir('')\n",
    "dir([])"
   ]
  },
  {
   "cell_type": "code",
   "execution_count": null,
   "id": "3ef6f91b-e5de-4841-a22e-8c4cc2c6a52d",
   "metadata": {},
   "outputs": [],
   "source": [
    "'append',\n",
    "'clear',\n",
    "'copy',\n",
    "'count',\n",
    "'extend',\n",
    "'index',\n",
    "'insert',\n",
    "'pop',\n",
    "'remove',\n",
    "'reverse',\n",
    "'sort'"
   ]
  },
  {
   "cell_type": "markdown",
   "id": "7562c065-ffec-4af4-86f4-a84c2d168292",
   "metadata": {},
   "source": [
    "**append**\n",
    "  \n",
    "- adding elements in a list at last index\n",
    "- append method is very important\n",
    "- most of the time we will use append in the real time\n",
    "- When you add the value the original list will be overwrite"
   ]
  },
  {
   "cell_type": "code",
   "execution_count": 7,
   "id": "86b9afa5-bf8c-4d5d-8904-1a1517bec4b3",
   "metadata": {},
   "outputs": [
    {
     "data": {
      "text/plain": [
       "['Apple', 'Ball', 'Cat']"
      ]
     },
     "execution_count": 7,
     "metadata": {},
     "output_type": "execute_result"
    }
   ],
   "source": [
    "l=['Apple','Ball','Cat']\n",
    "l"
   ]
  },
  {
   "cell_type": "code",
   "execution_count": null,
   "id": "e08521e3-8b8b-477a-863e-2c36ecee0937",
   "metadata": {},
   "outputs": [],
   "source": [
    "# You want to add Doll in a given list\n",
    "\n",
    "# Keywords vs methods\n",
    "len()\n",
    "max()\n",
    "min()\n",
    "reversed()\n",
    "sorted()\n",
    "\n",
    "# Methods\n",
    "<package>.<method>()\n",
    "# we already discussed\n",
    "# Data types has own method\n",
    "# <data type>.<method>\n",
    "# <pacckage>.<methods>"
   ]
  },
  {
   "cell_type": "code",
   "execution_count": 8,
   "id": "26e98520-71ae-42e1-a281-15736c819665",
   "metadata": {},
   "outputs": [],
   "source": [
    "l.append('Doll')"
   ]
  },
  {
   "cell_type": "code",
   "execution_count": 9,
   "id": "b04d1f78-273c-42f3-9ff7-8001d53cad22",
   "metadata": {},
   "outputs": [
    {
     "data": {
      "text/plain": [
       "['Apple', 'Ball', 'Cat', 'Doll']"
      ]
     },
     "execution_count": 9,
     "metadata": {},
     "output_type": "execute_result"
    }
   ],
   "source": [
    "l"
   ]
  },
  {
   "cell_type": "code",
   "execution_count": 10,
   "id": "ec30d26b-95bb-4ace-9ffc-c76faa788984",
   "metadata": {},
   "outputs": [
    {
     "data": {
      "text/plain": [
       "[1, 2, 3, 4, 100]"
      ]
     },
     "execution_count": 10,
     "metadata": {},
     "output_type": "execute_result"
    }
   ],
   "source": [
    "l1=[1,2,3,4]\n",
    "l1.append(100)\n",
    "l1"
   ]
  },
  {
   "cell_type": "code",
   "execution_count": 11,
   "id": "344f7d8d-21a4-4596-a9ce-9cae781f5a26",
   "metadata": {},
   "outputs": [
    {
     "data": {
      "text/plain": [
       "[10, 20, 'apple', ['A', 1], True]"
      ]
     },
     "execution_count": 11,
     "metadata": {},
     "output_type": "execute_result"
    }
   ],
   "source": [
    "l2=[]\n",
    "l2.append(10)\n",
    "l2.append(20)\n",
    "l2.append('apple')\n",
    "l2.append(['A',1])\n",
    "l2.append(True)\n",
    "l2"
   ]
  },
  {
   "cell_type": "code",
   "execution_count": null,
   "id": "43765f16-2de7-4268-8da6-548897b286ab",
   "metadata": {},
   "outputs": [],
   "source": [
    "list.append() takes exactly one argument how can we add more in one statement sin\n",
    "l1.append(100,200,300) # error"
   ]
  },
  {
   "cell_type": "markdown",
   "id": "6b1e699b-7f82-4253-90e3-1911a1b3ae54",
   "metadata": {},
   "source": [
    "**Append method used to save the output in a list**"
   ]
  },
  {
   "cell_type": "code",
   "execution_count": 16,
   "id": "15b69810-3c62-4d57-83cc-be1c9adf3a37",
   "metadata": {},
   "outputs": [
    {
     "name": "stdout",
     "output_type": "stream",
     "text": [
      "1\n",
      "4\n",
      "9\n",
      "16\n",
      "25\n"
     ]
    }
   ],
   "source": [
    "for i in range(1,6):\n",
    "    print(i*i)"
   ]
  },
  {
   "cell_type": "code",
   "execution_count": 15,
   "id": "e47a976b-4af5-4772-953d-412579672b11",
   "metadata": {},
   "outputs": [
    {
     "data": {
      "text/plain": [
       "[1, 4, 9, 16, 25]"
      ]
     },
     "execution_count": 15,
     "metadata": {},
     "output_type": "execute_result"
    }
   ],
   "source": [
    "square_list=[]\n",
    "for i in range(1,6):\n",
    "    square_list.append(i*i)\n",
    "# print ==== square_list.append\n",
    "square_list"
   ]
  },
  {
   "cell_type": "code",
   "execution_count": null,
   "id": "06fe14bb-a002-45c3-a01c-2ca90d5b70c1",
   "metadata": {},
   "outputs": [],
   "source": [
    "s=''\n",
    "for i in 'python':\n",
    "    s=s+i\n",
    "    \n",
    "# str='hai hai hai'\n",
    "# what are index of 'a'\n",
    "# save that index numbers in a list\n"
   ]
  },
  {
   "cell_type": "code",
   "execution_count": 13,
   "id": "415f69a4-bdb8-41db-ba2a-59d2b52a09eb",
   "metadata": {},
   "outputs": [
    {
     "data": {
      "text/plain": [
       "([1, 5, 9], 15)"
      ]
     },
     "execution_count": 13,
     "metadata": {},
     "output_type": "execute_result"
    }
   ],
   "source": [
    "str1='hai hai hai'\n",
    "id_list=[]\n",
    "for i in range(len(str1)):\n",
    "    if str1[i]=='a':\n",
    "        id_list.append(i)\n",
    "        \n",
    "id_list,sum(id_list)"
   ]
  },
  {
   "cell_type": "code",
   "execution_count": 12,
   "id": "1f66a542-2fc9-4b37-b19e-523f0be7f7cf",
   "metadata": {},
   "outputs": [
    {
     "data": {
      "text/plain": [
       "15"
      ]
     },
     "execution_count": 12,
     "metadata": {},
     "output_type": "execute_result"
    }
   ],
   "source": [
    "summ=0\n",
    "str1='hai hai hai'\n",
    "for i in range(len(str1)):\n",
    "    if str1[i]=='a':\n",
    "        summ=summ+i\n",
    "\n",
    "summ"
   ]
  },
  {
   "cell_type": "code",
   "execution_count": null,
   "id": "80b5e953-f5cc-42d2-ba9d-4d94c1620e72",
   "metadata": {},
   "outputs": [],
   "source": [
    "l1=['Hyd','Mumb#ai','Chen#nai','blr']\n",
    "for i in l1:\n",
    "    if i in '#'"
   ]
  },
  {
   "cell_type": "code",
   "execution_count": 3,
   "id": "d390b435-5d1f-402e-97e8-14d041eab53b",
   "metadata": {},
   "outputs": [
    {
     "data": {
      "text/plain": [
       "True"
      ]
     },
     "execution_count": 3,
     "metadata": {},
     "output_type": "execute_result"
    }
   ],
   "source": [
    "'nadeem' in '#' # 'nadeem' is avialable in '#'\n",
    "'#' in 'nadeem' # is '#' available in 'nadeem'\n",
    "'nad##m' in '#' # is 'nad##m' avaialabe in '#'\n",
    "'#' in 'nad##m' # is '#' avaialabe in 'nad##m'"
   ]
  },
  {
   "cell_type": "code",
   "execution_count": 2,
   "id": "f87fe069-7056-4207-88d7-249144b9aedb",
   "metadata": {},
   "outputs": [
    {
     "data": {
      "text/plain": [
       "['Hyd', 'Mumbai', 'Chennai', 'Blr']"
      ]
     },
     "execution_count": 2,
     "metadata": {},
     "output_type": "execute_result"
    }
   ],
   "source": [
    "# Q5)l1=['Hyd','Mumbai','chennai','blr']\n",
    "# ans= ['Hyd','Mumbai']\n",
    "# we want lements which are having first letter capital\n",
    "l1=['Hyd','Mumbai','Chennai','blr']\n",
    "ans=[]\n",
    "for i in l1:\n",
    "    ans.append(i.capitalize())\n",
    "ans\n",
    "\n",
    "# what is the difference betweeb capitalize and title"
   ]
  },
  {
   "cell_type": "code",
   "execution_count": 1,
   "id": "604379ce-e459-4821-9604-5c960255e523",
   "metadata": {},
   "outputs": [
    {
     "data": {
      "text/plain": [
       "'Hello Im Learning Python'"
      ]
     },
     "execution_count": 1,
     "metadata": {},
     "output_type": "execute_result"
    }
   ],
   "source": [
    "str1='hello im learning python'\n",
    "# Make everyword capitalize\n",
    "str1.title()"
   ]
  },
  {
   "cell_type": "code",
   "execution_count": null,
   "id": "1472ac43-be7b-4d03-a1ed-acf9acf2591f",
   "metadata": {},
   "outputs": [],
   "source": [
    "# Do the same using capitalize method\n",
    "# step-1: split the string\n",
    "# step-2: take empty list\n",
    "# step-3: iterate the each letter apply capitlize and append it\n",
    "# step-4: join the list"
   ]
  },
  {
   "cell_type": "markdown",
   "id": "e607a969-3060-4660-9ae6-5ae8cfedc1aa",
   "metadata": {},
   "source": [
    "**split-join**\n",
    "\n",
    "- split will apply for strings , to divide the words or characters\n",
    "- when we split the elements will be stored in a list format\n",
    "- Join is used to combine the elements of a list in a string format\n",
    "- **split-strings**\n",
    "- **join-list**"
   ]
  },
  {
   "cell_type": "code",
   "execution_count": 5,
   "id": "b4e67c67-cead-41c7-9a96-707d3e66c540",
   "metadata": {},
   "outputs": [
    {
     "data": {
      "text/plain": [
       "'Hello Im Learning Python'"
      ]
     },
     "execution_count": 5,
     "metadata": {},
     "output_type": "execute_result"
    }
   ],
   "source": [
    "str1='hello im learning python'\n",
    "words=str1.split()\n",
    "new_words=[]\n",
    "for i in words:\n",
    "    new_words.append(i.capitalize())\n",
    "' '.join(new_words)"
   ]
  },
  {
   "cell_type": "code",
   "execution_count": 6,
   "id": "38fe1efd-664e-4934-94b9-1fee0ca67539",
   "metadata": {},
   "outputs": [
    {
     "name": "stdout",
     "output_type": "stream",
     "text": [
      "4.123105625617661\n"
     ]
    }
   ],
   "source": [
    "# Calculate the distance between two points\n",
    "# a=[1,2]\n",
    "# b=[4,5]\n",
    "# a=[x1,x2]\n",
    "# b=[y1,y2]\n",
    "# step-0: Import math\n",
    "# step-1:v1= x2-x1=a[2]-a[1] === index\n",
    "# step-2:v2= y2-y1=b[2]-b[1] === index\n",
    "# step-3: v11=v1**2\n",
    "# step-4: v22=v2**2\n",
    "# step-5: ans=math.sqrt(v11+v22)\n",
    "import math\n",
    "a= [1,2]\n",
    "b = [1,5]\n",
    "v1 = a[1]-a[0]\n",
    "v2 = b[1]-b[0]\n",
    "v11 = v1**2\n",
    "v22 = v2**2\n",
    "print(math.sqrt(v11+v22))"
   ]
  },
  {
   "cell_type": "code",
   "execution_count": 7,
   "id": "8c2423f2-0aff-4563-abfb-96bd0a73a03e",
   "metadata": {},
   "outputs": [
    {
     "name": "stdout",
     "output_type": "stream",
     "text": [
      "4.123105625617661\n"
     ]
    }
   ],
   "source": [
    "import math\n",
    "a= [1,2]\n",
    "b = [1,5]\n",
    "print(math.sqrt(math.pow((a[1]-a[0]),2)+math.pow((b[1]-b[0]),2)))"
   ]
  },
  {
   "cell_type": "code",
   "execution_count": null,
   "id": "1e6504e0-3d5e-4a99-a4ec-824f778ba6ab",
   "metadata": {},
   "outputs": [],
   "source": [
    "[1,2,3,4,5,4,3,2,1]\n",
    "[100,500,600,700,400,300,50]"
   ]
  },
  {
   "cell_type": "code",
   "execution_count": 9,
   "id": "12ef6e7a-d229-4e98-8a29-e57cfe71f36e",
   "metadata": {},
   "outputs": [
    {
     "name": "stdout",
     "output_type": "stream",
     "text": [
      "3.0\n"
     ]
    }
   ],
   "source": [
    "pints=[[1,2],[2,3],[3,4]]\n",
    "val=[2,3]\n",
    "# calculate the distance between val [2,3] to each and every point\n",
    "# and find the maximum distance\n",
    "import math\n",
    "a= [1,2] # [x1,y1]\n",
    "b = [1,5] # [x2,y2]\n",
    "# for loop\n",
    "v1 = b[0]-a[0] # x2-x1\n",
    "v2 = b[1]-a[1] # y2-y1\n",
    "v11 = v1**2\n",
    "v22 = v2**2\n",
    "print(math.sqrt(v11+v22))"
   ]
  },
  {
   "cell_type": "code",
   "execution_count": 8,
   "id": "c359bb1f-0009-46b9-92cc-ceac98a2588f",
   "metadata": {},
   "outputs": [
    {
     "name": "stdout",
     "output_type": "stream",
     "text": [
      "1 2\n",
      "2 3\n",
      "====================\n",
      "2 3\n",
      "2 3\n",
      "====================\n",
      "3 4\n",
      "2 3\n",
      "====================\n"
     ]
    }
   ],
   "source": [
    "points=[[1,2],[2,3],[3,4]]\n",
    "val=[2,3]\n",
    "# [1,2] vs [2,3]\n",
    "# [2,3] vs [2,3]\n",
    "# [3,4] vs [2,3]\n",
    "for i in points:\n",
    "    print(i[0],i[1]) # x1,y1\n",
    "    print(val[0],val[1]) # x2,y2\n",
    "    print('====================')"
   ]
  },
  {
   "cell_type": "code",
   "execution_count": 11,
   "id": "05076264-05d9-49ad-ae82-bdabddacc6cc",
   "metadata": {},
   "outputs": [
    {
     "name": "stdout",
     "output_type": "stream",
     "text": [
      "1 2\n",
      "2 3\n",
      "3-2=1,2-1=1\n",
      "1.4142135623730951\n",
      "=======================\n",
      "2 3\n",
      "2 3\n",
      "3-2=0,2-2=0\n",
      "0.0\n",
      "=======================\n",
      "5 6\n",
      "2 3\n",
      "3-2=-3,2-5=-3\n",
      "4.242640687119285\n",
      "=======================\n"
     ]
    }
   ],
   "source": [
    "points=[[1,2],[2,3],[5,6]]\n",
    "val=[2,3]\n",
    "ans=[]\n",
    "for i in points:\n",
    "    print(i[0],i[1])\n",
    "    print(val[0],val[1])\n",
    "    o1=val[0]-i[0]\n",
    "    o2=val[1]-i[1]\n",
    "    print(f\"{val[1]}-{val[0]}={o1},{val[0]}-{i[0]}={o2}\")\n",
    "    v11 = o1**2\n",
    "    v22 = o2**2\n",
    "    print(math.sqrt(v11+v22))\n",
    "    ans.append(math.sqrt(v11+v22))\n",
    "    print('=======================')"
   ]
  },
  {
   "cell_type": "code",
   "execution_count": 12,
   "id": "74a25859-a588-4867-84bf-d42c652fec6f",
   "metadata": {},
   "outputs": [
    {
     "data": {
      "text/plain": [
       "4.242640687119285"
      ]
     },
     "execution_count": 12,
     "metadata": {},
     "output_type": "execute_result"
    }
   ],
   "source": [
    "max(ans)"
   ]
  },
  {
   "cell_type": "code",
   "execution_count": 14,
   "id": "5bf1b525-095f-4333-b3c6-1918a5ae504a",
   "metadata": {},
   "outputs": [
    {
     "data": {
      "text/plain": [
       "[5, 3, 3, 3, 3]"
      ]
     },
     "execution_count": 14,
     "metadata": {},
     "output_type": "execute_result"
    }
   ],
   "source": [
    "# Q8) str='hello hai how are you'\n",
    "# Maximum len of word using split and max method\n",
    "# sum of all the indexes of the maximum len of word using append\n",
    "str1='hello hai how are you'\n",
    "words=str1.split()\n",
    "str2=[]\n",
    "for i in words:\n",
    "    x=len(i)\n",
    "    str2.append(x)\n",
    "str2"
   ]
  },
  {
   "cell_type": "code",
   "execution_count": 18,
   "id": "7afbdb93-e304-4f71-a72b-a6eca0ab9d27",
   "metadata": {},
   "outputs": [
    {
     "name": "stdout",
     "output_type": "stream",
     "text": [
      "hello\n"
     ]
    }
   ],
   "source": [
    "str1='hello hai how are you'\n",
    "words=str1.split()\n",
    "len_Words=[]\n",
    "for i in words:\n",
    "    x=len(i)\n",
    "    len_words.append(x)\n",
    "max_len=max(len_words)\n",
    "\n",
    "for i in words:\n",
    "    if len(i)==max_len:\n",
    "        print(i)\n",
    "            \n",
    "# First we are splitting\n",
    "# the we are calculating each and every len of words and append in a list\n",
    "# we are taking the max value from the list\n",
    "\n",
    "# again we are itertating words list\n",
    "# calculating len of each word\n",
    "# if that word length equal to max value\n",
    "# then that is our answer\n"
   ]
  },
  {
   "cell_type": "code",
   "execution_count": 15,
   "id": "370acb89-ff6e-4b8d-8d0d-e038ae8151fb",
   "metadata": {},
   "outputs": [
    {
     "data": {
      "text/plain": [
       "5"
      ]
     },
     "execution_count": 15,
     "metadata": {},
     "output_type": "execute_result"
    }
   ],
   "source": [
    "str1='hello hai how are you'\n",
    "words=str1.split()\n",
    "max(words)\n",
    "len_words=[5,3,3,3,3]\n",
    "max(len_words)"
   ]
  },
  {
   "cell_type": "code",
   "execution_count": 1,
   "id": "68d5aa9c-709d-4a2a-a931-31962257704c",
   "metadata": {},
   "outputs": [
    {
     "ename": "SyntaxError",
     "evalue": "incomplete input (2213876541.py, line 1)",
     "output_type": "error",
     "traceback": [
      "\u001b[1;36m  Cell \u001b[1;32mIn[1], line 1\u001b[1;36m\u001b[0m\n\u001b[1;33m    for i in range(10):\u001b[0m\n\u001b[1;37m                       ^\u001b[0m\n\u001b[1;31mSyntaxError\u001b[0m\u001b[1;31m:\u001b[0m incomplete input\n"
     ]
    }
   ],
   "source": [
    "for i in range(10):"
   ]
  },
  {
   "cell_type": "code",
   "execution_count": null,
   "id": "697ef8d7-b7fd-438a-808c-79a5e47b0ac4",
   "metadata": {},
   "outputs": [],
   "source": [
    "# 10 )\n",
    "# You have two lists\n",
    "# qns=['What is capital of India',\n",
    "         'Who is PM of india',\n",
    "         'Who is ICT ODI captian']\n",
    "# ans = ['Delhi','Modi','Rohit']\n",
    "\n",
    "# For i in qns:\n",
    "# print(i)\n",
    "# ans= delhi\n",
    "# index should match\n",
    "# delhi modi \n",
    "# marks= marks+1\n",
    "# print the total marks"
   ]
  },
  {
   "cell_type": "code",
   "execution_count": 3,
   "id": "09aa3499-9b3c-438d-a0d4-cd6c121c21ff",
   "metadata": {},
   "outputs": [
    {
     "name": "stdin",
     "output_type": "stream",
     "text": [
      "What is capital of India delhi\n",
      "Who is PM of india modi\n",
      "Who is ICT ODI captian rohit\n"
     ]
    },
    {
     "name": "stdout",
     "output_type": "stream",
     "text": [
      "The total marks are: 3\n"
     ]
    }
   ],
   "source": [
    "qns_list=['What is capital of India',\n",
    "        'Who is PM of india',\n",
    "        'Who is ICT ODI captian']\n",
    "ans_list = ['Delhi','Modi','Rohit']\n",
    "marks=0\n",
    "for i in range(len(qns_list)):\n",
    "     ans=input(qns_list[i])\n",
    "     if ans.lower()==ans_list[i].lower():\n",
    "         marks=marks+1 # marks=+1 (best practice)\n",
    "\n",
    "print(\"The total marks are:\",marks)\n",
    "\n",
    "# Step-1: We are iterating throuh qns list\n",
    "# step-2: We are taking each qns and we are providing the answer\n",
    "# Step-3: That answer == anslist"
   ]
  },
  {
   "cell_type": "code",
   "execution_count": 4,
   "id": "5174cb78-b744-41b5-a9c0-507502c4e15a",
   "metadata": {},
   "outputs": [
    {
     "data": {
      "text/plain": [
       "'rohit'"
      ]
     },
     "execution_count": 4,
     "metadata": {},
     "output_type": "execute_result"
    }
   ],
   "source": [
    "ans"
   ]
  },
  {
   "cell_type": "code",
   "execution_count": 5,
   "id": "87e524c3-574b-4b67-aa4a-7ad1b868622d",
   "metadata": {},
   "outputs": [
    {
     "data": {
      "text/plain": [
       "['__add__',\n",
       " '__class__',\n",
       " '__class_getitem__',\n",
       " '__contains__',\n",
       " '__delattr__',\n",
       " '__delitem__',\n",
       " '__dir__',\n",
       " '__doc__',\n",
       " '__eq__',\n",
       " '__format__',\n",
       " '__ge__',\n",
       " '__getattribute__',\n",
       " '__getitem__',\n",
       " '__getstate__',\n",
       " '__gt__',\n",
       " '__hash__',\n",
       " '__iadd__',\n",
       " '__imul__',\n",
       " '__init__',\n",
       " '__init_subclass__',\n",
       " '__iter__',\n",
       " '__le__',\n",
       " '__len__',\n",
       " '__lt__',\n",
       " '__mul__',\n",
       " '__ne__',\n",
       " '__new__',\n",
       " '__reduce__',\n",
       " '__reduce_ex__',\n",
       " '__repr__',\n",
       " '__reversed__',\n",
       " '__rmul__',\n",
       " '__setattr__',\n",
       " '__setitem__',\n",
       " '__sizeof__',\n",
       " '__str__',\n",
       " '__subclasshook__',\n",
       " 'append',\n",
       " 'clear',\n",
       " 'copy',\n",
       " 'count',\n",
       " 'extend',\n",
       " 'index',\n",
       " 'insert',\n",
       " 'pop',\n",
       " 'remove',\n",
       " 'reverse',\n",
       " 'sort']"
      ]
     },
     "execution_count": 5,
     "metadata": {},
     "output_type": "execute_result"
    }
   ],
   "source": [
    "dir([])"
   ]
  },
  {
   "cell_type": "code",
   "execution_count": null,
   "id": "f430ac7c-cc1d-4ab6-8ee6-93b0bda632bc",
   "metadata": {},
   "outputs": [],
   "source": [
    "'clear',\n",
    "'copy',\n",
    "'count',\n",
    "'extend',\n",
    "'index',\n",
    "'insert',\n",
    "'pop',\n",
    "'remove',\n",
    "'reverse',\n",
    "'sort' \n",
    "\n",
    "# Append vs extend vs concatenation vs insert\n",
    "# pop vs remove\n",
    "# reverse vs reversed\n",
    "# sort vs sorted\n",
    "# index\n",
    "# count\n",
    "# clear and copy\n",
    "# Methods vs keywords\n",
    "# keywords : inbuilt functions\n",
    "# print() max() min() len(<) sorted(<>) reversed(<l>)\n",
    "# l.copy()\n",
    "# l.clear()"
   ]
  },
  {
   "cell_type": "markdown",
   "id": "93b75ff5-6c3c-4b89-8fb2-11d981de2ab4",
   "metadata": {},
   "source": [
    "**Copy**"
   ]
  },
  {
   "cell_type": "code",
   "execution_count": 6,
   "id": "96453be0-da65-44c9-9bb3-0b1ac52c6928",
   "metadata": {},
   "outputs": [
    {
     "data": {
      "text/plain": [
       "[1, 2, 3, 100, 200, 80, 70, 60]"
      ]
     },
     "execution_count": 6,
     "metadata": {},
     "output_type": "execute_result"
    }
   ],
   "source": [
    "l1=[1,2,3,100,200,80,70,60]\n",
    "l2=l1.copy()\n",
    "l2"
   ]
  },
  {
   "cell_type": "code",
   "execution_count": 7,
   "id": "9084a320-bd3f-4bfd-bc08-80f4102c0c52",
   "metadata": {},
   "outputs": [
    {
     "data": {
      "text/plain": [
       "([1, 2, 3, 100, 200, 80, 70, 60], [1, 2, 3, 100, 200, 80, 70, 60])"
      ]
     },
     "execution_count": 7,
     "metadata": {},
     "output_type": "execute_result"
    }
   ],
   "source": [
    "l1,l2"
   ]
  },
  {
   "cell_type": "markdown",
   "id": "71350959-980f-47eb-8498-ffb27ab5006e",
   "metadata": {},
   "source": [
    "**clear**"
   ]
  },
  {
   "cell_type": "code",
   "execution_count": 9,
   "id": "fea1635d-7e02-4f1d-a1da-c04700484621",
   "metadata": {},
   "outputs": [
    {
     "data": {
      "text/plain": [
       "[]"
      ]
     },
     "execution_count": 9,
     "metadata": {},
     "output_type": "execute_result"
    }
   ],
   "source": [
    "l1.clear()\n",
    "l1"
   ]
  },
  {
   "cell_type": "code",
   "execution_count": 10,
   "id": "5b33e147-a6b8-446b-b3b7-4dc63e58b713",
   "metadata": {},
   "outputs": [
    {
     "data": {
      "text/plain": [
       "[1, 2, 3, 100, 200, 80, 70, 60]"
      ]
     },
     "execution_count": 10,
     "metadata": {},
     "output_type": "execute_result"
    }
   ],
   "source": [
    "l2"
   ]
  },
  {
   "cell_type": "code",
   "execution_count": 11,
   "id": "d8c99520-c531-4b21-924f-1e76f45b22ae",
   "metadata": {},
   "outputs": [
    {
     "name": "stdout",
     "output_type": "stream",
     "text": [
      "<class 'list'>\n"
     ]
    }
   ],
   "source": [
    "print(type([]))"
   ]
  },
  {
   "cell_type": "markdown",
   "id": "e615617a-8f0f-4693-924e-49f0cb3d7b5a",
   "metadata": {},
   "source": [
    "**append-extend-concatenation-insert**"
   ]
  },
  {
   "cell_type": "code",
   "execution_count": 12,
   "id": "79be0af7-7093-4484-a46a-cf2bed53c987",
   "metadata": {},
   "outputs": [
    {
     "name": "stdout",
     "output_type": "stream",
     "text": [
      "[1, 2, 3, 4, ['A', 'B', 'C', 'D']]\n",
      "['A', 'B', 'C', 'D']\n"
     ]
    }
   ],
   "source": [
    "l1=[1,2,3,4]\n",
    "l2=['A','B','C','D']\n",
    "l1.append(l2)\n",
    "print(l1)\n",
    "print(l2)\n",
    "\n",
    "# l1 list is overwrire with l2 values"
   ]
  },
  {
   "cell_type": "code",
   "execution_count": 13,
   "id": "5203b9ec-ef00-4a7b-9e19-83c21a4107e7",
   "metadata": {},
   "outputs": [
    {
     "name": "stdout",
     "output_type": "stream",
     "text": [
      "[1, 2, 3, 4, 'A', 'B', 'C', 'D']\n",
      "['A', 'B', 'C', 'D']\n"
     ]
    }
   ],
   "source": [
    "l1=[1,2,3,4]\n",
    "l2=['A','B','C','D']\n",
    "l1.extend(l2)\n",
    "print(l1)\n",
    "print(l2)"
   ]
  },
  {
   "cell_type": "code",
   "execution_count": 14,
   "id": "a6d32753-6c1d-45a4-bdf7-4c963e99c66e",
   "metadata": {},
   "outputs": [
    {
     "name": "stdout",
     "output_type": "stream",
     "text": [
      "[1, 2, 3, 4]\n",
      "['A', 'B', 'C', 'D', 1, 2, 3, 4]\n"
     ]
    }
   ],
   "source": [
    "l1=[1,2,3,4]\n",
    "l2=['A','B','C','D']\n",
    "l2.extend(l1)\n",
    "print(l1)\n",
    "print(l2)"
   ]
  },
  {
   "cell_type": "code",
   "execution_count": 15,
   "id": "496af338-0e45-4f25-81f1-1e56bc1bdfe6",
   "metadata": {},
   "outputs": [
    {
     "name": "stdout",
     "output_type": "stream",
     "text": [
      "[1, 2, 3, 4, 'A', 'B', 'C', 'D']\n",
      "['A', 'B', 'C', 'D', 1, 2, 3, 4]\n",
      "[1, 2, 3, 4]\n",
      "['A', 'B', 'C', 'D']\n"
     ]
    }
   ],
   "source": [
    "l1=[1,2,3,4]\n",
    "l2=['A','B','C','D']\n",
    "print(l1+l2)\n",
    "print(l2+l1)\n",
    "print(l1)\n",
    "print(l2)"
   ]
  },
  {
   "cell_type": "code",
   "execution_count": 16,
   "id": "a63d8356-d346-4fca-988d-ccd34d27b5ad",
   "metadata": {},
   "outputs": [
    {
     "data": {
      "text/plain": [
       "[1, 2, 3, 4, 'a', 'p', 'p', 'l', 'e']"
      ]
     },
     "execution_count": 16,
     "metadata": {},
     "output_type": "execute_result"
    }
   ],
   "source": [
    "l1=[1,2,3,4]\n",
    "l1.extend('apple')\n",
    "l1\n",
    "#[1,2,3,4,'a','p','p','l','e']"
   ]
  },
  {
   "cell_type": "code",
   "execution_count": 17,
   "id": "b9486e9e-420c-4475-9bc7-8f10f991a51b",
   "metadata": {},
   "outputs": [
    {
     "data": {
      "text/plain": [
       "[1, 2, 3, 4, 10, 20, 30, 40]"
      ]
     },
     "execution_count": 17,
     "metadata": {},
     "output_type": "execute_result"
    }
   ],
   "source": [
    "l1=[1,2,3,4]\n",
    "l1.extend((10,20,30,40))\n",
    "l1"
   ]
  },
  {
   "cell_type": "markdown",
   "id": "f047c83f-3457-49e0-bd32-5f7b10d0e2a2",
   "metadata": {},
   "source": [
    "- append just append the value with base data type\n",
    "- extend is concatenate the value, and the list will be overwrite with new values\n",
    "- extend can take any iterable format type i.e. string,list,tuple\n",
    "- extend and concatenation both are same\n",
    "- the list will not overwrite in concatenation"
   ]
  },
  {
   "cell_type": "markdown",
   "id": "40a945ad-44e5-40a8-9c65-0e3015dbfd7e",
   "metadata": {},
   "source": [
    "**index**"
   ]
  },
  {
   "cell_type": "markdown",
   "id": "098be837-f79a-4b96-9e27-04107c91dc33",
   "metadata": {},
   "source": [
    "- same like string only"
   ]
  },
  {
   "cell_type": "code",
   "execution_count": 18,
   "id": "916004a4-c7c0-4007-84b6-1db2240c8ed2",
   "metadata": {},
   "outputs": [
    {
     "data": {
      "text/plain": [
       "(3, 6)"
      ]
     },
     "execution_count": 18,
     "metadata": {},
     "output_type": "execute_result"
    }
   ],
   "source": [
    "l1=[1, 2, 3,'Apple', 10, 20, 'Apple', 40]\n",
    "l1.index(2)\n",
    "i1=l1.index('Apple')\n",
    "i2=l1.index('Apple',i1+1)\n",
    "i1,i2"
   ]
  },
  {
   "cell_type": "code",
   "execution_count": 19,
   "id": "53edd924-f1a1-4d82-8b52-9886659c4497",
   "metadata": {},
   "outputs": [
    {
     "data": {
      "text/plain": [
       "6"
      ]
     },
     "execution_count": 19,
     "metadata": {},
     "output_type": "execute_result"
    }
   ],
   "source": [
    "l1.index('Apple',l1.index('Apple')+1)"
   ]
  },
  {
   "cell_type": "code",
   "execution_count": 20,
   "id": "cede6ce3-caa8-478e-a781-420497096467",
   "metadata": {},
   "outputs": [
    {
     "name": "stdout",
     "output_type": "stream",
     "text": [
      "3\n"
     ]
    }
   ],
   "source": [
    "l1=[1, 2, 3,'Apple', 10, 20, 'Apple', 40]\n",
    "# 0 1 2 3 4 5 6 7\n",
    "i1=l1.index('Apple') # Case-1\n",
    "i2=l1.index('Apple',i1+1) # Case-2\n",
    "i3=l1.index('Apple',2,5) # Case-3\n",
    "print(i3)\n",
    "# If i want second 'Apple'\n",
    "# from which index my eyes will start"
   ]
  },
  {
   "cell_type": "markdown",
   "id": "143a500d-708f-43c6-a13f-909402a3c12c",
   "metadata": {},
   "source": [
    "- case-1: Directly get the index\n",
    "- case-2: Next value index, by providing start\n",
    "- case-3: Between the values"
   ]
  },
  {
   "cell_type": "markdown",
   "id": "381f9523-ffb5-4999-a73a-ea3c410f44af",
   "metadata": {},
   "source": [
    "- Copy/clear\n",
    "- Append/Extend/Concatenation\n",
    "- Index\n",
    "- There is no find in list\n",
    "- count is exactly same as strings"
   ]
  },
  {
   "cell_type": "markdown",
   "id": "3ce5c374-f642-41f6-b3c1-55ea639ab180",
   "metadata": {},
   "source": [
    "**insert**\n",
    "  \n",
    "- will insert the element based on index\n",
    "- append will add the element at last only"
   ]
  },
  {
   "cell_type": "code",
   "execution_count": 1,
   "id": "5266d38e-7139-41ab-99fc-d10eb44c2cc6",
   "metadata": {},
   "outputs": [
    {
     "data": {
      "text/plain": [
       "[1, 2, 3, 'Banana', 'Apple', 10, 20, 'Apple', 40]"
      ]
     },
     "execution_count": 1,
     "metadata": {},
     "output_type": "execute_result"
    }
   ],
   "source": [
    "l1=[1, 2, 3,'Apple', 10, 20, 'Apple', 40]\n",
    "#   0  1  2    3      4   5     6     7\n",
    "i1=l1.index('Apple') # Apple index = 3\n",
    "l1.insert(i1,'Banana') # insert banana before index i1(3)\n",
    "l1"
   ]
  },
  {
   "cell_type": "code",
   "execution_count": 2,
   "id": "ef67cf4d-69a3-4ed0-bd86-cd2b6d20f1f2",
   "metadata": {},
   "outputs": [
    {
     "data": {
      "text/plain": [
       "[1, 2, 3, 'Apple', 10, 20, 'Apple', 'Cherry', 40]"
      ]
     },
     "execution_count": 2,
     "metadata": {},
     "output_type": "execute_result"
    }
   ],
   "source": [
    "l1=[1, 2, 3,'Apple', 10, 20, 'Apple', 40]\n",
    "# Insert 'Cherry' before 40\n",
    "# You need to find index of the 40\n",
    "i1=l1.index(40)\n",
    "l1.insert(i1,'Cherry')\n",
    "l1"
   ]
  },
  {
   "cell_type": "code",
   "execution_count": 3,
   "id": "f9a8edec-45bb-465d-b2d1-059a635c9e33",
   "metadata": {},
   "outputs": [
    {
     "data": {
      "text/plain": [
       "[1, 2, 3, 'Apple', 10, 20, 'Cherry', 'Apple', 40]"
      ]
     },
     "execution_count": 3,
     "metadata": {},
     "output_type": "execute_result"
    }
   ],
   "source": [
    "#If we want to add cherry before 2nd apple then how ?\n",
    "l1=[1, 2, 3,'Apple', 10, 20, 'Apple', 40]\n",
    "# step-1: we want to find the index of 2nd 'APPLE'\n",
    "# Step-2: How to find the second 'Apple' index\n",
    "i1=l1.index('Apple')\n",
    "i2=l1.index('Apple',i1+1)\n",
    "l1.insert(6,'Cherry')\n",
    "l1"
   ]
  },
  {
   "cell_type": "markdown",
   "id": "e9e052e3-6487-4083-b1c6-f120afc50326",
   "metadata": {},
   "source": [
    "**pop-remove-del**\n",
    "    \n",
    "- pop will remove the item\n",
    "- pop also display the item which is removing\n",
    "- pop will take one argument:index\n",
    "- pop will remove the item based on index\n",
    "- if you dont provide any index, by default it will remove last value\n",
    "- because the default index value is -1"
   ]
  },
  {
   "cell_type": "code",
   "execution_count": 4,
   "id": "f5aa55eb-117e-42d2-8b5d-2119216b65d4",
   "metadata": {},
   "outputs": [
    {
     "data": {
      "text/plain": [
       "[1, 2, 3, 'Apple', 10, 20, 'Apple']"
      ]
     },
     "execution_count": 4,
     "metadata": {},
     "output_type": "execute_result"
    }
   ],
   "source": [
    "l1=[1, 2, 3,'Apple', 10, 20, 'Apple', 40]\n",
    "l1.pop()\n",
    "l1"
   ]
  },
  {
   "cell_type": "code",
   "execution_count": 5,
   "id": "802a77e8-aae8-427c-b51e-648ac4febf7c",
   "metadata": {},
   "outputs": [
    {
     "data": {
      "text/plain": [
       "[1, 2, 3, 10, 20, 'Apple', 40]"
      ]
     },
     "execution_count": 5,
     "metadata": {},
     "output_type": "execute_result"
    }
   ],
   "source": [
    "# We are concentarting only on first Apple\n",
    "l1=[1, 2, 3,'Apple', 10, 20, 'Apple', 40]\n",
    "i1=l1.index('Apple')\n",
    "l1.pop(i1)\n",
    "l1"
   ]
  },
  {
   "cell_type": "code",
   "execution_count": 6,
   "id": "c24ea162-6d21-471f-9097-4a5f566feb6c",
   "metadata": {},
   "outputs": [
    {
     "data": {
      "text/plain": [
       "[1, 2, 3, 'Apple', 10, 20, 40]"
      ]
     },
     "execution_count": 6,
     "metadata": {},
     "output_type": "execute_result"
    }
   ],
   "source": [
    "# We are concentarting only on Second apple\n",
    "l1=[1, 2, 3,'Apple', 10, 20, 'Apple', 40]\n",
    "i1=l1.index('Apple')\n",
    "i2=l1.index('Apple',i1+1)\n",
    "l1.pop(i2)\n",
    "l1"
   ]
  },
  {
   "cell_type": "code",
   "execution_count": 7,
   "id": "a282b154-b738-40ee-8c50-07c68e4629ad",
   "metadata": {},
   "outputs": [
    {
     "data": {
      "text/plain": [
       "[1, 2, 3, 10, 20, 40]"
      ]
     },
     "execution_count": 7,
     "metadata": {},
     "output_type": "execute_result"
    }
   ],
   "source": [
    "l1=[1, 2, 3,'Apple', 10, 20, 'Apple', 40]\n",
    "i1=l1.index('Apple') #3\n",
    "l1.pop(i1) # l1=[1, 2, 3,10, 20, 'Apple', 40]\n",
    "############################################################### \n",
    "i1=l1.index('Apple')\n",
    "l1.pop(i1)\n",
    "l1"
   ]
  },
  {
   "cell_type": "code",
   "execution_count": 17,
   "id": "a39efa25-acff-4b28-8ef3-248a26cedadb",
   "metadata": {},
   "outputs": [
    {
     "data": {
      "text/plain": [
       "'hai how are you im good thank you'"
      ]
     },
     "execution_count": 17,
     "metadata": {},
     "output_type": "execute_result"
    }
   ],
   "source": [
    "str='hai apple how are you apple im good apple thank you apple'\n",
    "# o/p='hai how are you im goof thank you'\n",
    "# Idea:\n",
    "# step-1: split\n",
    "# itearte it\n",
    "# pop it\n",
    "# join it\n",
    "list1=str.split()\n",
    "count=list1.count('apple')\n",
    "for i in range(count):\n",
    "    i1=list1.index('apple')\n",
    "    list1.pop(i1)\n",
    "' '.join(list1)"
   ]
  },
  {
   "cell_type": "markdown",
   "id": "f2f27238-e3f9-48a9-a7d7-9aa9cdf91120",
   "metadata": {},
   "source": [
    "- pop will take the index\n",
    "- remove will take the value\n",
    "- remove will delete the first occurence of element"
   ]
  },
  {
   "cell_type": "code",
   "execution_count": 18,
   "id": "0ee8286e-5920-4f92-9cd6-9b4626b1d0b1",
   "metadata": {},
   "outputs": [
    {
     "data": {
      "text/plain": [
       "[1, 2, 3, 10, 20, 'Apple', 40]"
      ]
     },
     "execution_count": 18,
     "metadata": {},
     "output_type": "execute_result"
    }
   ],
   "source": [
    "l1=[1, 2, 3,'Apple', 10, 20, 'Apple', 40]\n",
    "l1.remove('Apple')\n",
    "l1"
   ]
  },
  {
   "cell_type": "code",
   "execution_count": 19,
   "id": "2dfb987c-4815-4cb6-942f-61552beea27b",
   "metadata": {},
   "outputs": [
    {
     "data": {
      "text/plain": [
       "'hai how are you im good thank you'"
      ]
     },
     "execution_count": 19,
     "metadata": {},
     "output_type": "execute_result"
    }
   ],
   "source": [
    "str='hai apple how are you apple im good apple thank you apple'\n",
    "list1=str.split()\n",
    "count=list1.count('apple')\n",
    "for i in range(count):\n",
    "     list1.remove('apple')\n",
    "' '.join(list1)"
   ]
  },
  {
   "cell_type": "markdown",
   "id": "98e22748-f50b-4afa-94dc-f3a98e070735",
   "metadata": {},
   "source": [
    "**del**"
   ]
  },
  {
   "cell_type": "code",
   "execution_count": 21,
   "id": "18142039-a35e-420d-a53c-d8a3f70f5b3e",
   "metadata": {},
   "outputs": [
    {
     "data": {
      "text/plain": [
       "[1, 2, 3, 10, 20, 'Apple', 40]"
      ]
     },
     "execution_count": 21,
     "metadata": {},
     "output_type": "execute_result"
    }
   ],
   "source": [
    "l1=[1, 2, 3,'Apple', 10, 20, 'Apple', 40]\n",
    "del(l1[3])\n",
    "l1"
   ]
  },
  {
   "cell_type": "markdown",
   "id": "f78fb215-4044-44ee-81b9-e373b7e613ef",
   "metadata": {},
   "source": [
    "- append / extend/ insert/concatenation\n",
    "- pop/remove/del\n",
    "- sort/sorted\n",
    "- reverse/reveresd\n",
    "- count and index"
   ]
  },
  {
   "cell_type": "code",
   "execution_count": null,
   "id": "5b6762f6-c813-4642-a227-b7f7ad2b1093",
   "metadata": {},
   "outputs": [],
   "source": [
    "- representation\n",
    "- type\n",
    "- len\n",
    "- max\n",
    "- min\n",
    "- sum\n",
    "- sorted\n",
    "- reversed\n",
    "- in\n",
    "- for loop with in\n",
    "- index\n",
    "- for loop with index\n",
    "- mutable and immutable\n",
    "- slicing\n",
    "- concatenation\n",
    "- Methods"
   ]
  },
  {
   "cell_type": "code",
   "execution_count": 22,
   "id": "2be6d45d-364c-421d-83fd-2275ce6085e1",
   "metadata": {},
   "outputs": [
    {
     "data": {
      "text/plain": [
       "['__add__',\n",
       " '__class__',\n",
       " '__class_getitem__',\n",
       " '__contains__',\n",
       " '__delattr__',\n",
       " '__dir__',\n",
       " '__doc__',\n",
       " '__eq__',\n",
       " '__format__',\n",
       " '__ge__',\n",
       " '__getattribute__',\n",
       " '__getitem__',\n",
       " '__getnewargs__',\n",
       " '__getstate__',\n",
       " '__gt__',\n",
       " '__hash__',\n",
       " '__init__',\n",
       " '__init_subclass__',\n",
       " '__iter__',\n",
       " '__le__',\n",
       " '__len__',\n",
       " '__lt__',\n",
       " '__mul__',\n",
       " '__ne__',\n",
       " '__new__',\n",
       " '__reduce__',\n",
       " '__reduce_ex__',\n",
       " '__repr__',\n",
       " '__rmul__',\n",
       " '__setattr__',\n",
       " '__sizeof__',\n",
       " '__str__',\n",
       " '__subclasshook__',\n",
       " 'count',\n",
       " 'index']"
      ]
     },
     "execution_count": 22,
     "metadata": {},
     "output_type": "execute_result"
    }
   ],
   "source": [
    "dir(())"
   ]
  },
  {
   "cell_type": "code",
   "execution_count": null,
   "id": "9130b041-75a5-4404-a6a7-4e2e7abad5a6",
   "metadata": {},
   "outputs": [],
   "source": []
  },
  {
   "cell_type": "code",
   "execution_count": null,
   "id": "f22321d6-1d19-42d7-a7d3-77dff584a2c7",
   "metadata": {},
   "outputs": [],
   "source": []
  },
  {
   "cell_type": "code",
   "execution_count": null,
   "id": "a6b7f9c1-deaf-4a01-b0e3-99ef1a5e9100",
   "metadata": {},
   "outputs": [],
   "source": []
  },
  {
   "cell_type": "code",
   "execution_count": null,
   "id": "56f4eea3-ec60-4164-afce-54b158c711e5",
   "metadata": {},
   "outputs": [],
   "source": []
  },
  {
   "cell_type": "code",
   "execution_count": null,
   "id": "e28713b8-7d49-4e81-8d46-c68f6abb93d1",
   "metadata": {},
   "outputs": [],
   "source": []
  }
 ],
 "metadata": {
  "kernelspec": {
   "display_name": "Python 3 (ipykernel)",
   "language": "python",
   "name": "python3"
  },
  "language_info": {
   "codemirror_mode": {
    "name": "ipython",
    "version": 3
   },
   "file_extension": ".py",
   "mimetype": "text/x-python",
   "name": "python",
   "nbconvert_exporter": "python",
   "pygments_lexer": "ipython3",
   "version": "3.11.7"
  }
 },
 "nbformat": 4,
 "nbformat_minor": 5
}
