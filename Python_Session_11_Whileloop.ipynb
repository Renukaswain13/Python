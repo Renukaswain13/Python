{
 "cells": [
  {
   "cell_type": "markdown",
   "id": "0529ae19-28ad-4c13-b08e-a96c20cde490",
   "metadata": {},
   "source": [
    "**Loops**\n",
    "- For loop\n",
    "- while loop : If you want to run an infinite iterations will choose while loop\n",
    "- Every loop we need three things\n",
    "    - Intial point ( starting point)\n",
    "    - Increment or decrement\n",
    "    - Condition ( stop point)"
   ]
  },
  {
   "cell_type": "code",
   "execution_count": 1,
   "id": "247d12ef-9127-4c6d-826c-0b320a1c6ea2",
   "metadata": {},
   "outputs": [
    {
     "name": "stdout",
     "output_type": "stream",
     "text": [
      "1 3 5 7 9 "
     ]
    }
   ],
   "source": [
    "for i in range(1,10,2):\n",
    "    print(i,end=' ')   "
   ]
  },
  {
   "cell_type": "markdown",
   "id": "8c0444f3-be50-4f13-b425-e03856b36fa3",
   "metadata": {},
   "source": [
    "- In for loop all three things mentioned in a single line : range(start,stop,step)\n",
    "- In while loop we will use these three things, in as a three lines"
   ]
  },
  {
   "cell_type": "code",
   "execution_count": null,
   "id": "68ea7c8a-f842-4b87-9281-01ba20e9eea3",
   "metadata": {},
   "outputs": [],
   "source": [
    "<start point>\n",
    "while <how to stop>:\n",
    "codeline1\n",
    "codeline2\n",
    "<increment or decrement>"
   ]
  },
  {
   "cell_type": "code",
   "execution_count": null,
   "id": "01676397-5fa8-4b8e-89ed-d63349eb1376",
   "metadata": {},
   "outputs": [],
   "source": [
    "if <condition>:\n",
    "    ######"
   ]
  },
  {
   "cell_type": "code",
   "execution_count": 3,
   "id": "c72f01e4-707a-4d62-a934-6978cb0681be",
   "metadata": {},
   "outputs": [
    {
     "name": "stdout",
     "output_type": "stream",
     "text": [
      "1 hello\n",
      "2 hello\n",
      "3 hello\n",
      "4 hello\n",
      "5 hello\n",
      "6 hello\n",
      "7 hello\n",
      "8 hello\n",
      "9 hello\n"
     ]
    }
   ],
   "source": [
    "for i in range(1,10):\n",
    "    print(i,end=' ')\n",
    "    print('hello')"
   ]
  },
  {
   "cell_type": "code",
   "execution_count": null,
   "id": "685e6b65-00fa-4d64-85f5-9701da50d836",
   "metadata": {},
   "outputs": [],
   "source": [
    "# start point i=1\n",
    "# while <condition to stop>:\n",
    "#  i=i+1"
   ]
  },
  {
   "cell_type": "code",
   "execution_count": null,
   "id": "acba4b35-0c7e-4604-b1cc-00ddcb0968d7",
   "metadata": {},
   "outputs": [],
   "source": [
    "i=1\n",
    "while <condition to stop>:\n",
    "    print(i,end=' ')\n",
    "    i=i+1\n",
    "# Conditions i<11 1<11 True\n",
    "#            i<2 1<2 True\n",
    "#            i>10 1>10 False\n",
    "#            i<15"
   ]
  },
  {
   "cell_type": "code",
   "execution_count": null,
   "id": "f1ec7b23-2ed8-4890-beb0-b9f13af87357",
   "metadata": {},
   "outputs": [],
   "source": [
    "- range(1,10): start=1 last=10-1 =9 step= 1\n",
    "i=1\n",
    "while <condition>:\n",
    "print(i)\n",
    "i=i+1\n",
    "- correct entry and correct exit\n",
    "- True condition i<5 True"
   ]
  },
  {
   "cell_type": "code",
   "execution_count": 4,
   "id": "ec55b023-16bf-44f7-8299-70afb186f6aa",
   "metadata": {},
   "outputs": [
    {
     "name": "stdout",
     "output_type": "stream",
     "text": [
      "1 2 3 4 5 6 7 8 9 10 "
     ]
    }
   ],
   "source": [
    "i=1\n",
    "while i<11:\n",
    "    print(i,end=' ')\n",
    "    i=i+1\n",
    "# step-1: i=1 while 1<2 True print(1) i=1+1 i=2\n",
    "# step-2: i=2 while 2<2 False"
   ]
  },
  {
   "cell_type": "code",
   "execution_count": 5,
   "id": "6a7ecf59-d4b8-4985-bae3-82361530f6ee",
   "metadata": {},
   "outputs": [],
   "source": [
    "i=1\n",
    "while i==10:\n",
    "    print(i,end=' ')\n",
    "    i=i+1\n",
    "    \n",
    "# step-1: i=1 while 1==10 False"
   ]
  },
  {
   "cell_type": "code",
   "execution_count": null,
   "id": "f344f5bc-44ec-4a0a-a660-f4635ae3cbeb",
   "metadata": {},
   "outputs": [],
   "source": [
    "i=1\n",
    "while i<11:\n",
    "    print(i,end=' ')\n",
    "    i=i-1\n",
    "    \n",
    "# step-1: i=1 while 1<11 True print(1) i=1-1 i=0\n",
    "# step-2: i=0 while 0<11 True print(0) i=0-1 i= -1\n",
    "# step-3: i=-1 while -1<11 True print(-1) i=-1-1 i=-2\n",
    "# 1,0,-1,-2,............"
   ]
  },
  {
   "cell_type": "code",
   "execution_count": null,
   "id": "d247e673-9bf6-4b9a-8b6c-ddd6657a581d",
   "metadata": {},
   "outputs": [],
   "source": [
    "i=1\n",
    "while i<11:\n",
    "print(i,end=' ')\n",
    "i=i+1\n",
    "#####################################################################\n",
    "i=1\n",
    "while i==10:\n",
    "print(i,end=' ')\n",
    "i=i+1\n",
    "##################################################################\n",
    "i=1\n",
    "while i<11:\n",
    "print(i,end=' ')\n",
    "i=i-1"
   ]
  },
  {
   "cell_type": "code",
   "execution_count": 6,
   "id": "0fac6adf-6539-4d19-976b-76a789b3b907",
   "metadata": {},
   "outputs": [
    {
     "name": "stdout",
     "output_type": "stream",
     "text": [
      "1 0 -1 -2 -3 -4 -5 -6 -7 -8 -9 "
     ]
    }
   ],
   "source": [
    "i=1\n",
    "while i<11:\n",
    "    print(i,end=' ')\n",
    "    i=i-1\n",
    "    if i==-10:\n",
    "        break"
   ]
  },
  {
   "cell_type": "code",
   "execution_count": 8,
   "id": "2ac0efef-fe51-4f92-8aa4-4f7f82fec074",
   "metadata": {},
   "outputs": [
    {
     "name": "stdout",
     "output_type": "stream",
     "text": [
      "20 19 18 17 16 15 14 13 12 11 10 9 8 7 6 5 4 3 2 1 "
     ]
    }
   ],
   "source": [
    "#20 to 1\n",
    "# -20 to 0\n",
    "\n",
    "i=20\n",
    "while i>0:\n",
    "    print(i,end=' ')\n",
    "    i=i-1"
   ]
  },
  {
   "cell_type": "code",
   "execution_count": 9,
   "id": "eb4a307f-14d9-4458-b936-1726fc956687",
   "metadata": {},
   "outputs": [
    {
     "name": "stdout",
     "output_type": "stream",
     "text": [
      "-20 -19 -18 -17 -16 -15 -14 -13 -12 -11 -10 -9 -8 -7 -6 -5 -4 -3 -2 -1 0 "
     ]
    }
   ],
   "source": [
    "i=-20\n",
    "while i<1:\n",
    "    print(i,end=' ')\n",
    "    i=i+1"
   ]
  },
  {
   "cell_type": "markdown",
   "id": "8c473f9b-1c41-451d-a61f-a81e0a4dd4d3",
   "metadata": {},
   "source": [
    "**True**\n",
    "- if you dont know about valid condition to enter inside while loop\n",
    "- Then use True\n",
    "- True will give entry pass irrespective of the condition\n",
    "- But if you want to come out we need apply if condition and break inside the while\n",
    "  loop\n",
    "- If you dont apply the break inside, then it becomes infinite loop"
   ]
  },
  {
   "cell_type": "code",
   "execution_count": null,
   "id": "74268722-8a05-458f-9161-a960cf7d899b",
   "metadata": {},
   "outputs": [],
   "source": [
    "i=1\n",
    "while i<11:\n",
    "    print(i,end=' ')\n",
    "    i=i+1\n",
    "\n",
    "i=1\n",
    "while True:\n",
    "    print(i,end=' ')\n",
    "    i=i-1\n",
    "    if i==-10:\n",
    "        break\n",
    "\n",
    "i=20\n",
    "while i>0:\n",
    "    print(i,end=' ')\n",
    "    i=i-1\n",
    "    \n",
    "i=-20\n",
    "while i<1:\n",
    "    print(i,end=' ')\n",
    "    i=i+1"
   ]
  },
  {
   "cell_type": "code",
   "execution_count": 10,
   "id": "a7d470da-e497-4bf7-afc5-49d310e33fae",
   "metadata": {},
   "outputs": [
    {
     "name": "stdout",
     "output_type": "stream",
     "text": [
      "1 2 3 4 5 6 7 8 9 10 ========= second method===========\n",
      "1 2 3 4 5 6 7 8 9 10 "
     ]
    }
   ],
   "source": [
    "i=1\n",
    "while i<11:\n",
    "    print(i,end=' ')\n",
    "    i=i+1\n",
    "\n",
    "print('========= second method===========')\n",
    "i=1\n",
    "while True:\n",
    "    print(i,end=' ')\n",
    "    i=i+1\n",
    "    if i==11:\n",
    "        break"
   ]
  },
  {
   "cell_type": "code",
   "execution_count": null,
   "id": "6f5414c4-1133-42b3-826d-9e1dc127369b",
   "metadata": {},
   "outputs": [],
   "source": [
    "i=1\n",
    "while True:\n",
    "    print(i,end=' ')\n",
    "    i=i-1\n",
    "    if i==-10:\n",
    "        break"
   ]
  },
  {
   "cell_type": "code",
   "execution_count": 11,
   "id": "8bcf90ff-0871-4bfc-a308-4fcef8d73dee",
   "metadata": {},
   "outputs": [
    {
     "name": "stdout",
     "output_type": "stream",
     "text": [
      "20 19 18 17 16 15 14 13 12 11 10 9 8 7 6 5 4 3 2 1 =========== second\n",
      "20 19 18 17 16 15 14 13 12 11 10 9 8 7 6 5 4 3 2 1 "
     ]
    }
   ],
   "source": [
    "i=20\n",
    "while i>0:\n",
    "    print(i,end=' ')\n",
    "    i=i-1\n",
    "    \n",
    "print(\"=========== second\")\n",
    "i=20\n",
    "while True:\n",
    "    print(i,end=' ')\n",
    "    i=i-1\n",
    "    if i==0:\n",
    "        break"
   ]
  },
  {
   "cell_type": "code",
   "execution_count": 12,
   "id": "fc289044-db95-4f21-a3cf-e4f8d4d8b947",
   "metadata": {},
   "outputs": [
    {
     "name": "stdout",
     "output_type": "stream",
     "text": [
      "-20 -19 -18 -17 -16 -15 -14 -13 -12 -11 -10 -9 -8 -7 -6 -5 -4 -3 -2 -1 0 =========== second\n",
      "-20 -19 -18 -17 -16 -15 -14 -13 -12 -11 -10 -9 -8 -7 -6 -5 -4 -3 -2 -1 0 "
     ]
    }
   ],
   "source": [
    "i=-20\n",
    "while i<1:\n",
    "    print(i,end=' ')\n",
    "    i=i+1\n",
    "print(\"=========== second\")\n",
    "i=-20\n",
    "while True:\n",
    "    print(i,end=' ')\n",
    "    i=i+1\n",
    "    if i==1:\n",
    "        break"
   ]
  },
  {
   "cell_type": "code",
   "execution_count": 13,
   "id": "dd7170d0-93ae-43e9-9477-fb14246f59da",
   "metadata": {},
   "outputs": [
    {
     "name": "stdout",
     "output_type": "stream",
     "text": [
      "-20 -19 -18 -17 -16 -15 -14 -13 -12 -11 -10 -9 -8 -7 -6 -5 -4 -3 -2 -1 0 =========== second\n",
      "-19 -18 -17 -16 -15 -14 -13 -12 -11 -10 -9 -8 -7 -6 -5 -4 -3 -2 -1 0 1 "
     ]
    }
   ],
   "source": [
    "i=-20\n",
    "while i<1:\n",
    "    print(i,end=' ')\n",
    "    i=i+1\n",
    "    \n",
    "print(\"=========== second\")\n",
    "\n",
    "i=-20\n",
    "while i<1:\n",
    "    i=i+1\n",
    "    print(i,end=' ')"
   ]
  },
  {
   "cell_type": "code",
   "execution_count": 19,
   "id": "ca5e9789-1054-47d2-8f43-123b65449d7a",
   "metadata": {},
   "outputs": [
    {
     "name": "stdout",
     "output_type": "stream",
     "text": [
      "38 is even\n",
      "38 is even\n",
      "38 is even\n"
     ]
    }
   ],
   "source": [
    "import random\n",
    "num=random.randint(1,100)\n",
    "for i in range(3):\n",
    "    if num%2==0:\n",
    "        print(f'{num} is even')\n",
    "    else:\n",
    "        print(f'{num} is odd')\n",
    "        \n",
    "# step-1: Importing\n",
    "# step-2: num= random number : 25\n",
    "# step-3: loop 3 times\n",
    "# step-4: 25%2==0"
   ]
  },
  {
   "cell_type": "code",
   "execution_count": 20,
   "id": "d74f0df0-03e6-4cfb-95f2-9a4b13f7ac60",
   "metadata": {},
   "outputs": [
    {
     "name": "stdout",
     "output_type": "stream",
     "text": [
      "25 is odd\n",
      "8 is even\n",
      "91 is odd\n"
     ]
    }
   ],
   "source": [
    "import random\n",
    "for i in range(3):\n",
    "    num=random.randint(1,100)\n",
    "    if num%2==0:\n",
    "        print(f'{num} is even')\n",
    "    else:\n",
    "        print(f'{num} is odd')"
   ]
  }
 ],
 "metadata": {
  "kernelspec": {
   "display_name": "Python 3 (ipykernel)",
   "language": "python",
   "name": "python3"
  },
  "language_info": {
   "codemirror_mode": {
    "name": "ipython",
    "version": 3
   },
   "file_extension": ".py",
   "mimetype": "text/x-python",
   "name": "python",
   "nbconvert_exporter": "python",
   "pygments_lexer": "ipython3",
   "version": "3.11.7"
  }
 },
 "nbformat": 4,
 "nbformat_minor": 5
}
