{
 "cells": [
  {
   "cell_type": "markdown",
   "id": "4e9aa290-2fda-406a-afc2-bb14a996218e",
   "metadata": {},
   "source": [
    "**LOOPS**\n",
    "\n",
    "- iterate a piece of code untill the condition satisfy\n",
    "- we can run a code normally\n",
    "- we can run a code using function wrapper(functions)\n",
    "- we can run a code multiple times(loops)\n",
    "- we can run a code by using condition(conditions)"
   ]
  },
  {
   "cell_type": "code",
   "execution_count": 1,
   "id": "c9f9401c-ead2-4c49-8448-0f87d5f9d946",
   "metadata": {},
   "outputs": [
    {
     "name": "stdout",
     "output_type": "stream",
     "text": [
      "30\n"
     ]
    }
   ],
   "source": [
    "if True:\n",
    "    a=10\n",
    "    b=20\n",
    "    c=a+b\n",
    "    print(c)"
   ]
  },
  {
   "cell_type": "code",
   "execution_count": 3,
   "id": "1e632ba5-1d50-4c83-a86c-529273aeac77",
   "metadata": {},
   "outputs": [
    {
     "name": "stdout",
     "output_type": "stream",
     "text": [
      "30\n"
     ]
    }
   ],
   "source": [
    "def add():\n",
    "    a=10\n",
    "    b=20\n",
    "    c=a+b\n",
    "    print(c)\n",
    "\n",
    "add()"
   ]
  },
  {
   "cell_type": "code",
   "execution_count": null,
   "id": "2daec77a-39f1-4b65-8dbb-ce6aa00f7319",
   "metadata": {},
   "outputs": [],
   "source": [
    "salary=eval(input(\"enter the salary:\"))\n",
    "tax_per=eval(input(\"enter the tax percentage:\"))\n",
    "tax_amount=salary*tax_per/100\n",
    "print(tax_amount)\n",
    "\n",
    "salary=eval(input(\"enter the salary:\"))\n",
    "tax_per=eval(input(\"enter the tax percentage:\"))\n",
    "tax_amount=salary*tax_per/100\n",
    "print(tax_amount)\n",
    "\n",
    "salary=eval(input(\"enter the salary:\"))\n",
    "tax_per=eval(input(\"enter the tax percentage:\"))\n",
    "tax_amount=salary*tax_per/100\n",
    "print(tax_amount)\n",
    "\n",
    "-------------------------------------------------------------------\n",
    "\n",
    "# instead of writting this"
   ]
  },
  {
   "cell_type": "code",
   "execution_count": null,
   "id": "e6e3a5c3-e013-4719-938c-42d89ee4351a",
   "metadata": {},
   "outputs": [],
   "source": [
    "def tax():\n",
    "    salary=eval(input(\"enter the salary:\"))\n",
    "    tax_per=eval(input(\"enter the tax percentage:\"))\n",
    "    tax_amount=salary*tax_per/100\n",
    "    \n",
    "\n",
    "tax()"
   ]
  },
  {
   "cell_type": "markdown",
   "id": "d63c8cdd-737a-41eb-8ff1-e0c58d82b432",
   "metadata": {},
   "source": [
    "**Types of Loops**\n",
    "\n",
    "- for loop\n",
    "- while Loop\n",
    "- any loop\n",
    "     - Initial point to start the loop\n",
    "     - increment or decrement\n",
    "     - condition to stop the loop"
   ]
  },
  {
   "cell_type": "markdown",
   "id": "bf2baf44-47c1-499c-b184-7c1e33dc415e",
   "metadata": {},
   "source": [
    "## FOR loop"
   ]
  },
  {
   "cell_type": "markdown",
   "id": "769bb393-e2d1-417d-972e-d02917bdb6f9",
   "metadata": {},
   "source": [
    "$Pattern-1$"
   ]
  },
  {
   "cell_type": "markdown",
   "id": "237d05f2-c4c0-48ba-9c94-96ea6230f99d",
   "metadata": {},
   "source": [
    "**range(stop)**"
   ]
  },
  {
   "cell_type": "code",
   "execution_count": null,
   "id": "91586c10-1c67-4110-b4ea-d98747d97774",
   "metadata": {},
   "outputs": [],
   "source": [
    "# Syntax\n",
    "for i in range(<value>):\n",
    "    # start write your code"
   ]
  },
  {
   "cell_type": "markdown",
   "id": "edd45f1e-7bc7-4872-be96-d8bfec5735bc",
   "metadata": {},
   "source": [
    "- when ever you see the word range it belongs to math family\n",
    "- inside range we need to provide one value ex:range(3)\n",
    "- if you provide only one value that \n",
    "                      - start value = 0\n",
    "                      - increment= +1\n",
    "                      - last= stop-1\n",
    "- range(3)\n",
    "        - start value = 0\n",
    "        - increment= +1\n",
    "        - last= 3-1\n",
    "        - answer are:0 1 2\n",
    "\n",
    "**NOTE**: In python the index always stat with zero"
   ]
  },
  {
   "cell_type": "code",
   "execution_count": 7,
   "id": "9fff72e2-a04e-47dd-9620-363b185c1d88",
   "metadata": {},
   "outputs": [
    {
     "name": "stdout",
     "output_type": "stream",
     "text": [
      "1\n",
      "1\n",
      "1\n"
     ]
    }
   ],
   "source": [
    "for i in range(3):\n",
    "    print(1)"
   ]
  },
  {
   "cell_type": "code",
   "execution_count": 9,
   "id": "271dd098-8ede-4b97-87d6-ad7a0ced7b51",
   "metadata": {},
   "outputs": [
    {
     "name": "stdout",
     "output_type": "stream",
     "text": [
      "0\n",
      "1\n",
      "2\n",
      "3\n",
      "4\n"
     ]
    }
   ],
   "source": [
    "print(0)\n",
    "print(1)\n",
    "print(2)\n",
    "print(3)\n",
    "print(4)"
   ]
  },
  {
   "cell_type": "code",
   "execution_count": 24,
   "id": "bd1fd7f9-f506-4bc4-bfe3-82dc276f39e1",
   "metadata": {},
   "outputs": [
    {
     "name": "stdout",
     "output_type": "stream",
     "text": [
      "0\n",
      "1\n",
      "2\n",
      "3\n",
      "4\n",
      "9\n"
     ]
    }
   ],
   "source": [
    "print(0)\n",
    "print(1)\n",
    "print(2)\n",
    "print(3)\n",
    "print(4)\n",
    "\n",
    "print(i)"
   ]
  },
  {
   "cell_type": "code",
   "execution_count": 11,
   "id": "3f27b30a-6ace-4ba9-8b06-677e49a31fca",
   "metadata": {},
   "outputs": [
    {
     "name": "stdout",
     "output_type": "stream",
     "text": [
      "hello\n",
      "hello\n",
      "hello\n",
      "hello\n",
      "hello\n"
     ]
    }
   ],
   "source": [
    "# I want to print hello 5 times\n",
    "for i in range(5):\n",
    "    print(\"hello\")"
   ]
  },
  {
   "cell_type": "code",
   "execution_count": 20,
   "id": "71d8911d-6d0a-4191-abe6-2d735aa55df6",
   "metadata": {},
   "outputs": [
    {
     "name": "stdout",
     "output_type": "stream",
     "text": [
      "58 is even number\n",
      "71 is odd number\n",
      "90 is even number\n"
     ]
    }
   ],
   "source": [
    "# for example\n",
    "# take a random number between 1 to 100\n",
    "# print it is a even number and odd number\n",
    "# you need to generate 3 random number\n",
    "\n",
    "import random\n",
    "for i in range(3):   \n",
    "    num=random.randint(1,100)\n",
    "    if (num%2==0):\n",
    "        print(f\"{num} is even number\")\n",
    "    else:\n",
    "        print(f\"{num} is odd number\")\n"
   ]
  },
  {
   "cell_type": "code",
   "execution_count": 23,
   "id": "5c86ef4b-9f6e-47e4-9b53-85bc6ef9f745",
   "metadata": {},
   "outputs": [
    {
     "name": "stdout",
     "output_type": "stream",
     "text": [
      "0 1 2 3 4 9 "
     ]
    }
   ],
   "source": [
    "print(0,end=' ')\n",
    "print(1,end=' ')\n",
    "print(2,end=' ')\n",
    "print(3,end=' ')\n",
    "print(4,end=' ')\n",
    "\n",
    "\n",
    "print(i,end=' ')"
   ]
  },
  {
   "cell_type": "code",
   "execution_count": 22,
   "id": "4ef75a97-c0f7-41dd-9135-0e7ec619adb5",
   "metadata": {},
   "outputs": [
    {
     "name": "stdout",
     "output_type": "stream",
     "text": [
      "0 1 2 3 4 5 6 7 8 9 "
     ]
    }
   ],
   "source": [
    "for i in range(10):\n",
    "    print(i,end=' ')"
   ]
  },
  {
   "cell_type": "markdown",
   "id": "bfe5d9bd-daf5-424e-848e-a4f286c8549c",
   "metadata": {},
   "source": [
    "$Pattern-2$"
   ]
  },
  {
   "cell_type": "markdown",
   "id": "3d3052bb-6cdd-4f8b-a278-5771c7427d81",
   "metadata": {},
   "source": [
    "**range(start,stop)**\n",
    "\n",
    "- range(10,20)\n",
    "    - start value=10\n",
    "    - increment=1\n",
    "    - last=stop-1=20-1=19\n",
    "    - ans=10 11 12 13 14 15 16 17 18 19"
   ]
  },
  {
   "cell_type": "code",
   "execution_count": 26,
   "id": "65e78d11-2cf9-4007-b697-564d10a3ee1d",
   "metadata": {},
   "outputs": [
    {
     "name": "stdout",
     "output_type": "stream",
     "text": [
      "400 441 484 529 576 "
     ]
    }
   ],
   "source": [
    "# wap ask the user print square of the numbers between 20 to 25\n",
    "\n",
    "for i in range(20,25):\n",
    "    print(i*i,end=' ')"
   ]
  },
  {
   "cell_type": "code",
   "execution_count": 36,
   "id": "a4a7ebc6-b091-4158-bdec-9d5c873aa2f6",
   "metadata": {},
   "outputs": [
    {
     "name": "stdout",
     "output_type": "stream",
     "text": [
      " the square of 20 is 400\n",
      " the square of 21 is 441\n",
      " the square of 22 is 484\n",
      " the square of 23 is 529\n",
      " the square of 24 is 576\n"
     ]
    }
   ],
   "source": [
    "for i in range(20,25):\n",
    "    print(f\" the square of {i} is {i*i}\" )"
   ]
  },
  {
   "cell_type": "code",
   "execution_count": 31,
   "id": "63c10a70-cdf2-44ac-bd11-9e689a63a28b",
   "metadata": {},
   "outputs": [
    {
     "name": "stdout",
     "output_type": "stream",
     "text": [
      "10 is even number\n",
      "11 is odd number\n",
      "12 is even number\n",
      "13 is odd number\n",
      "14 is even number\n",
      "15 is odd number\n",
      "16 is even number\n",
      "17 is odd number\n",
      "18 is even number\n",
      "19 is odd number\n"
     ]
    }
   ],
   "source": [
    "# wap ask the user print the number is even or odd between 10 to 20\n",
    "\n",
    "for i in range(10,20):\n",
    "    if (i%2==0):\n",
    "        print(f\"{i} is even number\")\n",
    "    else:\n",
    "        print(f\"{i} is odd number\")\n",
    "\n"
   ]
  },
  {
   "cell_type": "markdown",
   "id": "a774f6cb-4da6-43ea-b3d1-a7e42381aabb",
   "metadata": {},
   "source": [
    "$Pattern-3$\n",
    "\n",
    "**range(start,stop,step)**\n",
    "\n",
    "- start value= start value\n",
    "- step value \n",
    "    - Positive step value\n",
    "        - if step vlaue is positive: increment\n",
    "        - last = stop-1\n",
    "    - Negative step value\n",
    "        - if step vlaue is negative: decrement\n",
    "        - last = stop+1\n"
   ]
  },
  {
   "cell_type": "code",
   "execution_count": 32,
   "id": "5b4c03f3-bad1-4ccb-9d73-23f50b5c6c4e",
   "metadata": {},
   "outputs": [
    {
     "name": "stdout",
     "output_type": "stream",
     "text": [
      "2 4 6 8 10 12 14 16 18 "
     ]
    }
   ],
   "source": [
    "# Case-1:\n",
    "for i in range(2,20,2):\n",
    "    print(i,end=' ')\n",
    "\n",
    "# start=2\n",
    "# step=+ve 2\n",
    "# last= stop-1= 20-1= 19\n",
    "# 2 4 6 8 10 12 14 16 18"
   ]
  },
  {
   "cell_type": "code",
   "execution_count": 35,
   "id": "e3e99098-4c21-4acd-bf01-0c699ab5df45",
   "metadata": {},
   "outputs": [
    {
     "name": "stdout",
     "output_type": "stream",
     "text": [
      "10 13 16 19 "
     ]
    }
   ],
   "source": [
    "for i in range(10,20,3):\n",
    "    print(i,end=' ')"
   ]
  },
  {
   "cell_type": "code",
   "execution_count": 40,
   "id": "ab10e8c7-1551-49a9-a71e-edbe7dbdce7d",
   "metadata": {},
   "outputs": [],
   "source": [
    "# Case-2:\n",
    "for i in range(2,20,-2):\n",
    "    print(i,end=' ')\n",
    "\n",
    "# start=2\n",
    "# step=-ve 2\n",
    "# last= stop+1= 20+1= 21\n",
    "# not possible - no error no answer"
   ]
  },
  {
   "cell_type": "code",
   "execution_count": 45,
   "id": "78ff9845-321d-4765-ab9f-015c6babd3b5",
   "metadata": {},
   "outputs": [
    {
     "name": "stdout",
     "output_type": "stream",
     "text": [
      "20 18 16 14 12 10 8 6 4 "
     ]
    }
   ],
   "source": [
    "# Case-3:\n",
    "for i in range(20,2,-2):\n",
    "    print(i,end=' ')\n",
    "\n",
    "# start=20\n",
    "# step=-2\n",
    "# last= stop+1= 2+1= 3\n",
    "# 20 18 16 14 12 10 8 6 4 "
   ]
  },
  {
   "cell_type": "code",
   "execution_count": 44,
   "id": "91f07064-6407-4766-94a0-aecb14e763ac",
   "metadata": {},
   "outputs": [],
   "source": [
    "# Case-3:\n",
    "for i in range(-20,2,-2):\n",
    "    print(i,end=' ')\n",
    "\n",
    "# start=-20\n",
    "# step=-2\n",
    "# last= stop+1= 2+1= 3\n",
    "# not possible - no error no answer"
   ]
  },
  {
   "cell_type": "code",
   "execution_count": null,
   "id": "5e02209a-0dbb-4afe-8da9-dfeb3d9093c7",
   "metadata": {},
   "outputs": [],
   "source": [
    "range(3,20,2) # P\n",
    "range(3,20,-2) # NP\n",
    "range(3,-20,2) # NP\n",
    "range(3,-20,-2) # P\n",
    "range(-3,20,2) # P\n",
    "range(-3,-20,2) # NP\n",
    "range(-3,20,-2) # NP\n",
    "range(-3,-20,-2) # P\n",
    "range(20,3,2) # NP\n",
    "range(20,3,-2) # P\n",
    "range(20,-3,-2) # P\n",
    "range(-20,-3,-2) # NP"
   ]
  },
  {
   "cell_type": "code",
   "execution_count": 2,
   "id": "208aa597-6da7-44e1-92fc-7ae6123027c6",
   "metadata": {},
   "outputs": [
    {
     "name": "stdout",
     "output_type": "stream",
     "text": [
      "20 18 16 14 12 10 8 6 4 2 0 -2 "
     ]
    }
   ],
   "source": [
    "for i in range(20,-3,-2):\n",
    "    print(i,end=' ')"
   ]
  },
  {
   "cell_type": "code",
   "execution_count": 25,
   "id": "d555c450-1b85-436a-a24e-ba53d6a34dd7",
   "metadata": {},
   "outputs": [
    {
     "name": "stdout",
     "output_type": "stream",
     "text": [
      "45\n"
     ]
    }
   ],
   "source": [
    "s=0\n",
    "for i in range(10):\n",
    "    s=s+i\n",
    "    \n",
    "print(s)"
   ]
  },
  {
   "cell_type": "code",
   "execution_count": 26,
   "id": "a50985d1-03c7-41f5-bfb7-776443ea623c",
   "metadata": {},
   "outputs": [],
   "source": [
    "l=[]\n",
    "for i in range(10):\n",
    "    l.append(i)"
   ]
  },
  {
   "cell_type": "code",
   "execution_count": 27,
   "id": "3c6c9239-c3dc-45e5-8ff5-322ba867e6f9",
   "metadata": {},
   "outputs": [
    {
     "data": {
      "text/plain": [
       "45"
      ]
     },
     "execution_count": 27,
     "metadata": {},
     "output_type": "execute_result"
    }
   ],
   "source": [
    "sum(l)"
   ]
  },
  {
   "cell_type": "code",
   "execution_count": 2,
   "id": "2fc57c60-6c20-4322-ab34-848490a63b6f",
   "metadata": {},
   "outputs": [
    {
     "name": "stdout",
     "output_type": "stream",
     "text": [
      "11 is odd\n",
      "22 is even\n",
      "38 is even\n"
     ]
    }
   ],
   "source": [
    "#1Q) For example\n",
    "# take a random number between 1 to 100\n",
    "# print it is a even number and odd number\n",
    "# you need to generate 3 random number\n",
    "import random\n",
    "for i in range(3):\n",
    "    num=random.randint(1,100)\n",
    "    if num%2==0:\n",
    "        print(f\"{num} is even\")\n",
    "    else:\n",
    "        print(f\"{num} is odd\")"
   ]
  },
  {
   "cell_type": "code",
   "execution_count": 3,
   "id": "c74ba10a-5bdd-4a68-9797-3b3571c7bd42",
   "metadata": {},
   "outputs": [
    {
     "name": "stdout",
     "output_type": "stream",
     "text": [
      "10 is even\n",
      "11 is odd\n",
      "12 is even\n",
      "13 is odd\n",
      "14 is even\n",
      "15 is odd\n",
      "16 is even\n",
      "17 is odd\n",
      "18 is even\n",
      "19 is odd\n"
     ]
    }
   ],
   "source": [
    "#2Q) wap ask the user print the number is even or odd between 10 to 20\n",
    "for i in range(10,20):\n",
    "    if i%2==0:\n",
    "        print(f\"{i} is even\")\n",
    "    else:\n",
    "        print(f\"{i} is odd\")"
   ]
  },
  {
   "cell_type": "code",
   "execution_count": 4,
   "id": "81f333ea-2cae-48b7-9624-133c2f4a71e4",
   "metadata": {},
   "outputs": [
    {
     "name": "stdout",
     "output_type": "stream",
     "text": [
      "the square of 20 is 400\n",
      "the square of 21 is 441\n",
      "the square of 22 is 484\n",
      "the square of 23 is 529\n",
      "the square of 24 is 576\n"
     ]
    }
   ],
   "source": [
    "#3Q) wap ask the user print the square of the number between\n",
    "# 20 to 25\n",
    "for i in range(20,25):\n",
    "    print(f\"the square of {i} is {i*i}\")\n",
    "# wap ask the user print the number is even or odd between 10 to 20"
   ]
  },
  {
   "cell_type": "code",
   "execution_count": 22,
   "id": "91a8f3d1-8fdb-4da6-81dd-1e0116bfc9db",
   "metadata": {},
   "outputs": [
    {
     "name": "stdin",
     "output_type": "stream",
     "text": [
      "enter the number 10\n"
     ]
    },
    {
     "name": "stdout",
     "output_type": "stream",
     "text": [
      "The square of 10 is 100\n"
     ]
    },
    {
     "name": "stdin",
     "output_type": "stream",
     "text": [
      "enter the number 3\n"
     ]
    },
    {
     "name": "stdout",
     "output_type": "stream",
     "text": [
      "The square of 3 is 9\n"
     ]
    },
    {
     "name": "stdin",
     "output_type": "stream",
     "text": [
      "enter the number 13\n"
     ]
    },
    {
     "name": "stdout",
     "output_type": "stream",
     "text": [
      "The square of 13 is 169\n"
     ]
    }
   ],
   "source": [
    "#4Q) WAP ask the user enter number three times find the square of the number\n",
    "# How many times loop should run\n",
    "for i in range(3):\n",
    "    num=eval(input(\"enter the number\"))\n",
    "    print(f\"The square of {num} is {num*num}\")"
   ]
  },
  {
   "cell_type": "code",
   "execution_count": 7,
   "id": "87e6e2db-3fa5-496d-ae27-1aa19ab9ce56",
   "metadata": {},
   "outputs": [
    {
     "name": "stdin",
     "output_type": "stream",
     "text": [
      "enter the table which you want to see: 13\n"
     ]
    },
    {
     "name": "stdout",
     "output_type": "stream",
     "text": [
      "13 x 1 = 13\n",
      "13 x 2 = 26\n",
      "13 x 3 = 39\n",
      "13 x 4 = 52\n",
      "13 x 5 = 65\n",
      "13 x 6 = 78\n",
      "13 x 7 = 91\n",
      "13 x 8 = 104\n",
      "13 x 9 = 117\n",
      "13 x 10 = 130\n"
     ]
    }
   ],
   "source": [
    "#5Q) Print the 14th table\n",
    "# ans: 14 x 1 = 14\n",
    "# 14 x 2 = 28\n",
    "# 14 x 3 = 42\n",
    "#\n",
    "#\n",
    "# 14 x10 = 140\n",
    "# How many times 10\n",
    "num=eval(input(\"enter the table which you want to see:\"))\n",
    "for i in range(1,11):\n",
    "    val=i*num\n",
    "    print(f\"{num} x {i} = {val}\")"
   ]
  },
  {
   "cell_type": "code",
   "execution_count": 2,
   "id": "76d45e49-9416-488d-8a46-3cf0dd3e3fd6",
   "metadata": {},
   "outputs": [
    {
     "name": "stdin",
     "output_type": "stream",
     "text": [
      "which number factors you want: 75\n"
     ]
    },
    {
     "name": "stdout",
     "output_type": "stream",
     "text": [
      "1 is the divisor of 75\n",
      "3 is the divisor of 75\n",
      "5 is the divisor of 75\n",
      "15 is the divisor of 75\n",
      "25 is the divisor of 75\n",
      "75 is the divisor of 75\n"
     ]
    }
   ],
   "source": [
    "#6 Q) Find the factors of 75\n",
    "# step-1: Iterate the loop = which numbers factor you want\n",
    "# step-2: Apply the if condition\n",
    "# cond= divide the number with each i\n",
    "\n",
    "num=eval(input(\"which number factors you want:\"))\n",
    "for i in range(1,num+1):\n",
    "    if num%i==0:\n",
    "        print(f\"{i} is the divisor of {num}\")"
   ]
  },
  {
   "cell_type": "code",
   "execution_count": null,
   "id": "b6c15cb1-f4d7-435b-901a-69b5cf4feefc",
   "metadata": {},
   "outputs": [],
   "source": [
    "#7Q) Write the sum of first 10 Natural numbers\n",
    "# 1 to 10\n",
    "# 1+2+3+4+5+6+7+8+9+10=55\n",
    "1 to 10\n",
    "0+1=1\n",
    "1+2=3\n",
    "3+3=6\n",
    "6+4=10\n",
    "10+5=15\n",
    "15+6=21\n",
    "21+7=28\n",
    "28+8=36\n",
    "36+9=45\n",
    "45+10=50\n",
    "sum=0\n",
    "sum=sum+i"
   ]
  },
  {
   "cell_type": "markdown",
   "id": "7aca78fb-46c1-44db-ba0b-aeabb7fb0198",
   "metadata": {},
   "source": [
    "**Summation wrapper**\n",
    "  \n",
    "- intially we need to keep summ=0\n",
    "- make sure that do not provide sum \n",
    "- Because sum is a keyword\n",
    "- inside for loop : summ=summ+i"
   ]
  },
  {
   "cell_type": "code",
   "execution_count": 18,
   "id": "ba128501-5199-4e28-8003-5f50b1cf7b4e",
   "metadata": {},
   "outputs": [
    {
     "name": "stdout",
     "output_type": "stream",
     "text": [
      "0+1=1\n",
      "1+2=3\n",
      "3+3=6\n",
      "6+4=10\n",
      "10+5=15\n",
      "15+6=21\n",
      "21+7=28\n",
      "28+8=36\n",
      "36+9=45\n",
      "45+10=55\n"
     ]
    }
   ],
   "source": [
    "#summ=0\n",
    "#for loop:\n",
    "\n",
    "   #summ=summ+i\n",
    "summ=0\n",
    "for i in range(1,11):\n",
    "    summ=summ+i\n",
    "    print(f\"{summ-i}+{i}={summ}\")"
   ]
  },
  {
   "cell_type": "code",
   "execution_count": 17,
   "id": "5cb2d4fd-608b-42b6-99aa-13b12fd70a43",
   "metadata": {},
   "outputs": [
    {
     "name": "stdout",
     "output_type": "stream",
     "text": [
      "0+1=1\n",
      "1+2=3\n",
      "3+3=6\n",
      "6+4=10\n",
      "10+5=15\n",
      "15+6=21\n",
      "21+7=28\n",
      "28+8=36\n",
      "36+9=45\n",
      "45+10=55\n"
     ]
    }
   ],
   "source": [
    "summ=0\n",
    "for i in range(1,11):\n",
    "    val=summ\n",
    "    summ=summ+i\n",
    "    print(f\"{val}+{i}={summ}\")"
   ]
  },
  {
   "cell_type": "code",
   "execution_count": 16,
   "id": "e81c5208-ac70-428f-b927-bd53e723628d",
   "metadata": {},
   "outputs": [
    {
     "name": "stdout",
     "output_type": "stream",
     "text": [
      "55\n"
     ]
    }
   ],
   "source": [
    "summ=0\n",
    "for i in range(1,11):\n",
    "    summ=summ+i\n",
    "print(summ)"
   ]
  },
  {
   "cell_type": "markdown",
   "id": "02613061-8f6b-43be-8fdd-4abe6200bb3e",
   "metadata": {},
   "source": [
    "**Note**\n",
    "  \n",
    "- If we print answer from out of for loop, last answer will print"
   ]
  },
  {
   "cell_type": "code",
   "execution_count": 14,
   "id": "d7864b27-2ed6-403b-bc3c-7e82d8133941",
   "metadata": {},
   "outputs": [
    {
     "name": "stdout",
     "output_type": "stream",
     "text": [
      "0\n",
      "1\n",
      "2\n"
     ]
    },
    {
     "data": {
      "text/plain": [
       "2"
      ]
     },
     "execution_count": 14,
     "metadata": {},
     "output_type": "execute_result"
    }
   ],
   "source": [
    "for i in range(3):\n",
    "    print(i)\n",
    "    \n",
    "i"
   ]
  },
  {
   "cell_type": "code",
   "execution_count": 13,
   "id": "e2022de2-ee39-4bc4-b149-d6ba343f5358",
   "metadata": {},
   "outputs": [
    {
     "name": "stdin",
     "output_type": "stream",
     "text": [
      "Enter the number: 3\n"
     ]
    },
    {
     "name": "stdout",
     "output_type": "stream",
     "text": [
      "2.0\n"
     ]
    }
   ],
   "source": [
    "# 8Q) Average first 1 to 10 numbers\n",
    "# avg= summation of all the numbers/total number\n",
    "#Wap to find the average of ' N ' numbers in Python.\n",
    "summ=0\n",
    "N=eval(input('Enter the number:'))\n",
    "for i in range(1,N+1):\n",
    "    summ=summ+i\n",
    "print(summ/N)"
   ]
  },
  {
   "cell_type": "markdown",
   "id": "21d18a5d-bb65-47e1-a952-4d39036acfb5",
   "metadata": {},
   "source": [
    "**Counter wrapper**\n",
    "  \n",
    "- Before for loop intilaise with count=0\n",
    "- Under for loop count=count+1\n",
    "- Counter always increase by 1 only"
   ]
  },
  {
   "cell_type": "code",
   "execution_count": 1,
   "id": "1381001a-41af-47c3-8d08-10870ecf93d6",
   "metadata": {},
   "outputs": [
    {
     "name": "stdin",
     "output_type": "stream",
     "text": [
      "which number factors you want: 75\n"
     ]
    },
    {
     "name": "stdout",
     "output_type": "stream",
     "text": [
      "The number of divisiors for 75 is 6\n"
     ]
    }
   ],
   "source": [
    "#9Q) Find the number of divisors of 75\n",
    "# ans: 1,3,5,15,25,75\n",
    "# Number =6\n",
    "count=0\n",
    "num=eval(input(\"which number factors you want:\"))\n",
    "for i in range(1,num+1):\n",
    "    if num%i==0:\n",
    "        count=count+1\n",
    "        \n",
    "print(f\"The number of divisiors for {num} is {count}\")"
   ]
  },
  {
   "cell_type": "code",
   "execution_count": null,
   "id": "a12515ba-abd2-4805-ad3a-b5db941f8a3b",
   "metadata": {},
   "outputs": [],
   "source": [
    "summ=summ+i ==== > summ+=i\n",
    "count=count+i ==== > count+=i"
   ]
  },
  {
   "cell_type": "code",
   "execution_count": 8,
   "id": "51bf8dca-4898-4b91-8189-03e09c087540",
   "metadata": {},
   "outputs": [
    {
     "name": "stdout",
     "output_type": "stream",
     "text": [
      "5\n"
     ]
    },
    {
     "name": "stdin",
     "output_type": "stream",
     "text": [
      "enter the number between 1 to 10: 5\n"
     ]
    },
    {
     "name": "stdout",
     "output_type": "stream",
     "text": [
      "won\n",
      "4\n"
     ]
    },
    {
     "name": "stdin",
     "output_type": "stream",
     "text": [
      "enter the number between 1 to 10: 4\n"
     ]
    },
    {
     "name": "stdout",
     "output_type": "stream",
     "text": [
      "won\n",
      "4\n"
     ]
    },
    {
     "name": "stdin",
     "output_type": "stream",
     "text": [
      "enter the number between 1 to 10: 4\n"
     ]
    },
    {
     "name": "stdout",
     "output_type": "stream",
     "text": [
      "won\n"
     ]
    }
   ],
   "source": [
    "# 10Q)\n",
    "# Get a random number between 1 to 10 : num1\n",
    "# Ask the user enter a number : num2\n",
    "# if num1 == num2 then print won\n",
    "# else print fail\n",
    "# Give 3 chances\n",
    "import random\n",
    "for i in range(3):\n",
    "    num1=random.randint(1,10)\n",
    "    print(num1)\n",
    "    num2=eval(input('enter the number between 1 to 10:'))\n",
    "    if num1==num2:\n",
    "        print('won')\n",
    "    else:\n",
    "        print('Fail')"
   ]
  },
  {
   "cell_type": "code",
   "execution_count": 9,
   "id": "88be2fc5-320b-4b97-a70d-b10f30e29078",
   "metadata": {},
   "outputs": [
    {
     "name": "stdin",
     "output_type": "stream",
     "text": [
      "enter the number between 1 to 10: 3\n"
     ]
    },
    {
     "name": "stdout",
     "output_type": "stream",
     "text": [
      "Fail\n"
     ]
    },
    {
     "name": "stdin",
     "output_type": "stream",
     "text": [
      "enter the number between 1 to 10: 10\n"
     ]
    },
    {
     "name": "stdout",
     "output_type": "stream",
     "text": [
      "won\n"
     ]
    },
    {
     "name": "stdin",
     "output_type": "stream",
     "text": [
      "enter the number between 1 to 10: 13\n"
     ]
    },
    {
     "name": "stdout",
     "output_type": "stream",
     "text": [
      "Fail\n"
     ]
    }
   ],
   "source": [
    "import random\n",
    "for i in range(3):\n",
    "    num1=random.randint(1,10)\n",
    "    num2=eval(input('enter the number between 1 to 10:'))\n",
    "    if num1==num2:\n",
    "        print('won')\n",
    "    else:\n",
    "        print('Fail')"
   ]
  },
  {
   "cell_type": "code",
   "execution_count": 7,
   "id": "ca1fe6d7-6323-4681-ac61-99c0c76db4f2",
   "metadata": {},
   "outputs": [
    {
     "name": "stdout",
     "output_type": "stream",
     "text": [
      "9\n"
     ]
    },
    {
     "name": "stdin",
     "output_type": "stream",
     "text": [
      "enter the number between 1 to 10: 9\n"
     ]
    },
    {
     "name": "stdout",
     "output_type": "stream",
     "text": [
      "won\n"
     ]
    }
   ],
   "source": [
    "# Case-2: whenever you won the code should stop\n",
    "import random\n",
    "for i in range(3):\n",
    "    num1=random.randint(1,10)\n",
    "    print(num1)\n",
    "    num2=eval(input('enter the number between 1 to 10:'))\n",
    "    if num1==num2:\n",
    "        print('won')\n",
    "        break\n",
    "    else:\n",
    "        print('Fail')"
   ]
  },
  {
   "cell_type": "code",
   "execution_count": 4,
   "id": "3fc1cf63-9e86-4c39-8a0f-df70c098e1b6",
   "metadata": {},
   "outputs": [
    {
     "name": "stdin",
     "output_type": "stream",
     "text": [
      "enter the number between 1 to 10: 3\n"
     ]
    },
    {
     "name": "stdout",
     "output_type": "stream",
     "text": [
      "Fail\n"
     ]
    },
    {
     "name": "stdin",
     "output_type": "stream",
     "text": [
      "enter the number between 1 to 10: 10\n"
     ]
    },
    {
     "name": "stdout",
     "output_type": "stream",
     "text": [
      "Fail\n"
     ]
    },
    {
     "name": "stdin",
     "output_type": "stream",
     "text": [
      "enter the number between 1 to 10: 13\n"
     ]
    },
    {
     "name": "stdout",
     "output_type": "stream",
     "text": [
      "Fail\n"
     ]
    }
   ],
   "source": [
    "import random\n",
    "for i in range(3):\n",
    "    num1=random.randint(1,10)\n",
    "    num2=eval(input('enter the number between 1 to 10:'))\n",
    "    if num1==num2:\n",
    "        print('won')\n",
    "        break\n",
    "    else:\n",
    "        print('Fail')"
   ]
  },
  {
   "cell_type": "code",
   "execution_count": null,
   "id": "069f60cb-5a4a-458e-be63-155d66196844",
   "metadata": {},
   "outputs": [],
   "source": [
    "# Case-3:\n",
    "# Suppose i want to give 4 chances\n",
    "# Every time you fail I want to display\n",
    "# Number of chances left\n",
    "# If all the chances you are used\n",
    "# Try again after 24 hours\n",
    "# If you are win"
   ]
  },
  {
   "cell_type": "code",
   "execution_count": 13,
   "id": "49f6f53b-51a1-469d-bb9a-23da42a0803c",
   "metadata": {},
   "outputs": [
    {
     "name": "stdout",
     "output_type": "stream",
     "text": [
      "the 19 is odd number\n",
      "the 14 is even number\n",
      "the 19 is odd number\n",
      "the 15 is odd number\n",
      "the 11 is odd number\n",
      "the total number of odd number is 4\n",
      "the total number of even number is 1\n"
     ]
    }
   ],
   "source": [
    "# wap ask the user get 5 random numbers\n",
    "# Get it is an even number or odd number\n",
    "# also count how many even numbers or odd numbers are there\n",
    "\n",
    "import random\n",
    "evencount=0\n",
    "oddcount=0\n",
    "for i in range(5):\n",
    "    num=random.randint(1,20)\n",
    "    if (num%2==0):\n",
    "        print(f\"the {num} is even number\")\n",
    "        evencount=evencount+1\n",
    "    else:\n",
    "        print(f\"the {num} is odd number\")\n",
    "        oddcount=oddcount+1\n",
    "print(f\"the total number of odd number is {oddcount}\")\n",
    "print(f\"the total number of even number is {evencount}\")"
   ]
  },
  {
   "cell_type": "code",
   "execution_count": 18,
   "id": "c41710ee-9d2e-4360-8f0a-867f33b18b57",
   "metadata": {},
   "outputs": [
    {
     "name": "stdout",
     "output_type": "stream",
     "text": [
      "the 16 is even number\n",
      "the 7 is odd number\n",
      "the 18 is even number\n",
      "the 2 is even number\n",
      "the 6 is even number\n",
      "the total number of odd number is 1\n",
      "the total number of even number is 4\n",
      "the summ of even number is 42\n",
      "the summ of odd number is 7\n"
     ]
    }
   ],
   "source": [
    "# wap ask the user get 5 random numbers\n",
    "# Get it is an even number or odd number\n",
    "# also count how many even numbers or odd numbers are there\n",
    "# sum of even number and odd number\n",
    "\n",
    "import random\n",
    "evencount=0\n",
    "oddcount=0\n",
    "even_summ=0\n",
    "odd_summ=0\n",
    "for i in range(5):\n",
    "    num=random.randint(1,20)\n",
    "    if (num%2==0):\n",
    "        print(f\"the {num} is even number\")\n",
    "        evencount=evencount+1\n",
    "        even_summ=even_summ+num\n",
    "    else:\n",
    "        print(f\"the {num} is odd number\")\n",
    "        oddcount=oddcount+1\n",
    "        odd_summ=odd_summ+num\n",
    "print(f\"the total number of odd number is {oddcount}\")\n",
    "print(f\"the total number of even number is {evencount}\")\n",
    "print(f\"the summ of even number is {even_summ}\")\n",
    "print(f\"the summ of odd number is {odd_summ}\") "
   ]
  },
  {
   "cell_type": "code",
   "execution_count": 6,
   "id": "d52d478b-4071-404c-be2b-d47e053a695d",
   "metadata": {},
   "outputs": [
    {
     "ename": "SyntaxError",
     "evalue": "'return' outside function (2898588636.py, line 21)",
     "output_type": "error",
     "traceback": [
      "\u001b[1;36m  Cell \u001b[1;32mIn[6], line 21\u001b[1;36m\u001b[0m\n\u001b[1;33m    return(evencount,even_summ,oddcount,odd_summ)\u001b[0m\n\u001b[1;37m    ^\u001b[0m\n\u001b[1;31mSyntaxError\u001b[0m\u001b[1;31m:\u001b[0m 'return' outside function\n"
     ]
    }
   ],
   "source": [
    "# Create a fn an above code return all 4 and print all 4\n",
    "import random\n",
    "def evencount():\n",
    "    evencount=0\n",
    "    evencount=evencount+1\n",
    "def oddcount():\n",
    "    oddcount=0\n",
    "    oddcount=oddcount+1\n",
    "def even_summ():\n",
    "    even_summ=0\n",
    "    even_summ=even_summ+num\n",
    "def odd_summ():\n",
    "    odd_summ=0\n",
    "    odd_summ=odd_summ+num\n",
    "for i in range(5):\n",
    "    num=random.randint(1,20)\n",
    "    if (num%2==0):\n",
    "        print(f\"the {num} is even number\")\n",
    "        evencount()\n",
    "        even_summ()\n",
    "        return(evencount,even_summ,oddcount,odd_summ)\n",
    "\n",
    "\n",
    "    else:\n",
    "        print(f\"the {num} is odd number\")\n",
    "        oddcount()\n",
    "        odd_summ()\n",
    "       \n",
    "\n",
    "        \n",
    "print(f\"the total number of odd number is {oddcount}\")\n",
    "print(f\"the total number of even number is {evencount}\")\n",
    "print(f\"the summ of even number is {even_summ}\")\n",
    "print(f\"the summ of odd number is {odd_summ}\") "
   ]
  },
  {
   "cell_type": "markdown",
   "id": "4a4ed6cd-1704-43e7-a891-a803410d5b60",
   "metadata": {},
   "source": [
    "**IN OPERATOR**"
   ]
  },
  {
   "cell_type": "code",
   "execution_count": 28,
   "id": "bcc4f13c-784d-4a86-9a56-6acbef479729",
   "metadata": {},
   "outputs": [
    {
     "data": {
      "text/plain": [
       "True"
      ]
     },
     "execution_count": 28,
     "metadata": {},
     "output_type": "execute_result"
    }
   ],
   "source": [
    "string1='python'\n",
    "'p' in string1\n",
    "'y' in string1\n",
    "'t' in string1"
   ]
  },
  {
   "cell_type": "code",
   "execution_count": 31,
   "id": "7a26164d-6626-472c-ac3d-f6fc43ec761e",
   "metadata": {},
   "outputs": [
    {
     "name": "stdout",
     "output_type": "stream",
     "text": [
      "p\n",
      "y\n",
      "t\n",
      "h\n",
      "o\n",
      "n\n"
     ]
    }
   ],
   "source": [
    "for i in string1:\n",
    "  print(i)"
   ]
  },
  {
   "cell_type": "markdown",
   "id": "e6e9cc87-3826-42cd-97d1-44aa28b67f46",
   "metadata": {},
   "source": [
    "**Difference between in operator and range operator**\n",
    "\n",
    "- range belongs to math family\n",
    "- inside $range$ we need to keep numbers only\n",
    "- whenever if we want iterate through a english letters\n",
    "- we need to choose $in$  $operator$\n",
    "- range means numbers\n",
    "- in means strings\n"
   ]
  },
  {
   "cell_type": "code",
   "execution_count": 39,
   "id": "17add616-663b-4c64-825a-73d10989487d",
   "metadata": {},
   "outputs": [
    {
     "data": {
      "text/plain": [
       "True"
      ]
     },
     "execution_count": 39,
     "metadata": {},
     "output_type": "execute_result"
    }
   ],
   "source": [
    "'p'>'P'"
   ]
  },
  {
   "cell_type": "markdown",
   "id": "06d186af-b8c8-497a-9238-7669ed4a9174",
   "metadata": {},
   "source": [
    "- every english letter every special character how machine will understand\n",
    "- machine languange always consider a numbers only\n",
    "- every num numeric assign a number\n",
    "- ASCII: American Standard Code for Information Interchange\n",
    "- A=65, a=97"
   ]
  },
  {
   "cell_type": "markdown",
   "id": "e469820b-3f4a-4878-a54c-6cf534e067a6",
   "metadata": {},
   "source": [
    "**ord-chr**"
   ]
  },
  {
   "cell_type": "code",
   "execution_count": null,
   "id": "762938eb-cfac-4859-ab3f-d16bfcb22b03",
   "metadata": {},
   "outputs": [],
   "source": [
    "A === 65 === ob1000001"
   ]
  },
  {
   "cell_type": "code",
   "execution_count": 43,
   "id": "394d7c10-2403-4d2f-b5c0-64c2144fdf06",
   "metadata": {},
   "outputs": [
    {
     "data": {
      "text/plain": [
       "(65, 97)"
      ]
     },
     "execution_count": 43,
     "metadata": {},
     "output_type": "execute_result"
    }
   ],
   "source": [
    "ord('A'),ord('a')"
   ]
  },
  {
   "cell_type": "code",
   "execution_count": 44,
   "id": "1092ef6c-a857-4415-90d9-0cb42d717732",
   "metadata": {},
   "outputs": [
    {
     "data": {
      "text/plain": [
       "(66, 98)"
      ]
     },
     "execution_count": 44,
     "metadata": {},
     "output_type": "execute_result"
    }
   ],
   "source": [
    "ord('B'),ord('b')"
   ]
  },
  {
   "cell_type": "code",
   "execution_count": 45,
   "id": "cc7e7352-cd71-46db-bb21-365c839385c6",
   "metadata": {},
   "outputs": [
    {
     "data": {
      "text/plain": [
       "(82, 114)"
      ]
     },
     "execution_count": 45,
     "metadata": {},
     "output_type": "execute_result"
    }
   ],
   "source": [
    "ord('R'),ord('r')"
   ]
  },
  {
   "cell_type": "code",
   "execution_count": 46,
   "id": "a04e6e13-6255-4c1c-9321-fadfb226658b",
   "metadata": {},
   "outputs": [
    {
     "data": {
      "text/plain": [
       "(83, 115)"
      ]
     },
     "execution_count": 46,
     "metadata": {},
     "output_type": "execute_result"
    }
   ],
   "source": [
    "ord('S'),ord('s')"
   ]
  },
  {
   "cell_type": "code",
   "execution_count": 47,
   "id": "d48c038f-4e0a-4947-9ffc-5b083470192b",
   "metadata": {},
   "outputs": [
    {
     "data": {
      "text/plain": [
       "True"
      ]
     },
     "execution_count": 47,
     "metadata": {},
     "output_type": "execute_result"
    }
   ],
   "source": [
    "'p'>'P'  # 112>80"
   ]
  },
  {
   "cell_type": "code",
   "execution_count": 49,
   "id": "23fefc69-9652-44a4-8595-0aebe67baed0",
   "metadata": {},
   "outputs": [
    {
     "data": {
      "text/plain": [
       "('p', 'P', 'A', 'a', 'Ϩ')"
      ]
     },
     "execution_count": 49,
     "metadata": {},
     "output_type": "execute_result"
    }
   ],
   "source": [
    "chr(112),chr(80),chr(65),chr(97),chr(1000)"
   ]
  },
  {
   "cell_type": "code",
   "execution_count": 50,
   "id": "8a9d755e-5fae-4675-8025-ccaef2990dc5",
   "metadata": {},
   "outputs": [
    {
     "name": "stdout",
     "output_type": "stream",
     "text": [
      "the ASCII number for p is 112\n",
      "the ASCII number for y is 121\n",
      "the ASCII number for t is 116\n",
      "the ASCII number for h is 104\n",
      "the ASCII number for o is 111\n",
      "the ASCII number for n is 110\n"
     ]
    }
   ],
   "source": [
    "# I want string1= 'python'\n",
    "# print all ascii numbers for 'python'\n",
    "for i in 'python':\n",
    "    print(f\"the ASCII number for {i} is {ord(i)}\")"
   ]
  },
  {
   "cell_type": "code",
   "execution_count": 51,
   "id": "7673fe49-ebe7-45b0-a7fc-e93fb411e3a6",
   "metadata": {},
   "outputs": [
    {
     "name": "stdout",
     "output_type": "stream",
     "text": [
      "the summation is 674\n"
     ]
    }
   ],
   "source": [
    "# summ of all ASCII numbers\n",
    "\n",
    "ascii_sum=0\n",
    "for i in 'python':\n",
    "    ascii_sum=ascii_sum+ord(i)\n",
    "print(f\"the summation is {ascii_sum}\")"
   ]
  },
  {
   "cell_type": "code",
   "execution_count": 57,
   "id": "d3fea4e0-eb7b-4b85-a4c9-196bf974b438",
   "metadata": {},
   "outputs": [],
   "source": [
    "# I want to know all ascii number from A to Z\n",
    "\n",
    "\n",
    "# package called: string\n",
    "# import the package\n",
    "# apply the dir\n",
    "# there are some methods are there\n",
    "# in that one method will capital letters"
   ]
  },
  {
   "cell_type": "code",
   "execution_count": 53,
   "id": "2163b36f-19e3-46f9-8950-178ab16b6686",
   "metadata": {},
   "outputs": [],
   "source": [
    "import string"
   ]
  },
  {
   "cell_type": "code",
   "execution_count": 54,
   "id": "92977730-110c-4a2f-b0ab-72e9cc121d13",
   "metadata": {},
   "outputs": [
    {
     "data": {
      "text/plain": [
       "['Formatter',\n",
       " 'Template',\n",
       " '_ChainMap',\n",
       " '__all__',\n",
       " '__builtins__',\n",
       " '__cached__',\n",
       " '__doc__',\n",
       " '__file__',\n",
       " '__loader__',\n",
       " '__name__',\n",
       " '__package__',\n",
       " '__spec__',\n",
       " '_re',\n",
       " '_sentinel_dict',\n",
       " '_string',\n",
       " 'ascii_letters',\n",
       " 'ascii_lowercase',\n",
       " 'ascii_uppercase',\n",
       " 'capwords',\n",
       " 'digits',\n",
       " 'hexdigits',\n",
       " 'octdigits',\n",
       " 'printable',\n",
       " 'punctuation',\n",
       " 'whitespace']"
      ]
     },
     "execution_count": 54,
     "metadata": {},
     "output_type": "execute_result"
    }
   ],
   "source": [
    "dir(string)"
   ]
  },
  {
   "cell_type": "code",
   "execution_count": 62,
   "id": "8c4d4467-cb47-4fb5-aea9-98028a457908",
   "metadata": {},
   "outputs": [
    {
     "data": {
      "text/plain": [
       "'abcdefghijklmnopqrstuvwxyzABCDEFGHIJKLMNOPQRSTUVWXYZ'"
      ]
     },
     "execution_count": 62,
     "metadata": {},
     "output_type": "execute_result"
    }
   ],
   "source": [
    "(string.ascii_letters)"
   ]
  },
  {
   "cell_type": "code",
   "execution_count": 61,
   "id": "28a8dfe6-9d16-48be-a8d5-cc58e84f1412",
   "metadata": {},
   "outputs": [
    {
     "data": {
      "text/plain": [
       "'abcdefghijklmnopqrstuvwxyz'"
      ]
     },
     "execution_count": 61,
     "metadata": {},
     "output_type": "execute_result"
    }
   ],
   "source": [
    "(string.ascii_lowercase)"
   ]
  },
  {
   "cell_type": "code",
   "execution_count": 60,
   "id": "e6f580b2-7d94-4555-8439-88e1eb429db2",
   "metadata": {},
   "outputs": [
    {
     "data": {
      "text/plain": [
       "'ABCDEFGHIJKLMNOPQRSTUVWXYZ'"
      ]
     },
     "execution_count": 60,
     "metadata": {},
     "output_type": "execute_result"
    }
   ],
   "source": [
    "(string.ascii_uppercase)"
   ]
  },
  {
   "cell_type": "code",
   "execution_count": 66,
   "id": "5754dc7d-a254-47fe-8db5-443fba77e3f5",
   "metadata": {},
   "outputs": [
    {
     "name": "stdout",
     "output_type": "stream",
     "text": [
      "the ASCII number for a is 97\n",
      "the ASCII number for b is 98\n",
      "the ASCII number for c is 99\n",
      "the ASCII number for d is 100\n",
      "the ASCII number for e is 101\n",
      "the ASCII number for f is 102\n",
      "the ASCII number for g is 103\n",
      "the ASCII number for h is 104\n",
      "the ASCII number for i is 105\n",
      "the ASCII number for j is 106\n",
      "the ASCII number for k is 107\n",
      "the ASCII number for l is 108\n",
      "the ASCII number for m is 109\n",
      "the ASCII number for n is 110\n",
      "the ASCII number for o is 111\n",
      "the ASCII number for p is 112\n",
      "the ASCII number for q is 113\n",
      "the ASCII number for r is 114\n",
      "the ASCII number for s is 115\n",
      "the ASCII number for t is 116\n",
      "the ASCII number for u is 117\n",
      "the ASCII number for v is 118\n",
      "the ASCII number for w is 119\n",
      "the ASCII number for x is 120\n",
      "the ASCII number for y is 121\n",
      "the ASCII number for z is 122\n",
      "the ASCII number for A is 65\n",
      "the ASCII number for B is 66\n",
      "the ASCII number for C is 67\n",
      "the ASCII number for D is 68\n",
      "the ASCII number for E is 69\n",
      "the ASCII number for F is 70\n",
      "the ASCII number for G is 71\n",
      "the ASCII number for H is 72\n",
      "the ASCII number for I is 73\n",
      "the ASCII number for J is 74\n",
      "the ASCII number for K is 75\n",
      "the ASCII number for L is 76\n",
      "the ASCII number for M is 77\n",
      "the ASCII number for N is 78\n",
      "the ASCII number for O is 79\n",
      "the ASCII number for P is 80\n",
      "the ASCII number for Q is 81\n",
      "the ASCII number for R is 82\n",
      "the ASCII number for S is 83\n",
      "the ASCII number for T is 84\n",
      "the ASCII number for U is 85\n",
      "the ASCII number for V is 86\n",
      "the ASCII number for W is 87\n",
      "the ASCII number for X is 88\n",
      "the ASCII number for Y is 89\n",
      "the ASCII number for Z is 90\n"
     ]
    }
   ],
   "source": [
    "import string\n",
    "for i in string.ascii_letters:\n",
    "    print(f\"the ASCII number for {i} is {ord(i)}\")"
   ]
  },
  {
   "cell_type": "code",
   "execution_count": 70,
   "id": "a6bb9c78-6fbf-4785-8de2-4bca8f43e60b",
   "metadata": {},
   "outputs": [
    {
     "name": "stdout",
     "output_type": "stream",
     "text": [
      "the ASCII number for ! is 33\n",
      "the ASCII number for \" is 34\n",
      "the ASCII number for # is 35\n",
      "the ASCII number for $ is 36\n",
      "the ASCII number for % is 37\n",
      "the ASCII number for & is 38\n",
      "the ASCII number for ' is 39\n",
      "the ASCII number for ( is 40\n",
      "the ASCII number for ) is 41\n",
      "the ASCII number for * is 42\n",
      "the ASCII number for + is 43\n",
      "the ASCII number for , is 44\n",
      "the ASCII number for - is 45\n",
      "the ASCII number for . is 46\n",
      "the ASCII number for / is 47\n",
      "the ASCII number for : is 58\n",
      "the ASCII number for ; is 59\n",
      "the ASCII number for < is 60\n",
      "the ASCII number for = is 61\n",
      "the ASCII number for > is 62\n",
      "the ASCII number for ? is 63\n",
      "the ASCII number for @ is 64\n",
      "the ASCII number for [ is 91\n",
      "the ASCII number for \\ is 92\n",
      "the ASCII number for ] is 93\n",
      "the ASCII number for ^ is 94\n",
      "the ASCII number for _ is 95\n",
      "the ASCII number for ` is 96\n",
      "the ASCII number for { is 123\n",
      "the ASCII number for | is 124\n",
      "the ASCII number for } is 125\n",
      "the ASCII number for ~ is 126\n"
     ]
    }
   ],
   "source": [
    "import string\n",
    "for i in string.punctuation:\n",
    "    print(f\"the ASCII number for {i} is {ord(i)}\")"
   ]
  },
  {
   "cell_type": "code",
   "execution_count": 69,
   "id": "35926a56-0f4e-4988-a5d9-e3666ece21b8",
   "metadata": {},
   "outputs": [
    {
     "name": "stdout",
     "output_type": "stream",
     "text": [
      "the ASCII number for A is 65\n",
      "the ASCII number for B is 66\n",
      "the ASCII number for C is 67\n",
      "the ASCII number for D is 68\n",
      "the ASCII number for E is 69\n",
      "the ASCII number for F is 70\n",
      "the ASCII number for G is 71\n",
      "the ASCII number for H is 72\n",
      "the ASCII number for I is 73\n",
      "the ASCII number for J is 74\n",
      "the ASCII number for K is 75\n",
      "the ASCII number for L is 76\n",
      "the ASCII number for M is 77\n",
      "the ASCII number for N is 78\n",
      "the ASCII number for O is 79\n",
      "the ASCII number for P is 80\n",
      "the ASCII number for Q is 81\n",
      "the ASCII number for R is 82\n",
      "the ASCII number for S is 83\n",
      "the ASCII number for T is 84\n",
      "the ASCII number for U is 85\n",
      "the ASCII number for V is 86\n",
      "the ASCII number for W is 87\n",
      "the ASCII number for X is 88\n",
      "the ASCII number for Y is 89\n",
      "the ASCII number for Z is 90\n"
     ]
    }
   ],
   "source": [
    "import string\n",
    "for i in string.ascii_uppercase:\n",
    "    print(f\"the ASCII number for {i} is {ord(i)}\")"
   ]
  },
  {
   "cell_type": "code",
   "execution_count": 71,
   "id": "29009f99-1d90-45e0-b468-599625379ed2",
   "metadata": {},
   "outputs": [
    {
     "name": "stdout",
     "output_type": "stream",
     "text": [
      "the ASCII number for a is 97\n",
      "the ASCII number for b is 98\n",
      "the ASCII number for c is 99\n",
      "the ASCII number for d is 100\n",
      "the ASCII number for e is 101\n",
      "the ASCII number for f is 102\n",
      "the ASCII number for g is 103\n",
      "the ASCII number for h is 104\n",
      "the ASCII number for i is 105\n",
      "the ASCII number for j is 106\n",
      "the ASCII number for k is 107\n",
      "the ASCII number for l is 108\n",
      "the ASCII number for m is 109\n",
      "the ASCII number for n is 110\n",
      "the ASCII number for o is 111\n",
      "the ASCII number for p is 112\n",
      "the ASCII number for q is 113\n",
      "the ASCII number for r is 114\n",
      "the ASCII number for s is 115\n",
      "the ASCII number for t is 116\n",
      "the ASCII number for u is 117\n",
      "the ASCII number for v is 118\n",
      "the ASCII number for w is 119\n",
      "the ASCII number for x is 120\n",
      "the ASCII number for y is 121\n",
      "the ASCII number for z is 122\n"
     ]
    }
   ],
   "source": [
    "import string\n",
    "for i in string.ascii_lowercase:\n",
    "    print(f\"the ASCII number for {i} is {ord(i)}\")"
   ]
  },
  {
   "cell_type": "code",
   "execution_count": 72,
   "id": "ee06aefa-9099-4505-90c4-26bff0b2dfe3",
   "metadata": {},
   "outputs": [
    {
     "name": "stdout",
     "output_type": "stream",
     "text": [
      "the ASCII number for   is 32\n",
      "the ASCII number for \t is 9\n",
      "the ASCII number for \n",
      " is 10\n",
      " is 13CII number for \n",
      "the ASCII number for \u000b",
      " is 11\n",
      "the ASCII number for \f",
      " is 12\n"
     ]
    }
   ],
   "source": [
    "import string\n",
    "for i in string.whitespace:\n",
    "    print(f\"the ASCII number for {i} is {ord(i)}\")"
   ]
  },
  {
   "cell_type": "code",
   "execution_count": 2,
   "id": "08fd0935-4f71-44c6-8913-6d6133a263ae",
   "metadata": {},
   "outputs": [
    {
     "name": "stdout",
     "output_type": "stream",
     "text": [
      "20 \u0014===>21 \u0015===>22 \u0016===>23 \u0017===>24 \u0018===>25 \u0019===>26 \u001a===>27 \u001b===>28 \u001c",
      "===>29 \u001d",
      "===>30 \u001e",
      "===>31 \u001f===>32  ===>33 !===>34 \"===>35 #===>36 $===>37 %===>38 &===>39 '===>40 (===>41 )===>42 *===>43 +===>44 ,===>45 -===>46 .===>47 /===>48 0===>49 1===>50 2===>51 3===>52 4===>53 5===>54 6===>55 7===>56 8===>57 9===>58 :===>59 ;===>60 <===>61 ====>62 >===>63 ?===>64 @===>65 A===>66 B===>67 C===>68 D===>69 E===>70 F===>71 G===>72 H===>73 I===>74 J===>75 K===>76 L===>77 M===>78 N===>79 O===>80 P===>81 Q===>82 R===>83 S===>84 T===>85 U===>86 V===>87 W===>88 X===>89 Y===>90 Z===>91 [===>92 \\===>93 ]===>94 ^===>95 _===>96 `===>97 a===>98 b===>99 c===>100 d===>101 e===>102 f===>103 g===>104 h===>105 i===>106 j===>107 k===>108 l===>109 m===>110 n===>111 o===>112 p===>113 q===>114 r===>115 s===>116 t===>117 u===>118 v===>119 w===>120 x===>121 y===>122 z===>123 {===>124 |===>125 }===>126 ~===>127 ===>128 ===>129 ===>130 ===>131 ===>132 ===>133 ",
      "===>134 ===>135 ===>136 ===>137 ===>138 ===>139 ===>140 ===>141 ===>142 ===>143 ===>144 ===>145 ===>146 ===>147 ===>148 ===>149 ===>150 ===>151 ===>152 ===>153 ===>154 ===>155 ===>156 ===>157 ===>158 ===>159 ===>160  ===>161 ¡===>162 ¢===>163 £===>164 ¤===>165 ¥===>166 ¦===>167 §===>168 ¨===>169 ©===>170 ª===>171 «===>172 ¬===>173 ­===>174 ®===>175 ¯===>176 °===>177 ±===>178 ²===>179 ³===>180 ´===>181 µ===>182 ¶===>183 ·===>184 ¸===>185 ¹===>186 º===>187 »===>188 ¼===>189 ½===>190 ¾===>191 ¿===>192 À===>193 Á===>194 Â===>195 Ã===>196 Ä===>197 Å===>198 Æ===>199 Ç===>"
     ]
    }
   ],
   "source": [
    "# A-Z a-z\n",
    "# A ===> 65\n",
    "# Z ===> 90\n",
    "# a ===> 97\n",
    "# z ===> 122\n",
    "# ! ===> 33\n",
    "# ~ ===> 126\n",
    "for i in range(20,200):\n",
    "    print(i,chr(i),end='===>')"
   ]
  },
  {
   "cell_type": "code",
   "execution_count": 74,
   "id": "c6d58549-cc33-40fc-8319-89ad6dff4f94",
   "metadata": {},
   "outputs": [
    {
     "name": "stdout",
     "output_type": "stream",
     "text": [
      "900 ΄===>901 ΅===>902 Ά===>903 ·===>904 Έ===>905 Ή===>906 Ί===>907 ΋===>908 Ό===>909 ΍===>910 Ύ===>911 Ώ===>912 ΐ===>913 Α===>914 Β===>915 Γ===>916 Δ===>917 Ε===>918 Ζ===>919 Η===>920 Θ===>921 Ι===>922 Κ===>923 Λ===>924 Μ===>925 Ν===>926 Ξ===>927 Ο===>928 Π===>929 Ρ===>930 ΢===>931 Σ===>932 Τ===>933 Υ===>934 Φ===>935 Χ===>936 Ψ===>937 Ω===>938 Ϊ===>939 Ϋ===>940 ά===>941 έ===>942 ή===>943 ί===>944 ΰ===>945 α===>946 β===>947 γ===>948 δ===>949 ε===>950 ζ===>951 η===>952 θ===>953 ι===>954 κ===>955 λ===>956 μ===>957 ν===>958 ξ===>959 ο===>960 π===>961 ρ===>962 ς===>963 σ===>964 τ===>965 υ===>966 φ===>967 χ===>968 ψ===>969 ω===>970 ϊ===>971 ϋ===>972 ό===>973 ύ===>974 ώ===>975 Ϗ===>976 ϐ===>977 ϑ===>978 ϒ===>979 ϓ===>980 ϔ===>981 ϕ===>982 ϖ===>983 ϗ===>984 Ϙ===>985 ϙ===>986 Ϛ===>987 ϛ===>988 Ϝ===>989 ϝ===>990 Ϟ===>991 ϟ===>992 Ϡ===>993 ϡ===>994 Ϣ===>995 ϣ===>996 Ϥ===>997 ϥ===>998 Ϧ===>999 ϧ===>"
     ]
    }
   ],
   "source": [
    "for i in range(900,1000):\n",
    "    print(i,chr(i),end='===>')"
   ]
  },
  {
   "cell_type": "code",
   "execution_count": 75,
   "id": "aec7101e-ed46-4794-9fc7-291024f6e8a2",
   "metadata": {},
   "outputs": [
    {
     "name": "stdout",
     "output_type": "stream",
     "text": [
      "3078 ఆ===>3079 ఇ===>3080 ఈ===>3081 ఉ===>3082 ఊ===>3083 ఋ===>3084 ఌ===>3085 ఍===>3086 ఎ===>3087 ఏ===>3088 ఐ===>3089 ఑===>3090 ఒ===>3091 ఓ===>3092 ఔ===>3093 క===>3094 ఖ===>3095 గ===>3096 ఘ===>3097 ఙ===>3098 చ===>3099 ఛ===>3100 జ===>3101 ఝ===>3102 ఞ===>3103 ట===>3104 ఠ===>3105 డ===>3106 ఢ===>3107 ణ===>3108 త===>3109 థ===>3110 ద===>3111 ధ===>3112 న===>3113 ఩===>3114 ప===>3115 ఫ===>3116 బ===>3117 భ===>3118 మ===>3119 య===>3120 ర===>3121 ఱ===>3122 ల===>3123 ళ===>3124 ఴ===>3125 వ===>3126 శ===>3127 ష===>3128 స===>3129 హ===>3130 ఺===>3131 ఻===>3132 ఼===>3133 ఽ===>3134 ా===>3135 ి===>3136 ీ===>3137 ు===>3138 ూ===>3139 ృ===>3140 ౄ===>3141 ౅===>3142 ె===>3143 ే===>3144 ై===>3145 ౉===>3146 ొ===>3147 ో===>3148 ౌ===>3149 ్===>3150 ౎===>3151 ౏===>3152 ౐===>3153 ౑===>3154 ౒===>3155 ౓===>3156 ౔===>3157 ౕ===>3158 ౖ===>3159 ౗===>3160 ౘ===>3161 ౙ===>3162 ౚ===>3163 ౛===>3164 ౜===>3165 ౝ===>3166 ౞===>3167 ౟===>3168 ౠ===>3169 ౡ===>3170 ౢ===>3171 ౣ===>3172 ౤===>3173 ౥===>3174 ౦===>3175 ౧===>3176 ౨===>3177 ౩===>"
     ]
    }
   ],
   "source": [
    "for i in range(3078,3178):\n",
    "    print(i,chr(i),end='===>')"
   ]
  },
  {
   "cell_type": "code",
   "execution_count": null,
   "id": "7a7aa92a-81cd-4b78-86d9-b48420e1418e",
   "metadata": {},
   "outputs": [],
   "source": []
  }
 ],
 "metadata": {
  "kernelspec": {
   "display_name": "Python 3 (ipykernel)",
   "language": "python",
   "name": "python3"
  },
  "language_info": {
   "codemirror_mode": {
    "name": "ipython",
    "version": 3
   },
   "file_extension": ".py",
   "mimetype": "text/x-python",
   "name": "python",
   "nbconvert_exporter": "python",
   "pygments_lexer": "ipython3",
   "version": "3.11.7"
  }
 },
 "nbformat": 4,
 "nbformat_minor": 5
}
