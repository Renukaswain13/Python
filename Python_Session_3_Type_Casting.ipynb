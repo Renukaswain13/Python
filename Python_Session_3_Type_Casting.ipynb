{
 "cells": [
  {
   "cell_type": "code",
   "execution_count": null,
   "id": "6ab63b36-025b-4f17-bfea-45bb4ae0d90e",
   "metadata": {},
   "outputs": [],
   "source": [
    "true=True\n",
    "\n",
    "#true is variable\n",
    "#True is a Boolean value we are storing in true\n"
   ]
  },
  {
   "cell_type": "code",
   "execution_count": 8,
   "id": "792800bc-ac80-4408-a806-5ff10cadba28",
   "metadata": {},
   "outputs": [
    {
     "data": {
      "text/plain": [
       "True"
      ]
     },
     "execution_count": 8,
     "metadata": {},
     "output_type": "execute_result"
    }
   ],
   "source": [
    "true"
   ]
  },
  {
   "cell_type": "code",
   "execution_count": null,
   "id": "a544a13f-19f1-4a30-9fdb-831afa541ffb",
   "metadata": {},
   "outputs": [],
   "source": [
    "name 'true'is not defined\n",
    "name 'hyd' is not defined\n",
    "name 'India' is not defined"
   ]
  },
  {
   "cell_type": "code",
   "execution_count": 34,
   "id": "364c44c6-af7f-4a6d-8424-1a6081df7ed7",
   "metadata": {},
   "outputs": [],
   "source": [
    "n1=100"
   ]
  },
  {
   "cell_type": "code",
   "execution_count": 35,
   "id": "73f63e98-6221-4ce2-a0f6-1c42560ed1e5",
   "metadata": {},
   "outputs": [
    {
     "data": {
      "text/plain": [
       "100"
      ]
     },
     "execution_count": 35,
     "metadata": {},
     "output_type": "execute_result"
    }
   ],
   "source": [
    "n1"
   ]
  },
  {
   "cell_type": "markdown",
   "id": "69b97104-015f-4203-b44b-11a7de0a0e07",
   "metadata": {},
   "source": [
    "## COVERED SO FAR \n",
    "\n",
    "- integer datatype :int\n",
    "- float datatype : float\n",
    "- String datatype : str\n",
    "- Boolean datatype : bool"
   ]
  },
  {
   "cell_type": "markdown",
   "id": "d30373b6-aa85-498e-8634-8b915adfa038",
   "metadata": {},
   "source": [
    "**TYPE CASTING**"
   ]
  },
  {
   "cell_type": "markdown",
   "id": "8c3618f0-7370-45ab-abee-389719aee260",
   "metadata": {},
   "source": [
    "- Convert one data to another data is called type casting\n",
    "- Which means we want to convert\n",
    "- integer type to all other(float,str,bool)datatypes\n",
    "- float type to all other(int,str,bool)datatypes\n",
    "- string type to all other(float,int,bool)datatypes\n",
    "- bool type to all other(int,float,str)datatypes\n",
    "                           "
   ]
  },
  {
   "cell_type": "markdown",
   "id": "5cdf8c9e-a365-4a63-8df7-235335a51ad7",
   "metadata": {},
   "source": [
    "**INTEGER TO OTHER DATA TYPES**\n"
   ]
  },
  {
   "cell_type": "markdown",
   "id": "4b59c124-3a15-460e-a09e-aae0d94b328a",
   "metadata": {},
   "source": [
    "$int-float $"
   ]
  },
  {
   "cell_type": "code",
   "execution_count": 25,
   "id": "55598386-cb61-43c1-96b3-d190f144ebf3",
   "metadata": {},
   "outputs": [
    {
     "data": {
      "text/plain": [
       "int"
      ]
     },
     "execution_count": 25,
     "metadata": {},
     "output_type": "execute_result"
    }
   ],
   "source": [
    "num=100\n",
    "type(num)"
   ]
  },
  {
   "cell_type": "code",
   "execution_count": 26,
   "id": "ce26ffd3-a155-4c9f-a95c-b5965c238aa2",
   "metadata": {},
   "outputs": [
    {
     "data": {
      "text/plain": [
       "float"
      ]
     },
     "execution_count": 26,
     "metadata": {},
     "output_type": "execute_result"
    }
   ],
   "source": [
    "float_num=float(num)\n",
    "type(float_num)"
   ]
  },
  {
   "cell_type": "code",
   "execution_count": 30,
   "id": "b8557f2b-e9a4-442e-85c4-5960638d1ae2",
   "metadata": {},
   "outputs": [
    {
     "data": {
      "text/plain": [
       "str"
      ]
     },
     "execution_count": 30,
     "metadata": {},
     "output_type": "execute_result"
    }
   ],
   "source": [
    "str_num=str(num)\n",
    "type(str_num)"
   ]
  },
  {
   "cell_type": "code",
   "execution_count": 31,
   "id": "27f8b7ac-8771-4c8a-b0fb-e6ad08b5fcac",
   "metadata": {},
   "outputs": [
    {
     "data": {
      "text/plain": [
       "'100'"
      ]
     },
     "execution_count": 31,
     "metadata": {},
     "output_type": "execute_result"
    }
   ],
   "source": [
    "str_num"
   ]
  },
  {
   "cell_type": "code",
   "execution_count": 32,
   "id": "8fa65498-2c3c-44fb-b895-e98a42a2fe8f",
   "metadata": {},
   "outputs": [
    {
     "data": {
      "text/plain": [
       "str"
      ]
     },
     "execution_count": 32,
     "metadata": {},
     "output_type": "execute_result"
    }
   ],
   "source": [
    "type(str_num)"
   ]
  },
  {
   "cell_type": "code",
   "execution_count": 16,
   "id": "e6756fd9-21ee-4edd-b82a-50adc7d397e8",
   "metadata": {},
   "outputs": [
    {
     "data": {
      "text/plain": [
       "bool"
      ]
     },
     "execution_count": 16,
     "metadata": {},
     "output_type": "execute_result"
    }
   ],
   "source": [
    "bool_num=bool(num)\n",
    "type(bool_num)"
   ]
  },
  {
   "cell_type": "code",
   "execution_count": 17,
   "id": "a8bae7e6-2c9d-43f9-93d6-cabe6b8cebb5",
   "metadata": {},
   "outputs": [
    {
     "data": {
      "text/plain": [
       "True"
      ]
     },
     "execution_count": 17,
     "metadata": {},
     "output_type": "execute_result"
    }
   ],
   "source": [
    "bool_num"
   ]
  },
  {
   "cell_type": "code",
   "execution_count": 18,
   "id": "d445dc29-c3ac-4474-bbdd-b047bbf33a3d",
   "metadata": {},
   "outputs": [
    {
     "data": {
      "text/plain": [
       "True"
      ]
     },
     "execution_count": 18,
     "metadata": {},
     "output_type": "execute_result"
    }
   ],
   "source": [
    "bool(num)"
   ]
  },
  {
   "cell_type": "code",
   "execution_count": 19,
   "id": "ce22beaa-1fb9-44a8-af00-940151955566",
   "metadata": {},
   "outputs": [
    {
     "data": {
      "text/plain": [
       "(200.0, '200', True)"
      ]
     },
     "execution_count": 19,
     "metadata": {},
     "output_type": "execute_result"
    }
   ],
   "source": [
    "float(200),str(200),bool(200)"
   ]
  },
  {
   "cell_type": "code",
   "execution_count": 20,
   "id": "96e26479-0665-4ee5-9a6d-71650d1c38b7",
   "metadata": {},
   "outputs": [
    {
     "data": {
      "text/plain": [
       "(-200.0, '-200', True)"
      ]
     },
     "execution_count": 20,
     "metadata": {},
     "output_type": "execute_result"
    }
   ],
   "source": [
    "float(-200),str(-200),bool(-200)"
   ]
  },
  {
   "cell_type": "code",
   "execution_count": 24,
   "id": "b04dcb43-c5aa-4c0f-91fe-49a3e4c3b2b7",
   "metadata": {},
   "outputs": [
    {
     "data": {
      "text/plain": [
       "False"
      ]
     },
     "execution_count": 24,
     "metadata": {},
     "output_type": "execute_result"
    }
   ],
   "source": [
    "# when integer of boolean conversation become false\n",
    "bool(0)"
   ]
  },
  {
   "cell_type": "markdown",
   "id": "daa0983e-7080-4e2d-9029-a32afa827de8",
   "metadata": {},
   "source": [
    "**NOTE**\n",
    "\n",
    "- Integer=0 then only boolean conversion becomes false\n",
    "- Otherwise for any positive number or any negative number it becomes true only"
   ]
  },
  {
   "cell_type": "markdown",
   "id": "1a676453-5f1d-47b0-be70-5869e9c2fcde",
   "metadata": {},
   "source": [
    " **FLOAT TO ANOTHER DATA TYPE**"
   ]
  },
  {
   "cell_type": "code",
   "execution_count": 23,
   "id": "ff9524b3-2b1a-49a7-afaa-c9e43e36ea48",
   "metadata": {},
   "outputs": [
    {
     "data": {
      "text/plain": [
       "(200, '200.5', True)"
      ]
     },
     "execution_count": 23,
     "metadata": {},
     "output_type": "execute_result"
    }
   ],
   "source": [
    "int(200.5), str(200.5),bool(200.5)"
   ]
  },
  {
   "cell_type": "code",
   "execution_count": 22,
   "id": "90c24eb2-d568-41f5-99ae-ed755c830e08",
   "metadata": {},
   "outputs": [
    {
     "data": {
      "text/plain": [
       "(200, '200.5', False)"
      ]
     },
     "execution_count": 22,
     "metadata": {},
     "output_type": "execute_result"
    }
   ],
   "source": [
    "int(200.5),str(200.5),bool(0.0)"
   ]
  },
  {
   "cell_type": "markdown",
   "id": "1ce8fe94-8879-4b8b-aa2b-32798d1108ba",
   "metadata": {},
   "source": [
    "**STRING TO ANOTHER DATA TYPES**"
   ]
  },
  {
   "cell_type": "code",
   "execution_count": null,
   "id": "85d80837-a037-4128-824a-1dbfa1f6f4b6",
   "metadata": {},
   "outputs": [],
   "source": [
    "# Case-1\n",
    "str='apple'\n",
    "# Case-2\n",
    "str1='10'\n",
    "# Case-3\n",
    "str2='10.5'"
   ]
  },
  {
   "cell_type": "code",
   "execution_count": 24,
   "id": "75a07cc6-7c4e-4395-92ce-ccf6e47908d3",
   "metadata": {},
   "outputs": [
    {
     "ename": "ValueError",
     "evalue": "invalid literal for int() with base 10: 'apple'",
     "output_type": "error",
     "traceback": [
      "\u001b[1;31m---------------------------------------------------------------------------\u001b[0m",
      "\u001b[1;31mValueError\u001b[0m                                Traceback (most recent call last)",
      "Cell \u001b[1;32mIn[24], line 1\u001b[0m\n\u001b[1;32m----> 1\u001b[0m \u001b[38;5;28mint\u001b[39m(\u001b[38;5;124m'\u001b[39m\u001b[38;5;124mapple\u001b[39m\u001b[38;5;124m'\u001b[39m)\n",
      "\u001b[1;31mValueError\u001b[0m: invalid literal for int() with base 10: 'apple'"
     ]
    }
   ],
   "source": [
    "int('apple')"
   ]
  },
  {
   "cell_type": "code",
   "execution_count": 25,
   "id": "7e91258a-7780-4257-87ff-066d5e16e11e",
   "metadata": {},
   "outputs": [
    {
     "ename": "ValueError",
     "evalue": "could not convert string to float: 'apple'",
     "output_type": "error",
     "traceback": [
      "\u001b[1;31m---------------------------------------------------------------------------\u001b[0m",
      "\u001b[1;31mValueError\u001b[0m                                Traceback (most recent call last)",
      "Cell \u001b[1;32mIn[25], line 1\u001b[0m\n\u001b[1;32m----> 1\u001b[0m \u001b[38;5;28mfloat\u001b[39m(\u001b[38;5;124m'\u001b[39m\u001b[38;5;124mapple\u001b[39m\u001b[38;5;124m'\u001b[39m)\n",
      "\u001b[1;31mValueError\u001b[0m: could not convert string to float: 'apple'"
     ]
    }
   ],
   "source": [
    "float('apple')"
   ]
  },
  {
   "cell_type": "code",
   "execution_count": 26,
   "id": "230e28b4-ddea-4391-8285-8e720da6f53f",
   "metadata": {},
   "outputs": [
    {
     "data": {
      "text/plain": [
       "True"
      ]
     },
     "execution_count": 26,
     "metadata": {},
     "output_type": "execute_result"
    }
   ],
   "source": [
    "bool('apple')"
   ]
  },
  {
   "cell_type": "code",
   "execution_count": 27,
   "id": "548b831c-3dbb-4e56-919d-016f58a02e3b",
   "metadata": {},
   "outputs": [
    {
     "data": {
      "text/plain": [
       "10"
      ]
     },
     "execution_count": 27,
     "metadata": {},
     "output_type": "execute_result"
    }
   ],
   "source": [
    "int('10')"
   ]
  },
  {
   "cell_type": "code",
   "execution_count": 28,
   "id": "f66c8cfd-f1ae-41d8-8c93-0a30b3247845",
   "metadata": {},
   "outputs": [
    {
     "data": {
      "text/plain": [
       "10.0"
      ]
     },
     "execution_count": 28,
     "metadata": {},
     "output_type": "execute_result"
    }
   ],
   "source": [
    "float('10')"
   ]
  },
  {
   "cell_type": "code",
   "execution_count": 29,
   "id": "dddd4391-9bc6-4c50-9d90-38083a6297c9",
   "metadata": {},
   "outputs": [
    {
     "data": {
      "text/plain": [
       "True"
      ]
     },
     "execution_count": 29,
     "metadata": {},
     "output_type": "execute_result"
    }
   ],
   "source": [
    "bool('10')"
   ]
  },
  {
   "cell_type": "code",
   "execution_count": 31,
   "id": "38a757d0-c9db-42dc-8815-8fe90d43943a",
   "metadata": {},
   "outputs": [
    {
     "ename": "ValueError",
     "evalue": "invalid literal for int() with base 10: '10.5'",
     "output_type": "error",
     "traceback": [
      "\u001b[1;31m---------------------------------------------------------------------------\u001b[0m",
      "\u001b[1;31mValueError\u001b[0m                                Traceback (most recent call last)",
      "Cell \u001b[1;32mIn[31], line 1\u001b[0m\n\u001b[1;32m----> 1\u001b[0m \u001b[38;5;28mint\u001b[39m(\u001b[38;5;124m'\u001b[39m\u001b[38;5;124m10.5\u001b[39m\u001b[38;5;124m'\u001b[39m)\n",
      "\u001b[1;31mValueError\u001b[0m: invalid literal for int() with base 10: '10.5'"
     ]
    }
   ],
   "source": [
    "int('10.5')"
   ]
  },
  {
   "cell_type": "code",
   "execution_count": 32,
   "id": "2a6f0ac6-1fb0-4f1d-9355-c02d5d5ff4b7",
   "metadata": {},
   "outputs": [
    {
     "data": {
      "text/plain": [
       "10.5"
      ]
     },
     "execution_count": 32,
     "metadata": {},
     "output_type": "execute_result"
    }
   ],
   "source": [
    "float('10.5')"
   ]
  },
  {
   "cell_type": "code",
   "execution_count": 33,
   "id": "aa9994bc-a80e-4e93-9382-17f161ca0e82",
   "metadata": {},
   "outputs": [
    {
     "data": {
      "text/plain": [
       "True"
      ]
     },
     "execution_count": 33,
     "metadata": {},
     "output_type": "execute_result"
    }
   ],
   "source": [
    "bool('10.5')"
   ]
  },
  {
   "cell_type": "code",
   "execution_count": null,
   "id": "b53d8d2e-2ea4-48e2-970a-8ff38e8cf67a",
   "metadata": {},
   "outputs": [],
   "source": [
    "int('10') # pass\n",
    "int('10.5') # fail\n",
    "float('10') # pass\n",
    "float('10.5') # pass"
   ]
  },
  {
   "cell_type": "markdown",
   "id": "6094ff32-b88e-4dbe-8565-6b40d1465c22",
   "metadata": {},
   "source": [
    "- Float is the boss\n",
    "- Float of any value either it is integer in strings format\n",
    "- Or float in strings format will work\n",
    "- But ineteger will works only for integer in strings format\n",
    "- Integer type casting will fail for float in strings format"
   ]
  },
  {
   "cell_type": "code",
   "execution_count": 36,
   "id": "98ec93cc-4d94-4397-875b-d34446e5626f",
   "metadata": {},
   "outputs": [
    {
     "data": {
      "text/plain": [
       "False"
      ]
     },
     "execution_count": 36,
     "metadata": {},
     "output_type": "execute_result"
    }
   ],
   "source": [
    "bool(0)"
   ]
  },
  {
   "cell_type": "code",
   "execution_count": 37,
   "id": "0cbef2a4-0f3b-4427-aae2-f0bdaceb80ce",
   "metadata": {},
   "outputs": [
    {
     "data": {
      "text/plain": [
       "False"
      ]
     },
     "execution_count": 37,
     "metadata": {},
     "output_type": "execute_result"
    }
   ],
   "source": [
    "bool('')"
   ]
  },
  {
   "cell_type": "markdown",
   "id": "2694398d-9bda-4c45-afb4-f4610094888c",
   "metadata": {},
   "source": [
    "**NOTE**"
   ]
  },
  {
   "cell_type": "markdown",
   "id": "cba415bd-9250-40d3-a690-5b3f97c7570f",
   "metadata": {},
   "source": [
    "- Something is there - **TRUE**\n",
    "- Nothing is there - **FALSE** (either 0 or empty string)"
   ]
  },
  {
   "cell_type": "markdown",
   "id": "9df04bae-bfea-468c-b9a9-b3f6917e2227",
   "metadata": {},
   "source": [
    "**BOOLEAN TO OTHER DATATYPES**"
   ]
  },
  {
   "cell_type": "code",
   "execution_count": 39,
   "id": "90fb607c-7058-4c86-bcce-a9c448fe3ee0",
   "metadata": {},
   "outputs": [
    {
     "data": {
      "text/plain": [
       "1"
      ]
     },
     "execution_count": 39,
     "metadata": {},
     "output_type": "execute_result"
    }
   ],
   "source": [
    "int(True)"
   ]
  },
  {
   "cell_type": "code",
   "execution_count": 43,
   "id": "7d748cf9-c08a-4abe-8079-051e04521182",
   "metadata": {},
   "outputs": [
    {
     "data": {
      "text/plain": [
       "'True'"
      ]
     },
     "execution_count": 43,
     "metadata": {},
     "output_type": "execute_result"
    }
   ],
   "source": [
    "str(True)"
   ]
  },
  {
   "cell_type": "code",
   "execution_count": 45,
   "id": "2dde4ad4-c1d3-4d74-a672-ca3a059fc9b3",
   "metadata": {},
   "outputs": [
    {
     "data": {
      "text/plain": [
       "1.0"
      ]
     },
     "execution_count": 45,
     "metadata": {},
     "output_type": "execute_result"
    }
   ],
   "source": [
    "float(True)"
   ]
  },
  {
   "cell_type": "code",
   "execution_count": 46,
   "id": "b98b795c-9b87-4bcc-ba08-7a5c5be12ec6",
   "metadata": {},
   "outputs": [
    {
     "data": {
      "text/plain": [
       "0"
      ]
     },
     "execution_count": 46,
     "metadata": {},
     "output_type": "execute_result"
    }
   ],
   "source": [
    "int(False)"
   ]
  },
  {
   "cell_type": "code",
   "execution_count": 47,
   "id": "604ba778-8bfd-48df-b15d-1b1fa9cdeaee",
   "metadata": {},
   "outputs": [
    {
     "data": {
      "text/plain": [
       "'False'"
      ]
     },
     "execution_count": 47,
     "metadata": {},
     "output_type": "execute_result"
    }
   ],
   "source": [
    "str(False)"
   ]
  },
  {
   "cell_type": "code",
   "execution_count": 48,
   "id": "430ed6f5-9849-438a-82da-4071d0922187",
   "metadata": {},
   "outputs": [
    {
     "data": {
      "text/plain": [
       "0.0"
      ]
     },
     "execution_count": 48,
     "metadata": {},
     "output_type": "execute_result"
    }
   ],
   "source": [
    "float(False)"
   ]
  },
  {
   "cell_type": "markdown",
   "id": "30f33eb4-83fe-49a8-8f10-c1c35680a684",
   "metadata": {},
   "source": [
    "**INTEGER TO OTHER DATATYPES**"
   ]
  },
  {
   "cell_type": "code",
   "execution_count": 50,
   "id": "1a0e6d47-3434-4f4e-9637-f1665f4a7e07",
   "metadata": {},
   "outputs": [
    {
     "data": {
      "text/plain": [
       "100.0"
      ]
     },
     "execution_count": 50,
     "metadata": {},
     "output_type": "execute_result"
    }
   ],
   "source": [
    "float('100')"
   ]
  },
  {
   "cell_type": "code",
   "execution_count": 51,
   "id": "181b5857-75b7-495b-8491-f20aa094a504",
   "metadata": {},
   "outputs": [
    {
     "data": {
      "text/plain": [
       "'100'"
      ]
     },
     "execution_count": 51,
     "metadata": {},
     "output_type": "execute_result"
    }
   ],
   "source": [
    "str('100')"
   ]
  },
  {
   "cell_type": "code",
   "execution_count": 52,
   "id": "3db0e795-4d7b-4862-8c90-830465854e74",
   "metadata": {},
   "outputs": [
    {
     "data": {
      "text/plain": [
       "True"
      ]
     },
     "execution_count": 52,
     "metadata": {},
     "output_type": "execute_result"
    }
   ],
   "source": [
    "bool('100')"
   ]
  },
  {
   "cell_type": "markdown",
   "id": "e8c029a2-b97b-4fac-ba19-37601491bc3c",
   "metadata": {},
   "source": [
    "**FLOAT TO OTHER DATATYPES**"
   ]
  },
  {
   "cell_type": "code",
   "execution_count": 53,
   "id": "e33afb33-d7bc-4e3b-9f51-679369dd79bf",
   "metadata": {},
   "outputs": [
    {
     "data": {
      "text/plain": [
       "100"
      ]
     },
     "execution_count": 53,
     "metadata": {},
     "output_type": "execute_result"
    }
   ],
   "source": [
    "int(100.5)"
   ]
  },
  {
   "cell_type": "code",
   "execution_count": 54,
   "id": "6bd9e134-f7bd-4deb-aafa-f50eb3100604",
   "metadata": {},
   "outputs": [
    {
     "data": {
      "text/plain": [
       "'100.5'"
      ]
     },
     "execution_count": 54,
     "metadata": {},
     "output_type": "execute_result"
    }
   ],
   "source": [
    "str(100.5)"
   ]
  },
  {
   "cell_type": "code",
   "execution_count": 7,
   "id": "ca5508cb-db69-4acf-b543-15046f187454",
   "metadata": {},
   "outputs": [
    {
     "data": {
      "text/plain": [
       "True"
      ]
     },
     "execution_count": 7,
     "metadata": {},
     "output_type": "execute_result"
    }
   ],
   "source": [
    "bool(100.5)"
   ]
  },
  {
   "cell_type": "code",
   "execution_count": 8,
   "id": "ffeb2d9e-ec2d-44d4-a55c-6daf706d0c5e",
   "metadata": {},
   "outputs": [
    {
     "data": {
      "text/plain": [
       "False"
      ]
     },
     "execution_count": 8,
     "metadata": {},
     "output_type": "execute_result"
    }
   ],
   "source": [
    "bool(0)"
   ]
  },
  {
   "cell_type": "markdown",
   "id": "36d84389-6f19-4ab7-8d03-f3e9ddfb65a2",
   "metadata": {},
   "source": [
    "**STR TO OTHER DATATYPES**"
   ]
  },
  {
   "cell_type": "code",
   "execution_count": 9,
   "id": "cf838e5e-4f1e-4567-a978-cc160e238313",
   "metadata": {},
   "outputs": [
    {
     "ename": "ValueError",
     "evalue": "invalid literal for int() with base 10: 'apple'",
     "output_type": "error",
     "traceback": [
      "\u001b[1;31m---------------------------------------------------------------------------\u001b[0m",
      "\u001b[1;31mValueError\u001b[0m                                Traceback (most recent call last)",
      "Cell \u001b[1;32mIn[9], line 1\u001b[0m\n\u001b[1;32m----> 1\u001b[0m \u001b[38;5;28mint\u001b[39m(\u001b[38;5;124m'\u001b[39m\u001b[38;5;124mapple\u001b[39m\u001b[38;5;124m'\u001b[39m)\n",
      "\u001b[1;31mValueError\u001b[0m: invalid literal for int() with base 10: 'apple'"
     ]
    }
   ],
   "source": [
    "int('apple')"
   ]
  },
  {
   "cell_type": "code",
   "execution_count": 10,
   "id": "bdf8a3bc-704f-4651-8b19-cfc7f9165a43",
   "metadata": {},
   "outputs": [
    {
     "ename": "ValueError",
     "evalue": "could not convert string to float: 'apple'",
     "output_type": "error",
     "traceback": [
      "\u001b[1;31m---------------------------------------------------------------------------\u001b[0m",
      "\u001b[1;31mValueError\u001b[0m                                Traceback (most recent call last)",
      "Cell \u001b[1;32mIn[10], line 1\u001b[0m\n\u001b[1;32m----> 1\u001b[0m \u001b[38;5;28mfloat\u001b[39m(\u001b[38;5;124m'\u001b[39m\u001b[38;5;124mapple\u001b[39m\u001b[38;5;124m'\u001b[39m)\n",
      "\u001b[1;31mValueError\u001b[0m: could not convert string to float: 'apple'"
     ]
    }
   ],
   "source": [
    "float('apple')"
   ]
  },
  {
   "cell_type": "code",
   "execution_count": 11,
   "id": "355f7948-7fd8-4c74-8ed7-626ccb8d596e",
   "metadata": {},
   "outputs": [
    {
     "data": {
      "text/plain": [
       "True"
      ]
     },
     "execution_count": 11,
     "metadata": {},
     "output_type": "execute_result"
    }
   ],
   "source": [
    "bool('apple')"
   ]
  },
  {
   "cell_type": "code",
   "execution_count": 12,
   "id": "f148bdb2-5c43-43ea-8af9-bf9cb0cd6853",
   "metadata": {},
   "outputs": [
    {
     "data": {
      "text/plain": [
       "10"
      ]
     },
     "execution_count": 12,
     "metadata": {},
     "output_type": "execute_result"
    }
   ],
   "source": [
    "int('10')"
   ]
  },
  {
   "cell_type": "code",
   "execution_count": 13,
   "id": "d404ac66-91a4-40f0-93c0-23fd4c079c67",
   "metadata": {},
   "outputs": [
    {
     "data": {
      "text/plain": [
       "10.0"
      ]
     },
     "execution_count": 13,
     "metadata": {},
     "output_type": "execute_result"
    }
   ],
   "source": [
    "float('10')"
   ]
  },
  {
   "cell_type": "code",
   "execution_count": 14,
   "id": "64c51a6f-29f4-42dd-8749-0a2da4dd9f48",
   "metadata": {},
   "outputs": [
    {
     "data": {
      "text/plain": [
       "True"
      ]
     },
     "execution_count": 14,
     "metadata": {},
     "output_type": "execute_result"
    }
   ],
   "source": [
    "bool('10')"
   ]
  },
  {
   "cell_type": "code",
   "execution_count": 16,
   "id": "a69929bd-7bb4-4944-b7f2-8d1582d33b18",
   "metadata": {},
   "outputs": [
    {
     "ename": "ValueError",
     "evalue": "invalid literal for int() with base 10: '10.5'",
     "output_type": "error",
     "traceback": [
      "\u001b[1;31m---------------------------------------------------------------------------\u001b[0m",
      "\u001b[1;31mValueError\u001b[0m                                Traceback (most recent call last)",
      "Cell \u001b[1;32mIn[16], line 1\u001b[0m\n\u001b[1;32m----> 1\u001b[0m \u001b[38;5;28mint\u001b[39m(\u001b[38;5;124m'\u001b[39m\u001b[38;5;124m10.5\u001b[39m\u001b[38;5;124m'\u001b[39m)\n",
      "\u001b[1;31mValueError\u001b[0m: invalid literal for int() with base 10: '10.5'"
     ]
    }
   ],
   "source": [
    "int('10.5')"
   ]
  },
  {
   "cell_type": "code",
   "execution_count": 18,
   "id": "4f6b7d5f-c207-4b44-a16f-4d0c6fe1b6ef",
   "metadata": {},
   "outputs": [
    {
     "data": {
      "text/plain": [
       "10.5"
      ]
     },
     "execution_count": 18,
     "metadata": {},
     "output_type": "execute_result"
    }
   ],
   "source": [
    "float('10.5')"
   ]
  },
  {
   "cell_type": "code",
   "execution_count": 20,
   "id": "367adf1b-1200-4a09-9ead-8a94ce1b7504",
   "metadata": {},
   "outputs": [
    {
     "data": {
      "text/plain": [
       "True"
      ]
     },
     "execution_count": 20,
     "metadata": {},
     "output_type": "execute_result"
    }
   ],
   "source": [
    "bool('10.5')"
   ]
  },
  {
   "cell_type": "code",
   "execution_count": 21,
   "id": "d0f09f45-f989-4f9f-b0f7-1b96bb7c9dfd",
   "metadata": {},
   "outputs": [
    {
     "data": {
      "text/plain": [
       "False"
      ]
     },
     "execution_count": 21,
     "metadata": {},
     "output_type": "execute_result"
    }
   ],
   "source": [
    "bool('')"
   ]
  }
 ],
 "metadata": {
  "kernelspec": {
   "display_name": "Python 3 (ipykernel)",
   "language": "python",
   "name": "python3"
  },
  "language_info": {
   "codemirror_mode": {
    "name": "ipython",
    "version": 3
   },
   "file_extension": ".py",
   "mimetype": "text/x-python",
   "name": "python",
   "nbconvert_exporter": "python",
   "pygments_lexer": "ipython3",
   "version": "3.11.7"
  }
 },
 "nbformat": 4,
 "nbformat_minor": 5
}
