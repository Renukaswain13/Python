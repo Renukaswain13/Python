{
 "cells": [
  {
   "cell_type": "markdown",
   "id": "fe3d702e-0552-48ab-88a1-afe2921d4224",
   "metadata": {},
   "source": [
    "**Conditional statement**"
   ]
  },
  {
   "cell_type": "markdown",
   "id": "9118f569-232b-48ca-876f-e6856a4a4847",
   "metadata": {},
   "source": [
    "- Conditional statement means we want to run the code lines based on condition\n",
    "- if rain comes I will not go to school otherwise I will go to movie.\n",
    "- Rain is there will effect one process\n",
    "- Rain is not there will effect another process\n",
    "- if statement\n",
    "- elif statement\n",
    "- else statement"
   ]
  },
  {
   "cell_type": "markdown",
   "id": "54cfac20-9ec7-428d-9c35-f94c43d7b2ce",
   "metadata": {},
   "source": [
    "**if statement**"
   ]
  },
  {
   "cell_type": "code",
   "execution_count": null,
   "id": "369130b4-000c-4b89-81fb-d191140cb3e0",
   "metadata": {},
   "outputs": [],
   "source": [
    "# syntax \n",
    "\n",
    "if <condition>:\n",
    "   <codeline1/statement>\n",
    "   <codeline2/statemet>"
   ]
  },
  {
   "cell_type": "markdown",
   "id": "0437668a-a8bf-43a3-9879-4115b1803d3d",
   "metadata": {},
   "source": [
    "- whenever any line start with **keyword(green)** at the end of the line we have **COLON(:)**\n",
    "- whenever we have a **colon(:)** the text lines start with xome **gap**\n",
    "- and this gap is called as **INDENTATION**\n",
    "- how many lines we are maintianing gap(indentation) that all are under one area"
   ]
  },
  {
   "cell_type": "markdown",
   "id": "bc9c6478-5c66-4c12-9299-9bc1265aa965",
   "metadata": {},
   "source": [
    "- if is a conditional statement , it will check the condition is True or False\n",
    "- if that condition will True then only it will enter inside the if area\n",
    "- and execute those code lines\n",
    "- if that condition is False then it will not enter inside the if area\n",
    "- it will not execute those code lines"
   ]
  },
  {
   "cell_type": "code",
   "execution_count": 7,
   "id": "88b4c6f4-2e61-41c6-9185-a0fc887c7fce",
   "metadata": {},
   "outputs": [
    {
     "name": "stdout",
     "output_type": "stream",
     "text": [
      "hello\n"
     ]
    }
   ],
   "source": [
    "if 100>10 :            # true:\n",
    "   print(\"hello\")"
   ]
  },
  {
   "cell_type": "code",
   "execution_count": 5,
   "id": "ba6cafb2-2b5b-4ccc-9dd6-24fc312eb9d1",
   "metadata": {},
   "outputs": [
    {
     "ename": "IndentationError",
     "evalue": "expected an indented block after 'if' statement on line 1 (3078690961.py, line 2)",
     "output_type": "error",
     "traceback": [
      "\u001b[1;36m  Cell \u001b[1;32mIn[5], line 2\u001b[1;36m\u001b[0m\n\u001b[1;33m    print(\"hello\")\u001b[0m\n\u001b[1;37m    ^\u001b[0m\n\u001b[1;31mIndentationError\u001b[0m\u001b[1;31m:\u001b[0m expected an indented block after 'if' statement on line 1\n"
     ]
    }
   ],
   "source": [
    "if 100>10:                     # true:\n",
    "print(\"hello\")"
   ]
  },
  {
   "cell_type": "code",
   "execution_count": 8,
   "id": "cddb3b55-0279-4091-adc8-1872d6740fe7",
   "metadata": {},
   "outputs": [
    {
     "data": {
      "text/plain": [
       "True"
      ]
     },
     "execution_count": 8,
     "metadata": {},
     "output_type": "execute_result"
    }
   ],
   "source": [
    "100>10"
   ]
  },
  {
   "cell_type": "markdown",
   "id": "666c08c9-9269-4c2b-9198-66ea76421813",
   "metadata": {},
   "source": [
    "**MISTAKE-1**\n",
    "\n",
    "- forgetting the Indentation\n",
    "\n",
    "### solution 1\n",
    "\n",
    "if 100>10:                          # if true\n",
    "print(\"hello\")\n",
    "\n",
    "if 100>10:                         # if true\n",
    "   print(\"hello\")  **press enter tab**\n",
    "\n",
    "**Indentation require 4 spaces**\n",
    "\n",
    "**MISTAKE-2**\n",
    "\n",
    "- forgetting the colon\n",
    "\n",
    "### solution 2\n",
    "\n",
    "if 100>10:print(\"hello\")\n",
    "\n",
    "if 100>10:\n",
    "    print(\"hello\") **press enter near colon**\n",
    "    \n",
    "**MISTAKE-3**\n",
    "\n",
    "- forgetting condition\n",
    "\n",
    "### solution 3\n",
    "\n",
    "if:\n",
    " print(\"hello\")\n",
    "\n",
    "**MISTAKE-4**\n",
    "\n",
    "- forgetting brackets\n",
    "\n",
    "### solution 4\n",
    "\n",
    "if 100>10\n",
    "    print \"hello\"\n",
    "\n",
    "**MISTAKE-5**\n",
    "\n",
    "- never assign a variable to a print statement\n",
    "- print we are using for to see the answer\n",
    "\n",
    "### solution 5\n",
    "\n",
    "if 100>10:\n",
    "    name=print(\"hello\")\n",
    "\n",
    "**MISTAKE-6**\n",
    "\n",
    "- all types of syntax error\n",
    "- spelling mistakes"
   ]
  },
  {
   "cell_type": "code",
   "execution_count": null,
   "id": "40f2a078-2b1b-449c-88ba-0198cbae903f",
   "metadata": {},
   "outputs": [],
   "source": [
    "if100>10:"
   ]
  },
  {
   "cell_type": "code",
   "execution_count": 1,
   "id": "93318cb1-3d7a-44dc-a1ec-df75679e9dbb",
   "metadata": {},
   "outputs": [
    {
     "name": "stdout",
     "output_type": "stream",
     "text": [
      "hello\n",
      "good morning\n"
     ]
    }
   ],
   "source": [
    "if 100>10:\n",
    "    print(\"hello\")\n",
    "    print(\"good morning\")"
   ]
  },
  {
   "cell_type": "code",
   "execution_count": 11,
   "id": "10e9d353-0217-4aa6-b071-64850616c2a2",
   "metadata": {},
   "outputs": [
    {
     "name": "stdout",
     "output_type": "stream",
     "text": [
      "10\n",
      "20\n",
      "hello\n",
      "good morning\n",
      "okay\n",
      "bye\n"
     ]
    }
   ],
   "source": [
    "print(10)\n",
    "print(20)\n",
    "##############################################\n",
    "if 100>10:\n",
    "    print(\"hello\")\n",
    "    print(\"good morning\")\n",
    "###############################################\n",
    "print(\"okay\")\n",
    "print(\"bye\")\n",
    "\n",
    "# step 1: if 100>10 if true\n",
    "# step 2: execute print statements hello and good morning\n",
    "# step 3: execute print statement okay and bye"
   ]
  },
  {
   "cell_type": "code",
   "execution_count": 12,
   "id": "75031957-4196-4f1c-abb3-81f4130038be",
   "metadata": {},
   "outputs": [
    {
     "name": "stdout",
     "output_type": "stream",
     "text": [
      "10\n",
      "20\n",
      "hello\n",
      "good morning\n",
      "okay\n",
      "bye\n"
     ]
    }
   ],
   "source": [
    "print(10)\n",
    "print(20)\n",
    "if 100>10:\n",
    "    print(\"hello\")\n",
    "print(\"good morning\")\n",
    "print(\"okay\")\n",
    "print(\"bye\")"
   ]
  },
  {
   "cell_type": "code",
   "execution_count": 13,
   "id": "1e86ca3a-fe24-4b4a-9437-a56c6f1a993b",
   "metadata": {},
   "outputs": [
    {
     "ename": "IndentationError",
     "evalue": "unexpected indent (515734023.py, line 6)",
     "output_type": "error",
     "traceback": [
      "\u001b[1;36m  Cell \u001b[1;32mIn[13], line 6\u001b[1;36m\u001b[0m\n\u001b[1;33m    print(\"okay\")\u001b[0m\n\u001b[1;37m    ^\u001b[0m\n\u001b[1;31mIndentationError\u001b[0m\u001b[1;31m:\u001b[0m unexpected indent\n"
     ]
    }
   ],
   "source": [
    "print(10)\n",
    "print(20)\n",
    "if 100>10:\n",
    "    print(\"hello\")\n",
    "print(\"good morning\")\n",
    "   print(\"okay\")\n",
    "print(\"bye\")"
   ]
  },
  {
   "cell_type": "code",
   "execution_count": 15,
   "id": "4ef02281-5d52-4c8c-8c75-bca67a4c313e",
   "metadata": {},
   "outputs": [
    {
     "name": "stdout",
     "output_type": "stream",
     "text": [
      "10\n",
      "hello\n",
      "good morning\n",
      "okay\n",
      "bye\n"
     ]
    }
   ],
   "source": [
    "print(10)\n",
    "if True:\n",
    "    print(\"hello\")\n",
    "print(\"good morning\")\n",
    "print(\"okay\")\n",
    "print(\"bye\")"
   ]
  },
  {
   "cell_type": "code",
   "execution_count": 17,
   "id": "00c26006-8671-4d5b-bcec-14e890a24d0c",
   "metadata": {},
   "outputs": [
    {
     "name": "stdout",
     "output_type": "stream",
     "text": [
      "10\n",
      "20\n",
      "okay\n",
      "bye\n"
     ]
    }
   ],
   "source": [
    "print(10)\n",
    "print(20)\n",
    "if 100<10:\n",
    "    print(\"hello\")\n",
    "    print(\"good morning\")\n",
    "print(\"okay\")\n",
    "print(\"bye\")"
   ]
  },
  {
   "cell_type": "code",
   "execution_count": 18,
   "id": "f48578e9-7404-494d-a7b1-5372dcaa940e",
   "metadata": {},
   "outputs": [
    {
     "name": "stdout",
     "output_type": "stream",
     "text": [
      "10\n",
      "20\n",
      "okay\n",
      "bye\n"
     ]
    }
   ],
   "source": [
    "print(10)\n",
    "print(20)\n",
    "if False:\n",
    "    print(\"hello\")\n",
    "    print(\"good morning\")\n",
    "print(\"okay\")\n",
    "print(\"bye\")"
   ]
  },
  {
   "cell_type": "code",
   "execution_count": 19,
   "id": "3b932870-2d26-4813-92da-558ca7c2267d",
   "metadata": {},
   "outputs": [
    {
     "name": "stdout",
     "output_type": "stream",
     "text": [
      "10\n",
      "20\n",
      "hello\n",
      "good morning\n",
      "okay\n",
      "bye\n"
     ]
    }
   ],
   "source": [
    "print(10)\n",
    "print(20)\n",
    "if 100:\n",
    "    print(\"hello\")\n",
    "    print(\"good morning\")\n",
    "print(\"okay\")\n",
    "print(\"bye\")"
   ]
  },
  {
   "cell_type": "code",
   "execution_count": 20,
   "id": "a58d7a60-1cde-4af4-a75e-4737e5af1537",
   "metadata": {},
   "outputs": [
    {
     "data": {
      "text/plain": [
       "True"
      ]
     },
     "execution_count": 20,
     "metadata": {},
     "output_type": "execute_result"
    }
   ],
   "source": [
    "bool(100)"
   ]
  },
  {
   "cell_type": "code",
   "execution_count": 21,
   "id": "f3ac39f6-91f0-440b-ac36-c8e50931b3a2",
   "metadata": {},
   "outputs": [
    {
     "name": "stdout",
     "output_type": "stream",
     "text": [
      "10\n",
      "20\n",
      "okay\n",
      "bye\n"
     ]
    }
   ],
   "source": [
    "print(10)\n",
    "print(20)\n",
    "if 0:\n",
    "    print(\"hello\")\n",
    "    print(\"good morning\")\n",
    "print(\"okay\")\n",
    "print(\"bye\")"
   ]
  },
  {
   "cell_type": "code",
   "execution_count": 22,
   "id": "ac38ecbe-f4d4-46ae-ba69-2f5fd1e5eda8",
   "metadata": {},
   "outputs": [
    {
     "name": "stdout",
     "output_type": "stream",
     "text": [
      "10\n",
      "20\n",
      "okay\n",
      "bye\n"
     ]
    }
   ],
   "source": [
    "print(10)\n",
    "print(20)\n",
    "if 0.0:\n",
    "    print(\"hello\")\n",
    "    print(\"good morning\")\n",
    "print(\"okay\")\n",
    "print(\"bye\")"
   ]
  },
  {
   "cell_type": "code",
   "execution_count": 24,
   "id": "269f0aec-aede-4d06-b0b8-b46d7f925b82",
   "metadata": {},
   "outputs": [
    {
     "name": "stdout",
     "output_type": "stream",
     "text": [
      "10\n",
      "20\n",
      "hello\n",
      "good morning\n",
      "okay\n",
      "bye\n"
     ]
    }
   ],
   "source": [
    "print(10)\n",
    "print(20)\n",
    "if 'hello':\n",
    "    print(\"hello\")\n",
    "    print(\"good morning\")\n",
    "print(\"okay\")\n",
    "print(\"bye\")"
   ]
  },
  {
   "cell_type": "code",
   "execution_count": 26,
   "id": "870ba724-a161-4dc1-81ef-13baf36aa92f",
   "metadata": {},
   "outputs": [
    {
     "data": {
      "text/plain": [
       "True"
      ]
     },
     "execution_count": 26,
     "metadata": {},
     "output_type": "execute_result"
    }
   ],
   "source": [
    "bool('hello')"
   ]
  },
  {
   "cell_type": "code",
   "execution_count": 25,
   "id": "06555784-1ca4-422b-b991-62413b04eb36",
   "metadata": {},
   "outputs": [
    {
     "name": "stdout",
     "output_type": "stream",
     "text": [
      "10\n",
      "20\n",
      "okay\n",
      "bye\n"
     ]
    }
   ],
   "source": [
    "print(10)\n",
    "print(20)\n",
    "if '':\n",
    "    print(\"hello\")\n",
    "    print(\"good morning\")\n",
    "print(\"okay\")\n",
    "print(\"bye\")"
   ]
  },
  {
   "cell_type": "code",
   "execution_count": 27,
   "id": "0496f67d-1632-47b4-9764-1517b26114f9",
   "metadata": {},
   "outputs": [
    {
     "name": "stdout",
     "output_type": "stream",
     "text": [
      "10\n",
      "20\n"
     ]
    },
    {
     "ename": "NameError",
     "evalue": "name 'true' is not defined",
     "output_type": "error",
     "traceback": [
      "\u001b[1;31m---------------------------------------------------------------------------\u001b[0m",
      "\u001b[1;31mNameError\u001b[0m                                 Traceback (most recent call last)",
      "Cell \u001b[1;32mIn[27], line 3\u001b[0m\n\u001b[0;32m      1\u001b[0m \u001b[38;5;28mprint\u001b[39m(\u001b[38;5;241m10\u001b[39m)\n\u001b[0;32m      2\u001b[0m \u001b[38;5;28mprint\u001b[39m(\u001b[38;5;241m20\u001b[39m)\n\u001b[1;32m----> 3\u001b[0m \u001b[38;5;28;01mif\u001b[39;00m true:\n\u001b[0;32m      4\u001b[0m     \u001b[38;5;28mprint\u001b[39m(\u001b[38;5;124m\"\u001b[39m\u001b[38;5;124mhello\u001b[39m\u001b[38;5;124m\"\u001b[39m)\n\u001b[0;32m      5\u001b[0m     \u001b[38;5;28mprint\u001b[39m(\u001b[38;5;124m\"\u001b[39m\u001b[38;5;124mgood morning\u001b[39m\u001b[38;5;124m\"\u001b[39m)\n",
      "\u001b[1;31mNameError\u001b[0m: name 'true' is not defined"
     ]
    }
   ],
   "source": [
    "print(10)\n",
    "print(20)\n",
    "if true:\n",
    "    print(\"hello\")\n",
    "    print(\"good morning\")\n",
    "print(\"okay\")\n",
    "print(\"bye\")"
   ]
  },
  {
   "cell_type": "markdown",
   "id": "9df961f3-877f-418e-9b20-9a62a9cd7ca0",
   "metadata": {},
   "source": [
    "**if-else**\n",
    "\n",
    "- if required condition \n",
    "- if that condition is True, then it will execute if block\n",
    "- otherwise it can directly go to else block\n",
    "- so else block does not required any condition"
   ]
  },
  {
   "cell_type": "code",
   "execution_count": null,
   "id": "a2474f56-6d20-4d8c-9301-cb1ccee0d74c",
   "metadata": {},
   "outputs": [],
   "source": [
    "# syntax \n",
    "\n",
    "if <condition>:\n",
    "    <code line>\n",
    "else:\n",
    "    <code line>\n",
    "        "
   ]
  },
  {
   "cell_type": "code",
   "execution_count": 28,
   "id": "156edd43-70c9-4535-9ba9-e2f67e16ae16",
   "metadata": {},
   "outputs": [
    {
     "name": "stdout",
     "output_type": "stream",
     "text": [
      "hii\n",
      "i read books\n"
     ]
    }
   ],
   "source": [
    "if 100>10:\n",
    "    print(\"hii\")\n",
    "    print(\"i read books\")\n",
    "else:\n",
    "    print(\"i want to hear some ghost stories\")"
   ]
  },
  {
   "cell_type": "code",
   "execution_count": 29,
   "id": "43c1d46c-61bd-4aa2-8f35-9e473cac5d6d",
   "metadata": {},
   "outputs": [
    {
     "name": "stdout",
     "output_type": "stream",
     "text": [
      "i want to hear some ghost stories\n"
     ]
    }
   ],
   "source": [
    "if 100<10:\n",
    "    print(\"hii\")\n",
    "    print(\"i read books\")\n",
    "else:\n",
    "    print(\"i want to hear some ghost stories\")"
   ]
  },
  {
   "cell_type": "code",
   "execution_count": 30,
   "id": "6b80ac5f-70d9-476f-8f5f-a4804710daf6",
   "metadata": {},
   "outputs": [
    {
     "name": "stdout",
     "output_type": "stream",
     "text": [
      "hii\n",
      "i read books\n"
     ]
    }
   ],
   "source": [
    "if True:\n",
    "    print(\"hii\")\n",
    "    print(\"i read books\")\n",
    "else:\n",
    "    print(\"i want to hear some ghost stories\")"
   ]
  },
  {
   "cell_type": "code",
   "execution_count": 31,
   "id": "7158a850-96b0-4b73-bed3-5b498d190b53",
   "metadata": {},
   "outputs": [
    {
     "ename": "NameError",
     "evalue": "name 'true' is not defined",
     "output_type": "error",
     "traceback": [
      "\u001b[1;31m---------------------------------------------------------------------------\u001b[0m",
      "\u001b[1;31mNameError\u001b[0m                                 Traceback (most recent call last)",
      "Cell \u001b[1;32mIn[31], line 1\u001b[0m\n\u001b[1;32m----> 1\u001b[0m \u001b[38;5;28;01mif\u001b[39;00m true:\n\u001b[0;32m      2\u001b[0m     \u001b[38;5;28mprint\u001b[39m(\u001b[38;5;124m\"\u001b[39m\u001b[38;5;124mhii\u001b[39m\u001b[38;5;124m\"\u001b[39m)\n\u001b[0;32m      3\u001b[0m     \u001b[38;5;28mprint\u001b[39m(\u001b[38;5;124m\"\u001b[39m\u001b[38;5;124mi read books\u001b[39m\u001b[38;5;124m\"\u001b[39m)\n",
      "\u001b[1;31mNameError\u001b[0m: name 'true' is not defined"
     ]
    }
   ],
   "source": [
    "if true:\n",
    "    print(\"hii\")\n",
    "    print(\"i read books\")\n",
    "else:\n",
    "    print(\"i want to hear some ghost stories\")"
   ]
  },
  {
   "cell_type": "code",
   "execution_count": 32,
   "id": "f1f2f377-9bb5-475f-84c4-fd448191fc05",
   "metadata": {},
   "outputs": [
    {
     "name": "stdout",
     "output_type": "stream",
     "text": [
      "hii\n",
      "i read books\n"
     ]
    }
   ],
   "source": [
    "if 100:\n",
    "    print(\"hii\")\n",
    "    print(\"i read books\")\n",
    "else:\n",
    "    print(\"i want to hear some ghost stories\")"
   ]
  },
  {
   "cell_type": "code",
   "execution_count": 34,
   "id": "bd483059-29d7-40b0-bee1-cc5c07f1ddc6",
   "metadata": {},
   "outputs": [
    {
     "name": "stdout",
     "output_type": "stream",
     "text": [
      "i want to hear some ghost stories\n"
     ]
    }
   ],
   "source": [
    "if 0:\n",
    "    print(\"hii\")\n",
    "    print(\"i read books\")\n",
    "else:\n",
    "    print(\"i want to hear some ghost stories\")"
   ]
  },
  {
   "cell_type": "code",
   "execution_count": 35,
   "id": "3e366d85-9cb8-4c63-9218-c2a588d4c719",
   "metadata": {},
   "outputs": [
    {
     "name": "stdout",
     "output_type": "stream",
     "text": [
      "i want to hear some ghost stories\n"
     ]
    }
   ],
   "source": [
    "if False:\n",
    "    print(\"hii\")\n",
    "    print(\"i read books\")\n",
    "else:\n",
    "    print(\"i want to hear some ghost stories\")"
   ]
  },
  {
   "cell_type": "code",
   "execution_count": 37,
   "id": "e1b6164f-99f1-4ad5-87f9-92572793ca1b",
   "metadata": {},
   "outputs": [
    {
     "name": "stdout",
     "output_type": "stream",
     "text": [
      "10\n",
      "0\n",
      "10\n",
      "0.0\n"
     ]
    },
    {
     "ename": "ZeroDivisionError",
     "evalue": "division by zero",
     "output_type": "error",
     "traceback": [
      "\u001b[1;31m---------------------------------------------------------------------------\u001b[0m",
      "\u001b[1;31mZeroDivisionError\u001b[0m                         Traceback (most recent call last)",
      "Cell \u001b[1;32mIn[37], line 10\u001b[0m\n\u001b[0;32m      8\u001b[0m d\u001b[38;5;241m=\u001b[39mb\u001b[38;5;241m/\u001b[39ma\n\u001b[0;32m      9\u001b[0m \u001b[38;5;28mprint\u001b[39m(d) \u001b[38;5;66;03m# 0/10=0\u001b[39;00m\n\u001b[1;32m---> 10\u001b[0m e\u001b[38;5;241m=\u001b[39ma\u001b[38;5;241m/\u001b[39mb\n\u001b[0;32m     11\u001b[0m \u001b[38;5;28mprint\u001b[39m(e)\n",
      "\u001b[1;31mZeroDivisionError\u001b[0m: division by zero"
     ]
    }
   ],
   "source": [
    "if True:\n",
    "    a=10\n",
    "    b=0\n",
    "    print(a) # 10\n",
    "    print(b) # 0\n",
    "    c=a+b\n",
    "    print(c) # 10+0=10\n",
    "    d=b/a\n",
    "    print(d) # 0/10=0\n",
    "    e=a/b\n",
    "    print(e) #10/0 means error"
   ]
  },
  {
   "cell_type": "code",
   "execution_count": null,
   "id": "a61763cb-ca85-4ed1-a27c-9c5bd2be827b",
   "metadata": {},
   "outputs": [],
   "source": [
    "0/10   10/0    0/0"
   ]
  },
  {
   "cell_type": "code",
   "execution_count": 39,
   "id": "e17b9298-fef1-4907-9032-0778042bf70d",
   "metadata": {},
   "outputs": [
    {
     "data": {
      "text/plain": [
       "1.25"
      ]
     },
     "execution_count": 39,
     "metadata": {},
     "output_type": "execute_result"
    }
   ],
   "source": [
    "5/4            # normal divisio"
   ]
  },
  {
   "cell_type": "code",
   "execution_count": 40,
   "id": "42f8edfb-9825-40c3-bd0b-519ebb951193",
   "metadata": {},
   "outputs": [
    {
     "data": {
      "text/plain": [
       "1"
      ]
     },
     "execution_count": 40,
     "metadata": {},
     "output_type": "execute_result"
    }
   ],
   "source": [
    "5//4           # floor division"
   ]
  },
  {
   "cell_type": "code",
   "execution_count": 41,
   "id": "4077775a-7aa4-46df-9a69-2574c754a67b",
   "metadata": {},
   "outputs": [
    {
     "data": {
      "text/plain": [
       "1"
      ]
     },
     "execution_count": 41,
     "metadata": {},
     "output_type": "execute_result"
    }
   ],
   "source": [
    "# modulus operator\n",
    "5%4           # reminder division"
   ]
  },
  {
   "cell_type": "code",
   "execution_count": null,
   "id": "9a07833c-7c64-4d9a-83dd-c76882d289cf",
   "metadata": {},
   "outputs": [],
   "source": [
    "/ --- normal division(return type float)\n",
    "// --- floor division(return type int) quotient\n",
    "% ---remainder(return int) sir is my thinking correct"
   ]
  },
  {
   "cell_type": "code",
   "execution_count": 43,
   "id": "8ac48ae5-4d0d-4ed5-91d0-be5169e1b160",
   "metadata": {},
   "outputs": [
    {
     "name": "stdin",
     "output_type": "stream",
     "text": [
      "enter the number: 3\n"
     ]
    },
    {
     "name": "stdout",
     "output_type": "stream",
     "text": [
      "the no. is odd\n"
     ]
    }
   ],
   "source": [
    "# WAP all the user enter a number \n",
    "# find it is a even no. or odd no.\n",
    "\n",
    "num=eval(input(\"enter the number:\"))\n",
    "if num%2==0:\n",
    "    print(\"the no.is even\")\n",
    "else:\n",
    "    print(\"the no. is odd\")"
   ]
  },
  {
   "cell_type": "code",
   "execution_count": 44,
   "id": "e1e41e76-4eff-4c29-89c6-b3ec5fac553d",
   "metadata": {},
   "outputs": [
    {
     "name": "stdin",
     "output_type": "stream",
     "text": [
      "enter the number: 10\n"
     ]
    },
    {
     "name": "stdout",
     "output_type": "stream",
     "text": [
      "the no.is even\n"
     ]
    }
   ],
   "source": [
    "num=eval(input(\"enter the number:\"))\n",
    "if num%2==0:\n",
    "    print(\"the no.is even\")\n",
    "else:\n",
    "    print(\"the no. is odd\")"
   ]
  },
  {
   "cell_type": "code",
   "execution_count": 3,
   "id": "de866803-1771-443a-92ed-330a13598d96",
   "metadata": {},
   "outputs": [
    {
     "name": "stdin",
     "output_type": "stream",
     "text": [
      "enter the start value: 3\n",
      "enter the end value: 10\n"
     ]
    },
    {
     "name": "stdout",
     "output_type": "stream",
     "text": [
      "the 75 is odd\n"
     ]
    }
   ],
   "source": [
    "# WAP all the user enter a random number. \n",
    "# find it is a even no. or odd no.\n",
    "\n",
    "import random\n",
    "start=eval(input(\"enter the start value:\"))\n",
    "end=eval(input(\"enter the end value:\"))\n",
    "num=random.randint(1,100)\n",
    "if num%2==0:\n",
    "    print(f\"the {num}is even\")\n",
    "else:\n",
    "    print(f\"the {num} is odd\")"
   ]
  },
  {
   "cell_type": "markdown",
   "id": "a9014ecf-9ee1-4b7e-9245-ba8c9a9cbd0e",
   "metadata": {},
   "source": [
    "- we are providing values means it is hard coded\n",
    "- code should be always generic,without hard codings"
   ]
  },
  {
   "cell_type": "code",
   "execution_count": 3,
   "id": "69d9b9cc-0bcf-40e0-85b0-36ca0f6fed5f",
   "metadata": {},
   "outputs": [
    {
     "name": "stdin",
     "output_type": "stream",
     "text": [
      "enter the distance in km: 2500\n",
      "enter the charge in rs 570\n"
     ]
    },
    {
     "name": "stdout",
     "output_type": "stream",
     "text": [
      "the total charge is: 1425000\n"
     ]
    }
   ],
   "source": [
    "# WAP ask the user enter the ditance \n",
    "# if distance greater than 25km\n",
    "# print(\"good news your charge is applicable for only remaining of 25\")\n",
    "# then enter the charge\n",
    "# print the total cost\n",
    "# otherwise print free ride\n",
    "\n",
    "dis=eval(input(\"enter the distance in km:\"))\n",
    "if dis>25:\n",
    "    charge=eval(input(\"enter the charge in rs\"))\n",
    "    cost=dis*charge\n",
    "    print(\"the total charge is:\",cost)\n",
    "else:\n",
    "    print(\"enjoy the free ride\")"
   ]
  },
  {
   "cell_type": "code",
   "execution_count": 11,
   "id": "541c7a94-2422-43fc-9f2b-4fee335f9b41",
   "metadata": {},
   "outputs": [
    {
     "name": "stdin",
     "output_type": "stream",
     "text": [
      "enter the distance: 50\n"
     ]
    },
    {
     "name": "stdout",
     "output_type": "stream",
     "text": [
      "good news your charge is applicable for only remaining of 25\n",
      "the remaining distnce is25\n"
     ]
    },
    {
     "name": "stdin",
     "output_type": "stream",
     "text": [
      "enter the charge: 67\n"
     ]
    },
    {
     "name": "stdout",
     "output_type": "stream",
     "text": [
      "the total_cost is:1675\n"
     ]
    }
   ],
   "source": [
    "# WAP ask the user enter the ditance \n",
    "# cut off distance enter 25\n",
    "# if distance greater than 25km\n",
    "# print(\"good news your charge is applicable for only remaining of 25\")\n",
    "# chargable distance=distance-cutoff \n",
    "# then enter the charge\n",
    "# print the total cost\n",
    "# otherwise print free ride\n",
    "\n",
    "\n",
    "dis=eval(input(\"enter the distance:\"))\n",
    "cutoff_distance=25\n",
    "if dis>25:\n",
    "    print(\"good news your charge is applicable for only remaining of 25\")\n",
    "    chargable_distance=dis-cutoff_distance\n",
    "    print(f\"the remaining distnce is{chargable_distance}\")\n",
    "    charge=eval(input(\"enter the charge:\"))\n",
    "    total_cost=charge*chargable_distance\n",
    "    print(f\"the total_cost is:{total_cost}\")\n",
    "else:\n",
    "   print(\"free ride\")\n",
    "\n"
   ]
  },
  {
   "cell_type": "code",
   "execution_count": 15,
   "id": "b43f2e95-6211-432f-b80d-5c8a72e0ad33",
   "metadata": {},
   "outputs": [
    {
     "name": "stdin",
     "output_type": "stream",
     "text": [
      "enter the course: Data_science\n",
      "enter the institute: Naresh_IT\n"
     ]
    },
    {
     "name": "stdout",
     "output_type": "stream",
     "text": [
      "you are good\n"
     ]
    }
   ],
   "source": [
    "# WAP ask the user enter the course\n",
    "# ask the user enter the institute\n",
    "# if the course equal to data science and institute equal to naresh it\n",
    "# then yoou are good\n",
    "# otherwise you are bad\n",
    "\n",
    "course=input(\"enter the course:\")\n",
    "institute=input(\"enter the institute:\")\n",
    "if course=='Data_science' and institute=='Naresh_IT':\n",
    "        print(\"you are good\")\n",
    "else:\n",
    "   print(\"you are bad\")\n"
   ]
  },
  {
   "cell_type": "code",
   "execution_count": 4,
   "id": "24003aa3-e33a-443a-b502-971b15128d3e",
   "metadata": {},
   "outputs": [
    {
     "name": "stdin",
     "output_type": "stream",
     "text": [
      "enter the course: Data_science\n",
      "enter the institute: naresh it\n"
     ]
    },
    {
     "name": "stdout",
     "output_type": "stream",
     "text": [
      "you are bad\n"
     ]
    }
   ],
   "source": [
    "course=input(\"enter the course:\")\n",
    "institute=input(\"enter the institute:\")\n",
    "if course=='Data_science' and institute=='Naresh_IT':\n",
    "        print(\"you are good\")\n",
    "else:\n",
    "   print(\"you are bad\")"
   ]
  },
  {
   "cell_type": "code",
   "execution_count": 2,
   "id": "d70c3f62-e83c-4916-a16c-8eb7a6f8ae00",
   "metadata": {},
   "outputs": [
    {
     "name": "stdin",
     "output_type": "stream",
     "text": [
      "enter the course: Data_science\n",
      "enter the institute: naresh it\n"
     ]
    },
    {
     "name": "stdout",
     "output_type": "stream",
     "text": [
      "you are good\n"
     ]
    }
   ],
   "source": [
    "# WAP ask the user enter the course\n",
    "# ask the user enter the institute\n",
    "# if the course equal to data science or institute equal to naresh it\n",
    "# then you are good\n",
    "# otherwise you are bad\n",
    "\n",
    "course=input(\"enter the course:\")\n",
    "institute=input(\"enter the institute:\")\n",
    "if course=='Data_science' or institute=='Naresh_IT':\n",
    "        print(\"you are good\")\n",
    "else:\n",
    "   print(\"you are bad\")\n"
   ]
  },
  {
   "cell_type": "code",
   "execution_count": 5,
   "id": "dbd3988b-529f-4a71-af5d-8e407b8a8169",
   "metadata": {},
   "outputs": [
    {
     "name": "stdin",
     "output_type": "stream",
     "text": [
      "enter the course: data science\n",
      "enter the institute: naresh it\n"
     ]
    },
    {
     "name": "stdout",
     "output_type": "stream",
     "text": [
      "you are bad\n"
     ]
    }
   ],
   "source": [
    "course=input(\"enter the course:\")\n",
    "institute=input(\"enter the institute:\")\n",
    "if course=='Data_science' or institute=='Naresh_IT':\n",
    "        print(\"you are good\")\n",
    "else:\n",
    "   print(\"you are bad\")\n"
   ]
  },
  {
   "cell_type": "markdown",
   "id": "000eff79-79fb-4ac7-bb0e-9837085e44f6",
   "metadata": {},
   "source": [
    "- and means two condition need to satisfy\n",
    "- or means any one condition enough to satisfy"
   ]
  },
  {
   "cell_type": "code",
   "execution_count": null,
   "id": "37c3fe1f-2731-4a19-a6ae-e28ecfff691b",
   "metadata": {},
   "outputs": [],
   "source": [
    "ir why can't we use eval in first two lines of code\n",
    "eval =====evaluate === math familiy ==== numbers only"
   ]
  },
  {
   "cell_type": "code",
   "execution_count": 6,
   "id": "3e3f806e-f70a-4592-ad05-cf85f05def9f",
   "metadata": {},
   "outputs": [
    {
     "name": "stdin",
     "output_type": "stream",
     "text": [
      " renuka\n"
     ]
    },
    {
     "ename": "NameError",
     "evalue": "name 'renuka' is not defined",
     "output_type": "error",
     "traceback": [
      "\u001b[1;31m---------------------------------------------------------------------------\u001b[0m",
      "\u001b[1;31mNameError\u001b[0m                                 Traceback (most recent call last)",
      "Cell \u001b[1;32mIn[6], line 1\u001b[0m\n\u001b[1;32m----> 1\u001b[0m \u001b[38;5;28meval\u001b[39m(\u001b[38;5;28minput\u001b[39m())\n",
      "File \u001b[1;32m<string>:1\u001b[0m\n",
      "\u001b[1;31mNameError\u001b[0m: name 'renuka' is not defined"
     ]
    }
   ],
   "source": [
    "eval(input())"
   ]
  },
  {
   "cell_type": "code",
   "execution_count": 7,
   "id": "b6b26c93-270c-4db8-82b0-172665a106aa",
   "metadata": {},
   "outputs": [
    {
     "name": "stdin",
     "output_type": "stream",
     "text": [
      "enter the number from keyboard: 3\n"
     ]
    },
    {
     "name": "stdout",
     "output_type": "stream",
     "text": [
      "so sad 4 and 3 does not matched\n",
      "you lost\n"
     ]
    }
   ],
   "source": [
    "# WAP ask the user enter a random number between 1 to 10, treat this as number1\n",
    "# ask the user enter the another number from keyboard, treat this as number2\n",
    "# if number1 equal to number2\n",
    "# print you won\n",
    "# otherwise print you lost\n",
    "\n",
    "import random\n",
    "num1=random.randint(1,10)\n",
    "num2=eval(input(\"enter the number from keyboard:\"))\n",
    "if num1==num2:\n",
    "    print(f\"congratulation {num1} and {num2} matched \")\n",
    "    print(\"you won\")\n",
    "else:\n",
    "    print(f\"so sad {num1} and {num2} does not matched\")\n",
    "    print(\"you lost\")"
   ]
  },
  {
   "cell_type": "markdown",
   "id": "7318b796-f37d-4d69-9481-f93a48862b9d",
   "metadata": {},
   "source": [
    "- Till now we have seen one condition problem\n",
    "- which means if that condition is True will get one answer\n",
    "- if that condition False then will get another answer\n",
    "- how about if we have more than 2 conditions\n",
    "- if-elif-else\n",
    "- two conditions means 3 results\n",
    "- if has one condition\n",
    "- elif has second condition\n",
    "- if both are false the result is in else"
   ]
  },
  {
   "cell_type": "code",
   "execution_count": null,
   "id": "03536842-8c6a-422d-bed4-22eb76a122ce",
   "metadata": {},
   "outputs": [],
   "source": [
    "# syntax\n",
    "\n",
    "if <condition>:\n",
    "    <statements>\n",
    "elif <condition>:\n",
    "    <statements>\n",
    "else:\n",
    "    <statement>\n",
    "\n",
    "if-else\n",
    "if-elif-else\n",
    "if-elif-elif-else"
   ]
  },
  {
   "cell_type": "code",
   "execution_count": 30,
   "id": "a86dfff4-fbda-416d-9ed2-6d7c1234d464",
   "metadata": {},
   "outputs": [
    {
     "name": "stdin",
     "output_type": "stream",
     "text": [
      "enter the number: 10\n"
     ]
    },
    {
     "name": "stdout",
     "output_type": "stream",
     "text": [
      "enter a valid number\n"
     ]
    }
   ],
   "source": [
    "# WAP ask the user enter number \n",
    "# if number equal to 1 then print one\n",
    "# if number equal to 2 then print two\n",
    "# if number equal to 3 then print three\n",
    "# otherwise print enter a valid number\n",
    "\n",
    "num=eval(input(\"enter the number:\"))\n",
    "if num==1:\n",
    "    print(\"one\")\n",
    "elif num==2:\n",
    "    print(\"two\")\n",
    "elif num==3:\n",
    "    print(\"three\")\n",
    "else:\n",
    "    print(\"enter a valid number\")\n"
   ]
  },
  {
   "cell_type": "code",
   "execution_count": 36,
   "id": "7a0e61c7-09de-4622-b891-7da4dd368c32",
   "metadata": {},
   "outputs": [
    {
     "name": "stdin",
     "output_type": "stream",
     "text": [
      "enter the number: 3\n"
     ]
    },
    {
     "name": "stdout",
     "output_type": "stream",
     "text": [
      "three\n"
     ]
    }
   ],
   "source": [
    "num=eval(input(\"enter the number:\"))\n",
    "if num==1:print(\"one\")\n",
    "elif num==2:print(\"two\")\n",
    "elif num==3:print(\"three\")\n",
    "else:print(\"enter a valid number\")"
   ]
  },
  {
   "cell_type": "code",
   "execution_count": 37,
   "id": "70054886-8182-4539-b7e3-659f323800aa",
   "metadata": {},
   "outputs": [
    {
     "name": "stdin",
     "output_type": "stream",
     "text": [
      "enter the number: 3\n"
     ]
    },
    {
     "name": "stdout",
     "output_type": "stream",
     "text": [
      "positive\n"
     ]
    }
   ],
   "source": [
    "# WAP ask the user enter a number\n",
    "# if that number greater than 0 print positive\n",
    "# if that number less than 0 print negative\n",
    "# otherwise print 0\n",
    "\n",
    "num=eval(input(\"enter the number:\"))\n",
    "if num>0:\n",
    "    print(\"positive\")\n",
    "elif num<0:\n",
    "    print(\"negative\")\n",
    "else:\n",
    "    print(\"0\")"
   ]
  },
  {
   "cell_type": "code",
   "execution_count": 48,
   "id": "c7edcbdc-5024-47f7-870f-281055cac68b",
   "metadata": {},
   "outputs": [
    {
     "name": "stdin",
     "output_type": "stream",
     "text": [
      "eneter the percentage 96\n"
     ]
    },
    {
     "name": "stdout",
     "output_type": "stream",
     "text": [
      " A grade\n"
     ]
    }
   ],
   "source": [
    "# WAP ask the user enter the percentage of marks\n",
    "# if percentage greater than 90 print A grade\n",
    "# if percentage between 75 to 90 print B grade\n",
    "# if percentage between 50 to 75 print C grade\n",
    "# if percentage between 35 to 50 print D grade\n",
    "# if percentage less than 35 print fail\n",
    "\n",
    "percentage=eval(input(\"eneter the percentage\"))\n",
    "if percentage>=90:\n",
    "    print(\" A grade\")\n",
    "elif percentage>=75:\n",
    "    print(\"B grade\")\n",
    "elif percentage>=50:\n",
    "    print(\"C grade\")\n",
    "elif percentage>=35:\n",
    "    print(\"D grade\")\n",
    "else:\n",
    "     print(\"Fail\")"
   ]
  },
  {
   "cell_type": "code",
   "execution_count": 56,
   "id": "0ca28f56-d7c2-424f-8292-397a88c3e67e",
   "metadata": {},
   "outputs": [
    {
     "name": "stdin",
     "output_type": "stream",
     "text": [
      "eneter the percentage 95\n"
     ]
    },
    {
     "name": "stdout",
     "output_type": "stream",
     "text": [
      " A grade\n"
     ]
    }
   ],
   "source": [
    "percentage=eval(input(\"eneter the percentage\"))\n",
    "if percentage>=90:\n",
    "    print(\" A grade\")\n",
    "elif percentage>=90 and percentage<=75:\n",
    "    print(\"B grade\")\n",
    "elif percentage>=75 and percentage<=50:\n",
    "    print(\"C grade\")\n",
    "elif percentage>=50 and percentage<=35:\n",
    "    print(\"D grade\")\n",
    "else:\n",
    "     print(\"Fail\")"
   ]
  },
  {
   "cell_type": "code",
   "execution_count": 55,
   "id": "de9ded8e-804b-4573-a174-f1b6f3af1439",
   "metadata": {},
   "outputs": [
    {
     "name": "stdin",
     "output_type": "stream",
     "text": [
      "eneter the age 10\n"
     ]
    },
    {
     "name": "stdout",
     "output_type": "stream",
     "text": [
      "kid\n"
     ]
    }
   ],
   "source": [
    "# WAP ask the user enter the age\n",
    "# if the age greater than 100 print you are lucky\n",
    "# if the age greater than 75 print old age\n",
    "# if the age between 50 to 75 print senior citizen\n",
    "# if the age between 30 to 50 print middle age\n",
    "# if the age between 15 to 30 print young age\n",
    "# if the age less than 15 print kid\n",
    "\n",
    "age=eval(input(\"eneter the age\"))\n",
    "if age>=100:\n",
    "    print(\"you are lucky\")\n",
    "elif age>=75:\n",
    "    print(\"old age\")\n",
    "elif age>=50:\n",
    "    print(\"senior citizen\")\n",
    "elif age>=30:\n",
    "    print(\"middle age\")\n",
    "elif age>=15:\n",
    "    print(\"young age\")\n",
    "else:\n",
    "     print(\"kid\")\n"
   ]
  },
  {
   "cell_type": "code",
   "execution_count": 2,
   "id": "f229b39f-f423-4be0-a651-e372d23c0434",
   "metadata": {},
   "outputs": [
    {
     "name": "stdin",
     "output_type": "stream",
     "text": [
      "enter the number1: 10\n",
      "enter the number2: 3\n"
     ]
    },
    {
     "name": "stdout",
     "output_type": "stream",
     "text": [
      "enter operation 1 for addition\n",
      "enter operation 2 for multiplication\n",
      "enter operation 1 for substraction\n",
      "enter operation 1 for division\n"
     ]
    },
    {
     "name": "stdin",
     "output_type": "stream",
     "text": [
      "enter a choice of operation between 1 to 4: 3\n"
     ]
    },
    {
     "name": "stdout",
     "output_type": "stream",
     "text": [
      "enter a valid number\n"
     ]
    }
   ],
   "source": [
    "# WAP ask the user enter 2 numbers\n",
    "# num1\n",
    "# num2\n",
    "# you need to print\n",
    "# enter operation 1 for addition\n",
    "# enter operation 2 for mult\n",
    "# enter oper 3 for sub\n",
    "# enter oper 4 for div\n",
    "# enter the operation between 1 to 4\n",
    "# if operation equal to 1 then add\n",
    "#  if operation equal to 1 then mul\n",
    "# if operation equal to 1 then sub\n",
    "# if operation equal to 1 then div\n",
    "# otherwisw print enter a valid number\n",
    "\n",
    "\n",
    "num1=eval(input(\"enter the number1:\"))\n",
    "num2=eval(input(\"enter the number2:\"))\n",
    "addition=num1+num2\n",
    "multiplication=num1*num2\n",
    "substraction=num2-num1\n",
    "division=num1/num2\n",
    "print(\"enter operation 1 for addition\")\n",
    "print(\"enter operation 2 for multiplication\")\n",
    "print(\"enter operation 1 for substraction\")\n",
    "print(\"enter operation 1 for division\")\n",
    "operation=eval(input(\"enter a choice of operation between 1 to 4:\"))\n",
    "if operation==1:\n",
    "    print(\"add\")\n",
    "elif operation==1:\n",
    "    print(\"multi\")\n",
    "elif operation==1:\n",
    "    print(\"sub\")\n",
    "elif operation==1:\n",
    "    print(\"div\")\n",
    "else:\n",
    "    print(\"enter a valid number\")\n",
    "\n",
    "\n"
   ]
  },
  {
   "cell_type": "code",
   "execution_count": 5,
   "id": "3536203c-1d38-44c2-970a-9ebbf5d8e8d4",
   "metadata": {},
   "outputs": [
    {
     "name": "stdin",
     "output_type": "stream",
     "text": [
      "enter the gender: 13\n"
     ]
    },
    {
     "name": "stdout",
     "output_type": "stream",
     "text": [
      "enter valid gender\n"
     ]
    }
   ],
   "source": [
    "# WAP ask the user enter the gender\n",
    "# if gender equal to male\n",
    "# ask the user enter age\n",
    "# if the age greater than 60 ptint senior citizen\n",
    "# if the age between 30 to 60 print man\n",
    "# if the age between 15 to 30 print young man\n",
    "# otherwise print boy\n",
    "# elif gender equal to female\n",
    "#  ask the user enter age\n",
    "# if the age greater than 60 ptint senior citizen\n",
    "# if the age between 30 to 60 print woman\n",
    "# if the age between 15 to 30 print young girl\n",
    "# otherwise print girl\n",
    "\n",
    "gender=input(\"enter the gender:\")\n",
    "if gender=='male':\n",
    "    age=eval(input(\"enter the age:\"))\n",
    "    if age>=60:\n",
    "        print(\"Senior citizen\")\n",
    "    elif age>=30:\n",
    "        print(\"Man\")\n",
    "    elif age>=15:\n",
    "        print(\"young man\")\n",
    "    else:\n",
    "        print(\"Boy\")\n",
    "elif gender=='female':\n",
    "    age=eval(input(\"enter the age:\"))\n",
    "    if age>=60:\n",
    "        print(\"Senior citizen\")\n",
    "    elif age>=30:\n",
    "        print(\"Man\")\n",
    "    elif age>=15:\n",
    "        print(\"young man\")\n",
    "    else:\n",
    "        print(\"Boy\")\n",
    "else:\n",
    "    print(\"enter valid gender\")"
   ]
  },
  {
   "cell_type": "code",
   "execution_count": 18,
   "id": "3848ce79-94e7-4d2f-add8-f7df08d3b32c",
   "metadata": {},
   "outputs": [
    {
     "name": "stdin",
     "output_type": "stream",
     "text": [
      "enter the number 10\n"
     ]
    },
    {
     "name": "stdout",
     "output_type": "stream",
     "text": [
      "positive\n"
     ]
    }
   ],
   "source": [
    "# wap ask the user enter a number\n",
    "# if that number greater than or equal to zero\n",
    "# if number equal to zero\n",
    "# print zero\n",
    "# else print positive\n",
    "# else print negative\n",
    "\n",
    "num=eval(input(\"enter the number\"))\n",
    "if num>=0:\n",
    "    if num==0:\n",
    "        print(\"0\")\n",
    "    else:\n",
    "        print(\"positive\")\n",
    "else:\n",
    "    print(\"negative\")\n",
    "    "
   ]
  },
  {
   "cell_type": "code",
   "execution_count": 2,
   "id": "516ff1ad-ff6c-49b5-aff4-87278fc1a87b",
   "metadata": {},
   "outputs": [
    {
     "name": "stdin",
     "output_type": "stream",
     "text": [
      "enter the number1: 3\n",
      "enter the number2: 10\n",
      "enter the number3: 13\n"
     ]
    },
    {
     "name": "stdout",
     "output_type": "stream",
     "text": [
      "the maximum value is 13\n"
     ]
    }
   ],
   "source": [
    "# take three numbers\n",
    "# num1 num2 num3\n",
    "# find the maximum value\n",
    "\n",
    "num1=eval(input(\"enter the number1:\"))\n",
    "num2=eval(input(\"enter the number2:\"))\n",
    "num3=eval(input(\"enter the number3:\"))\n",
    "if num1>=num2 and num1>=num3:\n",
    "                   max_value= num1\n",
    "elif num2>=num1 and num2>=num3:\n",
    "                   max_value= num2\n",
    "else:\n",
    "    max_value=num3\n",
    "print(f\"the maximum value is {max_value}\")\n"
   ]
  },
  {
   "cell_type": "code",
   "execution_count": 4,
   "id": "b30710c2-8ece-4f66-92a3-a96b4581bc8f",
   "metadata": {},
   "outputs": [
    {
     "name": "stdin",
     "output_type": "stream",
     "text": [
      "Enter the number1:  3\n",
      "Enter the number2:  10\n",
      "Enter the number3:  13\n"
     ]
    },
    {
     "name": "stdout",
     "output_type": "stream",
     "text": [
      "The maximum value is: 13\n"
     ]
    }
   ],
   "source": [
    "num1 = eval(input(\"Enter the number1: \"))\n",
    "num2= eval(input(\"Enter the number2: \"))\n",
    "num3= eval(input(\"Enter the number3: \"))\n",
    "max_value = max(num1,num2,num3)\n",
    "print(f\"The maximum value is: {max_value}\")\n"
   ]
  }
 ],
 "metadata": {
  "kernelspec": {
   "display_name": "Python 3 (ipykernel)",
   "language": "python",
   "name": "python3"
  },
  "language_info": {
   "codemirror_mode": {
    "name": "ipython",
    "version": 3
   },
   "file_extension": ".py",
   "mimetype": "text/x-python",
   "name": "python",
   "nbconvert_exporter": "python",
   "pygments_lexer": "ipython3",
   "version": "3.11.7"
  }
 },
 "nbformat": 4,
 "nbformat_minor": 5
}
