{
 "cells": [
  {
   "cell_type": "code",
   "execution_count": 3,
   "id": "7c13512b-a12f-4c09-b6b0-9bbd52c3a533",
   "metadata": {},
   "outputs": [
    {
     "name": "stdin",
     "output_type": "stream",
     "text": [
      "Enter a length in centimeters:  300\n"
     ]
    },
    {
     "name": "stdout",
     "output_type": "stream",
     "text": [
      "300 centimeters is equal to 118.11 inches.\n"
     ]
    }
   ],
   "source": [
    "# Problem-1(use conditional statement)\n",
    "\n",
    "# Write a program that asks the user to enter a length in centimetres. If the user enters\n",
    "# a negative length, the program should tell the user that the entry is invalid. Otherwise,\n",
    "# the program should convert the length to inches and print out the result. There are\n",
    "# 2.54 centimetres in an inch.\n",
    "\n",
    "\n",
    "cm = eval(input(\"Enter a length in centimeters: \"))\n",
    "if cm < 0:\n",
    "     print(\"Invalid entry. Length cannot be negative.\")\n",
    "else:\n",
    "    inches = cm / 2.54\n",
    "    print(f\"{cm} centimeters is equal to {inches:.2f} inches.\")"
   ]
  },
  {
   "cell_type": "code",
   "execution_count": 4,
   "id": "d54321d1-af5a-4613-9a09-790c5a6532d1",
   "metadata": {},
   "outputs": [
    {
     "name": "stdin",
     "output_type": "stream",
     "text": [
      "Enter the temperature:  98\n",
      "Is the temperature in Celsius or Fahrenheit? (C/F):  F\n"
     ]
    },
    {
     "name": "stdout",
     "output_type": "stream",
     "text": [
      "98°F is equal to 36.67°C.\n"
     ]
    }
   ],
   "source": [
    "# Problem-2(Use conditional statements)\n",
    "\n",
    "# Ask the user for a temperature. Then ask them what units, Celsius or Fahrenheit, the\n",
    "# temperature is in. Your program should convert the temperature to the other unit. The\n",
    "# conversions are F = 9 5 C +32 and C = 5 9 (F − 32).\n",
    "\n",
    "temperature = eval(input(\"Enter the temperature: \"))\n",
    "unit = input(\"Is the temperature in Celsius or Fahrenheit? (C/F): \")\n",
    "if unit == 'C':\n",
    "    fahrenheit = (temperature * 9/5) + 32\n",
    "    print(f\"{temperature}°C is equal to {fahrenheit:.2f}°F.\")\n",
    "elif unit == 'F':\n",
    "    celsius = (temperature - 32) * 5/9\n",
    "    print(f\"{temperature}°F is equal to {celsius:.2f}°C.\")\n",
    "else:\n",
    "    print(\"Invalid unit. Please enter 'C' for Celsius or 'F' for Fahrenheit.\")"
   ]
  },
  {
   "cell_type": "code",
   "execution_count": 6,
   "id": "264a6386-77b7-4b57-829a-8cdd7dcbc867",
   "metadata": {},
   "outputs": [
    {
     "name": "stdin",
     "output_type": "stream",
     "text": [
      "Enter a temperature in Celsius:  76\n"
     ]
    },
    {
     "name": "stdout",
     "output_type": "stream",
     "text": [
      "The temperature is in the normal range.\n"
     ]
    }
   ],
   "source": [
    "# Problem-3(Use conditional statements)\n",
    "\n",
    "# Ask the user to enter a temperature in Celsius. The program should print a\n",
    "# message based on the temperature:\n",
    "# • If the temperature is less than -273.15, print that the temperature is invalid because\n",
    "# it is below absolute zero.\n",
    "# • If it is exactly -273.15, print that the temperature is absolute 0.\n",
    "# • If the temperature is between -273.15 and 0, print that the temperature is below\n",
    "# freezing. • If it is 0, print that the temperature is at the freezing point.\n",
    "#  • If it is between 0 and 100, print that the temperature is in the normal\n",
    "#  range. • If it is 100, print that the temperature is at the boiling point.\n",
    "#  • If it is above 100, print that the temperature is above the boiling point.\n",
    "\n",
    "\n",
    "temperature = eval(input(\"Enter a temperature in Celsius: \"))\n",
    "if temperature < -273.15:\n",
    "    print(\"The temperature is invalid because it is below absolute zero.\")\n",
    "elif temperature == -273.15:\n",
    "    print(\"The temperature is absolute zero.\")\n",
    "elif -273.15 < temperature < 0:\n",
    "    print(\"The temperature is below freezing.\")\n",
    "elif temperature == 0:\n",
    "    print(\"The temperature is at the freezing point.\")\n",
    "elif 0 < temperature < 100:\n",
    "    print(\"The temperature is in the normal range.\")\n",
    "elif temperature == 100:\n",
    "    print(\"The temperature is at the boiling point.\")\n",
    "else:\n",
    "    print(\"The temperature is above the boiling point.\")"
   ]
  },
  {
   "cell_type": "code",
   "execution_count": 17,
   "id": "0d98a7d6-f2c8-4c4d-a22a-007466e6992b",
   "metadata": {},
   "outputs": [
    {
     "name": "stdin",
     "output_type": "stream",
     "text": [
      "Enter the number of credits you have taken:  98\n"
     ]
    },
    {
     "name": "stdout",
     "output_type": "stream",
     "text": [
      "The student is a senior.\n"
     ]
    }
   ],
   "source": [
    "# Problem-4(Use conditional statements)\n",
    "\n",
    "# Write a program that asks the user how many credits they have taken. \n",
    "# If they have taken 23 or less, print that the student is a freshman.\n",
    "# If they have taken between 24 and 53, print that they are asophomore. \n",
    "# The range for juniors is 54 to 83, and for seniors it is 84 and over.\n",
    "\n",
    "\n",
    "credits = eval(input(\"Enter the number of credits you have taken: \"))               \n",
    "if credits <= 23:\n",
    "    print(\"The student is a freshman.\")\n",
    "elif 24 <= credits <= 53:\n",
    "    print(\"The student is a sophomore.\")\n",
    "elif 54 <= credits <= 83:\n",
    "    print(\"The student is a junior.\")\n",
    "elif credits >= 84:\n",
    "    print(\"The student is a senior.\")\n",
    "else:\n",
    "    print(\"Invalid number of credits entered.\")"
   ]
  },
  {
   "cell_type": "code",
   "execution_count": 18,
   "id": "2c86add2-d3cf-4e53-a616-5334d4f81eff",
   "metadata": {},
   "outputs": [
    {
     "name": "stdin",
     "output_type": "stream",
     "text": [
      "Guess the number (between 1 and 10):  13\n"
     ]
    },
    {
     "name": "stdout",
     "output_type": "stream",
     "text": [
      "Sorry, the correct number was 3. Better luck next time!\n"
     ]
    }
   ],
   "source": [
    "# Problem-5(Use conditional statements)\n",
    "\n",
    "# Generate a random number between 1 and 10. Ask the user to guess the number and print a\n",
    "# message based on whether they get it right or not.\n",
    "\n",
    "import random\n",
    "num= random.randint(1, 10)\n",
    "user_guess= eval(input(\"Guess the number (between 1 and 10): \"))\n",
    "if user_guess ==num:\n",
    "    print(\"Congratulations! You guessed the number correctly.\")\n",
    "else:\n",
    "    print(f\"Sorry, the correct number was {num}. Better luck next time!\")"
   ]
  },
  {
   "cell_type": "code",
   "execution_count": 19,
   "id": "e7a56b0c-72e0-4adc-84d2-273b6bdb971e",
   "metadata": {},
   "outputs": [
    {
     "name": "stdin",
     "output_type": "stream",
     "text": [
      "Enter the number of items you are buying:  10\n"
     ]
    },
    {
     "name": "stdout",
     "output_type": "stream",
     "text": [
      "The total cost for 10 items is $100.\n"
     ]
    }
   ],
   "source": [
    "# Problem-6(Use conditional statements)\n",
    "\n",
    "# A store charges $12 per item if you buy less than 10 items. If you buy between 10\n",
    "# and 99 items, the cost is $10 per item. If you buy 100 or more items, the cost is $7\n",
    "# per item. Write a program that asks the user how many items they are buying and\n",
    "# prints the total cost.\n",
    "\n",
    "num_items = eval(input(\"Enter the number of items you are buying: \"))\n",
    "if num_items < 10:\n",
    "    cost_per_item = 12\n",
    "elif 10 <= num_items <= 99:\n",
    "    cost_per_item = 10\n",
    "else:\n",
    "    cost_per_item = 7\n",
    "total_cost = num_items * cost_per_item\n",
    "print(f\"The total cost for {num_items} items is ${total_cost}.\")"
   ]
  },
  {
   "cell_type": "code",
   "execution_count": 21,
   "id": "1d9172bf-eb26-40fd-8f17-90143289d3bd",
   "metadata": {},
   "outputs": [
    {
     "name": "stdin",
     "output_type": "stream",
     "text": [
      "Enter the first number:  10\n",
      "Enter the second number:  3\n"
     ]
    },
    {
     "name": "stdout",
     "output_type": "stream",
     "text": [
      "Not close\n"
     ]
    }
   ],
   "source": [
    "# Problem-7(Use conditional statements)\n",
    "\n",
    "# Write a program that asks the user for two numbers and prints Close if the\n",
    "# numbers are within .001of each other and Not close otherwise.\n",
    "\n",
    "num1 = eval(input(\"Enter the first number: \"))\n",
    "num2 = eval(input(\"Enter the second number: \"))\n",
    "if abs(num1 - num2) <= 0.001:\n",
    "    print(\"Close\")\n",
    "else:\n",
    "    print(\"Not close\")"
   ]
  },
  {
   "cell_type": "code",
   "execution_count": 27,
   "id": "2de7f40d-7656-42e4-90dc-365aaac76593",
   "metadata": {},
   "outputs": [
    {
     "name": "stdin",
     "output_type": "stream",
     "text": [
      "Enter a year:  2003\n"
     ]
    },
    {
     "name": "stdout",
     "output_type": "stream",
     "text": [
      "2003 is not a leap year.\n"
     ]
    }
   ],
   "source": [
    "# Problem-8(Use conditional statements)\n",
    "\n",
    "# A year is a leap year if it is divisible by 4, except that years divisible by 100 are not\n",
    "# leap years unless they are also divisible by 400. Write a program that asks the user for\n",
    "# a year and prints out whether it is a leap year or not.\n",
    "\n",
    "year = int(input(\"Enter a year: \"))\n",
    "if (year % 4 == 0 and year % 100 != 0) or (year % 400 == 0):\n",
    "    print(f\"{year} is a leap year.\")\n",
    "else:\n",
    "    print(f\"{year} is not a leap year.\")"
   ]
  },
  {
   "cell_type": "code",
   "execution_count": 28,
   "id": "bb017a02-fdc0-4bc3-9988-2030f4d78533",
   "metadata": {},
   "outputs": [
    {
     "name": "stdin",
     "output_type": "stream",
     "text": [
      "Enter a number:  3\n"
     ]
    },
    {
     "name": "stdout",
     "output_type": "stream",
     "text": [
      "The divisors of 3 are:\n",
      "1\n",
      "3\n"
     ]
    }
   ],
   "source": [
    "# Problem-9(Use conditional statements)\n",
    "\n",
    "# Write a program that asks the user to enter a number and prints out all the divisors of\n",
    "# that number. [Hint: the % operator is used to tell if a number is divisible by something.\n",
    "\n",
    "number = int(input(\"Enter a number: \"))\n",
    "print(f\"The divisors of {number} are:\")\n",
    "for i in range(1, number + 1):\n",
    "    if number % i == 0:\n",
    "        print(i)"
   ]
  },
  {
   "cell_type": "code",
   "execution_count": 34,
   "id": "522b851c-2f70-4eca-ad48-58950101b322",
   "metadata": {},
   "outputs": [
    {
     "name": "stdin",
     "output_type": "stream",
     "text": [
      "Enter hour (1-12):  10\n",
      "am (1) or pm (2)?  1\n",
      "How many hours ahead?  3\n"
     ]
    },
    {
     "name": "stdout",
     "output_type": "stream",
     "text": [
      "New hour: 1 pm\n"
     ]
    }
   ],
   "source": [
    "# Problem-10(Use conditional statements)\n",
    "\n",
    "# Write a program that asks the user for an hour between 1 and 12, asks them to\n",
    "# enter am or pm, and asks them how many hours into the future they want to go.\n",
    "# Print out what the hour will be that many hours into the future, printing am or pm as\n",
    "# appropriate. An example is shown below.\n",
    "#        Enter hour: 8\n",
    "#        am (1) or pm (2)? 1\n",
    "#        How many hours ahead? 5\n",
    "#        New hour: 1 pm\n",
    "\n",
    "hour = int(input(\"Enter hour (1-12): \"))\n",
    "period = int(input(\"am (1) or pm (2)? \"))\n",
    "if period not in [1, 2]:\n",
    "    print(\"Invalid input for am/pm. Please enter 1 for am or 2 for pm.\")\n",
    "hours_ahead = int(input(\"How many hours ahead? \"))\n",
    "new_hour = (hour + hours_ahead) % 12\n",
    "if new_hour == 0:\n",
    "    new_hour = 12\n",
    "new_period = period\n",
    "if hour + hours_ahead > 12:\n",
    "    new_period = 3 - period  \n",
    "period_str = \"am\" if new_period == 1 else \"pm\"\n",
    "print(f\"New hour: {new_hour} {period_str}\")"
   ]
  }
 ],
 "metadata": {
  "kernelspec": {
   "display_name": "Python 3 (ipykernel)",
   "language": "python",
   "name": "python3"
  },
  "language_info": {
   "codemirror_mode": {
    "name": "ipython",
    "version": 3
   },
   "file_extension": ".py",
   "mimetype": "text/x-python",
   "name": "python",
   "nbconvert_exporter": "python",
   "pygments_lexer": "ipython3",
   "version": "3.11.7"
  }
 },
 "nbformat": 4,
 "nbformat_minor": 5
}
