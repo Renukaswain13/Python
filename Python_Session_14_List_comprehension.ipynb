{
 "cells": [
  {
   "cell_type": "markdown",
   "id": "0d6dce3c-2b92-4e3a-9e09-0ec7dab1a65e",
   "metadata": {},
   "source": [
    "- we can store the output values by using append operations\n",
    "-  we are taking empty list\n",
    "- we are iterating through elements from a given list\n",
    "- the result we are appending in a new list"
   ]
  },
  {
   "cell_type": "code",
   "execution_count": 3,
   "id": "224e0a35-b8b0-4199-8208-2d0cb7eaf099",
   "metadata": {},
   "outputs": [
    {
     "data": {
      "text/plain": [
       "[0, 1, 4, 9, 16, 25, 36, 49, 64, 81]"
      ]
     },
     "execution_count": 3,
     "metadata": {},
     "output_type": "execute_result"
    }
   ],
   "source": [
    "square_list=[]\n",
    "for i in range(10):\n",
    "    square_list.append(i*i)\n",
    "\n",
    "square_list"
   ]
  },
  {
   "cell_type": "markdown",
   "id": "90b3b619-3a18-4901-af40-38f32dc5e7ef",
   "metadata": {},
   "source": [
    "- There are almost three lines are in the process\n",
    "- The 3 lines we can make into a single line\n",
    "- This is called as **List Comprehension**"
   ]
  },
  {
   "cell_type": "markdown",
   "id": "a86e2372-8ad6-41e2-8cdf-9eb7edd30f34",
   "metadata": {},
   "source": [
    "$pattern-1$\n",
    "\n",
    "**Only for loop**"
   ]
  },
  {
   "cell_type": "code",
   "execution_count": null,
   "id": "965eb9ee-a57a-41fd-bf90-da718d36da63",
   "metadata": {},
   "outputs": [],
   "source": [
    "# syntax\n",
    "# [<output>   <for loop>]"
   ]
  },
  {
   "cell_type": "code",
   "execution_count": 6,
   "id": "0727c1c3-b18b-4c95-a906-f8655cb8a8ac",
   "metadata": {},
   "outputs": [
    {
     "data": {
      "text/plain": [
       "[0, 1, 4, 9, 16, 25, 36, 49, 64, 81]"
      ]
     },
     "execution_count": 6,
     "metadata": {},
     "output_type": "execute_result"
    }
   ],
   "source": [
    "square_list=[]\n",
    "for i in range(10):\n",
    "    square_list.append(i*i)\n",
    "\n",
    "square_list\n",
    "\n",
    "# Q1) What is the output ? i*i\n",
    "# Q2) what is the output list name? square_list\n",
    "# Q3) what is the for loop? for i in range(10)\n",
    "# [<output>     <for loop>]\n",
    "sq_list=[i*i for i in range(10)]"
   ]
  },
  {
   "cell_type": "code",
   "execution_count": 11,
   "id": "4e482835-a171-4290-8b88-92fda9ecb2ab",
   "metadata": {},
   "outputs": [
    {
     "data": {
      "text/plain": [
       "['HYD', 'MUMBAI', 'CHENNAI', 'BLR']"
      ]
     },
     "execution_count": 11,
     "metadata": {},
     "output_type": "execute_result"
    }
   ],
   "source": [
    "# Q2)l1=['Hyd','Mumbai','chennai','blr']\n",
    "# upper_list= ['Hyd','Mumbai','chennai','blr']\n",
    "\n",
    "l1=['Hyd','Mumbai','chennai','blr']\n",
    "upper_list=[]\n",
    "for i in l1:\n",
    "    upper_list.append(i.upper())\n",
    "\n",
    "upper_list"
   ]
  },
  {
   "cell_type": "code",
   "execution_count": 9,
   "id": "f2447fb6-6af2-4aec-8467-47d096a3be55",
   "metadata": {},
   "outputs": [
    {
     "data": {
      "text/plain": [
       "['HYD', 'MUMBAI', 'CHENNAI', 'BLR']"
      ]
     },
     "execution_count": 9,
     "metadata": {},
     "output_type": "execute_result"
    }
   ],
   "source": [
    "# Q1) What is the output ? i.upper()\n",
    "# Q2) what is the output list name? upper_list\n",
    "# Q3) what is the for loop? for i in range l1\n",
    "# [<output>     <for loop>]\n",
    "\n",
    "l1=['Hyd','Mumbai','chennai','blr']\n",
    "upper_list=[i.upper() for i in l1]\n",
    "upper_list"
   ]
  },
  {
   "cell_type": "code",
   "execution_count": 13,
   "id": "212499df-341b-42bd-b160-e16f680e0f51",
   "metadata": {},
   "outputs": [
    {
     "data": {
      "text/plain": [
       "['hyd', 'mumbai', 'chennai', 'blr']"
      ]
     },
     "execution_count": 13,
     "metadata": {},
     "output_type": "execute_result"
    }
   ],
   "source": [
    "# Q3)l2=['Hyd','Mumbai','chennai','blr']\n",
    "# lower_list= ['Hyd','Mumbai','chennai','blr']\n",
    "\n",
    "l2=['Hyd','Mumbai','chennai','blr']\n",
    "lower_list=[]\n",
    "for i in l1:\n",
    "    lower_list.append(i.lower())\n",
    "\n",
    "lower_list\n",
    "\n",
    "# or \n",
    "\n",
    "l2=['Hyd','Mumbai','chennai','blr']\n",
    "lower_list=[i.lower() for i in l1]\n",
    "lower_list"
   ]
  },
  {
   "cell_type": "code",
   "execution_count": 18,
   "id": "3f74740e-8fde-450a-ae83-d8977f79c1bc",
   "metadata": {},
   "outputs": [
    {
     "name": "stdout",
     "output_type": "stream",
     "text": [
      "0\n",
      "1\n",
      "2\n",
      "3\n"
     ]
    },
    {
     "data": {
      "text/plain": [
       "([0, 1, 2, 3], 6)"
      ]
     },
     "execution_count": 18,
     "metadata": {},
     "output_type": "execute_result"
    }
   ],
   "source": [
    "# Q4)l3=['Hyd','Mumbai','chennai','blr']\n",
    "# sum of the indexes of all elements\n",
    "\n",
    "l2=['Hyd','Mumbai','chennai','blr']\n",
    "for i in l2:\n",
    "    print(l2.index(i))\n",
    "\n",
    "# or \n",
    "\n",
    "l2=['Hyd','Mumbai','chennai','blr']\n",
    "idx_list=[l2.index(i) for i in l2]\n",
    "idx_list,sum(idx_list)"
   ]
  },
  {
   "cell_type": "markdown",
   "id": "08b5a2e5-aede-46d1-9cdf-56b5afb36df3",
   "metadata": {},
   "source": [
    "- making empty list will not works in list comprehensions\n",
    "- intializations will not work in  list comprehensions\n",
    "- assignment operstions also not works"
   ]
  },
  {
   "cell_type": "markdown",
   "id": "c11c7488-62cf-4913-bf48-83cde996d637",
   "metadata": {},
   "source": [
    "$pattern-2$\n",
    "\n",
    "**for loop - if condition**"
   ]
  },
  {
   "cell_type": "code",
   "execution_count": null,
   "id": "4d6ac545-e420-4463-916d-8a6b4c111c7f",
   "metadata": {},
   "outputs": [],
   "source": [
    "# syntax\n",
    "\n",
    "# [<output>   <for loop>    <if condition>]"
   ]
  },
  {
   "cell_type": "code",
   "execution_count": 20,
   "id": "1b68f10c-d2c5-4da7-9a53-1fa20c3756d5",
   "metadata": {},
   "outputs": [
    {
     "data": {
      "text/plain": [
       "['Hyd', 'Mumbai', 'Chennai', 'Blr']"
      ]
     },
     "execution_count": 20,
     "metadata": {},
     "output_type": "execute_result"
    }
   ],
   "source": [
    "# Q5)l1=['Hyd','Mumbai','chennai','blr']\n",
    "# ans= ['Hyd','Mumbai']\n",
    "# we want lements which are having first letter capital\n",
    "l1=['Hyd','Mumbai','Chennai','blr']\n",
    "ans=[]\n",
    "for i in l1:\n",
    "    ans.append(i.capitalize())\n",
    "ans"
   ]
  },
  {
   "cell_type": "code",
   "execution_count": 21,
   "id": "ab3688ee-35c4-48ae-9027-6c58e9c6eb81",
   "metadata": {},
   "outputs": [
    {
     "data": {
      "text/plain": [
       "['Mumbai', 'Chennai']"
      ]
     },
     "execution_count": 21,
     "metadata": {},
     "output_type": "execute_result"
    }
   ],
   "source": [
    "# Q1) what is output:\n",
    "# Q2) what is the if condition : if len(i)>4\n",
    "# Q3) what is the for loop:for i in l1\n",
    "#  [<output>     <for loop>   <if condition>]\n",
    "\n",
    "l1=['Hyd','Mumbai','Chennai','blr']\n",
    "op=[i for i in l1 if len(i)>4]\n",
    "op"
   ]
  },
  {
   "cell_type": "code",
   "execution_count": 22,
   "id": "b14c43d2-1984-498e-ac65-e4724f3dfcc0",
   "metadata": {},
   "outputs": [
    {
     "name": "stdout",
     "output_type": "stream",
     "text": [
      "['Mum#bai', 'Chen#nai']\n"
     ]
    }
   ],
   "source": [
    "# Q3)l1=['Hyd','Mum#bai','Chen#nai','blr']\n",
    "# ans=['Mum#bai'',Chen#nai'] \n",
    "# we want lements which are having '#'\n",
    "\n",
    "\n",
    "l1 = ['Hyd', 'Mum#bai', 'Chen#nai', 'blr']\n",
    "ans = [i for i in l1 if '#' in i]\n",
    "print(ans)"
   ]
  },
  {
   "cell_type": "code",
   "execution_count": 23,
   "id": "cbd6f07b-328b-4046-b8a4-203b0aa8a215",
   "metadata": {},
   "outputs": [
    {
     "name": "stdout",
     "output_type": "stream",
     "text": [
      "['Hyd', 'Mumbai']\n"
     ]
    }
   ],
   "source": [
    "# Q5)l1=['Hyd','Mumbai','chennai','blr']\n",
    "# ans= ['Hyd','Mumbai']\n",
    "# we want lements which are having first letter capital\n",
    "\n",
    "l1 = ['Hyd', 'Mumbai', 'chennai', 'blr']\n",
    "ans = [i for i in l1 if i[0].isupper()]\n",
    "print(ans)"
   ]
  },
  {
   "cell_type": "code",
   "execution_count": 26,
   "id": "943aef52-ff44-4a02-b4be-63cb80d55d97",
   "metadata": {},
   "outputs": [
    {
     "name": "stdout",
     "output_type": "stream",
     "text": [
      "ans_has: ['Mum#bai', 'Chen#nai']\n",
      "ans_without_has: ['Hyd', 'blr']\n"
     ]
    }
   ],
   "source": [
    "# Q6)l1=['Hyd','Mum#bai','Chen#nai','blr']\n",
    "# ans_#=['Mum#bai'',Chen#nai'] \n",
    "# ans_without_#=['Hyd'','blr']\n",
    "# we want lements which are having '#'\n",
    "\n",
    "l1 = ['Hyd', 'Mum#bai', 'Chen#nai', 'blr']\n",
    "ans_has = [i for i in l1 if '#' in i]\n",
    "ans_without_has = [i for i in l1 if '#' not in i]\n",
    "print(\"ans_has:\", ans_has)\n",
    "print(\"ans_without_has:\", ans_without_has)"
   ]
  },
  {
   "cell_type": "code",
   "execution_count": 29,
   "id": "2d3051db-e9ec-4612-bc99-aba2af529377",
   "metadata": {},
   "outputs": [
    {
     "name": "stdout",
     "output_type": "stream",
     "text": [
      "Firstname: ['virat', 'Rohit', 'KL']\n",
      "Secondname: ['kohli', 'sharma', 'Rahul']\n",
      "Cname: ['rcb', 'mi', 'lucknow']\n"
     ]
    }
   ],
   "source": [
    "# Q9) str1='virat.kohli@rcb.com, Rohit.sharma@mi.co, KL.Rahul@lucknow.com'\n",
    "# Firstname=[] second name=[] cname =[]\n",
    "# append first name should be in first name list\n",
    "# second name shoul be in second name list\n",
    "# thirs name will be in thirs name list\n",
    "\n",
    "import re\n",
    "str1 = 'virat.kohli@rcb.com, Rohit.sharma@mi.co, KL.Rahul@lucknow.com'\n",
    "firstname = []\n",
    "secondname = []\n",
    "cname = []\n",
    "emails = str1.split(', ')\n",
    "for email in emails:\n",
    "    match = re.match(r'([a-zA-Z]+)\\.([a-zA-Z]+)@([a-zA-Z]+)\\.com', email, re.IGNORECASE)\n",
    "    if match:\n",
    "        firstname.append(match.group(1))\n",
    "        secondname.append(match.group(2))\n",
    "        cname.append(match.group(3))\n",
    "    else:\n",
    "        match_alt = re.match(r'([a-zA-Z]+)\\.([a-zA-Z]+)@([a-zA-Z]+)\\.[a-zA-Z]+', email, re.IGNORECASE)\n",
    "        if match_alt:\n",
    "            firstname.append(match_alt.group(1))\n",
    "            secondname.append(match_alt.group(2))\n",
    "            cname.append(match_alt.group(3))\n",
    "\n",
    "\n",
    "print(\"Firstname:\", firstname)\n",
    "print(\"Secondname:\", secondname)\n",
    "print(\"Cname:\", cname)"
   ]
  },
  {
   "cell_type": "code",
   "execution_count": null,
   "id": "e3673a19-bb29-4324-992c-174f3bd70539",
   "metadata": {},
   "outputs": [],
   "source": []
  },
  {
   "cell_type": "markdown",
   "id": "ab5ac976-6991-40fd-b2b6-386d7f66aebc",
   "metadata": {},
   "source": [
    "$Pattern − 3$"
   ]
  },
  {
   "cell_type": "markdown",
   "id": "cccd6db5-2f0a-4efe-8447-4a5a7a5f6f44",
   "metadata": {},
   "source": [
    "**if-else**"
   ]
  },
  {
   "cell_type": "code",
   "execution_count": null,
   "id": "0ec1321a-a751-4863-8166-f9833c6dd42e",
   "metadata": {},
   "outputs": [],
   "source": [
    "[<output> <forloop>] : for loop\n",
    "[<output> <forloop> <if condition>]: for-if\n",
    "[<if_output> <if> <else> <else_output> <for>] : if-else"
   ]
  },
  {
   "cell_type": "markdown",
   "id": "d8dffa74-9ee7-4498-ba79-a7ffcc19d2cd",
   "metadata": {},
   "source": [
    "**even-odd**"
   ]
  },
  {
   "cell_type": "code",
   "execution_count": 1,
   "id": "6cdbeb9a-b58e-4df5-bb38-b10f362c0149",
   "metadata": {},
   "outputs": [],
   "source": [
    "even_list,odd_list=[],[]\n",
    "for i in range(1,20):\n",
    "    if i%2==0:\n",
    "        even_list.append(f\"even:{i}\")\n",
    "    else:\n",
    "        odd_list.append(f\"odd:{i}\")"
   ]
  },
  {
   "cell_type": "code",
   "execution_count": 2,
   "id": "852b887b-7dd6-467e-8c89-e629327f5adf",
   "metadata": {},
   "outputs": [
    {
     "data": {
      "text/plain": [
       "(['even:2',\n",
       "  'even:4',\n",
       "  'even:6',\n",
       "  'even:8',\n",
       "  'even:10',\n",
       "  'even:12',\n",
       "  'even:14',\n",
       "  'even:16',\n",
       "  'even:18'],\n",
       " ['odd:1',\n",
       "  'odd:3',\n",
       "  'odd:5',\n",
       "  'odd:7',\n",
       "  'odd:9',\n",
       "  'odd:11',\n",
       "  'odd:13',\n",
       "  'odd:15',\n",
       "  'odd:17',\n",
       "  'odd:19'])"
      ]
     },
     "execution_count": 2,
     "metadata": {},
     "output_type": "execute_result"
    }
   ],
   "source": [
    "even_list,odd_list"
   ]
  },
  {
   "cell_type": "code",
   "execution_count": 3,
   "id": "fbc05eb7-a4e3-4951-97c5-517001d88525",
   "metadata": {},
   "outputs": [
    {
     "data": {
      "text/plain": [
       "['odd:1',\n",
       " 'even:2',\n",
       " 'odd:3',\n",
       " 'even:4',\n",
       " 'odd:5',\n",
       " 'even:6',\n",
       " 'odd:7',\n",
       " 'even:8',\n",
       " 'odd:9',\n",
       " 'even:10',\n",
       " 'odd:11',\n",
       " 'even:12',\n",
       " 'odd:13',\n",
       " 'even:14',\n",
       " 'odd:15',\n",
       " 'even:16',\n",
       " 'odd:17',\n",
       " 'even:18',\n",
       " 'odd:19']"
      ]
     },
     "execution_count": 3,
     "metadata": {},
     "output_type": "execute_result"
    }
   ],
   "source": [
    "op_list=[]\n",
    "for i in range(1,20):\n",
    "    if i%2==0:\n",
    "        op_list.append(f\"even:{i}\")\n",
    "    else:\n",
    "        op_list.append(f\"odd:{i}\")\n",
    "op_list\n",
    "\n",
    "#[<if_op> <if_con> <else> <else_op> <for_loop>]\n",
    "[f\"even:{i}\" if i%2==0 else f\"odd:{i}\" for i in range(1,20)]"
   ]
  },
  {
   "cell_type": "code",
   "execution_count": null,
   "id": "97b72f10-8c81-4d1d-bcaf-7c37ec35b521",
   "metadata": {},
   "outputs": [],
   "source": []
  }
 ],
 "metadata": {
  "kernelspec": {
   "display_name": "Python 3 (ipykernel)",
   "language": "python",
   "name": "python3"
  },
  "language_info": {
   "codemirror_mode": {
    "name": "ipython",
    "version": 3
   },
   "file_extension": ".py",
   "mimetype": "text/x-python",
   "name": "python",
   "nbconvert_exporter": "python",
   "pygments_lexer": "ipython3",
   "version": "3.11.7"
  }
 },
 "nbformat": 4,
 "nbformat_minor": 5
}
