{
 "cells": [
  {
   "cell_type": "code",
   "execution_count": 7,
   "id": "31d09f15-a46d-4d46-aa5a-5c3b3660f78f",
   "metadata": {},
   "outputs": [
    {
     "name": "stdout",
     "output_type": "stream",
     "text": [
      "1100\n"
     ]
    }
   ],
   "source": [
    "# Case-1:\n",
    "def addition(n1,n2=600):\n",
    "    add=n1+n2\n",
    "    print(add)\n",
    "\n",
    "addition(500)\n",
    "\n",
    "# First we are defining function\n",
    "# while define the function we given n2=600\n",
    "# now we are calling the function"
   ]
  },
  {
   "cell_type": "code",
   "execution_count": 8,
   "id": "d3decc7a-289b-4204-8244-0e5757e2f0fc",
   "metadata": {},
   "outputs": [
    {
     "name": "stdout",
     "output_type": "stream",
     "text": [
      "1500\n"
     ]
    }
   ],
   "source": [
    "# Case-2\n",
    "def addition(n1,n2=600):\n",
    "    add=n1+n2\n",
    "    print(add)\n",
    "\n",
    "addition(500,1000)\n",
    "\n",
    "# First we are defining function\n",
    "# while define the function we given n2=600\n",
    "# now we are calling the function\n",
    "# while we are calling n2=1000\n",
    "# So value will be overwrite\n",
    "# Python always takes the latest value"
   ]
  },
  {
   "cell_type": "code",
   "execution_count": 9,
   "id": "4180e6ab-124c-47bc-beb8-c8572af5331b",
   "metadata": {},
   "outputs": [
    {
     "name": "stdout",
     "output_type": "stream",
     "text": [
      "2500\n"
     ]
    }
   ],
   "source": [
    "# Case-3\n",
    "def addition(n1,n2=600):\n",
    "    n2=2000\n",
    "    add=n1+n2\n",
    "    print(add)\n",
    "\n",
    "addition(500,1000)\n",
    "\n",
    "# Step-1: Define the function n2=600\n",
    "# Step-2: Call the function n2=1000\n",
    "# Step-3: Running the function n2=2000"
   ]
  },
  {
   "cell_type": "code",
   "execution_count": 10,
   "id": "dba4a09b-2c89-4e1e-b870-96507772a5fd",
   "metadata": {},
   "outputs": [
    {
     "name": "stdout",
     "output_type": "stream",
     "text": [
      "2500\n"
     ]
    }
   ],
   "source": [
    "# Case-4:\n",
    "def addition(n1,n2=600):\n",
    "    n2=2000\n",
    "    add=n1+n2\n",
    "    print(add)\n",
    "n2=3000\n",
    "addition(500,1000)\n",
    "# Step-1: Define the function n2=600\n",
    "# Step-2: Call the function n2=2000\n",
    "# Step-3: taken n2=3000 outside the function\n",
    "# Step-3: Running the function n2=2000\n",
    "# n2=600 ==== > 3000 === >1000m==== > 2500"
   ]
  },
  {
   "cell_type": "code",
   "execution_count": 11,
   "id": "6186a6c3-8ef5-4f87-a635-ed7858e7a04c",
   "metadata": {},
   "outputs": [
    {
     "name": "stdout",
     "output_type": "stream",
     "text": [
      "1200\n"
     ]
    }
   ],
   "source": [
    "# Case-5:\n",
    "a1=100\n",
    "b1=200\n",
    "def add11(a1=1000):\n",
    "    add1=a1+b1\n",
    "    print(add1)\n",
    "\n",
    "add11()\n",
    "\n",
    "# Step-1: Global variable intialization a1=100\n",
    "# Step-2: Define the function a1=1000\n",
    "# Step-3: Call the function a1=1000\n",
    "# Step-4: Running the function a1=1000"
   ]
  },
  {
   "cell_type": "code",
   "execution_count": 6,
   "id": "896fa875-0ecf-4318-8d89-f277316698f7",
   "metadata": {},
   "outputs": [
    {
     "ename": "TypeError",
     "evalue": "add11() got an unexpected keyword argument 'b1'",
     "output_type": "error",
     "traceback": [
      "\u001b[1;31m---------------------------------------------------------------------------\u001b[0m",
      "\u001b[1;31mTypeError\u001b[0m                                 Traceback (most recent call last)",
      "Cell \u001b[1;32mIn[6], line 7\u001b[0m\n\u001b[0;32m      5\u001b[0m     add1\u001b[38;5;241m=\u001b[39ma1\u001b[38;5;241m+\u001b[39mb1\n\u001b[0;32m      6\u001b[0m     \u001b[38;5;28mprint\u001b[39m(add1)\n\u001b[1;32m----> 7\u001b[0m add11(a1\u001b[38;5;241m=\u001b[39m\u001b[38;5;241m2000\u001b[39m,b1\u001b[38;5;241m=\u001b[39m\u001b[38;5;241m3000\u001b[39m)\n",
      "\u001b[1;31mTypeError\u001b[0m: add11() got an unexpected keyword argument 'b1'"
     ]
    }
   ],
   "source": [
    "# Case-6:\n",
    "a1=100\n",
    "b1=200\n",
    "def add11(a1=1000):\n",
    "    add1=a1+b1\n",
    "    print(add1)\n",
    "add11(a1=2000,b1=3000)\n",
    "\n",
    "# while defining function only one argument is there\n",
    "# while calling we are providing two arguments\n",
    "# It is not possible"
   ]
  },
  {
   "cell_type": "code",
   "execution_count": 12,
   "id": "31cd5552-fdba-445c-8e13-cb81e988dbaa",
   "metadata": {},
   "outputs": [
    {
     "name": "stdout",
     "output_type": "stream",
     "text": [
      "2200\n"
     ]
    }
   ],
   "source": [
    "# Case-7:\n",
    "a1=100\n",
    "b1=200\n",
    "def add11(a1=1000):\n",
    "    add1=a1+b1\n",
    "    print(add1)\n",
    "add11(a1=2000)\n",
    "\n",
    "# Step-1: Global variable intialization a1=100\n",
    "# Step-2: Define the function a1=1000\n",
    "# Step-3: Call the function a1=2000\n",
    "# Step-4: Running the function a1=2000+200"
   ]
  },
  {
   "cell_type": "code",
   "execution_count": 15,
   "id": "f4e99cf0-e249-4cac-86d9-5cace3685574",
   "metadata": {},
   "outputs": [
    {
     "name": "stdout",
     "output_type": "stream",
     "text": [
      "5200\n"
     ]
    }
   ],
   "source": [
    "# Case-8:\n",
    "a1=100\n",
    "b1=200\n",
    "def add11(a1=1000):\n",
    "    a1=5000\n",
    "    add1=a1+b1\n",
    "    print(add1)\n",
    "add11(a1=2000)\n",
    "\n",
    "# Step-1: Global variable intialization a1=100\n",
    "# Step-2: Define the function a1=1000\n",
    "# Step-3: Call the function a1=2000\n",
    "# Step-4: Running the function a1=2000+200"
   ]
  },
  {
   "cell_type": "code",
   "execution_count": 13,
   "id": "6319c8c2-a72d-424d-9c33-ede12a38045c",
   "metadata": {},
   "outputs": [
    {
     "name": "stdout",
     "output_type": "stream",
     "text": [
      "5200\n"
     ]
    }
   ],
   "source": [
    "# Case-9:\n",
    "a1=100\n",
    "b1=200\n",
    "def add11(a1=1000):\n",
    "    a1=5000\n",
    "    add1=a1+b1\n",
    "    print(add1)\n",
    "a1=6000\n",
    "add11(a1=2000)\n",
    "\n",
    "# a1=100,b1=200\n",
    "# define the function a1=1000\n",
    "# a1=6000\n",
    "# calling the a1=2000\n",
    "# running a1=5000"
   ]
  },
  {
   "cell_type": "code",
   "execution_count": 14,
   "id": "b30a8b7b-0ea1-4e84-bace-b6c048429ee6",
   "metadata": {},
   "outputs": [
    {
     "name": "stdout",
     "output_type": "stream",
     "text": [
      "6200\n"
     ]
    }
   ],
   "source": [
    "# Case-10:\n",
    "b1=200\n",
    "def add11():\n",
    "    add1=a1+b1\n",
    "    print(add1)\n",
    "a1=6000\n",
    "add11()\n",
    "\n",
    "# b1=200\n",
    "# define the function\n",
    "# a1=6000\n",
    "# calling the function\n",
    "# running the function"
   ]
  }
 ],
 "metadata": {
  "kernelspec": {
   "display_name": "Python 3 (ipykernel)",
   "language": "python",
   "name": "python3"
  },
  "language_info": {
   "codemirror_mode": {
    "name": "ipython",
    "version": 3
   },
   "file_extension": ".py",
   "mimetype": "text/x-python",
   "name": "python",
   "nbconvert_exporter": "python",
   "pygments_lexer": "ipython3",
   "version": "3.11.7"
  }
 },
 "nbformat": 4,
 "nbformat_minor": 5
}
