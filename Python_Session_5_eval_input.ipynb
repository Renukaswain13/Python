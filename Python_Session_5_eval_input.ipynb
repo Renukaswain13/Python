{
 "cells": [
  {
   "cell_type": "code",
   "execution_count": 1,
   "id": "a9d025f6-5659-4a6e-a9e7-7f32d5b4c592",
   "metadata": {},
   "outputs": [],
   "source": [
    "num1=100\n",
    "num2=200\n",
    "add=num1+num2"
   ]
  },
  {
   "cell_type": "markdown",
   "id": "1b53c675-a759-4511-ad1f-d06c35d46911",
   "metadata": {},
   "source": [
    "$input$\n",
    "\n",
    "- input keyword is used to take the values from user"
   ]
  },
  {
   "cell_type": "code",
   "execution_count": 2,
   "id": "81cac059-56fb-4aef-9406-9c01a7abf9c8",
   "metadata": {},
   "outputs": [
    {
     "name": "stdin",
     "output_type": "stream",
     "text": [
      " 12\n"
     ]
    },
    {
     "data": {
      "text/plain": [
       "'12'"
      ]
     },
     "execution_count": 2,
     "metadata": {},
     "output_type": "execute_result"
    }
   ],
   "source": [
    "input()"
   ]
  },
  {
   "cell_type": "code",
   "execution_count": 3,
   "id": "894e5719-ab34-4a87-ac20-0b1eadeab856",
   "metadata": {},
   "outputs": [
    {
     "name": "stdin",
     "output_type": "stream",
     "text": [
      "enter the number: 100\n"
     ]
    },
    {
     "data": {
      "text/plain": [
       "'100'"
      ]
     },
     "execution_count": 3,
     "metadata": {},
     "output_type": "execute_result"
    }
   ],
   "source": [
    "input(\"enter the number:\")"
   ]
  },
  {
   "cell_type": "code",
   "execution_count": 4,
   "id": "49d4b89d-c94e-4e55-85dd-f4c30d54d100",
   "metadata": {},
   "outputs": [
    {
     "name": "stdin",
     "output_type": "stream",
     "text": [
      " 100\n",
      " 200\n"
     ]
    },
    {
     "data": {
      "text/plain": [
       "'200'"
      ]
     },
     "execution_count": 4,
     "metadata": {},
     "output_type": "execute_result"
    }
   ],
   "source": [
    "input()\n",
    "input()"
   ]
  },
  {
   "cell_type": "code",
   "execution_count": 5,
   "id": "e4b7a174-a695-4fc9-891d-4ea2b1b56242",
   "metadata": {},
   "outputs": [
    {
     "name": "stdin",
     "output_type": "stream",
     "text": [
      " 100\n",
      " 200\n",
      " 300\n"
     ]
    },
    {
     "data": {
      "text/plain": [
       "'300'"
      ]
     },
     "execution_count": 5,
     "metadata": {},
     "output_type": "execute_result"
    }
   ],
   "source": [
    "input()\n",
    "input()\n",
    "input()"
   ]
  },
  {
   "cell_type": "code",
   "execution_count": 6,
   "id": "ad98728a-bb97-4c70-ba15-70570ea45966",
   "metadata": {},
   "outputs": [
    {
     "name": "stdin",
     "output_type": "stream",
     "text": [
      " 200\n"
     ]
    },
    {
     "data": {
      "text/plain": [
       "'200'"
      ]
     },
     "execution_count": 6,
     "metadata": {},
     "output_type": "execute_result"
    }
   ],
   "source": [
    "input()"
   ]
  },
  {
   "cell_type": "code",
   "execution_count": 7,
   "id": "1f461727-5766-4b05-a237-380b08f241b8",
   "metadata": {},
   "outputs": [
    {
     "name": "stdin",
     "output_type": "stream",
     "text": [
      "enter the number1: 100\n",
      "enter the number2: 200\n"
     ]
    }
   ],
   "source": [
    "num1=input(\"enter the number1:\")\n",
    "num2=input(\"enter the number2:\")"
   ]
  },
  {
   "cell_type": "code",
   "execution_count": 8,
   "id": "7e49b7a3-c9b3-4567-93a3-b55104219b17",
   "metadata": {},
   "outputs": [
    {
     "data": {
      "text/plain": [
       "'100'"
      ]
     },
     "execution_count": 8,
     "metadata": {},
     "output_type": "execute_result"
    }
   ],
   "source": [
    "num1"
   ]
  },
  {
   "cell_type": "code",
   "execution_count": 11,
   "id": "8ea65fd1-d699-48b3-b1ba-fa549356d569",
   "metadata": {},
   "outputs": [
    {
     "name": "stdin",
     "output_type": "stream",
     "text": [
      "enter the number1: 100\n",
      "enter the number2: 200\n",
      "enter the number3: 300\n"
     ]
    },
    {
     "data": {
      "text/plain": [
       "'300'"
      ]
     },
     "execution_count": 11,
     "metadata": {},
     "output_type": "execute_result"
    }
   ],
   "source": [
    "input(\"enter the number1:\")\n",
    "input(\"enter the number2:\")\n",
    "input(\"enter the number3:\")"
   ]
  },
  {
   "cell_type": "markdown",
   "id": "7059b89a-cc8c-4a78-a62b-dfeb9d385e1e",
   "metadata": {},
   "source": [
    "**NOTE**\n",
    "- input always give the string datatype only\n",
    "- in order to perform math calculations we need to convert into numerical format i.e. int or float"
   ]
  },
  {
   "cell_type": "code",
   "execution_count": 12,
   "id": "b71cbdc1-232d-4123-b63e-d1d8f060cdee",
   "metadata": {},
   "outputs": [
    {
     "name": "stdin",
     "output_type": "stream",
     "text": [
      " 100\n"
     ]
    },
    {
     "data": {
      "text/plain": [
       "'100'"
      ]
     },
     "execution_count": 12,
     "metadata": {},
     "output_type": "execute_result"
    }
   ],
   "source": [
    "input()"
   ]
  },
  {
   "cell_type": "code",
   "execution_count": 13,
   "id": "6d69cc15-ed61-48f7-9024-baaad36e87c5",
   "metadata": {},
   "outputs": [
    {
     "name": "stdin",
     "output_type": "stream",
     "text": [
      "enter the number: 200\n"
     ]
    },
    {
     "data": {
      "text/plain": [
       "'200'"
      ]
     },
     "execution_count": 13,
     "metadata": {},
     "output_type": "execute_result"
    }
   ],
   "source": [
    "input(\"enter the number:\")"
   ]
  },
  {
   "cell_type": "code",
   "execution_count": 15,
   "id": "896fa9b6-4ad5-46c9-a0f9-f2f7c1ef2301",
   "metadata": {},
   "outputs": [
    {
     "name": "stdin",
     "output_type": "stream",
     "text": [
      "enter the number1: 100\n"
     ]
    },
    {
     "data": {
      "text/plain": [
       "'100'"
      ]
     },
     "execution_count": 15,
     "metadata": {},
     "output_type": "execute_result"
    }
   ],
   "source": [
    "a=input(\"enter the number1:\")\n",
    "a"
   ]
  },
  {
   "cell_type": "code",
   "execution_count": null,
   "id": "3f58cae9-dc07-42ae-b09b-5266a7fcd1db",
   "metadata": {},
   "outputs": [],
   "source": [
    "input()\n",
    "input(\"enter the number:\")\n",
    "a=input(\"enter the number1:\")"
   ]
  },
  {
   "cell_type": "code",
   "execution_count": 17,
   "id": "e36b0b91-47f7-46ef-bedc-c1f661cd174e",
   "metadata": {},
   "outputs": [
    {
     "name": "stdin",
     "output_type": "stream",
     "text": [
      "enter the number1: 100\n",
      "enter the number2: 200\n"
     ]
    },
    {
     "data": {
      "text/plain": [
       "'100200'"
      ]
     },
     "execution_count": 17,
     "metadata": {},
     "output_type": "execute_result"
    }
   ],
   "source": [
    "num1=input(\"enter the number1:\") # num1=int('100')\n",
    "num2=input(\"enter the number2:\") # num2=int'100'\n",
    "num1+num2 # '100'+'200'='100200'"
   ]
  },
  {
   "cell_type": "code",
   "execution_count": 18,
   "id": "778331cc-2dd9-44b0-9f00-22021c097afa",
   "metadata": {},
   "outputs": [
    {
     "name": "stdin",
     "output_type": "stream",
     "text": [
      "enter the number1: 100\n",
      "enter the number2: 200\n"
     ]
    },
    {
     "name": "stdout",
     "output_type": "stream",
     "text": [
      "the addition of 100 and 200 is 300\n"
     ]
    }
   ],
   "source": [
    "num1=int(input(\"enter the number1:\")) # num1=int('100')=100\n",
    "num2=int(input(\"enter the number2:\")) # num2=int('200')=200\n",
    "add=num1+num2 # 100+200=300\n",
    "print(f\"the addition of {num1} and {num2} is {add}\")"
   ]
  },
  {
   "cell_type": "code",
   "execution_count": 19,
   "id": "4ec83fb4-87ac-4849-bc9e-239f1ff86a36",
   "metadata": {},
   "outputs": [
    {
     "name": "stdin",
     "output_type": "stream",
     "text": [
      "enter the number1: 100\n",
      "enter the number2: 200\n"
     ]
    },
    {
     "data": {
      "text/plain": [
       "300"
      ]
     },
     "execution_count": 19,
     "metadata": {},
     "output_type": "execute_result"
    }
   ],
   "source": [
    "num1=input(\"enter the number1:\") # num1='100'\n",
    "num2=input(\"enter the number2:\") # num2='100'\n",
    "int(num1)+int(num2) # int('100')+int('200')=100+200"
   ]
  },
  {
   "cell_type": "code",
   "execution_count": 21,
   "id": "b4dcb77d-b57a-41da-80a5-13d2bad0a651",
   "metadata": {},
   "outputs": [
    {
     "name": "stdin",
     "output_type": "stream",
     "text": [
      "enter the number1: 100.5\n",
      "enter the number2: 200\n"
     ]
    },
    {
     "name": "stdout",
     "output_type": "stream",
     "text": [
      "the addition of 100.5 and 200 is 300.5\n"
     ]
    }
   ],
   "source": [
    "num1=float(input(\"enter the number1:\")) # num1=int('100.5')=100\n",
    "num2=int(input(\"enter the number2:\")) # num2=int('200')=200\n",
    "add=num1+num2 # 100+200=300\n",
    "print(f\"the addition of {num1} and {num2} is {add}\")"
   ]
  },
  {
   "cell_type": "markdown",
   "id": "80d0e26c-e6ef-4bfb-8717-df2cb406dc04",
   "metadata": {},
   "source": [
    "$eval$\n",
    "- eval means evaluate\n",
    "- what ever the number we enter,eval will convert to corresponding data type"
   ]
  },
  {
   "cell_type": "code",
   "execution_count": 23,
   "id": "43209221-c6ee-4cc2-917b-a21f3db42a02",
   "metadata": {},
   "outputs": [
    {
     "name": "stdin",
     "output_type": "stream",
     "text": [
      "enter the number1: 100.5\n",
      "enter the number2: 100.5\n"
     ]
    },
    {
     "name": "stdout",
     "output_type": "stream",
     "text": [
      "the addition of 100.5 and 100.5 is 201.0\n"
     ]
    }
   ],
   "source": [
    "num1=eval(input(\"enter the number1:\")) # num1=int('100.5')=100\n",
    "num2=eval(input(\"enter the number2:\")) # num2=int('200')=200\n",
    "add=num1+num2 # 100+200=300\n",
    "print(f\"the addition of {num1} and {num2} is {add}\")"
   ]
  }
 ],
 "metadata": {
  "kernelspec": {
   "display_name": "Python 3 (ipykernel)",
   "language": "python",
   "name": "python3"
  },
  "language_info": {
   "codemirror_mode": {
    "name": "ipython",
    "version": 3
   },
   "file_extension": ".py",
   "mimetype": "text/x-python",
   "name": "python",
   "nbconvert_exporter": "python",
   "pygments_lexer": "ipython3",
   "version": "3.11.7"
  }
 },
 "nbformat": 4,
 "nbformat_minor": 5
}
