{
 "cells": [
  {
   "cell_type": "code",
   "execution_count": null,
   "id": "64ea331d-d355-48dc-88bb-01b87b7ed81c",
   "metadata": {},
   "outputs": [],
   "source": [
    "let assume that our friend coder is there\n",
    "\n",
    "he created an addition program\n",
    "\n",
    "he feels that he only created an addition program\n",
    "\n",
    "he wants to give this program to everyone ===== Package\n",
    "\n",
    "he makes a deal\n",
    "\n",
    "who ever installed anaconda my package also automatically download\n",
    "\n",
    "thats why when you are downloading anaconda a green color pop is comes means so many \n",
    "packages are tie with anaconda downloading in your local laptop"
   ]
  },
  {
   "cell_type": "code",
   "execution_count": null,
   "id": "f873871b-8e52-4da0-b3da-f5e8bb9941ae",
   "metadata": {},
   "outputs": [],
   "source": [
    "package is there in your laptop\n",
    "you want to use for the coding\n",
    "\n",
    "the package name:addition"
   ]
  },
  {
   "cell_type": "markdown",
   "id": "88a89a3a-e912-4586-8f68-2997dcabc773",
   "metadata": {},
   "source": [
    "**IMPORT**"
   ]
  },
  {
   "cell_type": "code",
   "execution_count": null,
   "id": "dbee9d80-e604-42cf-ad33-5ef7af3ed1be",
   "metadata": {},
   "outputs": [],
   "source": [
    "# syntax\n",
    "# import <package_name>"
   ]
  },
  {
   "cell_type": "code",
   "execution_count": 2,
   "id": "10cbedfa-b792-4df8-a7dd-0c157b473d36",
   "metadata": {},
   "outputs": [],
   "source": [
    "#package name: random\n",
    "import random"
   ]
  },
  {
   "cell_type": "code",
   "execution_count": 3,
   "id": "03cb5d13-d144-4e7e-87ed-560356493c89",
   "metadata": {},
   "outputs": [],
   "source": [
    "#package name: time\n",
    "import time"
   ]
  },
  {
   "cell_type": "code",
   "execution_count": 4,
   "id": "2f9402d8-51df-46d1-9401-31924b73b79a",
   "metadata": {},
   "outputs": [],
   "source": [
    "#package name: math\n",
    "import math"
   ]
  },
  {
   "cell_type": "code",
   "execution_count": 5,
   "id": "aa153720-f000-4084-968b-734f6cbc6af4",
   "metadata": {},
   "outputs": [],
   "source": [
    "#package name: streamlit\n",
    "import streamlit"
   ]
  },
  {
   "cell_type": "code",
   "execution_count": null,
   "id": "af0b42fc-e958-4116-8eb9-463f70bcf1f8",
   "metadata": {},
   "outputs": [],
   "source": [
    "# Module not found\n",
    "# package or module both are same"
   ]
  },
  {
   "cell_type": "code",
   "execution_count": 6,
   "id": "572fea76-58ca-49bb-a32c-87d979cf6d4c",
   "metadata": {},
   "outputs": [],
   "source": [
    "import cv2"
   ]
  },
  {
   "cell_type": "code",
   "execution_count": null,
   "id": "e3d3c026-da8c-4274-af4d-888e6656fdf7",
   "metadata": {},
   "outputs": [],
   "source": [
    "cv2 guy not tie with anaconda\n",
    "no module name : cv2\n",
    "\n",
    "streamlit guy not tie with anaconda\n",
    "no module name: streamlit"
   ]
  },
  {
   "cell_type": "code",
   "execution_count": null,
   "id": "d99d8b20-a470-4951-b503-732e66929076",
   "metadata": {},
   "outputs": [],
   "source": [
    "math operations\n",
    "     addition\n",
    "     substraction\n",
    "     multiplication\n",
    "     division"
   ]
  },
  {
   "cell_type": "code",
   "execution_count": 7,
   "id": "3b2d4f8e-5528-4b2b-a5f1-67bced8b3688",
   "metadata": {},
   "outputs": [
    {
     "data": {
      "text/plain": [
       "['BPF',\n",
       " 'LOG4',\n",
       " 'NV_MAGICCONST',\n",
       " 'RECIP_BPF',\n",
       " 'Random',\n",
       " 'SG_MAGICCONST',\n",
       " 'SystemRandom',\n",
       " 'TWOPI',\n",
       " '_ONE',\n",
       " '_Sequence',\n",
       " '_Set',\n",
       " '__all__',\n",
       " '__builtins__',\n",
       " '__cached__',\n",
       " '__doc__',\n",
       " '__file__',\n",
       " '__loader__',\n",
       " '__name__',\n",
       " '__package__',\n",
       " '__spec__',\n",
       " '_accumulate',\n",
       " '_acos',\n",
       " '_bisect',\n",
       " '_ceil',\n",
       " '_cos',\n",
       " '_e',\n",
       " '_exp',\n",
       " '_floor',\n",
       " '_index',\n",
       " '_inst',\n",
       " '_isfinite',\n",
       " '_log',\n",
       " '_os',\n",
       " '_pi',\n",
       " '_random',\n",
       " '_repeat',\n",
       " '_sha512',\n",
       " '_sin',\n",
       " '_sqrt',\n",
       " '_test',\n",
       " '_test_generator',\n",
       " '_urandom',\n",
       " '_warn',\n",
       " 'betavariate',\n",
       " 'choice',\n",
       " 'choices',\n",
       " 'expovariate',\n",
       " 'gammavariate',\n",
       " 'gauss',\n",
       " 'getrandbits',\n",
       " 'getstate',\n",
       " 'lognormvariate',\n",
       " 'normalvariate',\n",
       " 'paretovariate',\n",
       " 'randbytes',\n",
       " 'randint',\n",
       " 'random',\n",
       " 'randrange',\n",
       " 'sample',\n",
       " 'seed',\n",
       " 'setstate',\n",
       " 'shuffle',\n",
       " 'triangular',\n",
       " 'uniform',\n",
       " 'vonmisesvariate',\n",
       " 'weibullvariate']"
      ]
     },
     "execution_count": 7,
     "metadata": {},
     "output_type": "execute_result"
    }
   ],
   "source": [
    "import random\n",
    "dir(random)"
   ]
  },
  {
   "cell_type": "code",
   "execution_count": null,
   "id": "032dca2c-0288-49fc-ad5d-d1775618fb18",
   "metadata": {},
   "outputs": [],
   "source": [
    "# syntax\n",
    "# <package_name>.<method_name>\n",
    "# packagename: random\n",
    "# methodname: randint"
   ]
  },
  {
   "cell_type": "code",
   "execution_count": 8,
   "id": "c2012fb3-ddde-44ef-b23f-1d6e7fc76ad8",
   "metadata": {},
   "outputs": [
    {
     "name": "stdout",
     "output_type": "stream",
     "text": [
      "Help on method randint in module random:\n",
      "\n",
      "randint(a, b) method of random.Random instance\n",
      "    Return random integer in range [a, b], including both end points.\n",
      "\n"
     ]
    }
   ],
   "source": [
    "# help(<packagename.methodname>)\n",
    "# help will give the understanding of\n",
    "# how a method will war\n",
    "\n",
    "# here i want to know what randint will do ?\n",
    "\n",
    "help(random.randint)"
   ]
  },
  {
   "cell_type": "code",
   "execution_count": 9,
   "id": "06785492-f470-4a32-be98-cdbc65a9bf71",
   "metadata": {},
   "outputs": [
    {
     "data": {
      "text/plain": [
       "8"
      ]
     },
     "execution_count": 9,
     "metadata": {},
     "output_type": "execute_result"
    }
   ],
   "source": [
    "random.randint(1,10)"
   ]
  },
  {
   "cell_type": "code",
   "execution_count": 10,
   "id": "02953cda-73b2-49d7-a04b-e1ce8884b797",
   "metadata": {},
   "outputs": [],
   "source": [
    "# step-1: import <package_name>\n",
    "# step-2: dir(<package_name>)\n",
    "# step-3: help(<package_name>.<method_name>)\n",
    "# package_name: random\n",
    "import random"
   ]
  },
  {
   "cell_type": "code",
   "execution_count": 11,
   "id": "d8d99d18-b4e3-4d1e-8904-a032506d08c0",
   "metadata": {},
   "outputs": [
    {
     "data": {
      "text/plain": [
       "['BPF',\n",
       " 'LOG4',\n",
       " 'NV_MAGICCONST',\n",
       " 'RECIP_BPF',\n",
       " 'Random',\n",
       " 'SG_MAGICCONST',\n",
       " 'SystemRandom',\n",
       " 'TWOPI',\n",
       " '_ONE',\n",
       " '_Sequence',\n",
       " '_Set',\n",
       " '__all__',\n",
       " '__builtins__',\n",
       " '__cached__',\n",
       " '__doc__',\n",
       " '__file__',\n",
       " '__loader__',\n",
       " '__name__',\n",
       " '__package__',\n",
       " '__spec__',\n",
       " '_accumulate',\n",
       " '_acos',\n",
       " '_bisect',\n",
       " '_ceil',\n",
       " '_cos',\n",
       " '_e',\n",
       " '_exp',\n",
       " '_floor',\n",
       " '_index',\n",
       " '_inst',\n",
       " '_isfinite',\n",
       " '_log',\n",
       " '_os',\n",
       " '_pi',\n",
       " '_random',\n",
       " '_repeat',\n",
       " '_sha512',\n",
       " '_sin',\n",
       " '_sqrt',\n",
       " '_test',\n",
       " '_test_generator',\n",
       " '_urandom',\n",
       " '_warn',\n",
       " 'betavariate',\n",
       " 'choice',\n",
       " 'choices',\n",
       " 'expovariate',\n",
       " 'gammavariate',\n",
       " 'gauss',\n",
       " 'getrandbits',\n",
       " 'getstate',\n",
       " 'lognormvariate',\n",
       " 'normalvariate',\n",
       " 'paretovariate',\n",
       " 'randbytes',\n",
       " 'randint',\n",
       " 'random',\n",
       " 'randrange',\n",
       " 'sample',\n",
       " 'seed',\n",
       " 'setstate',\n",
       " 'shuffle',\n",
       " 'triangular',\n",
       " 'uniform',\n",
       " 'vonmisesvariate',\n",
       " 'weibullvariate']"
      ]
     },
     "execution_count": 11,
     "metadata": {},
     "output_type": "execute_result"
    }
   ],
   "source": [
    "dir(random)"
   ]
  },
  {
   "cell_type": "code",
   "execution_count": 12,
   "id": "b98e4276-cd69-4fa6-927a-764515f226f3",
   "metadata": {},
   "outputs": [
    {
     "name": "stdout",
     "output_type": "stream",
     "text": [
      "Help on method randint in module random:\n",
      "\n",
      "randint(a, b) method of random.Random instance\n",
      "    Return random integer in range [a, b], including both end points.\n",
      "\n"
     ]
    }
   ],
   "source": [
    "help(random.randint)"
   ]
  },
  {
   "cell_type": "code",
   "execution_count": 13,
   "id": "4f4569dc-3070-4789-88c4-efac5ea23345",
   "metadata": {},
   "outputs": [
    {
     "data": {
      "text/plain": [
       "20"
      ]
     },
     "execution_count": 13,
     "metadata": {},
     "output_type": "execute_result"
    }
   ],
   "source": [
    "random.randint(1,20)"
   ]
  },
  {
   "cell_type": "code",
   "execution_count": 14,
   "id": "b6bb1abf-632f-4539-94de-f7666469e599",
   "metadata": {},
   "outputs": [
    {
     "name": "stdout",
     "output_type": "stream",
     "text": [
      "Help on built-in function random:\n",
      "\n",
      "random() method of random.Random instance\n",
      "    random() -> x in the interval [0, 1).\n",
      "\n"
     ]
    }
   ],
   "source": [
    "# package name: random\n",
    "# method name: random\n",
    "import random\n",
    "dir(random)\n",
    "help(random.random)"
   ]
  },
  {
   "cell_type": "code",
   "execution_count": 15,
   "id": "51b8ea85-0abe-45d0-8473-263199d1c617",
   "metadata": {},
   "outputs": [
    {
     "data": {
      "text/plain": [
       "0.05814495470515724"
      ]
     },
     "execution_count": 15,
     "metadata": {},
     "output_type": "execute_result"
    }
   ],
   "source": [
    "random.random()"
   ]
  },
  {
   "cell_type": "markdown",
   "id": "15ee1469-80e2-438e-b986-bf9d0a42a4c0",
   "metadata": {},
   "source": [
    "**math**\n",
    "\n",
    "# package name : math\n",
    "\n",
    "## method pi\n",
    "\n",
    "## sqrt\n",
    "\n",
    "## sin"
   ]
  },
  {
   "cell_type": "code",
   "execution_count": 1,
   "id": "2fe66555-8e08-4959-8ee4-e3ae425f321b",
   "metadata": {},
   "outputs": [],
   "source": [
    "import math"
   ]
  },
  {
   "cell_type": "code",
   "execution_count": 2,
   "id": "4570ab39-9b61-4fd0-b9bc-a45c38f8cccf",
   "metadata": {},
   "outputs": [
    {
     "data": {
      "text/plain": [
       "['__doc__',\n",
       " '__loader__',\n",
       " '__name__',\n",
       " '__package__',\n",
       " '__spec__',\n",
       " 'acos',\n",
       " 'acosh',\n",
       " 'asin',\n",
       " 'asinh',\n",
       " 'atan',\n",
       " 'atan2',\n",
       " 'atanh',\n",
       " 'cbrt',\n",
       " 'ceil',\n",
       " 'comb',\n",
       " 'copysign',\n",
       " 'cos',\n",
       " 'cosh',\n",
       " 'degrees',\n",
       " 'dist',\n",
       " 'e',\n",
       " 'erf',\n",
       " 'erfc',\n",
       " 'exp',\n",
       " 'exp2',\n",
       " 'expm1',\n",
       " 'fabs',\n",
       " 'factorial',\n",
       " 'floor',\n",
       " 'fmod',\n",
       " 'frexp',\n",
       " 'fsum',\n",
       " 'gamma',\n",
       " 'gcd',\n",
       " 'hypot',\n",
       " 'inf',\n",
       " 'isclose',\n",
       " 'isfinite',\n",
       " 'isinf',\n",
       " 'isnan',\n",
       " 'isqrt',\n",
       " 'lcm',\n",
       " 'ldexp',\n",
       " 'lgamma',\n",
       " 'log',\n",
       " 'log10',\n",
       " 'log1p',\n",
       " 'log2',\n",
       " 'modf',\n",
       " 'nan',\n",
       " 'nextafter',\n",
       " 'perm',\n",
       " 'pi',\n",
       " 'pow',\n",
       " 'prod',\n",
       " 'radians',\n",
       " 'remainder',\n",
       " 'sin',\n",
       " 'sinh',\n",
       " 'sqrt',\n",
       " 'tan',\n",
       " 'tanh',\n",
       " 'tau',\n",
       " 'trunc',\n",
       " 'ulp']"
      ]
     },
     "execution_count": 2,
     "metadata": {},
     "output_type": "execute_result"
    }
   ],
   "source": [
    "dir(math)"
   ]
  },
  {
   "cell_type": "code",
   "execution_count": 3,
   "id": "588bc135-ac99-4aba-a250-10bf31b21940",
   "metadata": {},
   "outputs": [
    {
     "name": "stdout",
     "output_type": "stream",
     "text": [
      "Help on built-in function sqrt in module math:\n",
      "\n",
      "sqrt(x, /)\n",
      "    Return the square root of x.\n",
      "\n"
     ]
    }
   ],
   "source": [
    "# pi\n",
    "# pow\n",
    "# sqrt\n",
    "# sin\n",
    "\n",
    "help(math.sqrt)"
   ]
  },
  {
   "cell_type": "code",
   "execution_count": 4,
   "id": "9f0b8216-5fdf-48ff-9b37-b46930bc8ab2",
   "metadata": {},
   "outputs": [
    {
     "data": {
      "text/plain": [
       "5.0"
      ]
     },
     "execution_count": 4,
     "metadata": {},
     "output_type": "execute_result"
    }
   ],
   "source": [
    "math.sqrt(25)"
   ]
  },
  {
   "cell_type": "code",
   "execution_count": 5,
   "id": "7ee3d4a2-781b-4253-a1cd-271174f4740b",
   "metadata": {},
   "outputs": [
    {
     "name": "stdout",
     "output_type": "stream",
     "text": [
      "Help on built-in function pow in module math:\n",
      "\n",
      "pow(x, y, /)\n",
      "    Return x**y (x to the power of y).\n",
      "\n"
     ]
    }
   ],
   "source": [
    "help(math.pow)"
   ]
  },
  {
   "cell_type": "code",
   "execution_count": 6,
   "id": "9c3006f0-6d76-48b8-a359-a1a2de8383ee",
   "metadata": {},
   "outputs": [
    {
     "data": {
      "text/plain": [
       "8.0"
      ]
     },
     "execution_count": 6,
     "metadata": {},
     "output_type": "execute_result"
    }
   ],
   "source": [
    "math.pow(2,3)"
   ]
  },
  {
   "cell_type": "code",
   "execution_count": 7,
   "id": "e61cd295-4ebc-4b5f-a5f7-e770b28e0242",
   "metadata": {},
   "outputs": [
    {
     "name": "stdout",
     "output_type": "stream",
     "text": [
      "Help on built-in function sin in module math:\n",
      "\n",
      "sin(x, /)\n",
      "    Return the sine of x (measured in radians).\n",
      "\n"
     ]
    }
   ],
   "source": [
    "help(math.sin)"
   ]
  },
  {
   "cell_type": "code",
   "execution_count": 8,
   "id": "70968bad-78ad-48eb-9d52-fcc14a51edb2",
   "metadata": {},
   "outputs": [
    {
     "data": {
      "text/plain": [
       "0.8939966636005579"
      ]
     },
     "execution_count": 8,
     "metadata": {},
     "output_type": "execute_result"
    }
   ],
   "source": [
    "math.sin(90)"
   ]
  },
  {
   "cell_type": "code",
   "execution_count": null,
   "id": "07dd4316-7cae-45fc-8880-c08131d05156",
   "metadata": {},
   "outputs": [],
   "source": [
    "math.sqrt(25)\n",
    "math.pow(2,3)\n",
    "math.sin(90)"
   ]
  },
  {
   "cell_type": "code",
   "execution_count": 9,
   "id": "2424cf8f-eca7-40bc-8c11-2c6222f2233e",
   "metadata": {},
   "outputs": [
    {
     "ename": "TypeError",
     "evalue": "math.sqrt() takes no keyword arguments",
     "output_type": "error",
     "traceback": [
      "\u001b[1;31m---------------------------------------------------------------------------\u001b[0m",
      "\u001b[1;31mTypeError\u001b[0m                                 Traceback (most recent call last)",
      "Cell \u001b[1;32mIn[9], line 1\u001b[0m\n\u001b[1;32m----> 1\u001b[0m math\u001b[38;5;241m.\u001b[39msqrt(x\u001b[38;5;241m=\u001b[39m\u001b[38;5;241m25\u001b[39m)\n",
      "\u001b[1;31mTypeError\u001b[0m: math.sqrt() takes no keyword arguments"
     ]
    }
   ],
   "source": [
    "math.sqrt(x=25)\n",
    "# curosr inside the bracker\n",
    "# then apply shift+tab\n",
    "\n",
    "# / is mentioned means\n",
    "# do not provide x=25 values\n",
    "# directly give 25"
   ]
  },
  {
   "cell_type": "code",
   "execution_count": 10,
   "id": "305e8eec-5ac3-4289-8dbc-cd04f59a85b8",
   "metadata": {},
   "outputs": [
    {
     "data": {
      "text/plain": [
       "<function math.sqrt(x, /)>"
      ]
     },
     "execution_count": 10,
     "metadata": {},
     "output_type": "execute_result"
    }
   ],
   "source": [
    "math.sqrt"
   ]
  },
  {
   "cell_type": "markdown",
   "id": "3610cb8c-65b9-4b32-b512-e09e23bb2af6",
   "metadata": {},
   "source": [
    "- function means we are forgetting brackets\n",
    "- we need to keep brackets\n",
    "- bound method also means forgetting the brackets only\n",
    "- not callable means remove bracket\n",
    "- whenever you see slash don't provide variable name\n",
    "- directly give the value"
   ]
  },
  {
   "cell_type": "code",
   "execution_count": 11,
   "id": "2a754991-ac24-4c62-bf37-764b3a52a7df",
   "metadata": {},
   "outputs": [
    {
     "data": {
      "text/plain": [
       "5.0"
      ]
     },
     "execution_count": 11,
     "metadata": {},
     "output_type": "execute_result"
    }
   ],
   "source": [
    "math.sqrt(25)"
   ]
  },
  {
   "cell_type": "code",
   "execution_count": 14,
   "id": "8f06282d-717d-47df-8d03-8ff0fdf7a876",
   "metadata": {},
   "outputs": [
    {
     "data": {
      "text/plain": [
       "26"
      ]
     },
     "execution_count": 14,
     "metadata": {},
     "output_type": "execute_result"
    }
   ],
   "source": [
    "import random\n",
    "random.randint(20,30)"
   ]
  },
  {
   "cell_type": "code",
   "execution_count": 15,
   "id": "56910112-8db8-4aff-a0ad-c826cba907c9",
   "metadata": {},
   "outputs": [
    {
     "data": {
      "text/plain": [
       "17"
      ]
     },
     "execution_count": 15,
     "metadata": {},
     "output_type": "execute_result"
    }
   ],
   "source": [
    "random.randint(10,20)"
   ]
  },
  {
   "cell_type": "code",
   "execution_count": 16,
   "id": "5a4842b5-6061-4aea-9902-82e9af2f6480",
   "metadata": {},
   "outputs": [
    {
     "data": {
      "text/plain": [
       "0.5324889812435822"
      ]
     },
     "execution_count": 16,
     "metadata": {},
     "output_type": "execute_result"
    }
   ],
   "source": [
    "random.random()"
   ]
  },
  {
   "cell_type": "code",
   "execution_count": 17,
   "id": "8c2e35fd-7bce-4268-a627-14f45db7e79c",
   "metadata": {},
   "outputs": [
    {
     "data": {
      "text/plain": [
       "['BPF',\n",
       " 'LOG4',\n",
       " 'NV_MAGICCONST',\n",
       " 'RECIP_BPF',\n",
       " 'Random',\n",
       " 'SG_MAGICCONST',\n",
       " 'SystemRandom',\n",
       " 'TWOPI',\n",
       " '_ONE',\n",
       " '_Sequence',\n",
       " '_Set',\n",
       " '__all__',\n",
       " '__builtins__',\n",
       " '__cached__',\n",
       " '__doc__',\n",
       " '__file__',\n",
       " '__loader__',\n",
       " '__name__',\n",
       " '__package__',\n",
       " '__spec__',\n",
       " '_accumulate',\n",
       " '_acos',\n",
       " '_bisect',\n",
       " '_ceil',\n",
       " '_cos',\n",
       " '_e',\n",
       " '_exp',\n",
       " '_floor',\n",
       " '_index',\n",
       " '_inst',\n",
       " '_isfinite',\n",
       " '_log',\n",
       " '_os',\n",
       " '_pi',\n",
       " '_random',\n",
       " '_repeat',\n",
       " '_sha512',\n",
       " '_sin',\n",
       " '_sqrt',\n",
       " '_test',\n",
       " '_test_generator',\n",
       " '_urandom',\n",
       " '_warn',\n",
       " 'betavariate',\n",
       " 'choice',\n",
       " 'choices',\n",
       " 'expovariate',\n",
       " 'gammavariate',\n",
       " 'gauss',\n",
       " 'getrandbits',\n",
       " 'getstate',\n",
       " 'lognormvariate',\n",
       " 'normalvariate',\n",
       " 'paretovariate',\n",
       " 'randbytes',\n",
       " 'randint',\n",
       " 'random',\n",
       " 'randrange',\n",
       " 'sample',\n",
       " 'seed',\n",
       " 'setstate',\n",
       " 'shuffle',\n",
       " 'triangular',\n",
       " 'uniform',\n",
       " 'vonmisesvariate',\n",
       " 'weibullvariate']"
      ]
     },
     "execution_count": 17,
     "metadata": {},
     "output_type": "execute_result"
    }
   ],
   "source": [
    "dir(random)"
   ]
  },
  {
   "cell_type": "code",
   "execution_count": 18,
   "id": "490ea35d-e2f4-4b97-be5f-46696155874c",
   "metadata": {},
   "outputs": [
    {
     "data": {
      "text/plain": [
       "3.141592653589793"
      ]
     },
     "execution_count": 18,
     "metadata": {},
     "output_type": "execute_result"
    }
   ],
   "source": [
    "math.pi\n",
    "# direct values never include brackets"
   ]
  },
  {
   "cell_type": "code",
   "execution_count": 19,
   "id": "1fa2164c-97ed-4926-8d34-31088331b32e",
   "metadata": {},
   "outputs": [],
   "source": [
    "# package name: keyword\n",
    "# method name: kwlist\n",
    "import keyword"
   ]
  },
  {
   "cell_type": "code",
   "execution_count": 20,
   "id": "9e5c0181-b465-4fa0-b059-6d6415926076",
   "metadata": {},
   "outputs": [
    {
     "data": {
      "text/plain": [
       "35"
      ]
     },
     "execution_count": 20,
     "metadata": {},
     "output_type": "execute_result"
    }
   ],
   "source": [
    "len(keyword.kwlist)"
   ]
  },
  {
   "cell_type": "code",
   "execution_count": null,
   "id": "6aa94cca-e1b8-4245-929e-ab1c0b009201",
   "metadata": {},
   "outputs": [],
   "source": [
    "# step-1:\n",
    "# import <package_name>\n",
    "\n",
    "# step-2:\n",
    "# dir(<package_name>)\n",
    "# methods will display\n",
    "\n",
    "# step-3:\n",
    "# help(<package_name>.<method_name>)\n",
    "\n",
    "# step-4:\n",
    "# <package_name>.<method_name>() # 99%\n"
   ]
  },
  {
   "cell_type": "code",
   "execution_count": 21,
   "id": "56ba612c-5f30-426c-b9a9-b1987f62cd93",
   "metadata": {},
   "outputs": [],
   "source": [
    "import random"
   ]
  },
  {
   "cell_type": "code",
   "execution_count": 22,
   "id": "1cfeb886-51cb-4347-a238-316aae7e8abf",
   "metadata": {},
   "outputs": [
    {
     "data": {
      "text/plain": [
       "['BPF',\n",
       " 'LOG4',\n",
       " 'NV_MAGICCONST',\n",
       " 'RECIP_BPF',\n",
       " 'Random',\n",
       " 'SG_MAGICCONST',\n",
       " 'SystemRandom',\n",
       " 'TWOPI',\n",
       " '_ONE',\n",
       " '_Sequence',\n",
       " '_Set',\n",
       " '__all__',\n",
       " '__builtins__',\n",
       " '__cached__',\n",
       " '__doc__',\n",
       " '__file__',\n",
       " '__loader__',\n",
       " '__name__',\n",
       " '__package__',\n",
       " '__spec__',\n",
       " '_accumulate',\n",
       " '_acos',\n",
       " '_bisect',\n",
       " '_ceil',\n",
       " '_cos',\n",
       " '_e',\n",
       " '_exp',\n",
       " '_floor',\n",
       " '_index',\n",
       " '_inst',\n",
       " '_isfinite',\n",
       " '_log',\n",
       " '_os',\n",
       " '_pi',\n",
       " '_random',\n",
       " '_repeat',\n",
       " '_sha512',\n",
       " '_sin',\n",
       " '_sqrt',\n",
       " '_test',\n",
       " '_test_generator',\n",
       " '_urandom',\n",
       " '_warn',\n",
       " 'betavariate',\n",
       " 'choice',\n",
       " 'choices',\n",
       " 'expovariate',\n",
       " 'gammavariate',\n",
       " 'gauss',\n",
       " 'getrandbits',\n",
       " 'getstate',\n",
       " 'lognormvariate',\n",
       " 'normalvariate',\n",
       " 'paretovariate',\n",
       " 'randbytes',\n",
       " 'randint',\n",
       " 'random',\n",
       " 'randrange',\n",
       " 'sample',\n",
       " 'seed',\n",
       " 'setstate',\n",
       " 'shuffle',\n",
       " 'triangular',\n",
       " 'uniform',\n",
       " 'vonmisesvariate',\n",
       " 'weibullvariate']"
      ]
     },
     "execution_count": 22,
     "metadata": {},
     "output_type": "execute_result"
    }
   ],
   "source": [
    "dir(random)"
   ]
  },
  {
   "cell_type": "code",
   "execution_count": 23,
   "id": "7d7c54fd-8095-48e0-b2d4-8af2a14d06cd",
   "metadata": {},
   "outputs": [
    {
     "name": "stdout",
     "output_type": "stream",
     "text": [
      "Help on method randint in module random:\n",
      "\n",
      "randint(a, b) method of random.Random instance\n",
      "    Return random integer in range [a, b], including both end points.\n",
      "\n"
     ]
    }
   ],
   "source": [
    "help(random.randint)"
   ]
  },
  {
   "cell_type": "code",
   "execution_count": 24,
   "id": "fce09068-fd8c-4d6d-bd23-0b89b1f19727",
   "metadata": {},
   "outputs": [
    {
     "data": {
      "text/plain": [
       "13"
      ]
     },
     "execution_count": 24,
     "metadata": {},
     "output_type": "execute_result"
    }
   ],
   "source": [
    "random.randint(10,20)"
   ]
  },
  {
   "cell_type": "code",
   "execution_count": 25,
   "id": "07a5626c-773f-4008-bfe5-03ed9368a390",
   "metadata": {},
   "outputs": [],
   "source": [
    "import math"
   ]
  },
  {
   "cell_type": "code",
   "execution_count": 36,
   "id": "cad1c860-9dfb-4e09-80df-a1fe87ad9039",
   "metadata": {},
   "outputs": [
    {
     "data": {
      "text/plain": [
       "3.141592653589793"
      ]
     },
     "execution_count": 36,
     "metadata": {},
     "output_type": "execute_result"
    }
   ],
   "source": [
    "math.pi"
   ]
  },
  {
   "cell_type": "markdown",
   "id": "2930ab76-ea4c-4826-83c4-4ba0f93ef370",
   "metadata": {},
   "source": [
    "(): function or methods\n",
    "\n",
    "only functions or methods callable\n",
    "\n",
    "if something says not collable means,it is not a function\n",
    "\n",
    "it is not a function means,you need to remove bracket\n",
    "\n",
    "bound method means====add the brackets\n",
    "\n",
    "function=======add the brackets\n",
    "\n",
    "not collable====remove the brackets\n",
    "\n",
    "\n",
    "\n",
    "  - random\n",
    "    \n",
    "  - math\n",
    "    \n",
    "  - keyword"
   ]
  },
  {
   "cell_type": "markdown",
   "id": "463032ed-c512-4de4-bcb9-5520eff41280",
   "metadata": {},
   "source": [
    "**TIME**"
   ]
  },
  {
   "cell_type": "code",
   "execution_count": 37,
   "id": "ac5e8ffd-ba68-4d2a-b92b-d62f573548b5",
   "metadata": {},
   "outputs": [
    {
     "name": "stdout",
     "output_type": "stream",
     "text": [
      "Father:hello\n",
      "D: hai papa how are you\n",
      "Father:do you have school today\n"
     ]
    }
   ],
   "source": [
    "import time\n",
    "\n",
    "print(\"Father:hello\")\n",
    "time.sleep(2)\n",
    "print(\"D: hai papa how are you\")\n",
    "time.sleep(2)\n",
    "print(\"Father:do you have school today\")\n"
   ]
  },
  {
   "cell_type": "code",
   "execution_count": null,
   "id": "c47e7612-5830-42ef-8406-d2576fc5b940",
   "metadata": {},
   "outputs": [],
   "source": [
    "computer vision is used to image operations\n",
    "video operations\n",
    "\n",
    "we called it as opencv\n",
    "\n",
    "package name: cv2"
   ]
  },
  {
   "cell_type": "code",
   "execution_count": 38,
   "id": "ac6d88fe-ae73-464f-8ecb-b4c08195fc15",
   "metadata": {},
   "outputs": [],
   "source": [
    "import cv2"
   ]
  },
  {
   "cell_type": "markdown",
   "id": "3c14eee4-1a70-4028-b984-b1fc20ca334a",
   "metadata": {},
   "source": [
    "- whenever module not fund we need to install it\n",
    "- here our package name is cv2\n",
    "- 99% the installation will be like this\n",
    "\n",
    " pip install\n",
    "\n",
    "- some packages installation name will different and python import name is different\n",
    "- in order to install the packages we need internet\n",
    "- if internet problem occurs while installing we will get http error"
   ]
  },
  {
   "cell_type": "code",
   "execution_count": 39,
   "id": "a0b802fe-c975-492f-9b66-87ff5bc45bdf",
   "metadata": {},
   "outputs": [],
   "source": [
    "import streamlit"
   ]
  },
  {
   "cell_type": "markdown",
   "id": "3ea7b923-d4cc-47b2-8224-763fcff93633",
   "metadata": {},
   "source": [
    "**NOTE**\n",
    "\n",
    "- pip freeze is the command to know the already existed packages in our laptop"
   ]
  },
  {
   "cell_type": "code",
   "execution_count": 40,
   "id": "bab42ff3-4615-4541-857c-b6d7f150bc56",
   "metadata": {},
   "outputs": [],
   "source": [
    "import numpy"
   ]
  },
  {
   "cell_type": "code",
   "execution_count": 41,
   "id": "1aa74d87-6fe8-412e-a217-f932a9439351",
   "metadata": {},
   "outputs": [
    {
     "data": {
      "text/plain": [
       "<module 'numpy' from 'C:\\\\Users\\\\renuk\\\\anaconda3\\\\Lib\\\\site-packages\\\\numpy\\\\__init__.py'>"
      ]
     },
     "execution_count": 41,
     "metadata": {},
     "output_type": "execute_result"
    }
   ],
   "source": [
    "numpy"
   ]
  },
  {
   "cell_type": "markdown",
   "id": "026f17de-7dd5-48bd-9be2-0e899b7f5550",
   "metadata": {},
   "source": [
    "!pip install opencv-python\n",
    "\n",
    "- in jupyter notebook we need add ! mark\n",
    "- in anaconda prompt no need of ! mark\n",
    "- directly name you can provide"
   ]
  },
  {
   "cell_type": "code",
   "execution_count": 42,
   "id": "4aa0f714-0e41-4983-9de5-b7ed089452d7",
   "metadata": {},
   "outputs": [
    {
     "name": "stdout",
     "output_type": "stream",
     "text": [
      "30\n"
     ]
    }
   ],
   "source": [
    "# hard coding: static\n",
    "# we are fixing the values\n",
    "num1=10\n",
    "num2=20\n",
    "add=num1+num2\n",
    "print(add)"
   ]
  },
  {
   "cell_type": "code",
   "execution_count": 43,
   "id": "76847909-3e2e-4858-b9eb-741e4eb6e9ca",
   "metadata": {},
   "outputs": [
    {
     "name": "stdin",
     "output_type": "stream",
     "text": [
      "enter the number 1: 100\n",
      "enter the number 2: 200\n"
     ]
    },
    {
     "name": "stdout",
     "output_type": "stream",
     "text": [
      "300\n"
     ]
    }
   ],
   "source": [
    "# dynamic\n",
    "num1=eval(input(\"enter the number 1:\"))\n",
    "num2=eval(input(\"enter the number 2:\"))\n",
    "add=num1+num2\n",
    "print(add)"
   ]
  },
  {
   "cell_type": "code",
   "execution_count": 44,
   "id": "7031b1b5-9b76-432f-bc8e-b1be3e8f355e",
   "metadata": {},
   "outputs": [
    {
     "name": "stdout",
     "output_type": "stream",
     "text": [
      "the addition of 50 and 132 is 182\n"
     ]
    }
   ],
   "source": [
    "# we can take the numbers randomly also\n",
    "import random\n",
    "number1=random.randint(1,100)\n",
    "number2=random.randint(100,200)\n",
    "add=number1+number2\n",
    "print(f\"the addition of {number1} and {number2} is {add}\")"
   ]
  },
  {
   "cell_type": "markdown",
   "id": "1f8dc611-9e47-4ca9-b5ca-d065e04122fe",
   "metadata": {},
   "source": [
    "**How we pass the numbers**\n",
    "- hard codings\n",
    "- using keyboard\n",
    "- using random package, taking numbers randomly"
   ]
  },
  {
   "cell_type": "code",
   "execution_count": null,
   "id": "85a510ca-dfa7-40aa-9bf3-b20e2e4e249f",
   "metadata": {},
   "outputs": [],
   "source": [
    "##################################################################\n",
    "num1=10\n",
    "num2=20\n",
    "add=num1+num2\n",
    "print(add)\n",
    "\n",
    "###################################################################\n",
    "num1=eval(input(\"enter the number 1:\"))\n",
    "num2=eval(input(\"enter the number 2:\"))\n",
    "add=num1+num2\n",
    "print(add)\n",
    "\n",
    "##################################################################### \n",
    "import random\n",
    "number1=random.randint(1,100)\n",
    "number2=random.randint(100,200)\n",
    "add=number1+number2\n",
    "print(f\"the addition of {number1} and {number2} is {add}\")"
   ]
  },
  {
   "cell_type": "code",
   "execution_count": 11,
   "id": "1e7df5ba-f12d-41a9-bf9d-2737ea20b4e8",
   "metadata": {},
   "outputs": [
    {
     "name": "stdin",
     "output_type": "stream",
     "text": [
      "enter the n2: 10\n"
     ]
    },
    {
     "name": "stdout",
     "output_type": "stream",
     "text": [
      "the average of 10 ,10 and 92 is:37.333333333333336\n"
     ]
    }
   ],
   "source": [
    "n1=10\n",
    "n2=eval(input(\"enter the n2:\"))\n",
    "n3=random.randint(1,100)\n",
    "avg=(n1+n2+n3)/3\n",
    "print(f\"the average of {n1} ,{n2} and {n3} is:{avg}\")"
   ]
  },
  {
   "cell_type": "code",
   "execution_count": null,
   "id": "52d3da45-56c8-47e5-a773-5e1077ca77a6",
   "metadata": {},
   "outputs": [],
   "source": [
    "# in the entire notebook\n",
    "# if you import packages\n",
    "# no need to import every time\n",
    "# just verify it the line is executed or not\n",
    "# all the packages we will import at starting only line"
   ]
  },
  {
   "cell_type": "markdown",
   "id": "7d6d7195-ffe8-45c0-8e3a-7f262541581e",
   "metadata": {},
   "source": [
    "**ROUND**"
   ]
  },
  {
   "cell_type": "code",
   "execution_count": 45,
   "id": "cd8e53d8-89b2-43b7-a0a5-d67d286c67a9",
   "metadata": {},
   "outputs": [
    {
     "data": {
      "text/plain": [
       "23"
      ]
     },
     "execution_count": 45,
     "metadata": {},
     "output_type": "execute_result"
    }
   ],
   "source": [
    "avg=22.66666666666668\n",
    "round(avg)"
   ]
  },
  {
   "cell_type": "code",
   "execution_count": 46,
   "id": "ec6744cf-5e9e-4033-9020-46082a87fa6b",
   "metadata": {},
   "outputs": [
    {
     "data": {
      "text/plain": [
       "22.667"
      ]
     },
     "execution_count": 46,
     "metadata": {},
     "output_type": "execute_result"
    }
   ],
   "source": [
    "avg=22.6666666666668\n",
    "round(avg,3)"
   ]
  },
  {
   "cell_type": "code",
   "execution_count": null,
   "id": "2313c27b-4e1c-477c-89c2-feb335b81eb4",
   "metadata": {},
   "outputs": [],
   "source": [
    "**KEYWORD**\n",
    "- type()\n",
    "- input()\n",
    "- print()\n",
    "- round()"
   ]
  },
  {
   "cell_type": "code",
   "execution_count": null,
   "id": "c8af02d1-c9c8-4533-bc1c-9ce3599640ae",
   "metadata": {},
   "outputs": [],
   "source": [
    "n1=10\n",
    "n2=eval(input(\"enter the n2:\"))\n",
    "n3=random.randint(1,100)\n",
    "avg=round(n1+n2+n3)/3\n",
    "avg1=round(avg,2)\n",
    "print(f\"the average of {n1} ,{n2} and {n3} is:{avg1}\")\n"
   ]
  },
  {
   "cell_type": "code",
   "execution_count": null,
   "id": "3e3d7d22-95b6-494b-b4fc-8b300b9c44d9",
   "metadata": {},
   "outputs": [],
   "source": [
    "n1=10\n",
    "n2=eval(input(\"enter the n2:\"))\n",
    "n3=random.randint(1,100)\n",
    "avg=round((n1+n2+n3)/3,2)\n",
    "print(f\"the average of {n1} ,{n2} and {n3} is:{avg}\")"
   ]
  }
 ],
 "metadata": {
  "kernelspec": {
   "display_name": "Python 3 (ipykernel)",
   "language": "python",
   "name": "python3"
  },
  "language_info": {
   "codemirror_mode": {
    "name": "ipython",
    "version": 3
   },
   "file_extension": ".py",
   "mimetype": "text/x-python",
   "name": "python",
   "nbconvert_exporter": "python",
   "pygments_lexer": "ipython3",
   "version": "3.11.7"
  }
 },
 "nbformat": 4,
 "nbformat_minor": 5
}
