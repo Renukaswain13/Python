{
 "cells": [
  {
   "cell_type": "markdown",
   "id": "d90b45cd-ebfc-42de-935b-b898eb3cd016",
   "metadata": {},
   "source": [
    "# Data Types \n",
    "\n",
    "- In python type declare not required\n",
    "\n",
    "- python will automatically takes the type based on provided value\n",
    "\n",
    "- we have many data types available\n",
    "\n",
    "- The main data types are\n",
    "  \n",
    "     - integer\n",
    "  \n",
    "     - float\n",
    "\n",
    "     - Boolean\n",
    "  \n",
    "     - String\n",
    "\n",
    " - List\n",
    " - Dictionary\n",
    " - tuple\n",
    " - Complex\n"
   ]
  },
  {
   "cell_type": "markdown",
   "id": "8b5113ae-93a8-4673-a18b-e942a4c1c61a",
   "metadata": {},
   "source": [
    "### Integer"
   ]
  },
  {
   "cell_type": "code",
   "execution_count": 2,
   "id": "5ecf7242-6506-4d81-a2ad-25eaa8fff222",
   "metadata": {},
   "outputs": [
    {
     "data": {
      "text/plain": [
       "int"
      ]
     },
     "execution_count": 2,
     "metadata": {},
     "output_type": "execute_result"
    }
   ],
   "source": [
    "n=100\n",
    "type(n)"
   ]
  },
  {
   "cell_type": "markdown",
   "id": "59eb832b-e540-4f58-a664-0c22c4f9b49f",
   "metadata": {},
   "source": [
    "#### Type of REPRESENTATION\n",
    "\n",
    "- binary representation\n",
    "- octa representation\n",
    "- hexa representation"
   ]
  },
  {
   "cell_type": "markdown",
   "id": "868fe534-3976-409c-b7e5-7d2c7b5da843",
   "metadata": {},
   "source": [
    "#### Binary\n",
    "- bi means 2\n",
    "- so it requires 2 digits\n",
    "- Genreally we have 0 1 2 3 4 5 6 7 8 9\n",
    "- so it will represent 0 & 1\n",
    "- represntation is 0b10,0b01111\n",
    "- wrong representation is 0b102,0b007"
   ]
  },
  {
   "cell_type": "code",
   "execution_count": 1,
   "id": "df10df94-f5ba-469c-acf2-4a8d7eb79e7e",
   "metadata": {},
   "outputs": [
    {
     "data": {
      "text/plain": [
       "5"
      ]
     },
     "execution_count": 1,
     "metadata": {},
     "output_type": "execute_result"
    }
   ],
   "source": [
    "0b101"
   ]
  },
  {
   "cell_type": "code",
   "execution_count": 2,
   "id": "bd039d09-1435-48c3-b3b2-563e10ac009a",
   "metadata": {},
   "outputs": [
    {
     "data": {
      "text/plain": [
       "9"
      ]
     },
     "execution_count": 2,
     "metadata": {},
     "output_type": "execute_result"
    }
   ],
   "source": [
    "0b1001"
   ]
  },
  {
   "cell_type": "code",
   "execution_count": 3,
   "id": "8085a828-0a1b-4290-9f5d-a4aa05a72ec3",
   "metadata": {},
   "outputs": [
    {
     "data": {
      "text/plain": [
       "5"
      ]
     },
     "execution_count": 3,
     "metadata": {},
     "output_type": "execute_result"
    }
   ],
   "source": [
    "0b101"
   ]
  },
  {
   "cell_type": "code",
   "execution_count": 5,
   "id": "0e39a61b-8671-4a2a-a4a8-f01c7fe101b1",
   "metadata": {},
   "outputs": [],
   "source": [
    "import os"
   ]
  },
  {
   "cell_type": "code",
   "execution_count": 6,
   "id": "ce30b30f-4cf5-4fe4-8b47-e70e79dce68b",
   "metadata": {},
   "outputs": [
    {
     "data": {
      "text/plain": [
       "'C:\\\\Users\\\\renuk\\\\Documents\\\\Python'"
      ]
     },
     "execution_count": 6,
     "metadata": {},
     "output_type": "execute_result"
    }
   ],
   "source": [
    "os.getcwd()\n",
    "# get current working directory it will give the path where our python file located"
   ]
  },
  {
   "cell_type": "code",
   "execution_count": 7,
   "id": "e9df25c8-4371-437a-a4c2-4e83fce2dcfa",
   "metadata": {},
   "outputs": [
    {
     "data": {
      "text/plain": [
       "15"
      ]
     },
     "execution_count": 7,
     "metadata": {},
     "output_type": "execute_result"
    }
   ],
   "source": [
    "# Binary\n",
    "\n",
    "0b1111"
   ]
  },
  {
   "cell_type": "code",
   "execution_count": null,
   "id": "6f7bee11-a9c5-4c40-b6c6-167508d57b9d",
   "metadata": {},
   "outputs": [],
   "source": [
    "4   2   1    num\n",
    "0   0   0     0\n",
    "0   0   1     1\n",
    "0   1   0     2\n",
    "0   1   1     3\n",
    "1   0   0     4\n",
    "1   0   1     5\n",
    "1   1   0     6\n",
    "1   1   1     7\n"
   ]
  },
  {
   "cell_type": "code",
   "execution_count": null,
   "id": "e18dcf8a-fd8a-4a06-a8c8-6f7231f07fe6",
   "metadata": {},
   "outputs": [],
   "source": [
    "8     4      2      1       num\n",
    "0     0      0      0        0\n",
    "0     0      0      1        1\n",
    "0     0      1      0        2\n",
    "0     0      1      1        3\n",
    "0     1      0      0        4\n",
    "0     1      0      1        5\n",
    "0     1      1      0        6\n",
    "0     1      1      1        7\n",
    "1     0      0      0        8\n",
    "1     0      0      1        9\n",
    "1     0      1      0        10\n",
    "1     0      1      1        11\n",
    "1     1      0      0        12\n",
    "1     1      0      1        13\n",
    "1     1      1      0        14\n",
    "1     1      1      1        15"
   ]
  },
  {
   "cell_type": "code",
   "execution_count": 4,
   "id": "30a041ab-06bb-4970-9f53-c1e3f289150f",
   "metadata": {},
   "outputs": [
    {
     "data": {
      "text/plain": [
       "29"
      ]
     },
     "execution_count": 4,
     "metadata": {},
     "output_type": "execute_result"
    }
   ],
   "source": [
    "0b11101"
   ]
  },
  {
   "cell_type": "code",
   "execution_count": 5,
   "id": "b102b3e3-9026-4c73-b807-e705ebaea5ae",
   "metadata": {},
   "outputs": [
    {
     "data": {
      "text/plain": [
       "59"
      ]
     },
     "execution_count": 5,
     "metadata": {},
     "output_type": "execute_result"
    }
   ],
   "source": [
    "0b111011"
   ]
  },
  {
   "cell_type": "markdown",
   "id": "1956b63e-8add-41cd-8cb0-246015d13c40",
   "metadata": {},
   "source": [
    "**OCTAL**"
   ]
  },
  {
   "cell_type": "markdown",
   "id": "d942d13c-5d24-4380-bb37-54255b394d2a",
   "metadata": {},
   "source": [
    "- Octa means 8\n",
    "- so it requires 8 digits\n",
    "- Genreally we have 0 1 2 3 4 5 6 7 8 9\n",
    "- so it will represent 0 1 2 3 4 5 6 7\n",
    "- represntation is 0o123,0O012345,0o7654321\n",
    "- wrong representation is 0b108,0o987"
   ]
  },
  {
   "cell_type": "code",
   "execution_count": 6,
   "id": "ca862c84-e1e7-4314-b6f6-d2cb1bd4bca3",
   "metadata": {},
   "outputs": [
    {
     "data": {
      "text/plain": [
       "83"
      ]
     },
     "execution_count": 6,
     "metadata": {},
     "output_type": "execute_result"
    }
   ],
   "source": [
    "0o123"
   ]
  },
  {
   "cell_type": "code",
   "execution_count": 9,
   "id": "7eac7bb7-d3ed-4636-8655-19f7752dc242",
   "metadata": {},
   "outputs": [
    {
     "data": {
      "text/plain": [
       "668"
      ]
     },
     "execution_count": 9,
     "metadata": {},
     "output_type": "execute_result"
    }
   ],
   "source": [
    "0o1234"
   ]
  },
  {
   "cell_type": "markdown",
   "id": "4ac6a0d3-317f-4d86-bd39-402ea4ba01f9",
   "metadata": {},
   "source": [
    "**HEXA**\n",
    "\n",
    "- Hexa means 16\n",
    "- so it requires 16 digits\n",
    "- Genreally we have 0 1 2 3 4 5 6 7 8 9 A(10) B(11) C(12) D(13) E(14) F(15)\n",
    "- so it will represent 0-9 & A-F\n",
    "- represntation is 0xF9,0X0123abc,0xabc\n",
    "- wrong representation is 0xGH,0xABCDEFG"
   ]
  },
  {
   "cell_type": "code",
   "execution_count": 11,
   "id": "30125699-7ecb-4c15-8fd0-4ed301845c97",
   "metadata": {},
   "outputs": [
    {
     "data": {
      "text/plain": [
       "2748"
      ]
     },
     "execution_count": 11,
     "metadata": {},
     "output_type": "execute_result"
    }
   ],
   "source": [
    "0xabc"
   ]
  },
  {
   "cell_type": "code",
   "execution_count": 12,
   "id": "21b05e68-6a05-4e62-9893-a7134cc17ddc",
   "metadata": {},
   "outputs": [
    {
     "data": {
      "text/plain": [
       "4671"
      ]
     },
     "execution_count": 12,
     "metadata": {},
     "output_type": "execute_result"
    }
   ],
   "source": [
    "0x123F"
   ]
  },
  {
   "cell_type": "markdown",
   "id": "6607f85d-c4af-488d-983e-826705901c93",
   "metadata": {},
   "source": [
    "**FLOAT**"
   ]
  },
  {
   "cell_type": "code",
   "execution_count": 15,
   "id": "11ed874a-d49b-4f63-8f5c-f41f1b9acff3",
   "metadata": {},
   "outputs": [
    {
     "data": {
      "text/plain": [
       "float"
      ]
     },
     "execution_count": 15,
     "metadata": {},
     "output_type": "execute_result"
    }
   ],
   "source": [
    "n1=100.5\n",
    "type(n1)"
   ]
  },
  {
   "cell_type": "code",
   "execution_count": 16,
   "id": "3b420752-d06f-4541-9a2e-6409cf6a0fe9",
   "metadata": {},
   "outputs": [
    {
     "data": {
      "text/plain": [
       "int"
      ]
     },
     "execution_count": 16,
     "metadata": {},
     "output_type": "execute_result"
    }
   ],
   "source": [
    "n2=1005\n",
    "type(n2)"
   ]
  },
  {
   "cell_type": "code",
   "execution_count": 8,
   "id": "32c24047-ea3d-4662-a00f-de5305ba935f",
   "metadata": {},
   "outputs": [
    {
     "data": {
      "text/plain": [
       "(10.0, 100.0, 1000.0, 10000.0)"
      ]
     },
     "execution_count": 8,
     "metadata": {},
     "output_type": "execute_result"
    }
   ],
   "source": [
    "1e1,1e2,1e3,1e4\n",
    "# kep=k*10^p"
   ]
  },
  {
   "cell_type": "code",
   "execution_count": 9,
   "id": "b7cc0c5a-6485-4ee8-a891-6291a6e2dc18",
   "metadata": {},
   "outputs": [
    {
     "data": {
      "text/plain": [
       "24000.0"
      ]
     },
     "execution_count": 9,
     "metadata": {},
     "output_type": "execute_result"
    }
   ],
   "source": [
    "24e3\n",
    "# 24*10^3"
   ]
  },
  {
   "cell_type": "code",
   "execution_count": 19,
   "id": "d6d59729-774a-4452-9eb9-14973279f0ee",
   "metadata": {},
   "outputs": [
    {
     "data": {
      "text/plain": [
       "(10.0, 100.0, 1000.0, 10000.0)"
      ]
     },
     "execution_count": 19,
     "metadata": {},
     "output_type": "execute_result"
    }
   ],
   "source": [
    "1e+1,1e+2,1e+3,1e+4"
   ]
  },
  {
   "cell_type": "code",
   "execution_count": 20,
   "id": "d4620c28-d3cd-4893-9766-51fe4fd5cf70",
   "metadata": {},
   "outputs": [
    {
     "data": {
      "text/plain": [
       "(0.1, 0.01, 0.001)"
      ]
     },
     "execution_count": 20,
     "metadata": {},
     "output_type": "execute_result"
    }
   ],
   "source": [
    "1e-1,1e-2,1e-3"
   ]
  },
  {
   "cell_type": "code",
   "execution_count": 21,
   "id": "1c6256fd-517a-4867-b8be-38433e34df89",
   "metadata": {},
   "outputs": [
    {
     "data": {
      "text/plain": [
       "0.024"
      ]
     },
     "execution_count": 21,
     "metadata": {},
     "output_type": "execute_result"
    }
   ],
   "source": [
    "24e-3\n",
    "\n",
    "# 24/1000"
   ]
  },
  {
   "cell_type": "markdown",
   "id": "db39be4f-58ea-42cb-8aae-33fd2606462a",
   "metadata": {},
   "source": [
    "- positive sign means multiply\n",
    "- negative sign means divide"
   ]
  },
  {
   "cell_type": "markdown",
   "id": "149dd4b3-c1b1-411c-92f3-13b5bbc83695",
   "metadata": {},
   "source": [
    "**STRINGS**"
   ]
  },
  {
   "cell_type": "markdown",
   "id": "7e77e113-89c0-4755-9a01-8b484e26a194",
   "metadata": {},
   "source": [
    "- Strings are used to represent the english characters generally\n",
    "- strings will represnt in\n",
    "  \n",
    "     - single qoutes\"\n",
    "     - double quotes\"\n",
    "     - triple quotes\""
   ]
  },
  {
   "cell_type": "code",
   "execution_count": 22,
   "id": "6ce5df0e-4157-4382-993e-0feb4eaf488c",
   "metadata": {},
   "outputs": [
    {
     "data": {
      "text/plain": [
       "str"
      ]
     },
     "execution_count": 22,
     "metadata": {},
     "output_type": "execute_result"
    }
   ],
   "source": [
    "name='Renuka'\n",
    "type(name)"
   ]
  },
  {
   "cell_type": "code",
   "execution_count": 23,
   "id": "16b811cd-4443-4419-b241-b324e7f582f1",
   "metadata": {},
   "outputs": [
    {
     "data": {
      "text/plain": [
       "str"
      ]
     },
     "execution_count": 23,
     "metadata": {},
     "output_type": "execute_result"
    }
   ],
   "source": [
    "name1='Renuka'\n",
    "type(name1)"
   ]
  },
  {
   "cell_type": "code",
   "execution_count": 24,
   "id": "62f8da27-ceb8-446e-a8d2-f11a8a37ed3f",
   "metadata": {},
   "outputs": [
    {
     "data": {
      "text/plain": [
       "str"
      ]
     },
     "execution_count": 24,
     "metadata": {},
     "output_type": "execute_result"
    }
   ],
   "source": [
    "name2='10'\n",
    "type(name2)"
   ]
  },
  {
   "cell_type": "code",
   "execution_count": 25,
   "id": "adb24fdb-30b8-4c13-a59e-954f0f621167",
   "metadata": {},
   "outputs": [
    {
     "data": {
      "text/plain": [
       "str"
      ]
     },
     "execution_count": 25,
     "metadata": {},
     "output_type": "execute_result"
    }
   ],
   "source": [
    "email_id='naresh@123'\n",
    "type(email_id)"
   ]
  },
  {
   "cell_type": "markdown",
   "id": "11d183ac-cd0d-44b4-aa8c-aa909c11871a",
   "metadata": {},
   "source": [
    "**RED COLOUR MEANS STRING**\n",
    "\n",
    "**GREEN COLOUR MEANS KEYWORDS**\n",
    "\n",
    "**BLACK COLOUR MEANS VARIABLE**"
   ]
  },
  {
   "cell_type": "code",
   "execution_count": 26,
   "id": "eab0cd35-1cc9-4f0f-9aa4-8e110058031d",
   "metadata": {},
   "outputs": [],
   "source": [
    "name='python'\n",
    "name1='python'"
   ]
  },
  {
   "cell_type": "code",
   "execution_count": 31,
   "id": "2d256013-59e2-4159-a79a-fae09d5de9e4",
   "metadata": {},
   "outputs": [
    {
     "data": {
      "text/plain": [
       "'python'"
      ]
     },
     "execution_count": 31,
     "metadata": {},
     "output_type": "execute_result"
    }
   ],
   "source": [
    "name"
   ]
  },
  {
   "cell_type": "markdown",
   "id": "0d77cb1d-b4f4-4289-a5e1-94f217f10bc4",
   "metadata": {},
   "source": [
    "- output always single quotes"
   ]
  },
  {
   "cell_type": "code",
   "execution_count": 29,
   "id": "a3ffa782-6d54-4bfd-bd7d-10c785aed75e",
   "metadata": {},
   "outputs": [
    {
     "name": "stdout",
     "output_type": "stream",
     "text": [
      "python\n"
     ]
    }
   ],
   "source": [
    "print(name)"
   ]
  },
  {
   "cell_type": "markdown",
   "id": "001cf498-3611-4dd2-bf2e-85168b565d8d",
   "metadata": {},
   "source": [
    "- whenever you print quotes will not visible"
   ]
  },
  {
   "cell_type": "code",
   "execution_count": 34,
   "id": "bb1ab422-a43e-401a-91f3-b0eafefc677e",
   "metadata": {},
   "outputs": [
    {
     "name": "stdout",
     "output_type": "stream",
     "text": [
      "i like 'python'\n"
     ]
    }
   ],
   "source": [
    "name=\"i like 'python'\"\n",
    "print(name)"
   ]
  },
  {
   "cell_type": "code",
   "execution_count": 36,
   "id": "f7a3ac07-6fbc-441a-bad1-1afeb5c868ac",
   "metadata": {},
   "outputs": [
    {
     "name": "stdout",
     "output_type": "stream",
     "text": [
      "i like \"python\"\n"
     ]
    }
   ],
   "source": [
    "str='i like \"python\"'\n",
    "print(str)"
   ]
  },
  {
   "cell_type": "markdown",
   "id": "de85eed5-fdd6-4fef-8f8d-26ac1c43be75",
   "metadata": {},
   "source": [
    "- Entire string in double quotes the highlited word in single quotes vice versa"
   ]
  },
  {
   "cell_type": "markdown",
   "id": "dee72eb4-e384-47f5-925a-f7813c01c94e",
   "metadata": {},
   "source": [
    "**TRIPLE QUOTES**\n",
    "\n",
    "- Triple quotes is not used for coding\n",
    "- Triple quotes is used to provide the information to user\n",
    "- In order to provide the information in Jupyter Notebook we will MARKDOWN\n",
    "- In VSCODE & PYCHARM there are no markdown option\n",
    "- So we use to write the information in triple quotes\n",
    "- The entire process is called DOC STRING"
   ]
  },
  {
   "cell_type": "code",
   "execution_count": 39,
   "id": "fb3bfa9e-ebd1-4f37-9fc4-2d842a31085d",
   "metadata": {},
   "outputs": [
    {
     "data": {
      "text/plain": [
       "'\\nHELLO\\nThis is a Python Code\\n'"
      ]
     },
     "execution_count": 39,
     "metadata": {},
     "output_type": "execute_result"
    }
   ],
   "source": [
    "\"\"\"\n",
    "HELLO\n",
    "This is a Python Code\n",
    "\"\"\""
   ]
  },
  {
   "cell_type": "markdown",
   "id": "22517367-c7a4-478f-af00-0237f68217dd",
   "metadata": {},
   "source": [
    "**BOOLEAN**"
   ]
  },
  {
   "cell_type": "code",
   "execution_count": 41,
   "id": "5645dce8-8e59-4e19-a1d7-278067cc9ca7",
   "metadata": {},
   "outputs": [
    {
     "data": {
      "text/plain": [
       "bool"
      ]
     },
     "execution_count": 41,
     "metadata": {},
     "output_type": "execute_result"
    }
   ],
   "source": [
    "Value=True\n",
    "type(Value)"
   ]
  },
  {
   "cell_type": "code",
   "execution_count": 42,
   "id": "c5df14da-ab09-4a38-bd65-f78872373422",
   "metadata": {},
   "outputs": [
    {
     "data": {
      "text/plain": [
       "bool"
      ]
     },
     "execution_count": 42,
     "metadata": {},
     "output_type": "execute_result"
    }
   ],
   "source": [
    "Value=False\n",
    "type(Value)"
   ]
  },
  {
   "cell_type": "code",
   "execution_count": null,
   "id": "f232d317-5f24-4e28-8636-8a8dbff5b86b",
   "metadata": {},
   "outputs": [],
   "source": [
    "true=\"TRUE\"\n",
    "false=\"FALSE\"\n",
    "\n",
    "# true and false are variables\n",
    "#  type true is String\n",
    "#  type false is Boolean"
   ]
  },
  {
   "cell_type": "code",
   "execution_count": 3,
   "id": "4e747163-1216-4225-8aed-8e0cb9885f54",
   "metadata": {},
   "outputs": [
    {
     "data": {
      "text/plain": [
       "str"
      ]
     },
     "execution_count": 3,
     "metadata": {},
     "output_type": "execute_result"
    }
   ],
   "source": [
    "type('true')"
   ]
  },
  {
   "cell_type": "code",
   "execution_count": 3,
   "id": "f35ac30a-cf66-49ef-9396-5039522cd1fc",
   "metadata": {},
   "outputs": [
    {
     "data": {
      "text/plain": [
       "bool"
      ]
     },
     "execution_count": 3,
     "metadata": {},
     "output_type": "execute_result"
    }
   ],
   "source": [
    "type(False)"
   ]
  }
 ],
 "metadata": {
  "kernelspec": {
   "display_name": "Python 3 (ipykernel)",
   "language": "python",
   "name": "python3"
  },
  "language_info": {
   "codemirror_mode": {
    "name": "ipython",
    "version": 3
   },
   "file_extension": ".py",
   "mimetype": "text/x-python",
   "name": "python",
   "nbconvert_exporter": "python",
   "pygments_lexer": "ipython3",
   "version": "3.11.7"
  }
 },
 "nbformat": 4,
 "nbformat_minor": 5
}
