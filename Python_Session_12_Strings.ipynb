{
 "cells": [
  {
   "cell_type": "code",
   "execution_count": null,
   "id": "66f35140-ddad-495a-a55d-e6410301ebdd",
   "metadata": {},
   "outputs": [],
   "source": [
    "==================================PART-1========================================\n",
    "\n",
    "- initialization\n",
    "\n",
    "- type\n",
    "\n",
    "- len\n",
    "\n",
    "- max\n",
    "\n",
    "- min\n",
    "\n",
    "- sorted\n",
    "\n",
    "- reversed\n",
    "\n",
    "- in\n",
    "\n",
    "- for loop using in\n",
    "    \n",
    "- index\n",
    "    \n",
    "- for loop using index\n",
    "    \n",
    "- mutable\n",
    "    \n",
    "- concatenation`\n",
    "\n",
    "#===============================PART-2===============================\n",
    "# Methods"
   ]
  },
  {
   "cell_type": "markdown",
   "id": "0bd8f855-b246-41f4-a020-3e5cafbba7d1",
   "metadata": {},
   "source": [
    "**INITIALIZATION**"
   ]
  },
  {
   "cell_type": "code",
   "execution_count": 2,
   "id": "dc19510b-bbfc-4da1-a4d2-84e6e3f72724",
   "metadata": {},
   "outputs": [
    {
     "data": {
      "text/plain": [
       "'python'"
      ]
     },
     "execution_count": 2,
     "metadata": {},
     "output_type": "execute_result"
    }
   ],
   "source": [
    "str1='python'\n",
    "str1"
   ]
  },
  {
   "cell_type": "code",
   "execution_count": 3,
   "id": "085df7d2-dc23-43f6-bf50-cbc390bbb50a",
   "metadata": {},
   "outputs": [
    {
     "data": {
      "text/plain": [
       "'python'"
      ]
     },
     "execution_count": 3,
     "metadata": {},
     "output_type": "execute_result"
    }
   ],
   "source": [
    "str2=\"python\"\n",
    "str2"
   ]
  },
  {
   "cell_type": "code",
   "execution_count": 3,
   "id": "d94eb328-db3c-4f2b-b234-d348bab99027",
   "metadata": {},
   "outputs": [
    {
     "name": "stdout",
     "output_type": "stream",
     "text": [
      "python\n"
     ]
    }
   ],
   "source": [
    "print(str1) # Do not confuse Im not seeing the quotes"
   ]
  },
  {
   "cell_type": "markdown",
   "id": "f31283b6-bfad-4644-a72f-b0a10cc5cb19",
   "metadata": {},
   "source": [
    "**Note**\n",
    "  \n",
    "- If we mentioned single quotes or double quotes by default python provides in single\n",
    "  quotes only\n",
    "- If we print the strings, we will answer with out quotes"
   ]
  },
  {
   "cell_type": "markdown",
   "id": "a2d11cfc-ef15-4bfc-b6b7-c41934940258",
   "metadata": {},
   "source": [
    "**TRIPLE QUOTES**"
   ]
  },
  {
   "cell_type": "code",
   "execution_count": 4,
   "id": "9ef4b008-5a1b-4b05-8b39-9ff607eb29e7",
   "metadata": {},
   "outputs": [
    {
     "data": {
      "text/plain": [
       "'hi how are you\\n        im good'"
      ]
     },
     "execution_count": 4,
     "metadata": {},
     "output_type": "execute_result"
    }
   ],
   "source": [
    "str3=\"\"\"hi how are you\n",
    "        im good\"\"\"\n",
    "str3"
   ]
  },
  {
   "cell_type": "code",
   "execution_count": 5,
   "id": "a3b65a6c-ea76-4a07-ad55-1004af1f1986",
   "metadata": {},
   "outputs": [
    {
     "name": "stdout",
     "output_type": "stream",
     "text": [
      "hi how are you\n",
      "        im good\n"
     ]
    }
   ],
   "source": [
    "print(str3)"
   ]
  },
  {
   "cell_type": "markdown",
   "id": "a6097e3a-8b6e-4a88-9e48-4cc072eb827c",
   "metadata": {},
   "source": [
    "**NOTE**\n",
    "\n",
    "- If we mentioned single quotes or double quotes by default python provides in single \n",
    "  quotes only\n",
    "- if we print the strings, we will answer with out quotes\n",
    "- Triple quotes are using for doc string\n",
    "- In order to convey the information about coding part we will use doc string\n",
    "- anything inside the single or double quotes is considered as string in python"
   ]
  },
  {
   "cell_type": "markdown",
   "id": "2a9fcd55-3d7a-4987-a116-54fadb87f939",
   "metadata": {},
   "source": [
    "**TYPE**"
   ]
  },
  {
   "cell_type": "code",
   "execution_count": 5,
   "id": "ed658d86-96cf-4e25-aaa0-166e84aede23",
   "metadata": {},
   "outputs": [
    {
     "data": {
      "text/plain": [
       "str"
      ]
     },
     "execution_count": 5,
     "metadata": {},
     "output_type": "execute_result"
    }
   ],
   "source": [
    "type(str1)  # type is string time"
   ]
  },
  {
   "cell_type": "code",
   "execution_count": 6,
   "id": "f1f0258a-30d6-43e8-a73d-7582d6cb95be",
   "metadata": {},
   "outputs": [],
   "source": [
    "str4='10'       # integer value in the form of string\n",
    "str5='10.5'     # Float value in the form of string\n",
    "str6='123abc'   # Boolean in the form of string\n",
    "str8='sinx'\n",
    "\n",
    "# All are in quotes,means in red color : string"
   ]
  },
  {
   "cell_type": "markdown",
   "id": "9e1f5595-e23c-495c-9dae-5e3d00d1a999",
   "metadata": {},
   "source": [
    "**LEN**"
   ]
  },
  {
   "cell_type": "code",
   "execution_count": 7,
   "id": "872e452e-8992-4fa3-9be5-8198e2784ba0",
   "metadata": {},
   "outputs": [
    {
     "data": {
      "text/plain": [
       "6"
      ]
     },
     "execution_count": 7,
     "metadata": {},
     "output_type": "execute_result"
    }
   ],
   "source": [
    "str1='python'\n",
    "len(str1)"
   ]
  },
  {
   "cell_type": "markdown",
   "id": "8ee6319d-32ba-4cba-a4af-152630213753",
   "metadata": {},
   "source": [
    "**MAX AND MIN**"
   ]
  },
  {
   "cell_type": "code",
   "execution_count": 8,
   "id": "eb4ab117-b10c-4b88-95dd-63240de3c5da",
   "metadata": {},
   "outputs": [
    {
     "data": {
      "text/plain": [
       "'y'"
      ]
     },
     "execution_count": 8,
     "metadata": {},
     "output_type": "execute_result"
    }
   ],
   "source": [
    "str1='python'\n",
    "max(str1)"
   ]
  },
  {
   "cell_type": "code",
   "execution_count": 9,
   "id": "c9b976e8-f834-4db5-affc-e0e9ae38e20d",
   "metadata": {},
   "outputs": [
    {
     "data": {
      "text/plain": [
       "(112, 121, 116, 104, 111, 110)"
      ]
     },
     "execution_count": 9,
     "metadata": {},
     "output_type": "execute_result"
    }
   ],
   "source": [
    "ord('p'),ord('y'),ord('t'),ord('h'),ord('o'),ord('n')"
   ]
  },
  {
   "cell_type": "code",
   "execution_count": 10,
   "id": "f584ecb4-3e36-4c7b-a123-f876a687f540",
   "metadata": {},
   "outputs": [
    {
     "data": {
      "text/plain": [
       "'h'"
      ]
     },
     "execution_count": 10,
     "metadata": {},
     "output_type": "execute_result"
    }
   ],
   "source": [
    "str1='python'\n",
    "min(str1)"
   ]
  },
  {
   "cell_type": "markdown",
   "id": "5b86ab0b-7617-4b92-8511-08bcca9d4bc0",
   "metadata": {},
   "source": [
    "**KEYWORDS VS METHODS**"
   ]
  },
  {
   "cell_type": "code",
   "execution_count": null,
   "id": "73825d44-2808-4812-bf82-4649c639a761",
   "metadata": {},
   "outputs": [],
   "source": [
    "type(<>)\n",
    "print(<>)\n",
    "len(<>)\n",
    "max(<>)\n",
    "min(<>)\n",
    "eval(<>)\n",
    "input(<>)\n",
    "sum(<>)"
   ]
  },
  {
   "cell_type": "code",
   "execution_count": null,
   "id": "3d251fdc-a6fa-4655-a3ff-7a5a1b85824d",
   "metadata": {},
   "outputs": [],
   "source": [
    "- in order to use method we need to call package\n",
    "\n",
    "import random\n",
    "random.randint()\n",
    "\n",
    "import math\n",
    "math.sqrt()\n",
    "\n",
    "import time\n",
    "time.sleep()"
   ]
  },
  {
   "cell_type": "code",
   "execution_count": 11,
   "id": "f6aaf118-ffb0-4162-beba-50c30bb2c189",
   "metadata": {},
   "outputs": [
    {
     "data": {
      "text/plain": [
       "'y'"
      ]
     },
     "execution_count": 11,
     "metadata": {},
     "output_type": "execute_result"
    }
   ],
   "source": [
    "str1='python123'\n",
    "max(str1)"
   ]
  },
  {
   "cell_type": "markdown",
   "id": "caaabb94-d679-4179-a14d-5a1e4daaaf24",
   "metadata": {},
   "source": [
    "**SUM**"
   ]
  },
  {
   "cell_type": "code",
   "execution_count": 12,
   "id": "4b93dfa2-b396-4982-8acb-7ecec059a631",
   "metadata": {},
   "outputs": [
    {
     "ename": "TypeError",
     "evalue": "unsupported operand type(s) for +: 'int' and 'str'",
     "output_type": "error",
     "traceback": [
      "\u001b[1;31m---------------------------------------------------------------------------\u001b[0m",
      "\u001b[1;31mTypeError\u001b[0m                                 Traceback (most recent call last)",
      "Cell \u001b[1;32mIn[12], line 2\u001b[0m\n\u001b[0;32m      1\u001b[0m str1\u001b[38;5;241m=\u001b[39m\u001b[38;5;124m'\u001b[39m\u001b[38;5;124mpython\u001b[39m\u001b[38;5;124m'\u001b[39m\n\u001b[1;32m----> 2\u001b[0m \u001b[38;5;28msum\u001b[39m(str1)\n",
      "\u001b[1;31mTypeError\u001b[0m: unsupported operand type(s) for +: 'int' and 'str'"
     ]
    }
   ],
   "source": [
    "str1='python'\n",
    "sum(str1)"
   ]
  },
  {
   "cell_type": "code",
   "execution_count": 13,
   "id": "105fd07c-b8c0-456c-9bec-d6b7849060df",
   "metadata": {},
   "outputs": [
    {
     "data": {
      "text/plain": [
       "'py'"
      ]
     },
     "execution_count": 13,
     "metadata": {},
     "output_type": "execute_result"
    }
   ],
   "source": [
    "'p'+'y'"
   ]
  },
  {
   "cell_type": "code",
   "execution_count": 6,
   "id": "25b0ea4b-e21e-4abe-9882-fc581543287f",
   "metadata": {},
   "outputs": [
    {
     "data": {
      "text/plain": [
       "6"
      ]
     },
     "execution_count": 6,
     "metadata": {},
     "output_type": "execute_result"
    }
   ],
   "source": [
    "sum([1,2,3])"
   ]
  },
  {
   "cell_type": "markdown",
   "id": "4e7b58a2-56f6-48fd-a056-fba33780b22e",
   "metadata": {},
   "source": [
    "**SORTED**"
   ]
  },
  {
   "cell_type": "code",
   "execution_count": null,
   "id": "9e97a4a5-3011-4bc9-82f3-0f11673b8a75",
   "metadata": {},
   "outputs": [],
   "source": [
    "len('python')\n",
    "max('python')\n",
    "print('python')\n",
    "min('python')\n",
    "max('python')"
   ]
  },
  {
   "cell_type": "code",
   "execution_count": 15,
   "id": "a1e099ea-924b-46ef-9356-48e22cb93c0b",
   "metadata": {},
   "outputs": [
    {
     "data": {
      "text/plain": [
       "['h', 'n', 'o', 'p', 't', 'y']"
      ]
     },
     "execution_count": 15,
     "metadata": {},
     "output_type": "execute_result"
    }
   ],
   "source": [
    "sorted('python')"
   ]
  },
  {
   "cell_type": "markdown",
   "id": "b048fc6f-5b1b-433e-95ee-931c430b74a7",
   "metadata": {},
   "source": [
    "- sorted gives ascending order based on ASCII numbers\n",
    " \n",
    "- sorted is kind of a function\n",
    "\n",
    "- every function we have arguments\n",
    " \n",
    "- in that one default argument is **reverse=False**\n",
    " \n",
    "- By default sorted output gives **ascending orde**\n",
    " \n",
    "- we can change the order, by providing **reverse=True**\n",
    "\n",
    "- **if we do not mention,it will give the default answer**"
   ]
  },
  {
   "cell_type": "code",
   "execution_count": 7,
   "id": "ea9a7ec3-8b21-49d4-b045-664925659054",
   "metadata": {},
   "outputs": [
    {
     "data": {
      "text/plain": [
       "['y', 't', 'p', 'o', 'n', 'h']"
      ]
     },
     "execution_count": 7,
     "metadata": {},
     "output_type": "execute_result"
    }
   ],
   "source": [
    "sorted('python',reverse=True)"
   ]
  },
  {
   "cell_type": "code",
   "execution_count": 20,
   "id": "e6b8d55d-2b12-4a6f-8f47-e89a6786dd03",
   "metadata": {},
   "outputs": [
    {
     "data": {
      "text/plain": [
       "['y', 't', 'p', 'o', 'n', 'h']"
      ]
     },
     "execution_count": 20,
     "metadata": {},
     "output_type": "execute_result"
    }
   ],
   "source": [
    "sorted(str1,reverse=True)"
   ]
  },
  {
   "cell_type": "code",
   "execution_count": 22,
   "id": "5478e8f3-1a1c-4207-90ce-75bdd46b72cd",
   "metadata": {},
   "outputs": [
    {
     "data": {
      "text/plain": [
       "0j"
      ]
     },
     "execution_count": 22,
     "metadata": {},
     "output_type": "execute_result"
    }
   ],
   "source": [
    "complex()"
   ]
  },
  {
   "cell_type": "code",
   "execution_count": 23,
   "id": "af221c66-33fb-4d74-bd09-b6fc31e91561",
   "metadata": {},
   "outputs": [
    {
     "data": {
      "text/plain": [
       "(10+20j)"
      ]
     },
     "execution_count": 23,
     "metadata": {},
     "output_type": "execute_result"
    }
   ],
   "source": [
    "complex(10,20)"
   ]
  },
  {
   "cell_type": "code",
   "execution_count": 25,
   "id": "5985b46a-08d2-43c9-90f6-a08956274975",
   "metadata": {},
   "outputs": [
    {
     "data": {
      "text/plain": [
       "(10+30j)"
      ]
     },
     "execution_count": 25,
     "metadata": {},
     "output_type": "execute_result"
    }
   ],
   "source": [
    "complex(real=10,imag=30)"
   ]
  },
  {
   "cell_type": "code",
   "execution_count": 26,
   "id": "80e781dc-db0a-43df-874e-93a80ecdf3ac",
   "metadata": {},
   "outputs": [
    {
     "ename": "TypeError",
     "evalue": "Random.randint() missing 2 required positional arguments: 'a' and 'b'",
     "output_type": "error",
     "traceback": [
      "\u001b[1;31m---------------------------------------------------------------------------\u001b[0m",
      "\u001b[1;31mTypeError\u001b[0m                                 Traceback (most recent call last)",
      "Cell \u001b[1;32mIn[26], line 2\u001b[0m\n\u001b[0;32m      1\u001b[0m \u001b[38;5;28;01mimport\u001b[39;00m \u001b[38;5;21;01mrandom\u001b[39;00m\n\u001b[1;32m----> 2\u001b[0m random\u001b[38;5;241m.\u001b[39mrandint()\n",
      "\u001b[1;31mTypeError\u001b[0m: Random.randint() missing 2 required positional arguments: 'a' and 'b'"
     ]
    }
   ],
   "source": [
    "import random\n",
    "random.randint()"
   ]
  },
  {
   "cell_type": "code",
   "execution_count": null,
   "id": "8c319459-4e7e-4b0c-880f-f7f73071f2f9",
   "metadata": {},
   "outputs": [],
   "source": [
    "function()    # answer\n",
    "function(a,b)  # this ,might return error, if we don't give the values of a,b\n",
    "function(a=10,b=10)  # answer"
   ]
  },
  {
   "cell_type": "code",
   "execution_count": null,
   "id": "556caf43-04ab-462a-a742-47f40d0898a3",
   "metadata": {},
   "outputs": [],
   "source": [
    "function()    \n",
    "function(a,b)  \n",
    "function(a=10,b=10)  "
   ]
  },
  {
   "cell_type": "code",
   "execution_count": 8,
   "id": "d595dd0f-8b7b-4588-9a8d-c7bc595d3a09",
   "metadata": {},
   "outputs": [
    {
     "data": {
      "text/plain": [
       "0.47005361230748843"
      ]
     },
     "execution_count": 8,
     "metadata": {},
     "output_type": "execute_result"
    }
   ],
   "source": [
    "import random\n",
    "random.random()  # we will get answer but answer is not in our hand"
   ]
  },
  {
   "cell_type": "code",
   "execution_count": 30,
   "id": "dccffd0c-71c4-47e2-b1cd-fd91cf532ea9",
   "metadata": {},
   "outputs": [
    {
     "data": {
      "text/plain": [
       "13"
      ]
     },
     "execution_count": 30,
     "metadata": {},
     "output_type": "execute_result"
    }
   ],
   "source": [
    "import random\n",
    "random.randint(10,20)   # answer we can change"
   ]
  },
  {
   "cell_type": "code",
   "execution_count": 31,
   "id": "41863f65-92f5-43ad-ae66-7b6de6886fa4",
   "metadata": {},
   "outputs": [
    {
     "data": {
      "text/plain": [
       "0j"
      ]
     },
     "execution_count": 31,
     "metadata": {},
     "output_type": "execute_result"
    }
   ],
   "source": [
    "complex()   # by default 0,0"
   ]
  },
  {
   "cell_type": "code",
   "execution_count": 32,
   "id": "f1e7e912-90e0-4fb0-b396-1373c514881b",
   "metadata": {},
   "outputs": [
    {
     "ename": "TypeError",
     "evalue": "sorted expected 1 argument, got 0",
     "output_type": "error",
     "traceback": [
      "\u001b[1;31m---------------------------------------------------------------------------\u001b[0m",
      "\u001b[1;31mTypeError\u001b[0m                                 Traceback (most recent call last)",
      "Cell \u001b[1;32mIn[32], line 1\u001b[0m\n\u001b[1;32m----> 1\u001b[0m \u001b[38;5;28msorted\u001b[39m(iterable\u001b[38;5;241m=\u001b[39m\u001b[38;5;124m'\u001b[39m\u001b[38;5;124mpython\u001b[39m\u001b[38;5;124m'\u001b[39m)\n",
      "\u001b[1;31mTypeError\u001b[0m: sorted expected 1 argument, got 0"
     ]
    }
   ],
   "source": [
    "sorted(iterable='python')"
   ]
  },
  {
   "cell_type": "code",
   "execution_count": 33,
   "id": "4af595af-e78c-4293-b8ed-cf323b44722b",
   "metadata": {},
   "outputs": [
    {
     "data": {
      "text/plain": [
       "29"
      ]
     },
     "execution_count": 33,
     "metadata": {},
     "output_type": "execute_result"
    }
   ],
   "source": [
    "random.randint(a=10,b=30)"
   ]
  },
  {
   "cell_type": "markdown",
   "id": "b5e8f5b9-06bc-4d93-8b92-8d713cb30dfa",
   "metadata": {},
   "source": [
    "**NOTE**\n",
    "\n",
    "- we have arguments before / and after slash\n",
    "\n",
    "- we can use the argument names after / only\n",
    " \n",
    "- for example sorted has two arguments one is iterable and another one is reverse\n",
    " \n",
    "- iterable is mentioned before / symbol\n",
    " \n",
    "- reverse is mentioned after / symbol\n",
    " \n",
    "- so we can use only reverse argument name while we are doing the work\n",
    " \n",
    "- we can not use iterable argument name\n",
    "\n",
    "- instead of using iterable name, we can provide direct value at that posistion"
   ]
  },
  {
   "cell_type": "markdown",
   "id": "0c320f9a-f685-41e6-8e41-880081987aef",
   "metadata": {},
   "source": [
    "**REVERSED**"
   ]
  },
  {
   "cell_type": "code",
   "execution_count": null,
   "id": "d19567e5-f365-4fb2-bed6-e579ee01651b",
   "metadata": {},
   "outputs": [],
   "source": [
    "type()\n",
    "len()\n",
    "max()\n",
    "min()\n",
    "print()\n",
    "sorted()"
   ]
  },
  {
   "cell_type": "code",
   "execution_count": 35,
   "id": "d551a48c-64d4-4e9a-911d-577bdc7a13cd",
   "metadata": {},
   "outputs": [
    {
     "data": {
      "text/plain": [
       "<reversed at 0x1588a77fd60>"
      ]
     },
     "execution_count": 35,
     "metadata": {},
     "output_type": "execute_result"
    }
   ],
   "source": [
    "reversed('python')"
   ]
  },
  {
   "cell_type": "markdown",
   "id": "8aedf1b6-e34e-44cd-b64a-57a4889f0fde",
   "metadata": {},
   "source": [
    "- i already done my work\n",
    "  \n",
    "- your output is stored in that memory location\n",
    "  \n",
    "- whenever you see this kind of answer less than and greater than symbol or memory\n",
    "  \n",
    "- use of loop to see the answer"
   ]
  },
  {
   "cell_type": "code",
   "execution_count": 37,
   "id": "401e6f29-5157-46f8-926e-ccec9f5e06e5",
   "metadata": {},
   "outputs": [
    {
     "name": "stdout",
     "output_type": "stream",
     "text": [
      "n\n",
      "o\n",
      "h\n",
      "t\n",
      "y\n",
      "p\n"
     ]
    }
   ],
   "source": [
    "str1='python'\n",
    "output=reversed(str1)\n",
    "for i in output:\n",
    "    print(i)"
   ]
  },
  {
   "cell_type": "code",
   "execution_count": 38,
   "id": "8132c4a6-d287-4d87-bed9-0fd96757cc01",
   "metadata": {},
   "outputs": [
    {
     "data": {
      "text/plain": [
       "['a', 'c', 'd', 'y', 'z']"
      ]
     },
     "execution_count": 38,
     "metadata": {},
     "output_type": "execute_result"
    }
   ],
   "source": [
    "sorted('azycd')"
   ]
  },
  {
   "cell_type": "code",
   "execution_count": null,
   "id": "27432757-6acf-4a26-88e7-6d6c36d86208",
   "metadata": {},
   "outputs": [],
   "source": [
    "- Intialization\n",
    "- type\n",
    "- len\n",
    "- max\n",
    "- min\n",
    "- sum\n",
    "- sorted\n",
    "- reversed"
   ]
  },
  {
   "cell_type": "code",
   "execution_count": null,
   "id": "d0190739-e9b0-4008-a452-579851b146e5",
   "metadata": {},
   "outputs": [],
   "source": [
    "type(<value>)\n",
    "eval(<value>)\n",
    "input(<value>)\n",
    "max(<v>)\n",
    "min()\n",
    "len()\n",
    "sum()\n",
    "sorted()\n",
    "reveresd()"
   ]
  },
  {
   "cell_type": "code",
   "execution_count": 7,
   "id": "bac8fe03-504c-487c-b248-99789bc2d6c1",
   "metadata": {},
   "outputs": [
    {
     "data": {
      "text/plain": [
       "['a', 'e', 'h', 'n', 'r', 's']"
      ]
     },
     "execution_count": 7,
     "metadata": {},
     "output_type": "execute_result"
    }
   ],
   "source": [
    "# sorted()\n",
    "# It will provide the values either ascending or descending\n",
    "\n",
    "sorted('naresh') # Ascending or Descending\n",
    "\n",
    "# when I run directly it will give one answer\n",
    "# the function has a default behaviour: ascending\n",
    "# How this default mentioned\n",
    "# we need to understand about arguments"
   ]
  },
  {
   "cell_type": "code",
   "execution_count": 2,
   "id": "1ef9655d-873e-4bb0-8851-8e26566afb97",
   "metadata": {},
   "outputs": [
    {
     "data": {
      "text/plain": [
       "['s', 'r', 'n', 'h', 'e', 'a']"
      ]
     },
     "execution_count": 2,
     "metadata": {},
     "output_type": "execute_result"
    }
   ],
   "source": [
    "sorted('naresh',reverse=True)\n",
    "# iterable\n",
    "# key\n",
    "# reverse"
   ]
  },
  {
   "cell_type": "code",
   "execution_count": 4,
   "id": "453c11b0-53cf-44f7-8458-604c2e59897a",
   "metadata": {},
   "outputs": [
    {
     "name": "stdout",
     "output_type": "stream",
     "text": [
      "h\n",
      "s\n",
      "e\n",
      "r\n",
      "a\n",
      "n\n"
     ]
    }
   ],
   "source": [
    "for i in reversed('naresh'):\n",
    "    print(i)"
   ]
  },
  {
   "cell_type": "code",
   "execution_count": 5,
   "id": "dd6f6b15-4b06-41a9-b5d4-799b0a1d75a0",
   "metadata": {},
   "outputs": [
    {
     "data": {
      "text/plain": [
       "[1, 2, 10, 20, 30]"
      ]
     },
     "execution_count": 5,
     "metadata": {},
     "output_type": "execute_result"
    }
   ],
   "source": [
    "sorted([1,10,2,20,30])\n",
    "# 1,2,10,20,30\n",
    "# 30,20,10,2,1"
   ]
  },
  {
   "cell_type": "code",
   "execution_count": 6,
   "id": "57a2659c-16cf-4841-bd9c-4b3a2160354f",
   "metadata": {},
   "outputs": [
    {
     "data": {
      "text/plain": [
       "[30, 20, 10, 2, 1]"
      ]
     },
     "execution_count": 6,
     "metadata": {},
     "output_type": "execute_result"
    }
   ],
   "source": [
    "sorted([1,10,2,20,30],reverse=True)"
   ]
  },
  {
   "cell_type": "markdown",
   "id": "5d811dbe-777e-4032-b8ee-462081da3c73",
   "metadata": {},
   "source": [
    "**in**"
   ]
  },
  {
   "cell_type": "code",
   "execution_count": 23,
   "id": "c73ec381-f2c9-46a8-9687-9be6bdd37f10",
   "metadata": {},
   "outputs": [
    {
     "data": {
      "text/plain": [
       "True"
      ]
     },
     "execution_count": 23,
     "metadata": {},
     "output_type": "execute_result"
    }
   ],
   "source": [
    "str1='naresh'\n",
    "\n",
    "'n' in str1"
   ]
  },
  {
   "cell_type": "code",
   "execution_count": null,
   "id": "1f48db24-39b5-4d48-ad4c-482a50ae0654",
   "metadata": {},
   "outputs": [],
   "source": [
    "# strings\n",
    "# list\n",
    "# tuples\n",
    "# sets\n",
    "# dictionary"
   ]
  },
  {
   "cell_type": "code",
   "execution_count": 8,
   "id": "454319c3-646e-4706-b76d-99e0276dcaa8",
   "metadata": {},
   "outputs": [
    {
     "data": {
      "text/plain": [
       "True"
      ]
     },
     "execution_count": 8,
     "metadata": {},
     "output_type": "execute_result"
    }
   ],
   "source": [
    "str1='naresh'\n",
    "\n",
    "'nn' not in str1"
   ]
  },
  {
   "cell_type": "code",
   "execution_count": 9,
   "id": "be49b179-ea74-4df2-b8ff-acb4b059b167",
   "metadata": {},
   "outputs": [
    {
     "name": "stdout",
     "output_type": "stream",
     "text": [
      "n\n",
      "a\n",
      "r\n",
      "e\n",
      "s\n",
      "h\n"
     ]
    }
   ],
   "source": [
    "for i in str1:\n",
    "    print(i)"
   ]
  },
  {
   "cell_type": "markdown",
   "id": "d0f0a175-f5b6-4ba1-9c1d-a4a25791bb81",
   "metadata": {},
   "source": [
    "**Note**\n",
    "  \n",
    "- In operator directly access the letters"
   ]
  },
  {
   "cell_type": "code",
   "execution_count": 10,
   "id": "245c0a61-c0a3-4b58-87bd-47d1409bde12",
   "metadata": {},
   "outputs": [
    {
     "name": "stdout",
     "output_type": "stream",
     "text": [
      "3\n"
     ]
    }
   ],
   "source": [
    "# WAP ask the user count how many 'a' are present in a given string\n",
    "# str1='hai naresh how are you'\n",
    "\n",
    "# Idea: counter wrapper\n",
    "# step-1: count=0\n",
    "# step-2: using for loop in operator iterate through given string\n",
    "# step-3: apply the if condition, whenever the letter equal to 'a'\n",
    "# step-4: count=count+1\n",
    "\n",
    "str1='hai naresh how are you'\n",
    "count=0\n",
    "for i in str1:\n",
    "    if i=='a':\n",
    "        count=count+1\n",
    "print(count)\n",
    "# step-1: i='h' if 'h'=='a' False\n",
    "# step-2: i='a' if 'a'=='a' T count=0+1=1\n",
    "# step-3: i='i' if 'i'=='a' F count=1\n",
    "#\n",
    "#step-6: i='a' if 'a'=='a' T count=1+1=2"
   ]
  },
  {
   "cell_type": "code",
   "execution_count": 11,
   "id": "82584b59-c6ff-4c77-8e5a-dc57297b2c67",
   "metadata": {},
   "outputs": [
    {
     "name": "stdout",
     "output_type": "stream",
     "text": [
      "the count is: 9\n"
     ]
    }
   ],
   "source": [
    "# Q2) WAP ask the find how many vowels are there in a given string\n",
    "# str1='hai naresh how are you'\n",
    "# ans=9\n",
    "count=0\n",
    "str1='hai naresh how are you'\n",
    "for i in str1:\n",
    "    if i=='a' or i=='e' or i=='i' or i=='o' or i=='u':\n",
    "        count=count+1\n",
    "print(\"the count is:\",count)"
   ]
  },
  {
   "cell_type": "code",
   "execution_count": null,
   "id": "3a5a986a-961c-419f-9f17-72318f57da63",
   "metadata": {},
   "outputs": [],
   "source": [
    "count=0\n",
    "str1='hai naresh how are you'\n",
    "for i in str1:\n",
    "    if i=='a' or i=='e' or i=='i' or i=='o' or i=='u':\n",
    "        count=count+1\n",
    "print(\"the count is:\",count)\n",
    "\n",
    "str1='hai naresh how are you'\n",
    "count=0\n",
    "for i in str1:\n",
    "    if i=='a':\n",
    "        count=count+1\n",
    "print(count)\n",
    "\n",
    "# Idea: counter wrapper\n",
    "# step-1: count=0\n",
    "# step-2: using for loop in operator iterate through given string\n",
    "# step-3: apply the if condition, whenever the letter equal to 'a'\n",
    "# step-4: count=count+1"
   ]
  },
  {
   "cell_type": "code",
   "execution_count": null,
   "id": "8a9038fa-5c61-40e9-a848-3aa1db0535b5",
   "metadata": {},
   "outputs": [],
   "source": [
    "# Q3) Home work qn\n",
    "# str1='hai naresh how are you'\n",
    "# Repetaed vowels are there\n",
    "# We dont want repetaed vowels\n",
    "# Count the vowels avoid the repeatition: Unique vowels\n",
    "\n",
    "# Step-1: Count=0\n",
    "# Step-2: take one more empty string: ex= s2=''\n",
    "s2=''\n",
    "# Step-3: using for loop in operator iterate through given string\n",
    "# step-4: condition-1: That letter shoud not avaialble in s2\n",
    "# step-5 condition-2: vowel check condition\n",
    "# step-6 count=count+1\n",
    "# step-7: update the s2= s2=s2+<letter>"
   ]
  },
  {
   "cell_type": "markdown",
   "id": "0cc5b0db-58c4-41e0-80ef-9b0a6c025be9",
   "metadata": {},
   "source": [
    "**How to update the empty strings**"
   ]
  },
  {
   "cell_type": "code",
   "execution_count": 14,
   "id": "af5be16b-5909-40ed-9fe4-95819eda90cb",
   "metadata": {},
   "outputs": [
    {
     "data": {
      "text/plain": [
       "'python'"
      ]
     },
     "execution_count": 14,
     "metadata": {},
     "output_type": "execute_result"
    }
   ],
   "source": [
    "s1='python'\n",
    "s2=''\n",
    "for i in s1:\n",
    "    s2=s2+i   # Concatenation\n",
    "s2"
   ]
  },
  {
   "cell_type": "markdown",
   "id": "98933e7f-4ba0-43cb-8b18-479d0c95bb4b",
   "metadata": {},
   "source": [
    "**Concatenation**"
   ]
  },
  {
   "cell_type": "code",
   "execution_count": 15,
   "id": "b2ac8039-aecd-4496-b11e-ded9753a7926",
   "metadata": {},
   "outputs": [
    {
     "data": {
      "text/plain": [
       "'hellobye'"
      ]
     },
     "execution_count": 15,
     "metadata": {},
     "output_type": "execute_result"
    }
   ],
   "source": [
    "s1='hello'\n",
    "s2='bye'\n",
    "s1+s2"
   ]
  },
  {
   "cell_type": "code",
   "execution_count": 16,
   "id": "20d10279-4dd1-4534-aebc-1517c27d0ae7",
   "metadata": {},
   "outputs": [
    {
     "data": {
      "text/plain": [
       "'hello bye'"
      ]
     },
     "execution_count": 16,
     "metadata": {},
     "output_type": "execute_result"
    }
   ],
   "source": [
    "s1='hello '\n",
    "s2='bye'\n",
    "s1+s2"
   ]
  },
  {
   "cell_type": "code",
   "execution_count": 20,
   "id": "caf00960-f839-4d2e-a034-1dcc2da9fc9f",
   "metadata": {},
   "outputs": [
    {
     "data": {
      "text/plain": [
       "'hello bye'"
      ]
     },
     "execution_count": 20,
     "metadata": {},
     "output_type": "execute_result"
    }
   ],
   "source": [
    "s1='hello'\n",
    "s2=' bye'\n",
    "s1+s2"
   ]
  },
  {
   "cell_type": "code",
   "execution_count": 17,
   "id": "3a37c7f8-b92c-4b2b-9468-95dc442ba8f2",
   "metadata": {},
   "outputs": [
    {
     "data": {
      "text/plain": [
       "'hello bye'"
      ]
     },
     "execution_count": 17,
     "metadata": {},
     "output_type": "execute_result"
    }
   ],
   "source": [
    "s1='hello'\n",
    "s2=' '\n",
    "s3='bye'\n",
    "s4=s1+s2+s3\n",
    "s4"
   ]
  },
  {
   "cell_type": "code",
   "execution_count": null,
   "id": "e9b3af46-bf6d-4d7f-9710-fa9638e8abc5",
   "metadata": {},
   "outputs": [],
   "source": [
    "s1='hello'\n",
    "s2='bye'\n",
    "s1*s2\n",
    "s1/s2\n",
    "s1-s2"
   ]
  },
  {
   "cell_type": "code",
   "execution_count": 19,
   "id": "169d87dd-8e0c-4731-b248-f8ec9916bc72",
   "metadata": {},
   "outputs": [
    {
     "ename": "TypeError",
     "evalue": "can't multiply sequence by non-int of type 'str'",
     "output_type": "error",
     "traceback": [
      "\u001b[1;31m---------------------------------------------------------------------------\u001b[0m",
      "\u001b[1;31mTypeError\u001b[0m                                 Traceback (most recent call last)",
      "Cell \u001b[1;32mIn[19], line 3\u001b[0m\n\u001b[0;32m      1\u001b[0m s1\u001b[38;5;241m=\u001b[39m\u001b[38;5;124m'\u001b[39m\u001b[38;5;124mhello\u001b[39m\u001b[38;5;124m'\u001b[39m\n\u001b[0;32m      2\u001b[0m s2\u001b[38;5;241m=\u001b[39m\u001b[38;5;124m'\u001b[39m\u001b[38;5;124mbye\u001b[39m\u001b[38;5;124m'\u001b[39m\n\u001b[1;32m----> 3\u001b[0m s1\u001b[38;5;241m*\u001b[39ms2\n",
      "\u001b[1;31mTypeError\u001b[0m: can't multiply sequence by non-int of type 'str'"
     ]
    }
   ],
   "source": [
    "s1='hello'\n",
    "s2='bye'\n",
    "s1*s2"
   ]
  },
  {
   "cell_type": "code",
   "execution_count": 22,
   "id": "4ae82be8-cbe8-47c0-9cb2-c36dade19ef8",
   "metadata": {},
   "outputs": [
    {
     "ename": "TypeError",
     "evalue": "unsupported operand type(s) for -: 'str' and 'str'",
     "output_type": "error",
     "traceback": [
      "\u001b[1;31m---------------------------------------------------------------------------\u001b[0m",
      "\u001b[1;31mTypeError\u001b[0m                                 Traceback (most recent call last)",
      "Cell \u001b[1;32mIn[22], line 3\u001b[0m\n\u001b[0;32m      1\u001b[0m s1\u001b[38;5;241m=\u001b[39m\u001b[38;5;124m'\u001b[39m\u001b[38;5;124mhello\u001b[39m\u001b[38;5;124m'\u001b[39m\n\u001b[0;32m      2\u001b[0m s2\u001b[38;5;241m=\u001b[39m\u001b[38;5;124m'\u001b[39m\u001b[38;5;124mbye\u001b[39m\u001b[38;5;124m'\u001b[39m\n\u001b[1;32m----> 3\u001b[0m s1\u001b[38;5;241m-\u001b[39ms2\n",
      "\u001b[1;31mTypeError\u001b[0m: unsupported operand type(s) for -: 'str' and 'str'"
     ]
    }
   ],
   "source": [
    "s1='hello'\n",
    "s2='bye'\n",
    "s1-s2 "
   ]
  },
  {
   "cell_type": "code",
   "execution_count": 21,
   "id": "856c744f-8444-4165-900d-70839ec6f097",
   "metadata": {},
   "outputs": [
    {
     "ename": "TypeError",
     "evalue": "unsupported operand type(s) for /: 'str' and 'str'",
     "output_type": "error",
     "traceback": [
      "\u001b[1;31m---------------------------------------------------------------------------\u001b[0m",
      "\u001b[1;31mTypeError\u001b[0m                                 Traceback (most recent call last)",
      "Cell \u001b[1;32mIn[21], line 1\u001b[0m\n\u001b[1;32m----> 1\u001b[0m s1\u001b[38;5;241m/\u001b[39ms2\n",
      "\u001b[1;31mTypeError\u001b[0m: unsupported operand type(s) for /: 'str' and 'str'"
     ]
    }
   ],
   "source": [
    "s1/s2"
   ]
  },
  {
   "cell_type": "code",
   "execution_count": null,
   "id": "845a3fb3-7e3d-4c0c-9106-2efb52cbd0c5",
   "metadata": {},
   "outputs": [],
   "source": [
    "# s1*s2: can't multiply sequence by non-int of type 'str'\n",
    "\n",
    "# s1-s2: unsupported operand type(s) for -: 'str' and 'str'\n",
    "\n",
    "# s1/s2: unsupported operand type(s) for /: 'str' and 'str'"
   ]
  },
  {
   "cell_type": "code",
   "execution_count": 24,
   "id": "c42e8db3-4a80-45c5-84a0-6bc94052117c",
   "metadata": {},
   "outputs": [
    {
     "data": {
      "text/plain": [
       "'hellohello'"
      ]
     },
     "execution_count": 24,
     "metadata": {},
     "output_type": "execute_result"
    }
   ],
   "source": [
    "s1='hello'\n",
    "s2=2\n",
    "s1*s2"
   ]
  },
  {
   "cell_type": "code",
   "execution_count": null,
   "id": "bdf64e09-a4f2-4028-8ea8-99cec96ec79a",
   "metadata": {},
   "outputs": [],
   "source": [
    "s1+s1 ===> s1*2\n",
    "\n",
    "2*3    3*2"
   ]
  },
  {
   "cell_type": "markdown",
   "id": "b443ec4d-8d0e-4a5a-b5f8-c5f76e92a747",
   "metadata": {},
   "source": [
    "**Index**\n",
    "  \n",
    "- Index meaning a number attached to a letter\n",
    "- In python index starts with zero\n",
    "- We have two directions\n",
    "    - Poistive direction\n",
    "        - Positive numbers starts with zero\n",
    "    - Negtaive direction\n",
    "        - Negative numbers starts with -1 , applicable to last letter"
   ]
  },
  {
   "cell_type": "code",
   "execution_count": null,
   "id": "9772f412-b137-4fcd-90f9-84907ad1aa62",
   "metadata": {},
   "outputs": [],
   "source": [
    "s1='python'\n",
    "\n",
    "-6  -5  -4  -3  -2  -1 === > negative\n",
    " p   y   t   h   o   n\n",
    " 0   1   2   3   4   5 === > postive"
   ]
  },
  {
   "cell_type": "code",
   "execution_count": 26,
   "id": "e9a78983-60b1-4c43-9675-cb7a5c146823",
   "metadata": {},
   "outputs": [
    {
     "data": {
      "text/plain": [
       "('p', 'y', 't', 'h', 'o', 'n')"
      ]
     },
     "execution_count": 26,
     "metadata": {},
     "output_type": "execute_result"
    }
   ],
   "source": [
    "s1='python'\n",
    "s1[0],s1[1],s1[2],s1[3],s1[4],s1[5]"
   ]
  },
  {
   "cell_type": "code",
   "execution_count": 27,
   "id": "7168246a-d795-4a87-8f05-edc0cba56c45",
   "metadata": {},
   "outputs": [
    {
     "data": {
      "text/plain": [
       "('n', 'o', 'h', 't', 'y', 'p')"
      ]
     },
     "execution_count": 27,
     "metadata": {},
     "output_type": "execute_result"
    }
   ],
   "source": [
    "s1='python'\n",
    "s1[-1],s1[-2],s1[-3],s1[-4],s1[-5],s1[-6]"
   ]
  },
  {
   "cell_type": "markdown",
   "id": "6597a611-2d89-48b3-95e1-ccb4af67f390",
   "metadata": {},
   "source": [
    "**MUTABLE-IMMUTABLE**\n",
    "\n",
    "- mutable: can change\n",
    "    - we can change using indexing\n",
    "- immutable: can not change\n",
    "    - we can not change using indexing"
   ]
  },
  {
   "cell_type": "code",
   "execution_count": 1,
   "id": "7ef0906c-9915-48cb-ae25-adfd417331fa",
   "metadata": {},
   "outputs": [
    {
     "ename": "TypeError",
     "evalue": "'str' object does not support item assignment",
     "output_type": "error",
     "traceback": [
      "\u001b[1;31m---------------------------------------------------------------------------\u001b[0m",
      "\u001b[1;31mTypeError\u001b[0m                                 Traceback (most recent call last)",
      "Cell \u001b[1;32mIn[1], line 5\u001b[0m\n\u001b[0;32m      1\u001b[0m s\u001b[38;5;241m=\u001b[39m\u001b[38;5;124m'\u001b[39m\u001b[38;5;124mwelcome\u001b[39m\u001b[38;5;124m'\u001b[39m   \u001b[38;5;66;03m# weLcome\u001b[39;00m\n\u001b[0;32m      2\u001b[0m \u001b[38;5;66;03m# I want to replace 'l' with 'L'\u001b[39;00m\n\u001b[0;32m      3\u001b[0m \u001b[38;5;66;03m# Possible\u001b[39;00m\n\u001b[0;32m      4\u001b[0m \u001b[38;5;66;03m# Not possible\u001b[39;00m\n\u001b[1;32m----> 5\u001b[0m s[\u001b[38;5;241m2\u001b[39m]\u001b[38;5;241m=\u001b[39m\u001b[38;5;124m'\u001b[39m\u001b[38;5;124mL\u001b[39m\u001b[38;5;124m'\u001b[39m\n",
      "\u001b[1;31mTypeError\u001b[0m: 'str' object does not support item assignment"
     ]
    }
   ],
   "source": [
    "s='welcome'   # weLcome\n",
    "# I want to replace 'l' with 'L'\n",
    "# Possible\n",
    "# Not possible\n",
    "s[2]='L'"
   ]
  },
  {
   "cell_type": "markdown",
   "id": "de8a4588-f7e7-4be6-97e1-2b40376d493f",
   "metadata": {},
   "source": [
    "# Strings are Immutable"
   ]
  },
  {
   "cell_type": "code",
   "execution_count": 2,
   "id": "6877d718-3564-41d3-88a3-a8bfc0b57310",
   "metadata": {},
   "outputs": [
    {
     "data": {
      "text/plain": [
       "[1, 200, 3, 4]"
      ]
     },
     "execution_count": 2,
     "metadata": {},
     "output_type": "execute_result"
    }
   ],
   "source": [
    "l=[1,2,3,4]  # 2= 200\n",
    "l[1]=200\n",
    "l"
   ]
  },
  {
   "cell_type": "code",
   "execution_count": null,
   "id": "b66de195-8693-4910-b858-d9a26af19990",
   "metadata": {},
   "outputs": [],
   "source": [
    "s='welcome'\n",
    "s[2]='L'\n",
    "########################################\n",
    "l=[1,2,3,4]\n",
    "l[1]=200\n",
    "l"
   ]
  },
  {
   "cell_type": "markdown",
   "id": "26c2b2a7-5c9f-4d49-9c2f-1c344e8741aa",
   "metadata": {},
   "source": [
    "- range belongs to which family\n",
    "    - Math family\n",
    "- inside range bracket what we need to provide\n",
    "    - number\n",
    "- How many numbers we need to provide\n",
    "    - Number of letter : len(string)\n",
    "- How to access the letter using number\n",
    "    - by using index"
   ]
  },
  {
   "cell_type": "code",
   "execution_count": 5,
   "id": "c558ed6a-3dda-4ce7-bf20-6e8791f85612",
   "metadata": {},
   "outputs": [
    {
     "name": "stdout",
     "output_type": "stream",
     "text": [
      "w\n",
      "e\n",
      "l\n",
      "c\n",
      "o\n",
      "m\n",
      "e\n"
     ]
    }
   ],
   "source": [
    "# print each letter using for loop range\n",
    "s='welcome'\n",
    "# range belongs to which family\n",
    "# inside bracket we need to provide a number\n",
    "# How many numbers we need to provide\n",
    "# number of letters=7\n",
    "# How to access a letter using number:\n",
    "s='welcome'\n",
    "for i in range(7):\n",
    "    print(s[i])\n",
    "# i=0  s[0]=w\n",
    "# i=1  s[1]=e"
   ]
  },
  {
   "cell_type": "code",
   "execution_count": 3,
   "id": "dfade73e-ed44-493f-8ce4-ccec16338869",
   "metadata": {},
   "outputs": [
    {
     "name": "stdout",
     "output_type": "stream",
     "text": [
      "w\n",
      "e\n",
      "l\n",
      "c\n",
      "o\n",
      "m\n",
      "e\n",
      " \n",
      "t\n",
      "o\n",
      " \n",
      "n\n",
      "a\n",
      "r\n",
      "e\n",
      "s\n",
      "h\n",
      " \n",
      "i\n",
      "t\n"
     ]
    }
   ],
   "source": [
    "s='welcome to naresh it'\n",
    "n=len(s)\n",
    "for i in range(n):\n",
    "    print(s[i])"
   ]
  },
  {
   "cell_type": "markdown",
   "id": "9d73f5e6-8d50-4986-85e7-a9105a99ebbe",
   "metadata": {},
   "source": [
    "- for-in directly access the letter\n",
    "- for-range will access using index"
   ]
  },
  {
   "cell_type": "code",
   "execution_count": 14,
   "id": "1509ba69-4386-45ae-9e6b-e8b55f29aa77",
   "metadata": {},
   "outputs": [
    {
     "name": "stdout",
     "output_type": "stream",
     "text": [
      "0 w\n",
      "The postive index of w is 0\n",
      "1 e\n",
      "The postive index of e is 1\n",
      "2 l\n",
      "The postive index of l is 2\n",
      "3 c\n",
      "The postive index of c is 3\n",
      "4 o\n",
      "The postive index of o is 4\n",
      "5 m\n",
      "The postive index of m is 5\n",
      "6 e\n",
      "The postive index of e is 6\n"
     ]
    }
   ],
   "source": [
    "# wap ask the user iterate using a string\n",
    "# string='welcome'\n",
    "# print the postive index of w is 0\n",
    "# the positive index of e is 1\n",
    "# the positive index of l is 1\n",
    "\n",
    "s='welcome'\n",
    "for i in range(len(s)):\n",
    "    print(i,s[i])\n",
    "    print(f\"The postive index of {s[i]} is {i}\")"
   ]
  },
  {
   "cell_type": "code",
   "execution_count": 13,
   "id": "a954cb85-d687-45c4-9fe6-ecfd6c9fad67",
   "metadata": {},
   "outputs": [
    {
     "name": "stdout",
     "output_type": "stream",
     "text": [
      "0 -7\n",
      "the negative index of w is -7\n",
      "1 -6\n",
      "the negative index of e is -6\n",
      "2 -5\n",
      "the negative index of l is -5\n",
      "3 -4\n",
      "the negative index of c is -4\n",
      "4 -3\n",
      "the negative index of o is -3\n",
      "5 -2\n",
      "the negative index of m is -2\n",
      "6 -1\n",
      "the negative index of e is -1\n"
     ]
    }
   ],
   "source": [
    "# wap ask the user iterate using a string\n",
    "# string='welcome'\n",
    "# print the negative index of w is -7\n",
    "# the negative index of e is -6\n",
    "# the negative index of l is -5\n",
    "# the positive index is 0 and the negtaive index -7 for w\n",
    "\n",
    "s='welcome'\n",
    "for i in range(len(s)):\n",
    "    print(i,i-len(s))\n",
    "    print(f\"the negative index of {s[i]} is {i-len(s)}\")\n",
    "# 0-7==== -7\n",
    "# 1-7==== -6\n",
    "# 2-7 ==== -5"
   ]
  },
  {
   "cell_type": "code",
   "execution_count": 12,
   "id": "7a104672-9909-4682-af13-a1d24c42c116",
   "metadata": {},
   "outputs": [
    {
     "name": "stdout",
     "output_type": "stream",
     "text": [
      "the positive index is 0 and the negtaive index -7 for w\n",
      "the positive index is 1 and the negtaive index -6 for e\n",
      "the positive index is 2 and the negtaive index -5 for l\n",
      "the positive index is 3 and the negtaive index -4 for c\n",
      "the positive index is 4 and the negtaive index -3 for o\n",
      "the positive index is 5 and the negtaive index -2 for m\n",
      "the positive index is 6 and the negtaive index -1 for e\n"
     ]
    }
   ],
   "source": [
    "# wap ask the user iterate using a string\n",
    "# string='welcome'\n",
    "# # the positive index is 0 and the negtaive index -7 for w\n",
    "\n",
    "s='welcome'\n",
    "for i in range(len(s)):\n",
    "    print(f\"the positive index is {i} and the negtaive index {i-len(s)} for {s[i]}\")"
   ]
  },
  {
   "cell_type": "code",
   "execution_count": 11,
   "id": "ed679061-09eb-4f07-a5d2-3f124492afe0",
   "metadata": {},
   "outputs": [
    {
     "name": "stdout",
     "output_type": "stream",
     "text": [
      "1\n",
      "8\n",
      "18\n",
      "a\n",
      "a\n",
      "a\n"
     ]
    }
   ],
   "source": [
    "# wap ask the user get the index of each 'a' in a given string\n",
    "# s='hai how are you i am good'\n",
    "# a=1 8 18\n",
    "\n",
    "s='hai how are you i am good'\n",
    "for i in range(len(s)):\n",
    "    if s[i]=='a':\n",
    "        print(i)\n",
    "        \n",
    "s='hai how are you i am good'\n",
    "for i in s:\n",
    "    if i=='a':\n",
    "        print(i)"
   ]
  },
  {
   "cell_type": "code",
   "execution_count": 18,
   "id": "a309f4fc-a0e9-4c39-a4ee-fadfc095ce3d",
   "metadata": {},
   "outputs": [
    {
     "data": {
      "text/plain": [
       "3"
      ]
     },
     "execution_count": 18,
     "metadata": {},
     "output_type": "execute_result"
    }
   ],
   "source": [
    "# wap ask the user to get count of number of 'a' in a given string\n",
    "# using for-range\n",
    "\n",
    "s='hai how are you i am good'\n",
    "count=0\n",
    "for i in range(len(s)):\n",
    "    if s[i]=='a':\n",
    "        count=count+1\n",
    "        \n",
    "count"
   ]
  },
  {
   "cell_type": "code",
   "execution_count": 25,
   "id": "4e0b72c8-59a6-47b9-93e4-61fd69341f58",
   "metadata": {},
   "outputs": [
    {
     "data": {
      "text/plain": [
       "27"
      ]
     },
     "execution_count": 25,
     "metadata": {},
     "output_type": "execute_result"
    }
   ],
   "source": [
    "# wap ask the user get the sum of all index numbers of 'a'\n",
    "# 1+8+18= 27\n",
    "\n",
    "s='hai how are you i am good'\n",
    "count=0\n",
    "summ=0\n",
    "for i in range(len(s)):\n",
    "    if s[i]=='a':\n",
    "        summ=summ+i\n",
    "        \n",
    "summ"
   ]
  },
  {
   "cell_type": "code",
   "execution_count": 21,
   "id": "af5be481-4524-49fb-854f-cf29406e4bbf",
   "metadata": {},
   "outputs": [
    {
     "name": "stdout",
     "output_type": "stream",
     "text": [
      "a\n",
      "i\n",
      "o\n",
      "a\n",
      "e\n",
      "o\n",
      "u\n",
      "i\n",
      "a\n",
      "o\n",
      "o\n",
      "The number of vowels are: 11\n"
     ]
    }
   ],
   "source": [
    "# wap ask the user get the vowels from a given string using for-range\n",
    "\n",
    "s='hai how are you i am good'\n",
    "count=0\n",
    "for i in range(len(s)):\n",
    "    if s[i] in 'aeiou':\n",
    "        print(s[i])\n",
    "        count=count+1\n",
    "        \n",
    "print(\"The number of vowels are:\",count)"
   ]
  },
  {
   "cell_type": "code",
   "execution_count": 22,
   "id": "878e5013-3eeb-43dd-b764-f479a2004852",
   "metadata": {},
   "outputs": [
    {
     "name": "stdout",
     "output_type": "stream",
     "text": [
      "i\n",
      "o\n",
      "e\n",
      "u\n",
      "The number of vowels are: 4\n"
     ]
    }
   ],
   "source": [
    "#Q12) wap ask the user get the vowels from a given string using for-range\n",
    "\n",
    "s='hi how re you i m good'\n",
    "s1=''\n",
    "count=0\n",
    "for i in range(len(s)):\n",
    "    if s[i] not in s1:   # we are checking the letter is available in s1( It shou\n",
    "        if s[i] in 'aeiou':  # we are checking vowel condition\n",
    "            print(s[i])\n",
    "            s1=s1+s[i]   # we need to update the s1\n",
    "            count=count+1\n",
    "            \n",
    "print(\"The number of vowels are:\",count)"
   ]
  },
  {
   "cell_type": "code",
   "execution_count": 24,
   "id": "cdc45301-e9fb-49cc-95dc-609baa3a0db7",
   "metadata": {},
   "outputs": [
    {
     "name": "stdout",
     "output_type": "stream",
     "text": [
      "i\n",
      "o\n",
      "e\n",
      "u\n",
      "The number of vowels are: 4\n"
     ]
    }
   ],
   "source": [
    "# updated wap ask the user get the vowels from a given string using for-range\n",
    "\n",
    "s='hi how re you i m good'\n",
    "s1=''\n",
    "count=0\n",
    "for i in range(len(s)):\n",
    "    if s[i] not in s1 and s[i] in 'aeiou':\n",
    "        print(s[i])\n",
    "        s1=s1+s[i]\n",
    "        count=count+1\n",
    "        \n",
    "print(\"The number of vowels are:\",count)"
   ]
  },
  {
   "cell_type": "code",
   "execution_count": null,
   "id": "2d5aee1e-04bc-4f2e-851f-399140780115",
   "metadata": {},
   "outputs": [],
   "source": [
    "# string1='ola ola ola'\n",
    "# Number of ola = 3\n",
    "\n",
    "# string1='hello hello hello how how how how are you'\n",
    "# What is the most repeated word : how\n",
    "\n",
    "# string1='hellooooo how aree u'\n",
    "# what is the maximum length of word: helloooo\n",
    "# what is the minimum length of word: u\n",
    "\n",
    "# with out using sorted then sort the letters"
   ]
  },
  {
   "cell_type": "code",
   "execution_count": 23,
   "id": "51a64d30-b94d-41b0-a182-408f643a22cf",
   "metadata": {},
   "outputs": [
    {
     "data": {
      "text/plain": [
       "['e', 'h', 'l', 'l', 'o']"
      ]
     },
     "execution_count": 23,
     "metadata": {},
     "output_type": "execute_result"
    }
   ],
   "source": [
    "sorted('hello')"
   ]
  },
  {
   "cell_type": "markdown",
   "id": "29526c8c-e5a8-4a38-891f-c3c4738073f5",
   "metadata": {},
   "source": [
    "**SLICE**\n",
    "\n",
    "- we can cut into pieces\n",
    "- similar to range concept\n",
    "- start,stop,step here also"
   ]
  },
  {
   "cell_type": "code",
   "execution_count": 1,
   "id": "27340ffb-45ee-4beb-9bf4-86467b2607c4",
   "metadata": {},
   "outputs": [],
   "source": [
    "str1='hai how are you'"
   ]
  },
  {
   "cell_type": "code",
   "execution_count": null,
   "id": "e456f5ad-8f1c-49a0-aed9-b1e6ebea8a9b",
   "metadata": {},
   "outputs": [],
   "source": [
    "-15  -14  -13  -12  -11  -10  -9  -8  -7  -6  -5  -4  -3  -2  -1\n",
    " h    a    i         h    o    w       a   r   e       y   o   u\n",
    " 0    1    2    3    4    5    6   7   8   9   10  11  12  13  14"
   ]
  },
  {
   "cell_type": "code",
   "execution_count": null,
   "id": "b01eeeb1-d0c2-4c92-ac3a-cd6f73ab2024",
   "metadata": {},
   "outputs": [],
   "source": [
    "str1[start:stop:step]"
   ]
  },
  {
   "cell_type": "markdown",
   "id": "d0140c67-a9d3-4be6-b9b8-b27f20860d95",
   "metadata": {},
   "source": [
    "$pattern-1$\n",
    "\n",
    "**str1[start:]**\n",
    "\n",
    "- by default start value=start only\n",
    "- last value nothing mentioned automatically it will go till=last only\n",
    "- step nothing mentioned means,it is a positive direction and increment by 1 "
   ]
  },
  {
   "cell_type": "code",
   "execution_count": 7,
   "id": "dd2b9b6c-f23c-49eb-bfa5-b4b93f73acc5",
   "metadata": {},
   "outputs": [
    {
     "data": {
      "text/plain": [
       "'ow are you'"
      ]
     },
     "execution_count": 7,
     "metadata": {},
     "output_type": "execute_result"
    }
   ],
   "source": [
    "# -15  -14  -13  -12  -11  -10  -9  -8  -7  -6  -5  -4  -3  -2  -1\n",
    "#  h    a    i         h    o    w       a   r   e       y   o   u\n",
    "#  0    1    2    3    4    5    6   7   8   9   10  11  12  13  14\n",
    "\n",
    "str1='hai how are you'\n",
    "str1[5:]"
   ]
  },
  {
   "cell_type": "code",
   "execution_count": 4,
   "id": "747d84d4-5c1c-4f36-98b3-0ca61488c798",
   "metadata": {},
   "outputs": [
    {
     "data": {
      "text/plain": [
       "'i how are you'"
      ]
     },
     "execution_count": 4,
     "metadata": {},
     "output_type": "execute_result"
    }
   ],
   "source": [
    "str1='hai how are you'\n",
    "str1[2:]"
   ]
  },
  {
   "cell_type": "code",
   "execution_count": 10,
   "id": "40490012-46f7-4a8c-a2db-f04f0850411d",
   "metadata": {},
   "outputs": [
    {
     "data": {
      "text/plain": [
       "('ow are you', 'ow are you')"
      ]
     },
     "execution_count": 10,
     "metadata": {},
     "output_type": "execute_result"
    }
   ],
   "source": [
    "str1[5:],str1[-10:]"
   ]
  },
  {
   "cell_type": "code",
   "execution_count": 17,
   "id": "4d2f0d8c-9fd2-4f3a-8e87-23d71f5ec457",
   "metadata": {},
   "outputs": [
    {
     "data": {
      "text/plain": [
       "'u'"
      ]
     },
     "execution_count": 17,
     "metadata": {},
     "output_type": "execute_result"
    }
   ],
   "source": [
    "str1[14:]"
   ]
  },
  {
   "cell_type": "markdown",
   "id": "d4885096-1639-4afc-949a-2b2147bfe4ea",
   "metadata": {},
   "source": [
    "$pattern-2$\n",
    "\n",
    "str1[start:stop]\n",
    "\n",
    "- start value means by default start only\n",
    "- step is noy mentioned positive direction\n",
    "- last=stop-1"
   ]
  },
  {
   "cell_type": "code",
   "execution_count": 8,
   "id": "918a3edd-c369-4cbd-be5e-f6e90d8219bf",
   "metadata": {},
   "outputs": [
    {
     "data": {
      "text/plain": [
       "'ow are yo'"
      ]
     },
     "execution_count": 8,
     "metadata": {},
     "output_type": "execute_result"
    }
   ],
   "source": [
    "# -15  -14  -13  -12  -11  -10  -9  -8  -7  -6  -5  -4  -3  -2  -1\n",
    "#  h    a    i         h    o    w       a   r   e       y   o   u\n",
    "#  0    1    2    3    4    5    6   7   8   9   10  11  12  13  14\n",
    "\n",
    "str1='hai how are you'\n",
    "str1[5:14]"
   ]
  },
  {
   "cell_type": "code",
   "execution_count": 9,
   "id": "b7ce1bc4-9347-432c-92a5-5350fc8a682d",
   "metadata": {},
   "outputs": [
    {
     "data": {
      "text/plain": [
       "'i how are '"
      ]
     },
     "execution_count": 9,
     "metadata": {},
     "output_type": "execute_result"
    }
   ],
   "source": [
    "str1='hai how are you'\n",
    "str1[2:12]"
   ]
  },
  {
   "cell_type": "code",
   "execution_count": 11,
   "id": "9ded27e9-701a-4633-bbc8-2c68c0606fd9",
   "metadata": {},
   "outputs": [
    {
     "data": {
      "text/plain": [
       "' how ar'"
      ]
     },
     "execution_count": 11,
     "metadata": {},
     "output_type": "execute_result"
    }
   ],
   "source": [
    "str1='hai how are you'\n",
    "str1[3:10]"
   ]
  },
  {
   "cell_type": "code",
   "execution_count": 24,
   "id": "4ddcec38-75c5-4139-9645-a3fc100df2ea",
   "metadata": {},
   "outputs": [
    {
     "data": {
      "text/plain": [
       "' how are y'"
      ]
     },
     "execution_count": 24,
     "metadata": {},
     "output_type": "execute_result"
    }
   ],
   "source": [
    "str1='hai how are you'\n",
    "str1[3:13]"
   ]
  },
  {
   "cell_type": "code",
   "execution_count": 25,
   "id": "3b80cbb2-4af3-4a1f-8b17-f16152cc43b6",
   "metadata": {},
   "outputs": [
    {
     "data": {
      "text/plain": [
       "'e y'"
      ]
     },
     "execution_count": 25,
     "metadata": {},
     "output_type": "execute_result"
    }
   ],
   "source": [
    "str1='hai how are you'\n",
    "str1[10:13]"
   ]
  },
  {
   "cell_type": "code",
   "execution_count": 26,
   "id": "b774a111-b0b1-4420-acf9-084fd0a532b2",
   "metadata": {},
   "outputs": [
    {
     "data": {
      "text/plain": [
       "'e yo'"
      ]
     },
     "execution_count": 26,
     "metadata": {},
     "output_type": "execute_result"
    }
   ],
   "source": [
    "str1[-5:14]\n",
    "\n",
    "# start=-5\n",
    "# last=14-1=13   positive"
   ]
  },
  {
   "cell_type": "code",
   "execution_count": 27,
   "id": "50e743bc-bf5e-468f-a900-2c506a9cde68",
   "metadata": {},
   "outputs": [
    {
     "data": {
      "text/plain": [
       "''"
      ]
     },
     "execution_count": 27,
     "metadata": {},
     "output_type": "execute_result"
    }
   ],
   "source": [
    "str1[5:-14]"
   ]
  },
  {
   "cell_type": "code",
   "execution_count": 28,
   "id": "8a665d29-2e92-43d5-b3f7-c8f577a10f3f",
   "metadata": {},
   "outputs": [
    {
     "data": {
      "text/plain": [
       "'how are'"
      ]
     },
     "execution_count": 28,
     "metadata": {},
     "output_type": "execute_result"
    }
   ],
   "source": [
    "str1[4:-4]"
   ]
  },
  {
   "cell_type": "code",
   "execution_count": 32,
   "id": "596cb162-66af-4239-b503-11f4532ca135",
   "metadata": {},
   "outputs": [
    {
     "data": {
      "text/plain": [
       "''"
      ]
     },
     "execution_count": 32,
     "metadata": {},
     "output_type": "execute_result"
    }
   ],
   "source": [
    "str1[-5:-14]"
   ]
  },
  {
   "cell_type": "code",
   "execution_count": null,
   "id": "fcde8787-bbdc-43bb-9eb9-fdf4bf0fe611",
   "metadata": {},
   "outputs": [],
   "source": [
    "# -15  -14  -13  -12  -11  -10  -9  -8  -7  -6  -5  -4  -3  -2  -1\n",
    "#  h    a    i         h    o    w       a   r   e       y   o   u\n",
    "#  0    1    2    3    4    5    6   7   8   9   10  11  12  13  14\n",
    "\n",
    "str1='hai how are you'  # step is mentioned or not mentioned\n",
    "str1[5:14]    # answer\n",
    "str1[-5:14]   # answer\n",
    "str1[5:-14]    # no answer\n",
    "str1[-5:-14]   # no answer"
   ]
  },
  {
   "cell_type": "code",
   "execution_count": 34,
   "id": "7109a3dd-5ca0-4777-a4c5-233c24688211",
   "metadata": {},
   "outputs": [
    {
     "data": {
      "text/plain": [
       "'ow are you'"
      ]
     },
     "execution_count": 34,
     "metadata": {},
     "output_type": "execute_result"
    }
   ],
   "source": [
    "str1[5:500]"
   ]
  },
  {
   "cell_type": "markdown",
   "id": "962dfe92-14b7-4806-a755-0dcf985c6b19",
   "metadata": {},
   "source": [
    "**TRUNCATION BEHAVIOUR**\n",
    "\n",
    "- when ever string rangr is limited, but we provided unlimited number\n",
    "- string will consider till the range we have\n",
    "- In the above example our range only 15 letters\n",
    "- we provided 500,then 500 will truncate to till 15 letters only"
   ]
  },
  {
   "cell_type": "code",
   "execution_count": 35,
   "id": "f38a3177-4523-4036-90cf-7b316c7b271a",
   "metadata": {},
   "outputs": [
    {
     "data": {
      "text/plain": [
       "'ow are you'"
      ]
     },
     "execution_count": 35,
     "metadata": {},
     "output_type": "execute_result"
    }
   ],
   "source": [
    "str1[5:500]"
   ]
  },
  {
   "cell_type": "code",
   "execution_count": 36,
   "id": "ac81bf37-9688-44dd-805f-6b7e78f75b28",
   "metadata": {},
   "outputs": [
    {
     "data": {
      "text/plain": [
       "'hai how are you'"
      ]
     },
     "execution_count": 36,
     "metadata": {},
     "output_type": "execute_result"
    }
   ],
   "source": [
    "str1[-500:500]"
   ]
  },
  {
   "cell_type": "code",
   "execution_count": 37,
   "id": "cae756bb-92f1-4dc4-9ad3-32e8239d0b4c",
   "metadata": {},
   "outputs": [
    {
     "data": {
      "text/plain": [
       "'u'"
      ]
     },
     "execution_count": 37,
     "metadata": {},
     "output_type": "execute_result"
    }
   ],
   "source": [
    "str1[-1:500]"
   ]
  },
  {
   "cell_type": "code",
   "execution_count": 38,
   "id": "3119e93a-eb40-461b-b17c-e6ce05aaaacd",
   "metadata": {},
   "outputs": [
    {
     "data": {
      "text/plain": [
       "''"
      ]
     },
     "execution_count": 38,
     "metadata": {},
     "output_type": "execute_result"
    }
   ],
   "source": [
    "str1[500:]"
   ]
  },
  {
   "cell_type": "code",
   "execution_count": 39,
   "id": "91ce1003-d4ab-4853-b387-1549afb8fb32",
   "metadata": {},
   "outputs": [
    {
     "data": {
      "text/plain": [
       "''"
      ]
     },
     "execution_count": 39,
     "metadata": {},
     "output_type": "execute_result"
    }
   ],
   "source": [
    "str1[-500:-100]"
   ]
  },
  {
   "cell_type": "markdown",
   "id": "2ee7b18a-b8bd-4210-b4ad-23f8f543bb9d",
   "metadata": {},
   "source": [
    "$pattern-3$\n",
    "\n",
    "**str1[start:stop:step]**\n",
    "\n",
    "- start value means start only\n",
    "- if step value positive\n",
    "    - last value=stop-1\n",
    "- if step value negative\n",
    "    - last value=stop+1"
   ]
  },
  {
   "cell_type": "code",
   "execution_count": 40,
   "id": "6d11fd43-2de8-4fb7-ad23-4a0b30e21c15",
   "metadata": {},
   "outputs": [
    {
     "data": {
      "text/plain": [
       "15"
      ]
     },
     "execution_count": 40,
     "metadata": {},
     "output_type": "execute_result"
    }
   ],
   "source": [
    "len(str1)"
   ]
  },
  {
   "cell_type": "code",
   "execution_count": null,
   "id": "f1d726bd-08f8-4d49-8ea9-bfb948048025",
   "metadata": {},
   "outputs": [],
   "source": [
    "str2='yeshwanth'\n",
    "\n",
    "y  e  s  h  w  a  n  t  h\n",
    "0  1  2  3  4  5  6  7  8"
   ]
  },
  {
   "cell_type": "code",
   "execution_count": null,
   "id": "97d46aa9-5d22-4485-9219-5947b97a1b69",
   "metadata": {},
   "outputs": [],
   "source": [
    "# -15  -14  -13  -12  -11  -10  -9  -8  -7  -6  -5  -4  -3  -2  -1\n",
    "#  h    a    i         h    o    w       a   r   e       y   o   u\n",
    "#  0    1    2    3    4    5    6   7   8   9   10  11  12  13  14\n",
    "\n",
    "str1='hai how are you'  # step is mentioned or not mentioned\n",
    "str1[2:13:2]    # answer\n",
    "str1[2:13:-2]   # no answer\n",
    "str1[2:-13:2]    # no answer\n",
    "str1[2:-13:-2]   # no answer\n",
    "str1[-2:-13:-2]  # answer\n",
    "str1[13:2:2]     # no answer\n",
    "str1[-2:13:2]    # no answer\n",
    "str1[-13:2:2]    # no answer\n",
    "str1[-13:-2:2]   # answer\n",
    "str1[-13:2:-2]   # no answer\n",
    "str1[-13:-2:-2]  # no answer"
   ]
  },
  {
   "cell_type": "code",
   "execution_count": 44,
   "id": "25b9d91a-b53e-4ab1-b797-cae1417a23fc",
   "metadata": {},
   "outputs": [
    {
     "data": {
      "text/plain": [
       "'ihwaey'"
      ]
     },
     "execution_count": 44,
     "metadata": {},
     "output_type": "execute_result"
    }
   ],
   "source": [
    "str1[2:13:2]    "
   ]
  },
  {
   "cell_type": "code",
   "execution_count": 45,
   "id": "39b56415-f708-4c4c-9240-d19d4d603a10",
   "metadata": {},
   "outputs": [
    {
     "data": {
      "text/plain": [
       "''"
      ]
     },
     "execution_count": 45,
     "metadata": {},
     "output_type": "execute_result"
    }
   ],
   "source": [
    "str1[2:13:-2]"
   ]
  },
  {
   "cell_type": "code",
   "execution_count": 46,
   "id": "048c5cd6-1b16-425d-b478-7bbfbd09880c",
   "metadata": {},
   "outputs": [
    {
     "data": {
      "text/plain": [
       "''"
      ]
     },
     "execution_count": 46,
     "metadata": {},
     "output_type": "execute_result"
    }
   ],
   "source": [
    "str1[2:-13:2]    "
   ]
  },
  {
   "cell_type": "code",
   "execution_count": 47,
   "id": "15aac292-eb40-43dc-8792-de2c20d4c4e2",
   "metadata": {},
   "outputs": [
    {
     "data": {
      "text/plain": [
       "''"
      ]
     },
     "execution_count": 47,
     "metadata": {},
     "output_type": "execute_result"
    }
   ],
   "source": [
    "str1[2:-13:-2]"
   ]
  },
  {
   "cell_type": "code",
   "execution_count": 48,
   "id": "65cb5e3e-f6c1-4b74-b7af-220b89c4b6e9",
   "metadata": {},
   "outputs": [
    {
     "data": {
      "text/plain": [
       "'o r o '"
      ]
     },
     "execution_count": 48,
     "metadata": {},
     "output_type": "execute_result"
    }
   ],
   "source": [
    "str1[-2:-13:-2]  "
   ]
  },
  {
   "cell_type": "code",
   "execution_count": 49,
   "id": "39650f29-332e-4942-b01c-554a3d052d79",
   "metadata": {},
   "outputs": [
    {
     "data": {
      "text/plain": [
       "''"
      ]
     },
     "execution_count": 49,
     "metadata": {},
     "output_type": "execute_result"
    }
   ],
   "source": [
    "str1[13:2:2]"
   ]
  },
  {
   "cell_type": "code",
   "execution_count": 50,
   "id": "6084e459-67f1-4735-99db-1efb28adea81",
   "metadata": {},
   "outputs": [
    {
     "data": {
      "text/plain": [
       "''"
      ]
     },
     "execution_count": 50,
     "metadata": {},
     "output_type": "execute_result"
    }
   ],
   "source": [
    "str1[-2:13:2]"
   ]
  },
  {
   "cell_type": "code",
   "execution_count": 51,
   "id": "cce37da0-0ec8-42c0-b77f-c3984787326a",
   "metadata": {},
   "outputs": [
    {
     "data": {
      "text/plain": [
       "''"
      ]
     },
     "execution_count": 51,
     "metadata": {},
     "output_type": "execute_result"
    }
   ],
   "source": [
    "str1[-13:2:2]"
   ]
  },
  {
   "cell_type": "code",
   "execution_count": 52,
   "id": "f4bf120d-e97e-4133-b0d0-e6b69354c5fa",
   "metadata": {},
   "outputs": [
    {
     "data": {
      "text/plain": [
       "'ihwaey'"
      ]
     },
     "execution_count": 52,
     "metadata": {},
     "output_type": "execute_result"
    }
   ],
   "source": [
    "str1[-13:-2:2]   "
   ]
  },
  {
   "cell_type": "code",
   "execution_count": 53,
   "id": "0eced815-0b0a-471e-8401-45c3974c3a2b",
   "metadata": {},
   "outputs": [
    {
     "data": {
      "text/plain": [
       "''"
      ]
     },
     "execution_count": 53,
     "metadata": {},
     "output_type": "execute_result"
    }
   ],
   "source": [
    "str1[-13:2:-2]"
   ]
  },
  {
   "cell_type": "code",
   "execution_count": 54,
   "id": "76edb167-f08a-4f98-b5ff-d51f99768840",
   "metadata": {},
   "outputs": [
    {
     "data": {
      "text/plain": [
       "''"
      ]
     },
     "execution_count": 54,
     "metadata": {},
     "output_type": "execute_result"
    }
   ],
   "source": [
    "str1[-13:-2:-2]"
   ]
  },
  {
   "cell_type": "code",
   "execution_count": 56,
   "id": "97f9bc15-da9c-4b57-85e1-df446ccd432d",
   "metadata": {},
   "outputs": [
    {
     "data": {
      "text/plain": [
       "''"
      ]
     },
     "execution_count": 56,
     "metadata": {},
     "output_type": "execute_result"
    }
   ],
   "source": [
    "str1[2:-13]"
   ]
  },
  {
   "cell_type": "code",
   "execution_count": 57,
   "id": "60ba3042-4a1f-4e61-9db0-b26780741138",
   "metadata": {},
   "outputs": [
    {
     "data": {
      "text/plain": [
       "'i'"
      ]
     },
     "execution_count": 57,
     "metadata": {},
     "output_type": "execute_result"
    }
   ],
   "source": [
    "str1[2:3:2]"
   ]
  },
  {
   "cell_type": "code",
   "execution_count": 59,
   "id": "2d030571-0bdc-46cb-8993-6c4b9f2b88a9",
   "metadata": {},
   "outputs": [
    {
     "data": {
      "text/plain": [
       "''"
      ]
     },
     "execution_count": 59,
     "metadata": {},
     "output_type": "execute_result"
    }
   ],
   "source": [
    "str1[2:2]"
   ]
  },
  {
   "cell_type": "code",
   "execution_count": null,
   "id": "b30475c1-2b43-4b9b-9186-a28b86792f75",
   "metadata": {},
   "outputs": [],
   "source": [
    "str1[:]  # complete string\n",
    "str1[::]   # complete string\n",
    "str1[<start>::-1] # reverse start value=-1\n",
    "str1[<start>:5:-2] "
   ]
  },
  {
   "cell_type": "code",
   "execution_count": null,
   "id": "2fe09177-b082-4412-b4e3-16c9123b47b5",
   "metadata": {},
   "outputs": [],
   "source": [
    "# ====================================== PART-2 ====================================\n",
    "\n",
    "# Methods"
   ]
  },
  {
   "cell_type": "markdown",
   "id": "108369c8-20be-447c-993b-23aeec6fc512",
   "metadata": {},
   "source": [
    "**METHODS**\n",
    "\n",
    "- Strings lists tuple dictionary every data type has its own methods\n",
    "- we already seen that packages has different method\n",
    "- for example random package: randint method\n",
    "- math package = sqrt\n",
    "- in the same way strings also have methods\n",
    "- in order to see methods for the packages\n",
    "    - we are importing the package\n",
    "    - we are applying dir\n",
    "- in the similar way in order to see the methods of dtring, we need to apllu dir only"
   ]
  },
  {
   "cell_type": "code",
   "execution_count": 60,
   "id": "5659fb36-1d0b-4932-8df7-eefdd33a280a",
   "metadata": {},
   "outputs": [
    {
     "data": {
      "text/plain": [
       "['__add__',\n",
       " '__class__',\n",
       " '__contains__',\n",
       " '__delattr__',\n",
       " '__dir__',\n",
       " '__doc__',\n",
       " '__eq__',\n",
       " '__format__',\n",
       " '__ge__',\n",
       " '__getattribute__',\n",
       " '__getitem__',\n",
       " '__getnewargs__',\n",
       " '__getstate__',\n",
       " '__gt__',\n",
       " '__hash__',\n",
       " '__init__',\n",
       " '__init_subclass__',\n",
       " '__iter__',\n",
       " '__le__',\n",
       " '__len__',\n",
       " '__lt__',\n",
       " '__mod__',\n",
       " '__mul__',\n",
       " '__ne__',\n",
       " '__new__',\n",
       " '__reduce__',\n",
       " '__reduce_ex__',\n",
       " '__repr__',\n",
       " '__rmod__',\n",
       " '__rmul__',\n",
       " '__setattr__',\n",
       " '__sizeof__',\n",
       " '__str__',\n",
       " '__subclasshook__',\n",
       " 'capitalize',\n",
       " 'casefold',\n",
       " 'center',\n",
       " 'count',\n",
       " 'encode',\n",
       " 'endswith',\n",
       " 'expandtabs',\n",
       " 'find',\n",
       " 'format',\n",
       " 'format_map',\n",
       " 'index',\n",
       " 'isalnum',\n",
       " 'isalpha',\n",
       " 'isascii',\n",
       " 'isdecimal',\n",
       " 'isdigit',\n",
       " 'isidentifier',\n",
       " 'islower',\n",
       " 'isnumeric',\n",
       " 'isprintable',\n",
       " 'isspace',\n",
       " 'istitle',\n",
       " 'isupper',\n",
       " 'join',\n",
       " 'ljust',\n",
       " 'lower',\n",
       " 'lstrip',\n",
       " 'maketrans',\n",
       " 'partition',\n",
       " 'removeprefix',\n",
       " 'removesuffix',\n",
       " 'replace',\n",
       " 'rfind',\n",
       " 'rindex',\n",
       " 'rjust',\n",
       " 'rpartition',\n",
       " 'rsplit',\n",
       " 'rstrip',\n",
       " 'split',\n",
       " 'splitlines',\n",
       " 'startswith',\n",
       " 'strip',\n",
       " 'swapcase',\n",
       " 'title',\n",
       " 'translate',\n",
       " 'upper',\n",
       " 'zfill']"
      ]
     },
     "execution_count": 60,
     "metadata": {},
     "output_type": "execute_result"
    }
   ],
   "source": [
    "dir('')"
   ]
  },
  {
   "cell_type": "code",
   "execution_count": 62,
   "id": "ed8ab34e-be66-4e1e-9afe-657ce46fbe7e",
   "metadata": {},
   "outputs": [
    {
     "data": {
      "text/plain": [
       "['__add__',\n",
       " '__class__',\n",
       " '__contains__',\n",
       " '__delattr__',\n",
       " '__dir__',\n",
       " '__doc__',\n",
       " '__eq__',\n",
       " '__format__',\n",
       " '__ge__',\n",
       " '__getattribute__',\n",
       " '__getitem__',\n",
       " '__getnewargs__',\n",
       " '__getstate__',\n",
       " '__gt__',\n",
       " '__hash__',\n",
       " '__init__',\n",
       " '__init_subclass__',\n",
       " '__iter__',\n",
       " '__le__',\n",
       " '__len__',\n",
       " '__lt__',\n",
       " '__mod__',\n",
       " '__mul__',\n",
       " '__ne__',\n",
       " '__new__',\n",
       " '__reduce__',\n",
       " '__reduce_ex__',\n",
       " '__repr__',\n",
       " '__rmod__',\n",
       " '__rmul__',\n",
       " '__setattr__',\n",
       " '__sizeof__',\n",
       " '__str__',\n",
       " '__subclasshook__',\n",
       " 'capitalize',\n",
       " 'casefold',\n",
       " 'center',\n",
       " 'count',\n",
       " 'encode',\n",
       " 'endswith',\n",
       " 'expandtabs',\n",
       " 'find',\n",
       " 'format',\n",
       " 'format_map',\n",
       " 'index',\n",
       " 'isalnum',\n",
       " 'isalpha',\n",
       " 'isascii',\n",
       " 'isdecimal',\n",
       " 'isdigit',\n",
       " 'isidentifier',\n",
       " 'islower',\n",
       " 'isnumeric',\n",
       " 'isprintable',\n",
       " 'isspace',\n",
       " 'istitle',\n",
       " 'isupper',\n",
       " 'join',\n",
       " 'ljust',\n",
       " 'lower',\n",
       " 'lstrip',\n",
       " 'maketrans',\n",
       " 'partition',\n",
       " 'removeprefix',\n",
       " 'removesuffix',\n",
       " 'replace',\n",
       " 'rfind',\n",
       " 'rindex',\n",
       " 'rjust',\n",
       " 'rpartition',\n",
       " 'rsplit',\n",
       " 'rstrip',\n",
       " 'split',\n",
       " 'splitlines',\n",
       " 'startswith',\n",
       " 'strip',\n",
       " 'swapcase',\n",
       " 'title',\n",
       " 'translate',\n",
       " 'upper',\n",
       " 'zfill']"
      ]
     },
     "execution_count": 62,
     "metadata": {},
     "output_type": "execute_result"
    }
   ],
   "source": [
    "dir('hai')"
   ]
  },
  {
   "cell_type": "code",
   "execution_count": 63,
   "id": "34377238-0c9d-4271-91d7-5c99217194be",
   "metadata": {},
   "outputs": [
    {
     "data": {
      "text/plain": [
       "['__add__',\n",
       " '__class__',\n",
       " '__contains__',\n",
       " '__delattr__',\n",
       " '__dir__',\n",
       " '__doc__',\n",
       " '__eq__',\n",
       " '__format__',\n",
       " '__ge__',\n",
       " '__getattribute__',\n",
       " '__getitem__',\n",
       " '__getnewargs__',\n",
       " '__getstate__',\n",
       " '__gt__',\n",
       " '__hash__',\n",
       " '__init__',\n",
       " '__init_subclass__',\n",
       " '__iter__',\n",
       " '__le__',\n",
       " '__len__',\n",
       " '__lt__',\n",
       " '__mod__',\n",
       " '__mul__',\n",
       " '__ne__',\n",
       " '__new__',\n",
       " '__reduce__',\n",
       " '__reduce_ex__',\n",
       " '__repr__',\n",
       " '__rmod__',\n",
       " '__rmul__',\n",
       " '__setattr__',\n",
       " '__sizeof__',\n",
       " '__str__',\n",
       " '__subclasshook__',\n",
       " 'capitalize',\n",
       " 'casefold',\n",
       " 'center',\n",
       " 'count',\n",
       " 'encode',\n",
       " 'endswith',\n",
       " 'expandtabs',\n",
       " 'find',\n",
       " 'format',\n",
       " 'format_map',\n",
       " 'index',\n",
       " 'isalnum',\n",
       " 'isalpha',\n",
       " 'isascii',\n",
       " 'isdecimal',\n",
       " 'isdigit',\n",
       " 'isidentifier',\n",
       " 'islower',\n",
       " 'isnumeric',\n",
       " 'isprintable',\n",
       " 'isspace',\n",
       " 'istitle',\n",
       " 'isupper',\n",
       " 'join',\n",
       " 'ljust',\n",
       " 'lower',\n",
       " 'lstrip',\n",
       " 'maketrans',\n",
       " 'partition',\n",
       " 'removeprefix',\n",
       " 'removesuffix',\n",
       " 'replace',\n",
       " 'rfind',\n",
       " 'rindex',\n",
       " 'rjust',\n",
       " 'rpartition',\n",
       " 'rsplit',\n",
       " 'rstrip',\n",
       " 'split',\n",
       " 'splitlines',\n",
       " 'startswith',\n",
       " 'strip',\n",
       " 'swapcase',\n",
       " 'title',\n",
       " 'translate',\n",
       " 'upper',\n",
       " 'zfill']"
      ]
     },
     "execution_count": 63,
     "metadata": {},
     "output_type": "execute_result"
    }
   ],
   "source": [
    "dir('str1')"
   ]
  },
  {
   "cell_type": "markdown",
   "id": "ae29b7ac-aa0a-4a22-b7e3-9b74159a79e8",
   "metadata": {},
   "source": [
    "- lower\n",
    "- upper\n",
    "- capitalize\n",
    "- title\n",
    "- casefold\n",
    "- center"
   ]
  },
  {
   "cell_type": "markdown",
   "id": "92630acf-c1bd-4f42-851c-891dd90184e1",
   "metadata": {},
   "source": [
    "**UPPPER**"
   ]
  },
  {
   "cell_type": "code",
   "execution_count": 2,
   "id": "cca57a2f-05c6-4962-8b05-d75d10132f2c",
   "metadata": {},
   "outputs": [],
   "source": [
    "str1='hai how are you'"
   ]
  },
  {
   "cell_type": "code",
   "execution_count": 3,
   "id": "57e65bbb-accf-44f7-a710-5d1702f94f70",
   "metadata": {},
   "outputs": [
    {
     "name": "stdout",
     "output_type": "stream",
     "text": [
      "Help on built-in function upper:\n",
      "\n",
      "upper() method of builtins.str instance\n",
      "    Return a copy of the string converted to uppercase.\n",
      "\n"
     ]
    }
   ],
   "source": [
    "type(str1)\n",
    "help(str1.upper)"
   ]
  },
  {
   "cell_type": "code",
   "execution_count": 4,
   "id": "323dd3ff-a754-4211-8159-4fca36da8147",
   "metadata": {},
   "outputs": [
    {
     "data": {
      "text/plain": [
       "'HAI HOW ARE YOU'"
      ]
     },
     "execution_count": 4,
     "metadata": {},
     "output_type": "execute_result"
    }
   ],
   "source": [
    "str1.upper()"
   ]
  },
  {
   "cell_type": "code",
   "execution_count": 6,
   "id": "208471e0-b166-4396-b15d-916314d7cb3c",
   "metadata": {},
   "outputs": [
    {
     "data": {
      "text/plain": [
       "'HAI HOW ARE YOU'"
      ]
     },
     "execution_count": 6,
     "metadata": {},
     "output_type": "execute_result"
    }
   ],
   "source": [
    "str1='hai how are you'\n",
    "str1.upper()"
   ]
  },
  {
   "cell_type": "markdown",
   "id": "e453d66a-3f5a-4fd9-aa6c-25bd9a930d39",
   "metadata": {},
   "source": [
    "**lOWER**"
   ]
  },
  {
   "cell_type": "code",
   "execution_count": 7,
   "id": "8eecfdd1-b4f9-41a4-83ab-0a71316525de",
   "metadata": {},
   "outputs": [
    {
     "name": "stdout",
     "output_type": "stream",
     "text": [
      "Help on built-in function lower:\n",
      "\n",
      "lower() method of builtins.str instance\n",
      "    Return a copy of the string converted to lowercase.\n",
      "\n"
     ]
    }
   ],
   "source": [
    "help(str1.lower)"
   ]
  },
  {
   "cell_type": "code",
   "execution_count": 70,
   "id": "b037d7b0-0299-400c-b3c3-060c1d34a700",
   "metadata": {},
   "outputs": [
    {
     "data": {
      "text/plain": [
       "'hai how are you'"
      ]
     },
     "execution_count": 70,
     "metadata": {},
     "output_type": "execute_result"
    }
   ],
   "source": [
    "str1.lower()"
   ]
  },
  {
   "cell_type": "markdown",
   "id": "45ecb479-e181-4048-ab65-4d21507df588",
   "metadata": {},
   "source": [
    "**CAPITALIZE**"
   ]
  },
  {
   "cell_type": "code",
   "execution_count": 9,
   "id": "fa52ff55-cec1-4c2c-aafe-b5089b140f86",
   "metadata": {},
   "outputs": [
    {
     "data": {
      "text/plain": [
       "'Hai how are you'"
      ]
     },
     "execution_count": 9,
     "metadata": {},
     "output_type": "execute_result"
    }
   ],
   "source": [
    "str1.capitalize()"
   ]
  },
  {
   "cell_type": "markdown",
   "id": "68b86c94-321a-4675-baf9-aa46e5167fd1",
   "metadata": {},
   "source": [
    "**TITLE**"
   ]
  },
  {
   "cell_type": "code",
   "execution_count": 73,
   "id": "a79d7ec0-8c71-4d33-bddc-23dcc14ccf1d",
   "metadata": {},
   "outputs": [
    {
     "data": {
      "text/plain": [
       "'Hai How Are You'"
      ]
     },
     "execution_count": 73,
     "metadata": {},
     "output_type": "execute_result"
    }
   ],
   "source": [
    "str1.title()"
   ]
  },
  {
   "cell_type": "markdown",
   "id": "2929b0ed-7acb-4358-8315-82435fbd2cbf",
   "metadata": {},
   "source": [
    "**CASEFOLD**"
   ]
  },
  {
   "cell_type": "code",
   "execution_count": 72,
   "id": "86a9bac9-d079-4569-b0e3-7537fc165b2c",
   "metadata": {},
   "outputs": [
    {
     "data": {
      "text/plain": [
       "'hai how are you'"
      ]
     },
     "execution_count": 72,
     "metadata": {},
     "output_type": "execute_result"
    }
   ],
   "source": [
    "str1.casefold()"
   ]
  },
  {
   "cell_type": "markdown",
   "id": "408a393c-393b-4ad0-997d-6d5a0aecef8d",
   "metadata": {},
   "source": [
    "**CENTER**"
   ]
  },
  {
   "cell_type": "code",
   "execution_count": 75,
   "id": "8c30655b-0f34-49ee-b446-98ccf7b7b11d",
   "metadata": {},
   "outputs": [
    {
     "data": {
      "text/plain": [
       "'hai how are you'"
      ]
     },
     "execution_count": 75,
     "metadata": {},
     "output_type": "execute_result"
    }
   ],
   "source": [
    "str1.center(3)"
   ]
  },
  {
   "cell_type": "markdown",
   "id": "320c5f0c-6aab-4516-b90f-399830e972ec",
   "metadata": {},
   "source": [
    "- center has two arguments\n",
    "    - width\n",
    "    - fill char\n",
    "- original string already 15 letters\n",
    "- we want to create a new string  with 20 letters\n",
    "- remaining 5 letters by default empty\n",
    "- we can fill with characters also"
   ]
  },
  {
   "cell_type": "code",
   "execution_count": 76,
   "id": "704f042f-8e48-4b08-8c4e-6292dc1ceb57",
   "metadata": {},
   "outputs": [
    {
     "data": {
      "text/plain": [
       "'*****hai how are you******'"
      ]
     },
     "execution_count": 76,
     "metadata": {},
     "output_type": "execute_result"
    }
   ],
   "source": [
    "str1.center(26,'*')"
   ]
  },
  {
   "cell_type": "markdown",
   "id": "c6955f91-5d6f-448c-a723-243b28b5b6da",
   "metadata": {},
   "source": [
    "**Count**"
   ]
  },
  {
   "cell_type": "code",
   "execution_count": 24,
   "id": "32809a86-25fe-499b-8c9b-29b0c1824aa0",
   "metadata": {},
   "outputs": [],
   "source": [
    "str1='hai how are you'\n",
    "# How many 'a's are there"
   ]
  },
  {
   "cell_type": "code",
   "execution_count": 23,
   "id": "fc6a06ff-829a-4161-beae-7899add316ae",
   "metadata": {},
   "outputs": [],
   "source": [
    "count=0\n",
    "for i in str1:\n",
    "    if i=='a':\n",
    "        count=count+1\n",
    "count=0"
   ]
  },
  {
   "cell_type": "code",
   "execution_count": 21,
   "id": "9016b159-9024-4c77-87d3-16b1d7b0109e",
   "metadata": {},
   "outputs": [
    {
     "data": {
      "text/plain": [
       "2"
      ]
     },
     "execution_count": 21,
     "metadata": {},
     "output_type": "execute_result"
    }
   ],
   "source": [
    "str1='hai how are you'\n",
    "str1.count('a')"
   ]
  },
  {
   "cell_type": "code",
   "execution_count": 20,
   "id": "d887e0b6-a552-4972-ad42-621f695150ca",
   "metadata": {},
   "outputs": [
    {
     "data": {
      "text/plain": [
       "3"
      ]
     },
     "execution_count": 20,
     "metadata": {},
     "output_type": "execute_result"
    }
   ],
   "source": [
    "str1='hai hai hai'\n",
    "str1.count('a')"
   ]
  },
  {
   "cell_type": "markdown",
   "id": "83ba88f7-21b2-448e-ac94-1e284345285f",
   "metadata": {},
   "source": [
    "- We want number of a from a specific index\n",
    "- we want number of a between two indexes"
   ]
  },
  {
   "cell_type": "code",
   "execution_count": 19,
   "id": "b8e4ac19-5ac7-4c9f-9958-be5514498e8a",
   "metadata": {},
   "outputs": [
    {
     "data": {
      "text/plain": [
       "2"
      ]
     },
     "execution_count": 19,
     "metadata": {},
     "output_type": "execute_result"
    }
   ],
   "source": [
    "# h a i h a i h a i\n",
    "# 0 1 2 3 4 5 6 7 8 9 10\n",
    "str1.count('a') # All the 'a'\n",
    "str1.count('a',5)"
   ]
  },
  {
   "cell_type": "code",
   "execution_count": null,
   "id": "31251be1-788a-4564-8065-d188e39b9be4",
   "metadata": {},
   "outputs": [],
   "source": [
    "str1.count('a',3)\n",
    "# we are searching number of 'a' from index=3"
   ]
  },
  {
   "cell_type": "code",
   "execution_count": 18,
   "id": "782ae90c-3df0-4463-b306-ca324eefcaee",
   "metadata": {},
   "outputs": [
    {
     "data": {
      "text/plain": [
       "1"
      ]
     },
     "execution_count": 18,
     "metadata": {},
     "output_type": "execute_result"
    }
   ],
   "source": [
    "# h a i h a i h a i\n",
    "# 0 1 2 3 4 5 6 7 8 9 10\n",
    "str1.count('a') # All the 'a'\n",
    "str1.count('a',5) # we are searching number of 'a' from index=3\n",
    "str1.count('a',4,8) #we are searching number of 'a' from index=4 to index=8"
   ]
  },
  {
   "cell_type": "code",
   "execution_count": null,
   "id": "09f1eadf-80bd-41d9-990f-e6999d015839",
   "metadata": {},
   "outputs": [],
   "source": [
    "# Reverse check karo"
   ]
  },
  {
   "cell_type": "code",
   "execution_count": 17,
   "id": "6f756de2-2638-44e6-82c1-999d8df75f18",
   "metadata": {},
   "outputs": [
    {
     "data": {
      "text/plain": [
       "3"
      ]
     },
     "execution_count": 17,
     "metadata": {},
     "output_type": "execute_result"
    }
   ],
   "source": [
    "str1='ola ola ola'\n",
    "str1.count('ola')"
   ]
  },
  {
   "cell_type": "code",
   "execution_count": 16,
   "id": "ef6e375b-0bb0-4460-9bdd-366ba6b1afb5",
   "metadata": {},
   "outputs": [],
   "source": [
    "str1='ola ola ola'\n",
    "for i in str1:\n",
    "    if i=='ola': # 'o' == 'ola'\n",
    "        print(i)"
   ]
  },
  {
   "cell_type": "markdown",
   "id": "07966055-7f64-4c7c-baf7-653b4b6c700e",
   "metadata": {},
   "source": [
    "**Window method**"
   ]
  },
  {
   "cell_type": "code",
   "execution_count": null,
   "id": "2499f954-58a3-4e0d-b87c-9af3f91c18ca",
   "metadata": {},
   "outputs": [],
   "source": [
    "str1[i:i+3]\n",
    "i=0  str1[0:3] === > ola\n",
    "i=1  str1[1:4] ==== > la\n",
    "i=2"
   ]
  },
  {
   "cell_type": "code",
   "execution_count": null,
   "id": "2e4b56cd-7cb9-44a2-b679-b661516020de",
   "metadata": {},
   "outputs": [],
   "source": [
    "str1='ola ola ola'\n",
    "count=0\n",
    "for i in range(len(str1)):\n",
    "if str1[i:i+3]=='ola':\n",
    "count=count+1\n",
    "# step-1: count=0 i =0 str1[0:3]=='ola' True count=1\n",
    "# step-2: i=1 str1[1:4]=='ola' F"
   ]
  },
  {
   "cell_type": "code",
   "execution_count": 15,
   "id": "468e61ab-22dc-4479-940a-9ef2ff4d17fd",
   "metadata": {},
   "outputs": [
    {
     "data": {
      "text/plain": [
       "1"
      ]
     },
     "execution_count": 15,
     "metadata": {},
     "output_type": "execute_result"
    }
   ],
   "source": [
    "str1='ola ola ola'\n",
    "str1.count('ola ola ola')"
   ]
  },
  {
   "cell_type": "code",
   "execution_count": 13,
   "id": "3f2628a1-d464-4630-983e-4f0fd78d5135",
   "metadata": {},
   "outputs": [
    {
     "data": {
      "text/plain": [
       "1"
      ]
     },
     "execution_count": 13,
     "metadata": {},
     "output_type": "execute_result"
    }
   ],
   "source": [
    "str1='ola ola ola'\n",
    "str1.count(str1)"
   ]
  },
  {
   "cell_type": "code",
   "execution_count": 12,
   "id": "0039df28-6c9f-4d22-9a4f-0afc78546ce3",
   "metadata": {},
   "outputs": [
    {
     "data": {
      "text/plain": [
       "0"
      ]
     },
     "execution_count": 12,
     "metadata": {},
     "output_type": "execute_result"
    }
   ],
   "source": [
    "str1.count('z')\n",
    "# No answer ''\n",
    "# Error\n",
    "# 0\n",
    "# NT"
   ]
  },
  {
   "cell_type": "markdown",
   "id": "aab603ff-068b-4946-8449-86b4f1313626",
   "metadata": {},
   "source": [
    "**Replace**"
   ]
  },
  {
   "cell_type": "code",
   "execution_count": 11,
   "id": "e2a7a981-3759-47a9-8421-6871f29643d0",
   "metadata": {},
   "outputs": [],
   "source": [
    "str1='welcome'\n",
    "# I want to replace 'l' with 'L'"
   ]
  },
  {
   "cell_type": "code",
   "execution_count": null,
   "id": "a808e147-bd42-43ca-85c5-4488fbe8cd31",
   "metadata": {},
   "outputs": [],
   "source": [
    "# we know that strings are immutable\n",
    "# we can not use index operations also\n",
    "# slice and concatenation\n",
    "# Divide welcome : we come\n",
    "# s1='we'\n",
    "# s2='come'\n",
    "# s1+'L'+s2\n",
    "\n",
    "sir, you said string is immutable\n",
    "it won't change but if we are doing concatenation\n",
    "s1=s1+'anything' total value of s1 is changing write sir how"
   ]
  },
  {
   "cell_type": "code",
   "execution_count": 10,
   "id": "99cfaf03-5b36-47ca-ae93-28da5dbe1732",
   "metadata": {},
   "outputs": [
    {
     "data": {
      "text/plain": [
       "'weLcome'"
      ]
     },
     "execution_count": 10,
     "metadata": {},
     "output_type": "execute_result"
    }
   ],
   "source": [
    "str1='welcome'\n",
    "s1=str1[0:2]\n",
    "s2=str1[3:]\n",
    "s1+'L'+s2"
   ]
  },
  {
   "cell_type": "code",
   "execution_count": 9,
   "id": "43205922-7926-4770-920b-ef34a46e96a9",
   "metadata": {},
   "outputs": [
    {
     "data": {
      "text/plain": [
       "'L'"
      ]
     },
     "execution_count": 9,
     "metadata": {},
     "output_type": "execute_result"
    }
   ],
   "source": [
    "chr(ord('l')-32)  #Try this"
   ]
  },
  {
   "cell_type": "code",
   "execution_count": 8,
   "id": "2b3a0a49-395f-4f63-a307-667d2bf326d2",
   "metadata": {},
   "outputs": [
    {
     "data": {
      "text/plain": [
       "'weLcome'"
      ]
     },
     "execution_count": 8,
     "metadata": {},
     "output_type": "execute_result"
    }
   ],
   "source": [
    "str1='welcome'\n",
    "str1.replace('l','L')"
   ]
  },
  {
   "cell_type": "code",
   "execution_count": 7,
   "id": "2ca7259f-01b4-4a62-8dbb-fe88d50bfdcc",
   "metadata": {},
   "outputs": [
    {
     "data": {
      "text/plain": [
       "'weLLcome'"
      ]
     },
     "execution_count": 7,
     "metadata": {},
     "output_type": "execute_result"
    }
   ],
   "source": [
    "str1='wellcome'\n",
    "str1.replace('l','L')"
   ]
  },
  {
   "cell_type": "markdown",
   "id": "75f9b18f-9e10-4400-8073-708992ca08ec",
   "metadata": {},
   "source": [
    "- By defualt replace will change all the occurences\n",
    "- count= -1 is responsible for that\n",
    "- whcih means we can provide some count also, which how many I want to change\n",
    "- Give welllcome and change count=1 and count=2 explore it"
   ]
  },
  {
   "cell_type": "code",
   "execution_count": 6,
   "id": "716f265a-95ff-4a49-9f8b-6fc589774ae8",
   "metadata": {},
   "outputs": [
    {
     "data": {
      "text/plain": [
       "'weLllcome'"
      ]
     },
     "execution_count": 6,
     "metadata": {},
     "output_type": "execute_result"
    }
   ],
   "source": [
    "str1='welllcome'\n",
    "str1.replace('l','L',1)  # old='l', new ='L' count=1\n",
    "\n",
    "# when we write count=1\n",
    "# It will change only one letter\n",
    "# that to first occurence only\n"
   ]
  },
  {
   "cell_type": "code",
   "execution_count": 5,
   "id": "edd5c443-f55b-4b9b-9e4a-292022c1511d",
   "metadata": {},
   "outputs": [
    {
     "data": {
      "text/plain": [
       "'weLLlcome'"
      ]
     },
     "execution_count": 5,
     "metadata": {},
     "output_type": "execute_result"
    }
   ],
   "source": [
    "str1='welllcome'\n",
    "str1.replace('l','L',2)"
   ]
  },
  {
   "cell_type": "code",
   "execution_count": 4,
   "id": "b11df64b-a018-40aa-9363-91823683e7d7",
   "metadata": {},
   "outputs": [
    {
     "data": {
      "text/plain": [
       "'resta$t'"
      ]
     },
     "execution_count": 4,
     "metadata": {},
     "output_type": "execute_result"
    }
   ],
   "source": [
    "# Str1='restart'\n",
    "# i/p= 'resta$t'\n",
    "str1='restart'\n",
    "s1=str1[:1]\n",
    "s2=str1[1:]\n",
    "s3=s2.replace('r','$')\n",
    "s1+s3"
   ]
  },
  {
   "cell_type": "code",
   "execution_count": null,
   "id": "97d81f36-f5d9-4bec-9eff-c34604e6efc2",
   "metadata": {},
   "outputs": [],
   "source": [
    "Q. Why is replacing -1 is replaced at all places. str1='welllcome'\n",
    "str1.replace('l','L',-1)\n",
    "# Flag=-1 True Flase ALL N"
   ]
  },
  {
   "cell_type": "code",
   "execution_count": 3,
   "id": "dcff7010-fdd9-4559-ac2a-6348820db494",
   "metadata": {},
   "outputs": [
    {
     "data": {
      "text/plain": [
       "'resta$t'"
      ]
     },
     "execution_count": 3,
     "metadata": {},
     "output_type": "execute_result"
    }
   ],
   "source": [
    "str1='restart' # This case\n",
    "str1[::-1].replace('r','$',1)[::-1]"
   ]
  },
  {
   "cell_type": "markdown",
   "id": "9854d7cb-b5a7-4fb0-9114-86ed336d9e40",
   "metadata": {},
   "source": [
    "**index-find**"
   ]
  },
  {
   "cell_type": "code",
   "execution_count": null,
   "id": "19f6cb2b-54f9-4367-9a2b-23abd17ae63e",
   "metadata": {},
   "outputs": [],
   "source": [
    "- Upper\n",
    "- lower\n",
    "- casefold\n",
    "- title\n",
    "- capitalize\n",
    "- count\n",
    "- replace\n",
    "- index-find In\n",
    "- split\n",
    "- strip\n",
    "- startswith"
   ]
  },
  {
   "cell_type": "code",
   "execution_count": 2,
   "id": "f7218041-80a7-444b-8d38-50ae443ceefd",
   "metadata": {},
   "outputs": [
    {
     "data": {
      "text/plain": [
       "['__add__',\n",
       " '__class__',\n",
       " '__contains__',\n",
       " '__delattr__',\n",
       " '__dir__',\n",
       " '__doc__',\n",
       " '__eq__',\n",
       " '__format__',\n",
       " '__ge__',\n",
       " '__getattribute__',\n",
       " '__getitem__',\n",
       " '__getnewargs__',\n",
       " '__getstate__',\n",
       " '__gt__',\n",
       " '__hash__',\n",
       " '__init__',\n",
       " '__init_subclass__',\n",
       " '__iter__',\n",
       " '__le__',\n",
       " '__len__',\n",
       " '__lt__',\n",
       " '__mod__',\n",
       " '__mul__',\n",
       " '__ne__',\n",
       " '__new__',\n",
       " '__reduce__',\n",
       " '__reduce_ex__',\n",
       " '__repr__',\n",
       " '__rmod__',\n",
       " '__rmul__',\n",
       " '__setattr__',\n",
       " '__sizeof__',\n",
       " '__str__',\n",
       " '__subclasshook__',\n",
       " 'capitalize',\n",
       " 'casefold',\n",
       " 'center',\n",
       " 'count',\n",
       " 'encode',\n",
       " 'endswith',\n",
       " 'expandtabs',\n",
       " 'find',\n",
       " 'format',\n",
       " 'format_map',\n",
       " 'index',\n",
       " 'isalnum',\n",
       " 'isalpha',\n",
       " 'isascii',\n",
       " 'isdecimal',\n",
       " 'isdigit',\n",
       " 'isidentifier',\n",
       " 'islower',\n",
       " 'isnumeric',\n",
       " 'isprintable',\n",
       " 'isspace',\n",
       " 'istitle',\n",
       " 'isupper',\n",
       " 'join',\n",
       " 'ljust',\n",
       " 'lower',\n",
       " 'lstrip',\n",
       " 'maketrans',\n",
       " 'partition',\n",
       " 'removeprefix',\n",
       " 'removesuffix',\n",
       " 'replace',\n",
       " 'rfind',\n",
       " 'rindex',\n",
       " 'rjust',\n",
       " 'rpartition',\n",
       " 'rsplit',\n",
       " 'rstrip',\n",
       " 'split',\n",
       " 'splitlines',\n",
       " 'startswith',\n",
       " 'strip',\n",
       " 'swapcase',\n",
       " 'title',\n",
       " 'translate',\n",
       " 'upper',\n",
       " 'zfill']"
      ]
     },
     "execution_count": 2,
     "metadata": {},
     "output_type": "execute_result"
    }
   ],
   "source": [
    "dir('')"
   ]
  },
  {
   "cell_type": "code",
   "execution_count": 1,
   "id": "6a66e4bc-f49f-4a5e-8e3b-51dbd7fc4a25",
   "metadata": {},
   "outputs": [
    {
     "data": {
      "text/plain": [
       "True"
      ]
     },
     "execution_count": 1,
     "metadata": {},
     "output_type": "execute_result"
    }
   ],
   "source": [
    "str1='HELLO'\n",
    "str1.isupper()"
   ]
  },
  {
   "cell_type": "markdown",
   "id": "f68997cb-04f3-477f-9a15-255a45f0a12b",
   "metadata": {},
   "source": [
    "**Index**\n",
    "  \n",
    "- index says that it will give the index of any letter in a given string\n",
    "- we already seen about count: Count will give how many letters are there in a string\n",
    "    - at what index you want to count\n",
    "    - between indexes also we can count the letters\n",
    "- index meaning it will provide the index\n",
    "- imagine that there same letters repeated\n",
    "- how can we find the next index"
   ]
  },
  {
   "cell_type": "code",
   "execution_count": 1,
   "id": "e19ae0f2-48da-4e3a-b072-1f714aecb839",
   "metadata": {},
   "outputs": [
    {
     "data": {
      "text/plain": [
       "1"
      ]
     },
     "execution_count": 1,
     "metadata": {},
     "output_type": "execute_result"
    }
   ],
   "source": [
    "# h a i h a i h a i\n",
    "# 0 1 2 3 4 5 6 7 8 9 10\n",
    "str1= 'hai hai hai'\n",
    "str1.index('a')\n",
    "# Return the lowest index in S where substring sub is found,"
   ]
  },
  {
   "cell_type": "code",
   "execution_count": 2,
   "id": "38974ab9-9f70-41de-9704-53f6cd576ecc",
   "metadata": {},
   "outputs": [
    {
     "data": {
      "text/plain": [
       "5"
      ]
     },
     "execution_count": 2,
     "metadata": {},
     "output_type": "execute_result"
    }
   ],
   "source": [
    "# I want to know next 'a' index after 3rd index\n",
    "str1= 'hai hai hai'\n",
    "str1.index('a',3)"
   ]
  },
  {
   "cell_type": "code",
   "execution_count": 3,
   "id": "726b560c-7141-4ae3-b652-99df7fafb2b2",
   "metadata": {},
   "outputs": [
    {
     "data": {
      "text/plain": [
       "5"
      ]
     },
     "execution_count": 3,
     "metadata": {},
     "output_type": "execute_result"
    }
   ],
   "source": [
    "# I want to know 'a' index between 3rd and 7th index\n",
    "# h a i h a i h a i\n",
    "# 0 1 2 3 4 5 6 7 8 9 10\n",
    "str1= 'hai hai hai'\n",
    "str1.index('a',3,7)"
   ]
  },
  {
   "cell_type": "code",
   "execution_count": 5,
   "id": "1bb34af9-07b5-41ed-bfc5-5b83cca42510",
   "metadata": {},
   "outputs": [
    {
     "data": {
      "text/plain": [
       "5"
      ]
     },
     "execution_count": 5,
     "metadata": {},
     "output_type": "execute_result"
    }
   ],
   "source": [
    "# I always a Return a lowest index only\n",
    "str1= 'hai hai hai'\n",
    "str1.index('a')   # among all the indexes the lowset index is '1'\n",
    "\n",
    "str1= 'hai hai hai'\n",
    "str1.index('a',3)  # after 3rd index the lowset index of a is '5'\n",
    "\n",
    "str1= 'hai hai hai'\n",
    "str1.index('a',3,7)  # Between 3-7 index the lowset index is '5' only"
   ]
  },
  {
   "cell_type": "code",
   "execution_count": 7,
   "id": "457dc5b2-eee1-46ae-b7b7-1a429700c84d",
   "metadata": {},
   "outputs": [
    {
     "data": {
      "text/plain": [
       "9"
      ]
     },
     "execution_count": 7,
     "metadata": {},
     "output_type": "execute_result"
    }
   ],
   "source": [
    "str1= 'hai hai hai'\n",
    "str1.index('a',-3,-1)  # among all the indexes the lowset index is '1'"
   ]
  },
  {
   "cell_type": "code",
   "execution_count": 8,
   "id": "51fc27d3-3436-4683-b338-00431ca5088c",
   "metadata": {},
   "outputs": [
    {
     "data": {
      "text/plain": [
       "5"
      ]
     },
     "execution_count": 8,
     "metadata": {},
     "output_type": "execute_result"
    }
   ],
   "source": [
    "# -11 -10 -9 -8 -7 -6 -5 -4 -3 -2 -1\n",
    "#  h    a  i     h  a  i     h  a  i\n",
    "#  0    1  2  3  4  5  6  7  8  9  10\n",
    "\n",
    "str1= 'hai hai hai'\n",
    "str1.index('a',-9,-4)    # among all the indexes the lowset index is '1'\n",
    "5"
   ]
  },
  {
   "cell_type": "code",
   "execution_count": 9,
   "id": "be6f16cd-a97f-420d-bce9-dceab726366f",
   "metadata": {},
   "outputs": [
    {
     "ename": "ValueError",
     "evalue": "substring not found",
     "output_type": "error",
     "traceback": [
      "\u001b[1;31m---------------------------------------------------------------------------\u001b[0m",
      "\u001b[1;31mValueError\u001b[0m                                Traceback (most recent call last)",
      "Cell \u001b[1;32mIn[9], line 2\u001b[0m\n\u001b[0;32m      1\u001b[0m \u001b[38;5;28mstr\u001b[39m\u001b[38;5;241m=\u001b[39m\u001b[38;5;124m'\u001b[39m\u001b[38;5;124mhai hai hai\u001b[39m\u001b[38;5;124m'\u001b[39m\n\u001b[1;32m----> 2\u001b[0m \u001b[38;5;28mprint\u001b[39m(\u001b[38;5;28mstr\u001b[39m\u001b[38;5;241m.\u001b[39mindex(\u001b[38;5;124m'\u001b[39m\u001b[38;5;124ma\u001b[39m\u001b[38;5;124m'\u001b[39m,\u001b[38;5;241m-\u001b[39m\u001b[38;5;241m9\u001b[39m,\u001b[38;5;241m-\u001b[39m\u001b[38;5;241m6\u001b[39m))\n",
      "\u001b[1;31mValueError\u001b[0m: substring not found"
     ]
    }
   ],
   "source": [
    "str='hai hai hai'\n",
    "print(str.index('a',-9,-6)) \n",
    "\n",
    "# Postive direction\n",
    "# start= start = -9\n",
    "# last =end-1 = -6-1= -7\n",
    "# -9 -8 -7\n",
    "# i h\n",
    "# there is no 'a'"
   ]
  },
  {
   "cell_type": "code",
   "execution_count": 12,
   "id": "ba8fd5df-1229-4a4f-941b-d5ae8edb1802",
   "metadata": {},
   "outputs": [
    {
     "name": "stdout",
     "output_type": "stream",
     "text": [
      "3\n",
      "2\n",
      "1\n"
     ]
    }
   ],
   "source": [
    "# -11 -10 -9 -8 -7 -6 -5 -4 -3 -2 -1\n",
    "#  h   a   i      h  a  i     h  a  i\n",
    "#  0   1   2  3   4  5  6  7  8  9  10\n",
    "str1= 'hai hai hai'\n",
    "print(str1.count('a'))\n",
    "print(str1.count('a',3))\n",
    "print(str1.count('a',3,7))"
   ]
  },
  {
   "cell_type": "code",
   "execution_count": 13,
   "id": "0c7dfeff-7edc-4531-9a10-71bbb6219928",
   "metadata": {},
   "outputs": [
    {
     "name": "stdout",
     "output_type": "stream",
     "text": [
      "1\n",
      "5\n",
      "5\n"
     ]
    }
   ],
   "source": [
    "# -11 -10 -9 -8 -7 -6 -5 -4 -3 -2 -1\n",
    "#  h    a  i     h  a  i     h  a  i\n",
    "#  0    1  2  3  4  5  6  7  8  9 10\n",
    "str1= 'hai hai hai'\n",
    "print(str1.index('a'))\n",
    "print(str1.index('a',3))\n",
    "print(str1.index('a',3,7))"
   ]
  },
  {
   "cell_type": "code",
   "execution_count": null,
   "id": "3e2d1181-beef-40d4-92de-5235dbc974f6",
   "metadata": {},
   "outputs": [],
   "source": [
    "Sir, yesterday assignment methods are string methods right?\n",
    "Why those are not visible in string package? Those are visible with dir('') not\n",
    "\n",
    "import string\n",
    "name='praveen'\n",
    "dir(name)\n",
    "dir(string)"
   ]
  },
  {
   "cell_type": "code",
   "execution_count": 14,
   "id": "9b9b7205-8e25-4ce2-ba12-2e7970e6ea95",
   "metadata": {},
   "outputs": [
    {
     "name": "stdout",
     "output_type": "stream",
     "text": [
      "1\n",
      "5\n",
      "9\n"
     ]
    }
   ],
   "source": [
    "str1='hai hai hai'\n",
    "# I want to know all the indexes of 'a'\n",
    "for i in range(len(str1)):\n",
    "    if str1[i]=='a':\n",
    "        print(i)"
   ]
  },
  {
   "cell_type": "code",
   "execution_count": 15,
   "id": "62b434f8-554c-4832-99b8-888beb8646aa",
   "metadata": {},
   "outputs": [
    {
     "name": "stdout",
     "output_type": "stream",
     "text": [
      "1\n",
      "5\n",
      "9\n",
      "13\n"
     ]
    }
   ],
   "source": [
    "# h a i   h a i   h a i  hai\n",
    "# 0 1 2 3 4 5 6 7 8 9 10\n",
    "str1='hai hai hai hai'\n",
    "i1=str1.index('a')\n",
    "print(i1)\n",
    "i2=str1.index('a',i1+1)\n",
    "print(i2)\n",
    "i3=str1.index('a',i2+1)\n",
    "print(i3)\n",
    "i4=str1.index('a',i3+1)\n",
    "print(i4)"
   ]
  },
  {
   "cell_type": "code",
   "execution_count": 16,
   "id": "c7d1e08e-6ce7-49ad-800b-5e0605198bc6",
   "metadata": {},
   "outputs": [
    {
     "name": "stdout",
     "output_type": "stream",
     "text": [
      "1\n",
      "5\n",
      "9\n",
      "13\n"
     ]
    },
    {
     "ename": "ValueError",
     "evalue": "substring not found",
     "output_type": "error",
     "traceback": [
      "\u001b[1;31m---------------------------------------------------------------------------\u001b[0m",
      "\u001b[1;31mValueError\u001b[0m                                Traceback (most recent call last)",
      "Cell \u001b[1;32mIn[16], line 13\u001b[0m\n\u001b[0;32m     11\u001b[0m i4\u001b[38;5;241m=\u001b[39m str1\u001b[38;5;241m.\u001b[39mindex(\u001b[38;5;124m'\u001b[39m\u001b[38;5;124ma\u001b[39m\u001b[38;5;124m'\u001b[39m,i3\u001b[38;5;241m+\u001b[39m\u001b[38;5;241m1\u001b[39m)\n\u001b[0;32m     12\u001b[0m \u001b[38;5;28mprint\u001b[39m(i4)\n\u001b[1;32m---> 13\u001b[0m i5\u001b[38;5;241m=\u001b[39m str1\u001b[38;5;241m.\u001b[39mindex(\u001b[38;5;124m'\u001b[39m\u001b[38;5;124ma\u001b[39m\u001b[38;5;124m'\u001b[39m,i4\u001b[38;5;241m+\u001b[39m\u001b[38;5;241m1\u001b[39m)\n\u001b[0;32m     14\u001b[0m \u001b[38;5;28mprint\u001b[39m(i5)\n",
      "\u001b[1;31mValueError\u001b[0m: substring not found"
     ]
    }
   ],
   "source": [
    "# Home work Implement above logic to get all the indexes\n",
    "# h a i   h a i   h a i  hai\n",
    "# 0 1 2 3 4 5 6 7 8 9 10\n",
    "str1='hai hai hai hai'\n",
    "i1=str1.index('a')\n",
    "print(i1) # 1\n",
    "i2= str1.index('a',i1+1)\n",
    "print(i2) # 5\n",
    "i3= str1.index('a',i2+1)\n",
    "print(i3)\n",
    "i4= str1.index('a',i3+1)\n",
    "print(i4)\n",
    "i5= str1.index('a',i4+1)\n",
    "print(i5)"
   ]
  },
  {
   "cell_type": "markdown",
   "id": "11164271-2b5f-4ff4-8c5c-c4ecf8df6ecf",
   "metadata": {},
   "source": [
    "**Find**"
   ]
  },
  {
   "cell_type": "code",
   "execution_count": 17,
   "id": "4c6876fd-b746-47df-b33a-ffa37f6476c7",
   "metadata": {},
   "outputs": [
    {
     "name": "stdout",
     "output_type": "stream",
     "text": [
      "1\n",
      "5\n",
      "9\n",
      "13\n",
      "-1\n"
     ]
    }
   ],
   "source": [
    "str1='hai hai hai hai'\n",
    "i1=str1.find('a')\n",
    "print(i1)  # 1\n",
    "i2= str1.find('a',i1+1)\n",
    "print(i2)  # 5\n",
    "i3= str1.find('a',i2+1)\n",
    "print(i3)\n",
    "i4= str1.find('a',i3+1)\n",
    "print(i4)\n",
    "i5= str1.find('a',i4+1)\n",
    "print(i5)"
   ]
  },
  {
   "cell_type": "code",
   "execution_count": null,
   "id": "b997f92d-d6db-4298-9373-85fc62b49570",
   "metadata": {},
   "outputs": [],
   "source": [
    "str1.index()  # Raises ValueError when the substring is not found.\n",
    "str1.find()  # Return -1 on failure."
   ]
  },
  {
   "cell_type": "code",
   "execution_count": 18,
   "id": "4ee93f4e-0bcb-47a3-8e4f-5f4c7b12cb76",
   "metadata": {},
   "outputs": [
    {
     "data": {
      "text/plain": [
       "0"
      ]
     },
     "execution_count": 18,
     "metadata": {},
     "output_type": "execute_result"
    }
   ],
   "source": [
    "str1='hai hai hai'\n",
    "str1.count('z')"
   ]
  },
  {
   "cell_type": "code",
   "execution_count": 19,
   "id": "3a152f50-e9bd-4ed1-b363-2ef7971377ac",
   "metadata": {},
   "outputs": [
    {
     "data": {
      "text/plain": [
       "'hai hai hai'"
      ]
     },
     "execution_count": 19,
     "metadata": {},
     "output_type": "execute_result"
    }
   ],
   "source": [
    "str1='hai hai hai'\n",
    "str1.replace('z','Z')"
   ]
  },
  {
   "cell_type": "markdown",
   "id": "2b9dce8a-c866-45ae-9358-c43c3307e374",
   "metadata": {},
   "source": [
    "- If substring not found\n",
    "- Count method will give zero\n",
    "- Replace method will give original string\n",
    "- Index will give **sub string not found error**\n",
    "- Find will give -1"
   ]
  },
  {
   "cell_type": "code",
   "execution_count": null,
   "id": "62e22287-4e56-4b2d-9bf6-4c20b8f272c6",
   "metadata": {},
   "outputs": [],
   "source": [
    "str1='omkar.nallagoni@cognizant.com'\n",
    "# Fisrt name= omkar\n",
    "# second name= nallagoni\n",
    "# company name= cognizant\n",
    "str2='virat.kohli@rcb.com'\n",
    "str3='rohit.sharma@mi.com'\n",
    "str4='a.b@c.com'\n",
    "\n",
    "# Idea : find the triggers\n",
    "# For first name .\n",
    "# second name . and @\n",
    "# Compnay name @ and second .\n",
    "# i1= first dot index\n",
    "# i2= @ index\n",
    "# i3= second index"
   ]
  },
  {
   "cell_type": "code",
   "execution_count": 21,
   "id": "83114ca7-1991-4097-8814-1d1d1db04123",
   "metadata": {},
   "outputs": [
    {
     "data": {
      "text/plain": [
       "('omkar', 'nallagoni', 'cognizant')"
      ]
     },
     "execution_count": 21,
     "metadata": {},
     "output_type": "execute_result"
    }
   ],
   "source": [
    "str1='omkar.nallagoni@cognizant.com'\n",
    "i1=str1.index('.')\n",
    "i2=str1.index('@')\n",
    "i3=str1.index('.',i1+1)\n",
    "first_name=str1[:i1]\n",
    "second_name=str1[i1+1:i2]\n",
    "cname=str1[i2+1:i3]\n",
    "first_name,second_name,cname"
   ]
  },
  {
   "cell_type": "markdown",
   "id": "1139d726-e81c-4036-abe4-1f106d54d8f6",
   "metadata": {},
   "source": [
    "- count\n",
    "- replace\n",
    "- find\n",
    "- index\n",
    "\n",
    "- Upper/lower/casefold\n",
    "- Capitalize/Title\n",
    "- Center\n",
    "- Count\n",
    "- Replace\n",
    "- index/find\n",
    "- start with is"
   ]
  },
  {
   "cell_type": "code",
   "execution_count": null,
   "id": "0a8a4ae3-ede6-4624-8211-383f8894d170",
   "metadata": {},
   "outputs": [],
   "source": [
    "- split\n",
    "- strip/lstrip/rstrip\n",
    "- startswith/endswith"
   ]
  },
  {
   "cell_type": "code",
   "execution_count": null,
   "id": "06926f6c-d19d-4407-921a-0964c7e0d972",
   "metadata": {},
   "outputs": [],
   "source": []
  },
  {
   "cell_type": "code",
   "execution_count": null,
   "id": "5dbb1d85-3782-41e0-a010-3578c0f947dd",
   "metadata": {},
   "outputs": [],
   "source": []
  },
  {
   "cell_type": "code",
   "execution_count": null,
   "id": "e1867fa9-b3e9-4a00-b85f-3796c9d059ae",
   "metadata": {},
   "outputs": [],
   "source": []
  },
  {
   "cell_type": "code",
   "execution_count": null,
   "id": "d6c401cf-c2de-4c18-be43-20903bd5e754",
   "metadata": {},
   "outputs": [],
   "source": []
  }
 ],
 "metadata": {
  "kernelspec": {
   "display_name": "Python 3 (ipykernel)",
   "language": "python",
   "name": "python3"
  },
  "language_info": {
   "codemirror_mode": {
    "name": "ipython",
    "version": 3
   },
   "file_extension": ".py",
   "mimetype": "text/x-python",
   "name": "python",
   "nbconvert_exporter": "python",
   "pygments_lexer": "ipython3",
   "version": "3.11.7"
  }
 },
 "nbformat": 4,
 "nbformat_minor": 5
}
