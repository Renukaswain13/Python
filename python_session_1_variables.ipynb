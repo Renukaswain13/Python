{
 "cells": [
  {
   "cell_type": "markdown",
   "id": "ab4fcef5-fda4-4ba9-9616-dd41c9160a8a",
   "metadata": {},
   "source": [
    "## VARIABLES"
   ]
  },
  {
   "cell_type": "markdown",
   "id": "ca7a4c0a-8508-46c9-9346-c45e0c6960ca",
   "metadata": {},
   "source": [
    "- Variables are used to store the value\n",
    "`\n",
    "- and the values can be changed"
   ]
  },
  {
   "cell_type": "code",
   "execution_count": 1,
   "id": "28b29312-f41d-40eb-a49f-ec0222187454",
   "metadata": {},
   "outputs": [
    {
     "data": {
      "text/plain": [
       "100"
      ]
     },
     "execution_count": 1,
     "metadata": {},
     "output_type": "execute_result"
    }
   ],
   "source": [
    "number=100 # value  100 in a variable name called 'number'\n",
    "number "
   ]
  },
  {
   "cell_type": "code",
   "execution_count": 2,
   "id": "649ef9c0-8052-4ee7-aeba-1f7131bb3b49",
   "metadata": {},
   "outputs": [
    {
     "data": {
      "text/plain": [
       "200"
      ]
     },
     "execution_count": 2,
     "metadata": {},
     "output_type": "execute_result"
    }
   ],
   "source": [
    "number=200 # value 200 in a variable name called'number'\n",
    "number"
   ]
  },
  {
   "cell_type": "markdown",
   "id": "5a52c877-235c-490c-99fd-e9249604debc",
   "metadata": {},
   "source": [
    "**NOTE**\n",
    "\n",
    "- Python is step by step process\n",
    "\n",
    "- python will take last output as the latest value\n",
    "    \n",
    "- in avobe code we are using same variable :number\n",
    "\n",
    "- but number value change 2 times\n",
    "\n",
    "- 1st tym :100\n",
    "\n",
    "- 2nd tym:200\n",
    "\n",
    "- latest value 200"
   ]
  },
  {
   "cell_type": "code",
   "execution_count": 4,
   "id": "33fe2853-c4f2-4a88-a0fe-0f322fbd6d69",
   "metadata": {},
   "outputs": [
    {
     "data": {
      "text/plain": [
       "200"
      ]
     },
     "execution_count": 4,
     "metadata": {},
     "output_type": "execute_result"
    }
   ],
   "source": [
    "NUMBER=200\n",
    "NUMBER"
   ]
  },
  {
   "cell_type": "code",
   "execution_count": 5,
   "id": "208bce47-442b-4d4e-9036-e4d88e213eba",
   "metadata": {},
   "outputs": [
    {
     "data": {
      "text/plain": [
       "(200, 200)"
      ]
     },
     "execution_count": 5,
     "metadata": {},
     "output_type": "execute_result"
    }
   ],
   "source": [
    "NUMBER,NUMBER"
   ]
  },
  {
   "cell_type": "code",
   "execution_count": 6,
   "id": "f58b0c16-eaa7-4206-bd48-3733eed3b869",
   "metadata": {},
   "outputs": [
    {
     "data": {
      "text/plain": [
       "300"
      ]
     },
     "execution_count": 6,
     "metadata": {},
     "output_type": "execute_result"
    }
   ],
   "source": [
    "NUMBER=300\n",
    "NUMBER"
   ]
  },
  {
   "cell_type": "code",
   "execution_count": 8,
   "id": "25ed4106-5ac5-431c-a152-972c433c3a6e",
   "metadata": {},
   "outputs": [
    {
     "data": {
      "text/plain": [
       "400"
      ]
     },
     "execution_count": 8,
     "metadata": {},
     "output_type": "execute_result"
    }
   ],
   "source": [
    "number123=400\n",
    "number123"
   ]
  },
  {
   "cell_type": "code",
   "execution_count": 9,
   "id": "cc660642-f124-41e0-9ef4-2e7d463ade30",
   "metadata": {},
   "outputs": [
    {
     "ename": "SyntaxError",
     "evalue": "invalid decimal literal (1181908654.py, line 1)",
     "output_type": "error",
     "traceback": [
      "\u001b[1;36m  Cell \u001b[1;32mIn[9], line 1\u001b[1;36m\u001b[0m\n\u001b[1;33m    123number=500\u001b[0m\n\u001b[1;37m      ^\u001b[0m\n\u001b[1;31mSyntaxError\u001b[0m\u001b[1;31m:\u001b[0m invalid decimal literal\n"
     ]
    }
   ],
   "source": [
    "123number=500\n",
    "123number"
   ]
  },
  {
   "cell_type": "code",
   "execution_count": 10,
   "id": "58c1150e-8c4e-492a-a2b9-33ca53f07cc0",
   "metadata": {},
   "outputs": [
    {
     "ename": "SyntaxError",
     "evalue": "cannot assign to expression here. Maybe you meant '==' instead of '='? (1823274275.py, line 1)",
     "output_type": "error",
     "traceback": [
      "\u001b[1;36m  Cell \u001b[1;32mIn[10], line 1\u001b[1;36m\u001b[0m\n\u001b[1;33m    numb%er=600\u001b[0m\n\u001b[1;37m    ^\u001b[0m\n\u001b[1;31mSyntaxError\u001b[0m\u001b[1;31m:\u001b[0m cannot assign to expression here. Maybe you meant '==' instead of '='?\n"
     ]
    }
   ],
   "source": [
    "numb%er=600\n",
    "numb%er"
   ]
  },
  {
   "cell_type": "code",
   "execution_count": 11,
   "id": "61ee3397-42c7-48d1-9d89-22d136987521",
   "metadata": {},
   "outputs": [
    {
     "ename": "SyntaxError",
     "evalue": "invalid syntax (2656576567.py, line 1)",
     "output_type": "error",
     "traceback": [
      "\u001b[1;36m  Cell \u001b[1;32mIn[11], line 1\u001b[1;36m\u001b[0m\n\u001b[1;33m    number one=800\u001b[0m\n\u001b[1;37m           ^\u001b[0m\n\u001b[1;31mSyntaxError\u001b[0m\u001b[1;31m:\u001b[0m invalid syntax\n"
     ]
    }
   ],
   "source": [
    "number one=800\n",
    "number one"
   ]
  },
  {
   "cell_type": "code",
   "execution_count": 12,
   "id": "b41ffdbf-5c6e-40d4-a838-b6e1051dc60e",
   "metadata": {},
   "outputs": [
    {
     "data": {
      "text/plain": [
       "900"
      ]
     },
     "execution_count": 12,
     "metadata": {},
     "output_type": "execute_result"
    }
   ],
   "source": [
    "number_one=900\n",
    "number_one"
   ]
  },
  {
   "cell_type": "code",
   "execution_count": 13,
   "id": "087d0307-df48-4a07-abea-a97f7388a194",
   "metadata": {},
   "outputs": [
    {
     "data": {
      "text/plain": [
       "1000"
      ]
     },
     "execution_count": 13,
     "metadata": {},
     "output_type": "execute_result"
    }
   ],
   "source": [
    "_=1000\n",
    "_"
   ]
  },
  {
   "cell_type": "code",
   "execution_count": 14,
   "id": "dd95fb27-e210-4cda-8845-33bcd339d615",
   "metadata": {},
   "outputs": [
    {
     "data": {
      "text/plain": [
       "(100, 200)"
      ]
     },
     "execution_count": 14,
     "metadata": {},
     "output_type": "execute_result"
    }
   ],
   "source": [
    "n1=100,200\n",
    "n1"
   ]
  },
  {
   "cell_type": "code",
   "execution_count": 15,
   "id": "e8af2c81-7af1-411a-a1ce-9e09737624f3",
   "metadata": {},
   "outputs": [
    {
     "ename": "TypeError",
     "evalue": "cannot unpack non-iterable int object",
     "output_type": "error",
     "traceback": [
      "\u001b[1;31m---------------------------------------------------------------------------\u001b[0m",
      "\u001b[1;31mTypeError\u001b[0m                                 Traceback (most recent call last)",
      "Cell \u001b[1;32mIn[15], line 1\u001b[0m\n\u001b[1;32m----> 1\u001b[0m n2,n3\u001b[38;5;241m=\u001b[39m\u001b[38;5;241m200\u001b[39m\n\u001b[0;32m      2\u001b[0m n2,n3\n",
      "\u001b[1;31mTypeError\u001b[0m: cannot unpack non-iterable int object"
     ]
    }
   ],
   "source": [
    "n2,n3=200\n",
    "n2,n3"
   ]
  },
  {
   "cell_type": "code",
   "execution_count": 19,
   "id": "6c0e565e-b3cf-462b-a0fb-7f7a6386d6a0",
   "metadata": {},
   "outputs": [
    {
     "name": "stdout",
     "output_type": "stream",
     "text": [
      "100\n",
      "200\n"
     ]
    }
   ],
   "source": [
    "n4,n5=100,200\n",
    "print(n4)\n",
    "print(n5)"
   ]
  },
  {
   "cell_type": "code",
   "execution_count": null,
   "id": "5e049308-256f-4325-a12d-d72776fae27e",
   "metadata": {},
   "outputs": [],
   "source": [
    "number=200 # w\n",
    "\n",
    "number=300 # w\n",
    "\n",
    "number=400 # w\n",
    "\n",
    "number123=500 # w\n",
    "\n",
    "123number=600 # f\n",
    "\n",
    "numb%er=700 # f\n",
    "\n",
    "number one=800 # f\n",
    "\n",
    "number_one=900 # w\n",
    "\n",
    "_=1000 # w\n",
    "\n",
    "n1=100,200 # w\n",
    "\n",
    "n1,n2=100,200 # w\n",
    "\n",
    "n1,n2=100,200 # w"
   ]
  },
  {
   "cell_type": "markdown",
   "id": "15c6b5ea-7c4d-4be0-874c-b63ecaff5d52",
   "metadata": {},
   "source": [
    "## KEYWORDS \n",
    "- while\n",
    "\n",
    "- else\n",
    "    \n",
    "- elif\n",
    "    \n",
    "- for\n",
    "    \n",
    "- True\n",
    "    \n",
    "- False"
   ]
  },
  {
   "cell_type": "markdown",
   "id": "0a529cff-3200-45a1-8e90-5c5aefc9c8d5",
   "metadata": {},
   "source": [
    "# MUST KEEP IN MIND\n",
    "\n",
    "- Python variables are case sensitive\n",
    "- Variables can be declared as capital letters\n",
    "- Variables can be declared as small letters\n",
    "- Variables cannot start with numbers\n",
    "- Numbers can be suffix of the variables\n",
    "- Variables cannot have special characters except underscore\n",
    "- Variables donnot have space between them \n",
    "- only uderscore is possible\n",
    "- keywords or reserved words cannot be used as variables\n",
    "- two values can be assign to a single variable\n",
    "- two values can be assigned to a single value\n",
    "- one value cannot be assigned"
   ]
  }
 ],
 "metadata": {
  "kernelspec": {
   "display_name": "Python 3 (ipykernel)",
   "language": "python",
   "name": "python3"
  },
  "language_info": {
   "codemirror_mode": {
    "name": "ipython",
    "version": 3
   },
   "file_extension": ".py",
   "mimetype": "text/x-python",
   "name": "python",
   "nbconvert_exporter": "python",
   "pygments_lexer": "ipython3",
   "version": "3.11.7"
  }
 },
 "nbformat": 4,
 "nbformat_minor": 5
}
