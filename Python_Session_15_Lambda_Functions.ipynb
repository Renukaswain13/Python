{
 "cells": [
  {
   "cell_type": "markdown",
   "id": "41497f04-935c-4389-8fc9-21e09fdf55be",
   "metadata": {},
   "source": [
    "**Lambda functions**\n",
    "  \n",
    "- Lambda functions represnts function concept\n",
    "- But we can write in a single line\n",
    "- Like list comprehension, lambda functions similar only\n",
    "- It will decrease the time complexity\n",
    "- always remember if we use many for loops or many conditions using multiple line ,\n",
    "- the time complexity will increase"
   ]
  },
  {
   "cell_type": "code",
   "execution_count": null,
   "id": "bc76a80f-6326-4982-bd11-96f5e4363316",
   "metadata": {},
   "outputs": [],
   "source": [
    "**It will use a keyword lambda**\n",
    "    \n",
    "# lambda <arguments>: <expression>"
   ]
  },
  {
   "cell_type": "code",
   "execution_count": null,
   "id": "1e4c0310-b97d-4add-bd6a-5a83f63225be",
   "metadata": {},
   "outputs": [],
   "source": [
    "What is the interview process for a data science position with 3 years of experience\n",
    "                             \n",
    "1) coding+sql\n",
    "2) based on ML DL\n",
    "3) Techn: 2,3\n",
    "\n",
    "bond : 1.5 bonus\n",
    "\n",
    "ds2 === 2 2ppl\n",
    "ds3 ====\n",
    "do you know"
   ]
  },
  {
   "cell_type": "code",
   "execution_count": null,
   "id": "8dd61fcc-a83c-4b0b-a9da-8da7894da4d3",
   "metadata": {},
   "outputs": [],
   "source": [
    "strings\n",
    "list\n",
    "tuple set\n",
    "dictionary\n",
    "landad\n",
    "file handling\n",
    "\n",
    "oops : kwargs\n",
    "\n",
    "Sir do we have right to break bond with company"
   ]
  },
  {
   "cell_type": "code",
   "execution_count": 1,
   "id": "53aa444f-8aa7-499d-8603-3c83d02f8ca6",
   "metadata": {},
   "outputs": [
    {
     "data": {
      "text/plain": [
       "20"
      ]
     },
     "execution_count": 1,
     "metadata": {},
     "output_type": "execute_result"
    }
   ],
   "source": [
    "def summ(n):\n",
    "    return(n+10)\n",
    "summ(10)"
   ]
  },
  {
   "cell_type": "markdown",
   "id": "aa6a5605-63b6-4ea0-9287-6ed716c9b623",
   "metadata": {},
   "source": [
    "$Pattern − 1$"
   ]
  },
  {
   "cell_type": "markdown",
   "id": "373f2706-602c-48dc-9770-8e7741eed1bf",
   "metadata": {},
   "source": [
    "**Function with only one argument**\n",
    "    \n",
    "- function name\n",
    "- argument name\n",
    "- return output"
   ]
  },
  {
   "cell_type": "code",
   "execution_count": null,
   "id": "f40a1fa0-b091-4381-a1a0-49cf7f29351f",
   "metadata": {},
   "outputs": [],
   "source": [
    "# syntax: <function name>= lambda <argument name>: <return output>\n",
    "def summ(n):\n",
    "    return(n+10)\n",
    "summ(10)\n",
    "\n",
    "# function name= summ\n",
    "# argument name = n\n",
    "# return output= n+10"
   ]
  },
  {
   "cell_type": "code",
   "execution_count": 7,
   "id": "83c9408c-3da8-4cb6-aad2-c1e77cb8bca4",
   "metadata": {},
   "outputs": [
    {
     "data": {
      "text/plain": [
       "110"
      ]
     },
     "execution_count": 7,
     "metadata": {},
     "output_type": "execute_result"
    }
   ],
   "source": [
    "summ= lambda n:n+10\n",
    "summ(100)"
   ]
  },
  {
   "cell_type": "code",
   "execution_count": 6,
   "id": "7f09596c-da0e-4101-8dbf-2f1bc23e09dd",
   "metadata": {},
   "outputs": [
    {
     "data": {
      "text/plain": [
       "1000"
      ]
     },
     "execution_count": 6,
     "metadata": {},
     "output_type": "execute_result"
    }
   ],
   "source": [
    "def cube(n):\n",
    "    return(n**3)\n",
    "cube(10)"
   ]
  },
  {
   "cell_type": "code",
   "execution_count": 5,
   "id": "f0559c30-c1f0-4117-a926-86955d9f1010",
   "metadata": {},
   "outputs": [
    {
     "data": {
      "text/plain": [
       "1000"
      ]
     },
     "execution_count": 5,
     "metadata": {},
     "output_type": "execute_result"
    }
   ],
   "source": [
    "cube= lambda n:n**3\n",
    "cube(10)"
   ]
  },
  {
   "cell_type": "markdown",
   "id": "12e425fe-3b90-40ae-8051-e31c5796a1d1",
   "metadata": {},
   "source": [
    "$pattern-2$\n",
    "\n",
    "**Two arguments**"
   ]
  },
  {
   "cell_type": "code",
   "execution_count": 4,
   "id": "c9cb594b-fb41-47ae-9585-bf9718f8c7da",
   "metadata": {},
   "outputs": [
    {
     "data": {
      "text/plain": [
       "100"
      ]
     },
     "execution_count": 4,
     "metadata": {},
     "output_type": "execute_result"
    }
   ],
   "source": [
    "# syntax : <function name>= lambda <arg1>,<arg2>: <return output>\n",
    "def add(a,b):\n",
    "    return(a+b)\n",
    "add(50,50)\n",
    "\n",
    "# Function name: add\n",
    "# arg1=a\n",
    "# arg2=b\n",
    "# return= a+b"
   ]
  },
  {
   "cell_type": "code",
   "execution_count": 3,
   "id": "393ce991-cd96-463f-92e7-aafbf599e3af",
   "metadata": {},
   "outputs": [
    {
     "data": {
      "text/plain": [
       "110"
      ]
     },
     "execution_count": 3,
     "metadata": {},
     "output_type": "execute_result"
    }
   ],
   "source": [
    "add=lambda n1,n2: n1+n2\n",
    "add(60,50)"
   ]
  },
  {
   "cell_type": "code",
   "execution_count": 2,
   "id": "ff758122-4064-44d0-8f49-b4c4e97060e8",
   "metadata": {},
   "outputs": [
    {
     "data": {
      "text/plain": [
       "80.67"
      ]
     },
     "execution_count": 2,
     "metadata": {},
     "output_type": "execute_result"
    }
   ],
   "source": [
    "average=lambda a,b,c:round((a+b+c)/3,2)\n",
    "average(10,202,30)"
   ]
  },
  {
   "cell_type": "markdown",
   "id": "26d80642-f87b-4865-8f7b-0f1846e6ea22",
   "metadata": {},
   "source": [
    "$Pattern-3$"
   ]
  },
  {
   "cell_type": "markdown",
   "id": "6bf66105-397a-4b94-b5af-66f8995b04e2",
   "metadata": {},
   "source": [
    "**Default arguments**"
   ]
  },
  {
   "cell_type": "markdown",
   "id": "d1130350-93bb-4432-9903-71e5ac6d4ee1",
   "metadata": {},
   "source": [
    "$Pattern-4$\n",
    "\n",
    "**if-else**"
   ]
  },
  {
   "cell_type": "code",
   "execution_count": 11,
   "id": "dba816e1-d35f-46b8-a64e-74668d07b464",
   "metadata": {},
   "outputs": [
    {
     "data": {
      "text/plain": [
       "20"
      ]
     },
     "execution_count": 11,
     "metadata": {},
     "output_type": "execute_result"
    }
   ],
   "source": [
    "def max(a,b):\n",
    "    if a>b:\n",
    "        return(a)\n",
    "    else:\n",
    "        return(b)\n",
    "max(10,20)"
   ]
  },
  {
   "cell_type": "code",
   "execution_count": 10,
   "id": "2814c7c0-bb6f-458f-9b7a-3fc1a5b19189",
   "metadata": {},
   "outputs": [
    {
     "data": {
      "text/plain": [
       "30"
      ]
     },
     "execution_count": 10,
     "metadata": {},
     "output_type": "execute_result"
    }
   ],
   "source": [
    "# syntax : function name = lambda <arg1>,<arg2>: <list comprehension>\n",
    "# syntax : function name = lambda <arg1>,<arg2>: <if_out><if_con><else><else_out\n",
    "maxx=lambda a,b: a if a>b else b\n",
    "maxx(30,20)"
   ]
  },
  {
   "cell_type": "markdown",
   "id": "18e56123-8662-4336-8ab0-0b949151664a",
   "metadata": {},
   "source": [
    "$Pattern-5$\n",
    "\n",
    "**using List**"
   ]
  },
  {
   "cell_type": "code",
   "execution_count": 9,
   "id": "a8c001ec-117e-4048-9858-b0325dac9e4b",
   "metadata": {},
   "outputs": [
    {
     "data": {
      "text/plain": [
       "['Hyd', 'Chennai', 'Mumbai']"
      ]
     },
     "execution_count": 9,
     "metadata": {},
     "output_type": "execute_result"
    }
   ],
   "source": [
    "l=['hyd','chennai','mumbai']\n",
    "# op=['Hyd','Chennai','Mumbai']\n",
    "op=[]\n",
    "for i in l:\n",
    "    op.append(i.capitalize())\n",
    "op"
   ]
  },
  {
   "cell_type": "code",
   "execution_count": null,
   "id": "803a19ae-7342-4bfc-8dc6-0d133e4994bd",
   "metadata": {},
   "outputs": [],
   "source": [
    "lambda <variable>:<op>\n",
    "# variable:i\n",
    "# op: i.capitalize()\n",
    "lambda <variable>:<op>,<iterator>\n",
    "# Qn: from where you are getting 'i'\n",
    "# <iterator>: list"
   ]
  },
  {
   "cell_type": "markdown",
   "id": "d0b37282-7bef-4734-93d9-5f1b39465c8a",
   "metadata": {},
   "source": [
    "**map**\n",
    "- the function and iterator are available now\n",
    "- we need to map both\n"
   ]
  },
  {
   "cell_type": "code",
   "execution_count": 12,
   "id": "b62e8b4d-02d5-4f6e-a9c0-c9cca9b2ee64",
   "metadata": {},
   "outputs": [
    {
     "data": {
      "text/plain": [
       "<map at 0x21aa331fbe0>"
      ]
     },
     "execution_count": 12,
     "metadata": {},
     "output_type": "execute_result"
    }
   ],
   "source": [
    "l=['hyd','chennai','mumbai']\n",
    "map(lambda i: i.capitalize(),l)"
   ]
  },
  {
   "cell_type": "code",
   "execution_count": 13,
   "id": "46011694-2bb7-4bd5-bfc7-27c6177ae8a6",
   "metadata": {},
   "outputs": [
    {
     "data": {
      "text/plain": [
       "['Hyd', 'Chennai', 'Mumbai']"
      ]
     },
     "execution_count": 13,
     "metadata": {},
     "output_type": "execute_result"
    }
   ],
   "source": [
    "# apply the list to see the values\n",
    "l=['hyd','chennai','mumbai']\n",
    "list(map(lambda i: i.capitalize(),l))"
   ]
  },
  {
   "cell_type": "code",
   "execution_count": 14,
   "id": "7b45ebc1-1c06-4176-a919-3b61e478ebe7",
   "metadata": {},
   "outputs": [
    {
     "data": {
      "text/plain": [
       "('Hyd', 'Chennai', 'Mumbai')"
      ]
     },
     "execution_count": 14,
     "metadata": {},
     "output_type": "execute_result"
    }
   ],
   "source": [
    "l=['hyd','chennai','mumbai']\n",
    "tuple(map(lambda i: i.capitalize(),l))"
   ]
  },
  {
   "cell_type": "code",
   "execution_count": null,
   "id": "cbcbce34-928b-47ab-80b3-628a817aa391",
   "metadata": {},
   "outputs": [],
   "source": [
    "# step1: Write your normal expression\n",
    "# ex: lambda <var>: <op>===>lambda i: i.capitalize()\n",
    "# step2: add the iterator\n",
    "# ex: lambda <var>: <op>,<list>===>lambda i: i.capitalize(),list1\n",
    "# Step-3: Map the both\n",
    "# ex: map(lambda <var>: <op>,<list>)===>map(lambda i: i.capitalize(),list\n",
    "# Step-4: save the values in a list,\n",
    "# ex: list(map(lambda <var>: <op>,<list>))===>list(map(lambda i: i.capital\n",
    "#Note: Those who are getting list object not callable use tuple"
   ]
  },
  {
   "cell_type": "markdown",
   "id": "9326baa8-7b0f-42f1-acba-628ba95d9847",
   "metadata": {},
   "source": [
    "- Case-1: Function call with one argument\n",
    "    - lambda arguments : Expression\n",
    "    - lambda variables : return output\n",
    "- Case-2: Functiin call with two argument\n",
    "    - lambda arg1,arg2 : Expression\n",
    "    - lambda var1,var2 : return output\n",
    "- case-3: Function call with default argument\n",
    "    - lambda arg1,arg2=500 : Expression\n",
    "    - lambda var1,var2=500 : return output\n",
    "- Case-4: Function call with two arguments and if-else statement\n",
    "    - lambda arg1,arg2 : Expression\n",
    "    - lambda var1,var2 : if _output if_con else els_op for loop\n",
    "- Case-5: Lambda operations using list\n",
    "    - lambda arg : Expression,iterator\n",
    "    - map(lambda var : operation,list)\n",
    "    - list( map(lambda var : operation,list))"
   ]
  },
  {
   "cell_type": "code",
   "execution_count": 4,
   "id": "c2885291-bb22-4c88-956d-33a79c8569d1",
   "metadata": {},
   "outputs": [
    {
     "data": {
      "text/plain": [
       "['HYD', 'CHENNAI', 'MUMBAI']"
      ]
     },
     "execution_count": 4,
     "metadata": {},
     "output_type": "execute_result"
    }
   ],
   "source": [
    "l=['hyd','chennai','mumbai']\n",
    "# op=['HYD','CHENNAI','MUMBAI']\n",
    "# for i in l:\n",
    "#    print(i.upper())\n",
    "\n",
    "list(map(lambda i:i.upper(),l))"
   ]
  },
  {
   "cell_type": "markdown",
   "id": "99cff028-c732-4a71-a240-7f7e74d7f9cd",
   "metadata": {},
   "source": [
    "**Filter**\n",
    "\n",
    "- whenever  if condition is there use the filter"
   ]
  },
  {
   "cell_type": "code",
   "execution_count": 2,
   "id": "37c59363-1e8f-4bfb-a9a5-38a975c1055b",
   "metadata": {},
   "outputs": [
    {
     "data": {
      "text/plain": [
       "(False, True, True, False)"
      ]
     },
     "execution_count": 2,
     "metadata": {},
     "output_type": "execute_result"
    }
   ],
   "source": [
    "l=['hyd','che#nnai','mum#bai','blr']\n",
    "# op=[che#nnai','mum#bai']\n",
    "# for i in l:\n",
    "#     if '#' in i:\n",
    "#        print(i)\n",
    "\n",
    "# Mistake-1: tuple(map(lambda i: if '#' in i,l))  (don't write if)\n",
    "\n",
    "tuple(map(lambda i: '#' in i,l))"
   ]
  },
  {
   "cell_type": "code",
   "execution_count": 3,
   "id": "4c65134e-3a73-4b49-b85a-fee37597a129",
   "metadata": {},
   "outputs": [
    {
     "data": {
      "text/plain": [
       "('che#nnai', 'mum#bai')"
      ]
     },
     "execution_count": 3,
     "metadata": {},
     "output_type": "execute_result"
    }
   ],
   "source": [
    "tuple(filter(lambda i: '#' in i,l))"
   ]
  },
  {
   "cell_type": "code",
   "execution_count": 1,
   "id": "788c9f35-fb03-49af-8fe4-d987716ae8d2",
   "metadata": {},
   "outputs": [
    {
     "data": {
      "text/plain": [
       "[2, 6]"
      ]
     },
     "execution_count": 1,
     "metadata": {},
     "output_type": "execute_result"
    }
   ],
   "source": [
    "# numbers= [1,3,2,7,6]\n",
    "# op=[2,6]\n",
    "\n",
    "l1 = [1,3,2,7,6]\n",
    "list(filter(lambda i:i%2==0,l1))"
   ]
  },
  {
   "cell_type": "code",
   "execution_count": 20,
   "id": "f11b0cc0-6724-4a4b-8317-2f5fdc530e31",
   "metadata": {},
   "outputs": [
    {
     "name": "stdout",
     "output_type": "stream",
     "text": [
      "15\n"
     ]
    }
   ],
   "source": [
    "l1= [1,2,3,4,5]\n",
    "\n",
    "# I want sum of the elements in a list\n",
    "\n",
    "# Method-1: Sum\n",
    "sum(l1)\n",
    "\n",
    "# Method-2: with out sum\n",
    "summ=0\n",
    "for i in l1:\n",
    "    summ=summ+i\n",
    "\n",
    "print(summ)"
   ]
  },
  {
   "cell_type": "code",
   "execution_count": 23,
   "id": "adee4678-7083-488e-a594-dd266906c9b9",
   "metadata": {},
   "outputs": [
    {
     "name": "stdout",
     "output_type": "stream",
     "text": [
      "15\n"
     ]
    }
   ],
   "source": [
    "l1= [1,2,3,4,5]\n",
    "filter(lambda summ,i:summ+i,l1)\n",
    "print(summ)"
   ]
  },
  {
   "cell_type": "code",
   "execution_count": null,
   "id": "7ab2a5c8-d898-428f-a8ae-8ca6a85c4aed",
   "metadata": {},
   "outputs": [],
   "source": [
    "l1=[1,2,3,4,5]\n",
    "max(l1)\n",
    "min(l1)\n",
    "len(l1)\n",
    "summ(l1)"
   ]
  },
  {
   "cell_type": "markdown",
   "id": "45a49df3-f5ea-4a63-a3f9-7e8937e66e80",
   "metadata": {},
   "source": [
    "**Reduce**\n",
    "\n",
    "- All inbuilt functions can achieve by Reduce\n",
    "- reduce is available from functools package\n",
    "- level-1: reduce(lambda summ,i:summ+i,l1)\n",
    "- level-2: filter(lambda summ,i:summ+i,l1,intial_value)\n",
    "- for example we want intialize summ=0 then we choose level-1\n",
    "- for example we want start with other than zero then we choose level-2"
   ]
  },
  {
   "cell_type": "code",
   "execution_count": 5,
   "id": "6a893423-212c-4ba1-982b-9c3f5491ad97",
   "metadata": {},
   "outputs": [],
   "source": [
    "import functools"
   ]
  },
  {
   "cell_type": "code",
   "execution_count": 6,
   "id": "62fc038c-e0b3-41e5-920f-46c18f576de2",
   "metadata": {},
   "outputs": [
    {
     "data": {
      "text/plain": [
       "['GenericAlias',\n",
       " 'RLock',\n",
       " 'WRAPPER_ASSIGNMENTS',\n",
       " 'WRAPPER_UPDATES',\n",
       " '_CacheInfo',\n",
       " '_HashedSeq',\n",
       " '_NOT_FOUND',\n",
       " '__all__',\n",
       " '__builtins__',\n",
       " '__cached__',\n",
       " '__doc__',\n",
       " '__file__',\n",
       " '__loader__',\n",
       " '__name__',\n",
       " '__package__',\n",
       " '__spec__',\n",
       " '_c3_merge',\n",
       " '_c3_mro',\n",
       " '_compose_mro',\n",
       " '_convert',\n",
       " '_find_impl',\n",
       " '_ge_from_gt',\n",
       " '_ge_from_le',\n",
       " '_ge_from_lt',\n",
       " '_gt_from_ge',\n",
       " '_gt_from_le',\n",
       " '_gt_from_lt',\n",
       " '_initial_missing',\n",
       " '_le_from_ge',\n",
       " '_le_from_gt',\n",
       " '_le_from_lt',\n",
       " '_lru_cache_wrapper',\n",
       " '_lt_from_ge',\n",
       " '_lt_from_gt',\n",
       " '_lt_from_le',\n",
       " '_make_key',\n",
       " '_unwrap_partial',\n",
       " 'cache',\n",
       " 'cached_property',\n",
       " 'cmp_to_key',\n",
       " 'get_cache_token',\n",
       " 'lru_cache',\n",
       " 'namedtuple',\n",
       " 'partial',\n",
       " 'partialmethod',\n",
       " 'recursive_repr',\n",
       " 'reduce',\n",
       " 'singledispatch',\n",
       " 'singledispatchmethod',\n",
       " 'total_ordering',\n",
       " 'update_wrapper',\n",
       " 'wraps']"
      ]
     },
     "execution_count": 6,
     "metadata": {},
     "output_type": "execute_result"
    }
   ],
   "source": [
    "dir(functools)"
   ]
  },
  {
   "cell_type": "code",
   "execution_count": 45,
   "id": "3d74965c-ef88-490b-9f51-09662b9defb2",
   "metadata": {},
   "outputs": [
    {
     "data": {
      "text/plain": [
       "15"
      ]
     },
     "execution_count": 45,
     "metadata": {},
     "output_type": "execute_result"
    }
   ],
   "source": [
    "l1= [1,2,3,4,5]\n",
    "reduce(lambda summ,i:summ+i,l1)"
   ]
  },
  {
   "cell_type": "code",
   "execution_count": 29,
   "id": "c088825d-dd15-444b-b96c-007d40bd7be3",
   "metadata": {},
   "outputs": [
    {
     "data": {
      "text/plain": [
       "15"
      ]
     },
     "execution_count": 29,
     "metadata": {},
     "output_type": "execute_result"
    }
   ],
   "source": [
    "import functools\n",
    "l1= [1,2,3,4,5]\n",
    "functools.reduce(lambda summ,i:summ+i,l1)"
   ]
  },
  {
   "cell_type": "code",
   "execution_count": 33,
   "id": "97de2a2b-01bd-462e-9151-5f91ce379e18",
   "metadata": {},
   "outputs": [
    {
     "data": {
      "text/plain": [
       "15"
      ]
     },
     "execution_count": 33,
     "metadata": {},
     "output_type": "execute_result"
    }
   ],
   "source": [
    "import functools as ft\n",
    "l1= [1,2,3,4,5]\n",
    "ft.reduce(lambda summ,i:summ+i,l1)"
   ]
  },
  {
   "cell_type": "code",
   "execution_count": 34,
   "id": "5b305025-abaf-4bcb-a3ee-e7c2d5e38a36",
   "metadata": {},
   "outputs": [
    {
     "data": {
      "text/plain": [
       "15"
      ]
     },
     "execution_count": 34,
     "metadata": {},
     "output_type": "execute_result"
    }
   ],
   "source": [
    "from functools import reduce\n",
    "l1= [1,2,3,4,5]\n",
    "reduce(lambda summ,i:summ+i,l1)"
   ]
  },
  {
   "cell_type": "code",
   "execution_count": 38,
   "id": "5b70f5cd-62f4-414c-b747-3f4dd13ef820",
   "metadata": {},
   "outputs": [
    {
     "data": {
      "text/plain": [
       "28"
      ]
     },
     "execution_count": 38,
     "metadata": {},
     "output_type": "execute_result"
    }
   ],
   "source": [
    "from functools import reduce\n",
    "l1= [1,2,3,4,5]\n",
    "reduce(lambda summ,i:summ+i,l1,13)"
   ]
  },
  {
   "cell_type": "code",
   "execution_count": 39,
   "id": "93b0bf8e-761f-4856-886f-549e0fd0d8b1",
   "metadata": {},
   "outputs": [
    {
     "data": {
      "text/plain": [
       "25"
      ]
     },
     "execution_count": 39,
     "metadata": {},
     "output_type": "execute_result"
    }
   ],
   "source": [
    "import functools\n",
    "l1= [1,2,3,4,5]\n",
    "functools.reduce(lambda summ,i:summ+i,l1,10)"
   ]
  },
  {
   "cell_type": "code",
   "execution_count": 40,
   "id": "c8b7584d-7853-4b29-b697-a27237b0109a",
   "metadata": {},
   "outputs": [
    {
     "data": {
      "text/plain": [
       "35"
      ]
     },
     "execution_count": 40,
     "metadata": {},
     "output_type": "execute_result"
    }
   ],
   "source": [
    "import functools as ft\n",
    "l1= [1,2,3,4,5]\n",
    "ft.reduce(lambda summ,i:summ+i,l1,20)"
   ]
  },
  {
   "cell_type": "code",
   "execution_count": 49,
   "id": "e2e3f958-6573-47a8-8d01-055cc539e906",
   "metadata": {},
   "outputs": [
    {
     "data": {
      "text/plain": [
       "120"
      ]
     },
     "execution_count": 49,
     "metadata": {},
     "output_type": "execute_result"
    }
   ],
   "source": [
    "import functools\n",
    "l1= [1,2,3,4,5]\n",
    "functools.reduce(lambda mul,i:mul*i,l1)"
   ]
  },
  {
   "cell_type": "code",
   "execution_count": 53,
   "id": "8aac108f-2d83-4c4c-a443-2200384bb650",
   "metadata": {},
   "outputs": [
    {
     "data": {
      "text/plain": [
       "15"
      ]
     },
     "execution_count": 53,
     "metadata": {},
     "output_type": "execute_result"
    }
   ],
   "source": [
    "from functools import reduce\n",
    "l1= [1,2,3,4,5]\n",
    "reduce(lambda x,y:x+y,l1)"
   ]
  },
  {
   "cell_type": "code",
   "execution_count": 54,
   "id": "90db7019-2553-489e-8255-6d4494bc539b",
   "metadata": {},
   "outputs": [
    {
     "data": {
      "text/plain": [
       "120"
      ]
     },
     "execution_count": 54,
     "metadata": {},
     "output_type": "execute_result"
    }
   ],
   "source": [
    "from functools import reduce\n",
    "l1= [1,2,3,4,5]\n",
    "reduce(lambda x,y:x*y,l1)"
   ]
  },
  {
   "cell_type": "code",
   "execution_count": null,
   "id": "c2fd8aac-2e63-4caf-aa92-2d8259ab1587",
   "metadata": {},
   "outputs": [],
   "source": [
    "from functools import reduce\n",
    "l1= [1,2,3,4,5]\n",
    "reduce(lambda x,y:x>y,l1)"
   ]
  },
  {
   "cell_type": "code",
   "execution_count": 56,
   "id": "e5b83464-27a4-46c8-abb0-86db27342302",
   "metadata": {},
   "outputs": [],
   "source": [
    "import functools"
   ]
  },
  {
   "cell_type": "code",
   "execution_count": 57,
   "id": "5d32eef4-e78d-40dc-a5ce-1d927fcde905",
   "metadata": {},
   "outputs": [
    {
     "data": {
      "text/plain": [
       "<module 'functools' from 'C:\\\\Users\\\\renuk\\\\anaconda3\\\\Lib\\\\functools.py'>"
      ]
     },
     "execution_count": 57,
     "metadata": {},
     "output_type": "execute_result"
    }
   ],
   "source": [
    "functools"
   ]
  },
  {
   "cell_type": "code",
   "execution_count": null,
   "id": "5f50746e-486f-42b3-af42-7fd86fdddaa5",
   "metadata": {},
   "outputs": [],
   "source": [
    "# maximum value using reduce\n",
    "\n",
    "# map: direct attack\n",
    "# filter: if conditions\n",
    "# reduce: inbuilt functions some intialization\n",
    "\n",
    "# i want detiled word doc wih eg"
   ]
  },
  {
   "cell_type": "code",
   "execution_count": null,
   "id": "7e2214f3-5aa1-4dbb-8c8f-57cb86ec4646",
   "metadata": {},
   "outputs": [],
   "source": []
  }
 ],
 "metadata": {
  "kernelspec": {
   "display_name": "Python 3 (ipykernel)",
   "language": "python",
   "name": "python3"
  },
  "language_info": {
   "codemirror_mode": {
    "name": "ipython",
    "version": 3
   },
   "file_extension": ".py",
   "mimetype": "text/x-python",
   "name": "python",
   "nbconvert_exporter": "python",
   "pygments_lexer": "ipython3",
   "version": "3.11.7"
  }
 },
 "nbformat": 4,
 "nbformat_minor": 5
}
