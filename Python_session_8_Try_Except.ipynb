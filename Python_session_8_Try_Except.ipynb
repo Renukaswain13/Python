{
 "cells": [
  {
   "cell_type": "markdown",
   "id": "3e37a28f-9331-40ad-97e9-b34ea3c71aea",
   "metadata": {},
   "source": [
    "**try-except**\n",
    "\n",
    "- Generally in real time we will write n number of python lines\n",
    "- There is a situation we might get an error, that error might be unknown\n",
    "- this unknown error does nt cause any harm\n",
    "- even though we are gettion error we need to proceed further\n",
    "- also we need to catch that error\n",
    "- because we already known python is a sequential process\n",
    "- means the lines will execute step by step\n",
    "- suppose you have an error at particular line, the code execution will stop at that line omly\n",
    "- but you know that error is not harmful\n",
    "- so you want to continue the execution\n",
    "- then we required try-except"
   ]
  },
  {
   "cell_type": "markdown",
   "id": "3b38de82-3b0b-4d6c-8eb0-c9c65aba1a4a",
   "metadata": {},
   "source": [
    "- try- except has two blocks\n",
    "- try block has actual code\n",
    "- except block will catch the error"
   ]
  },
  {
   "cell_type": "code",
   "execution_count": 3,
   "id": "a856f884-5fd2-4d78-a651-6dde5335df5b",
   "metadata": {},
   "outputs": [
    {
     "name": "stdin",
     "output_type": "stream",
     "text": [
      "enter the number1: 10\n",
      "enter the number2: 3\n"
     ]
    },
    {
     "name": "stdout",
     "output_type": "stream",
     "text": [
      "13\n"
     ]
    }
   ],
   "source": [
    "n1=eval(input(\"enter the number1:\"))\n",
    "n2=eval(input(\"enter the number2:\"))\n",
    "add=n1+n2\n",
    "print(add)"
   ]
  },
  {
   "cell_type": "code",
   "execution_count": 4,
   "id": "8c7c3940-c0aa-40c5-abfb-36209556be42",
   "metadata": {},
   "outputs": [
    {
     "name": "stdin",
     "output_type": "stream",
     "text": [
      "enter the number1: 1\n",
      "enter the number2: 2\n"
     ]
    },
    {
     "name": "stdout",
     "output_type": "stream",
     "text": [
      "3\n"
     ]
    }
   ],
   "source": [
    "try:\n",
    "    n1=eval(input(\"enter the number1:\"))\n",
    "    n2=eval(input(\"enter the number2:\"))\n",
    "    add=n1+n2\n",
    "    print(add)\n",
    "except:\n",
    "    print('hello')\n",
    "    print('you are getting error')\n",
    "    print(\"check the code properly\")"
   ]
  },
  {
   "cell_type": "markdown",
   "id": "307dfff9-2e72-495c-a5a5-bb62574e09aa",
   "metadata": {},
   "source": [
    "**NOTE**\n",
    "\n",
    "- generally try except block will use to catch the errors"
   ]
  },
  {
   "cell_type": "code",
   "execution_count": 9,
   "id": "d6f0707a-b202-4a58-adf9-284658ed1a15",
   "metadata": {},
   "outputs": [
    {
     "name": "stdin",
     "output_type": "stream",
     "text": [
      "enter the number1: 10\n",
      "enter the number2: 0\n"
     ]
    },
    {
     "name": "stdout",
     "output_type": "stream",
     "text": [
      "division by zero\n"
     ]
    }
   ],
   "source": [
    "try:\n",
    "    n1=eval(input(\"enter the number1:\"))\n",
    "    n2=eval(input(\"enter the number2:\"))\n",
    "    add=n1+n2\n",
    "    div=n1/n2\n",
    "    print(add)\n",
    "except Exception as e:\n",
    "    print(e)"
   ]
  },
  {
   "cell_type": "code",
   "execution_count": null,
   "id": "d8aabe59-b419-46f9-99e1-9486a5d486d8",
   "metadata": {},
   "outputs": [],
   "source": [
    "# now onwords every code\n",
    "# need to use try-execpt"
   ]
  },
  {
   "cell_type": "code",
   "execution_count": null,
   "id": "5c82b362-9afe-4962-a934-938c0c9e59a7",
   "metadata": {},
   "outputs": [],
   "source": [
    "num=eval(input(\"enter the number:\"))\n",
    "if num%2==0:\n",
    "    print(\"the no.is even\")\n",
    "else:\n",
    "    print(\"the no. is odd\")"
   ]
  },
  {
   "cell_type": "code",
   "execution_count": 11,
   "id": "50169be3-368c-4d2f-b7e5-129f37644c50",
   "metadata": {},
   "outputs": [
    {
     "name": "stdin",
     "output_type": "stream",
     "text": [
      "enter the number: ten\n"
     ]
    },
    {
     "name": "stdout",
     "output_type": "stream",
     "text": [
      "name 'ten' is not defined\n"
     ]
    }
   ],
   "source": [
    "try:\n",
    "    num=eval(input(\"enter the number:\"))\n",
    "    if num%2==0:\n",
    "        print(\"the no.is even\")\n",
    "    else:\n",
    "        print(\"the no. is odd\")\n",
    "except Exception as e:\n",
    "    print(e)"
   ]
  },
  {
   "cell_type": "code",
   "execution_count": 1,
   "id": "01fb92f9-b642-456f-88dc-f7c2e64320ff",
   "metadata": {},
   "outputs": [
    {
     "name": "stdin",
     "output_type": "stream",
     "text": [
      "enter the start value: ten\n"
     ]
    },
    {
     "name": "stdout",
     "output_type": "stream",
     "text": [
      "name 'ten' is not defined\n"
     ]
    }
   ],
   "source": [
    "import random\n",
    "try:\n",
    "    start=eval(input(\"enter the start value:\"))\n",
    "    end=eval(input(\"enter the end value:\"))\n",
    "    num=random.randint(start,end)\n",
    "    if num%2==0:\n",
    "        print(f\"the {num} is even\") \n",
    "    else:\n",
    "        print(f\"the {num} is odd\")\n",
    "except Exception as e:\n",
    "    print(e)"
   ]
  }
 ],
 "metadata": {
  "kernelspec": {
   "display_name": "Python 3 (ipykernel)",
   "language": "python",
   "name": "python3"
  },
  "language_info": {
   "codemirror_mode": {
    "name": "ipython",
    "version": 3
   },
   "file_extension": ".py",
   "mimetype": "text/x-python",
   "name": "python",
   "nbconvert_exporter": "python",
   "pygments_lexer": "ipython3",
   "version": "3.11.7"
  }
 },
 "nbformat": 4,
 "nbformat_minor": 5
}
